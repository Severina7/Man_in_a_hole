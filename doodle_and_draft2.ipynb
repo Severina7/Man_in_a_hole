{
 "cells": [
  {
   "cell_type": "code",
   "execution_count": 1,
   "id": "2860a262",
   "metadata": {},
   "outputs": [],
   "source": [
    "# Importing all necessary modules and functions for the project\n",
    "\n",
    "import warnings\n",
    "warnings.filterwarnings(\"ignore\")\n",
    "\n",
    "import pandas as pd\n",
    "import numpy as np\n",
    "import os\n",
    "\n",
    "import matplotlib.pyplot as plt\n",
    "import seaborn as sns\n",
    "import scipy.stats\n",
    "from pydataset import data\n",
    "\n",
    "from sklearn.model_selection import train_test_split\n",
    "from sklearn.tree import DecisionTreeClassifier, plot_tree\n",
    "from sklearn.neighbors import KNeighborsClassifier\n",
    "from sklearn.ensemble import RandomForestClassifier\n",
    "from sklearn.linear_model import LogisticRegression\n",
    "\n",
    "from sklearn.metrics import classification_report\n",
    "from sklearn.metrics import confusion_matrix\n",
    "\n",
    "from scipy import stats\n",
    "\n",
    "import acquire\n",
    "import prepare"
   ]
  },
  {
   "cell_type": "code",
   "execution_count": 2,
   "id": "7c091515",
   "metadata": {
    "scrolled": true
   },
   "outputs": [
    {
     "data": {
      "text/html": [
       "<div>\n",
       "<style scoped>\n",
       "    .dataframe tbody tr th:only-of-type {\n",
       "        vertical-align: middle;\n",
       "    }\n",
       "\n",
       "    .dataframe tbody tr th {\n",
       "        vertical-align: top;\n",
       "    }\n",
       "\n",
       "    .dataframe thead th {\n",
       "        text-align: right;\n",
       "    }\n",
       "</style>\n",
       "<table border=\"1\" class=\"dataframe\">\n",
       "  <thead>\n",
       "    <tr style=\"text-align: right;\">\n",
       "      <th></th>\n",
       "      <th>payment_type_id</th>\n",
       "      <th>internet_service_type_id</th>\n",
       "      <th>contract_type_id</th>\n",
       "      <th>customer_id</th>\n",
       "      <th>gender</th>\n",
       "      <th>senior_citizen</th>\n",
       "      <th>partner</th>\n",
       "      <th>dependents</th>\n",
       "      <th>tenure</th>\n",
       "      <th>phone_service</th>\n",
       "      <th>...</th>\n",
       "      <th>tech_support</th>\n",
       "      <th>streaming_tv</th>\n",
       "      <th>streaming_movies</th>\n",
       "      <th>paperless_billing</th>\n",
       "      <th>monthly_charges</th>\n",
       "      <th>total_charges</th>\n",
       "      <th>churn</th>\n",
       "      <th>contract_type</th>\n",
       "      <th>internet_service_type</th>\n",
       "      <th>payment_type</th>\n",
       "    </tr>\n",
       "  </thead>\n",
       "  <tbody>\n",
       "    <tr>\n",
       "      <th>0</th>\n",
       "      <td>2</td>\n",
       "      <td>1</td>\n",
       "      <td>2</td>\n",
       "      <td>0002-ORFBO</td>\n",
       "      <td>Female</td>\n",
       "      <td>0</td>\n",
       "      <td>Yes</td>\n",
       "      <td>Yes</td>\n",
       "      <td>9</td>\n",
       "      <td>Yes</td>\n",
       "      <td>...</td>\n",
       "      <td>Yes</td>\n",
       "      <td>Yes</td>\n",
       "      <td>No</td>\n",
       "      <td>Yes</td>\n",
       "      <td>65.6</td>\n",
       "      <td>593.3</td>\n",
       "      <td>No</td>\n",
       "      <td>One year</td>\n",
       "      <td>DSL</td>\n",
       "      <td>Mailed check</td>\n",
       "    </tr>\n",
       "    <tr>\n",
       "      <th>1</th>\n",
       "      <td>2</td>\n",
       "      <td>1</td>\n",
       "      <td>1</td>\n",
       "      <td>0003-MKNFE</td>\n",
       "      <td>Male</td>\n",
       "      <td>0</td>\n",
       "      <td>No</td>\n",
       "      <td>No</td>\n",
       "      <td>9</td>\n",
       "      <td>Yes</td>\n",
       "      <td>...</td>\n",
       "      <td>No</td>\n",
       "      <td>No</td>\n",
       "      <td>Yes</td>\n",
       "      <td>No</td>\n",
       "      <td>59.9</td>\n",
       "      <td>542.4</td>\n",
       "      <td>No</td>\n",
       "      <td>Month-to-month</td>\n",
       "      <td>DSL</td>\n",
       "      <td>Mailed check</td>\n",
       "    </tr>\n",
       "    <tr>\n",
       "      <th>2</th>\n",
       "      <td>1</td>\n",
       "      <td>2</td>\n",
       "      <td>1</td>\n",
       "      <td>0004-TLHLJ</td>\n",
       "      <td>Male</td>\n",
       "      <td>0</td>\n",
       "      <td>No</td>\n",
       "      <td>No</td>\n",
       "      <td>4</td>\n",
       "      <td>Yes</td>\n",
       "      <td>...</td>\n",
       "      <td>No</td>\n",
       "      <td>No</td>\n",
       "      <td>No</td>\n",
       "      <td>Yes</td>\n",
       "      <td>73.9</td>\n",
       "      <td>280.85</td>\n",
       "      <td>Yes</td>\n",
       "      <td>Month-to-month</td>\n",
       "      <td>Fiber optic</td>\n",
       "      <td>Electronic check</td>\n",
       "    </tr>\n",
       "    <tr>\n",
       "      <th>3</th>\n",
       "      <td>1</td>\n",
       "      <td>2</td>\n",
       "      <td>1</td>\n",
       "      <td>0011-IGKFF</td>\n",
       "      <td>Male</td>\n",
       "      <td>1</td>\n",
       "      <td>Yes</td>\n",
       "      <td>No</td>\n",
       "      <td>13</td>\n",
       "      <td>Yes</td>\n",
       "      <td>...</td>\n",
       "      <td>No</td>\n",
       "      <td>Yes</td>\n",
       "      <td>Yes</td>\n",
       "      <td>Yes</td>\n",
       "      <td>98.0</td>\n",
       "      <td>1237.85</td>\n",
       "      <td>Yes</td>\n",
       "      <td>Month-to-month</td>\n",
       "      <td>Fiber optic</td>\n",
       "      <td>Electronic check</td>\n",
       "    </tr>\n",
       "    <tr>\n",
       "      <th>4</th>\n",
       "      <td>2</td>\n",
       "      <td>2</td>\n",
       "      <td>1</td>\n",
       "      <td>0013-EXCHZ</td>\n",
       "      <td>Female</td>\n",
       "      <td>1</td>\n",
       "      <td>Yes</td>\n",
       "      <td>No</td>\n",
       "      <td>3</td>\n",
       "      <td>Yes</td>\n",
       "      <td>...</td>\n",
       "      <td>Yes</td>\n",
       "      <td>Yes</td>\n",
       "      <td>No</td>\n",
       "      <td>Yes</td>\n",
       "      <td>83.9</td>\n",
       "      <td>267.4</td>\n",
       "      <td>Yes</td>\n",
       "      <td>Month-to-month</td>\n",
       "      <td>Fiber optic</td>\n",
       "      <td>Mailed check</td>\n",
       "    </tr>\n",
       "  </tbody>\n",
       "</table>\n",
       "<p>5 rows × 24 columns</p>\n",
       "</div>"
      ],
      "text/plain": [
       "   payment_type_id  internet_service_type_id  contract_type_id customer_id  \\\n",
       "0                2                         1                 2  0002-ORFBO   \n",
       "1                2                         1                 1  0003-MKNFE   \n",
       "2                1                         2                 1  0004-TLHLJ   \n",
       "3                1                         2                 1  0011-IGKFF   \n",
       "4                2                         2                 1  0013-EXCHZ   \n",
       "\n",
       "   gender  senior_citizen partner dependents  tenure phone_service  ...  \\\n",
       "0  Female               0     Yes        Yes       9           Yes  ...   \n",
       "1    Male               0      No         No       9           Yes  ...   \n",
       "2    Male               0      No         No       4           Yes  ...   \n",
       "3    Male               1     Yes         No      13           Yes  ...   \n",
       "4  Female               1     Yes         No       3           Yes  ...   \n",
       "\n",
       "  tech_support streaming_tv streaming_movies paperless_billing  \\\n",
       "0          Yes          Yes               No               Yes   \n",
       "1           No           No              Yes                No   \n",
       "2           No           No               No               Yes   \n",
       "3           No          Yes              Yes               Yes   \n",
       "4          Yes          Yes               No               Yes   \n",
       "\n",
       "  monthly_charges total_charges churn   contract_type  internet_service_type  \\\n",
       "0            65.6         593.3    No        One year                    DSL   \n",
       "1            59.9         542.4    No  Month-to-month                    DSL   \n",
       "2            73.9        280.85   Yes  Month-to-month            Fiber optic   \n",
       "3            98.0       1237.85   Yes  Month-to-month            Fiber optic   \n",
       "4            83.9         267.4   Yes  Month-to-month            Fiber optic   \n",
       "\n",
       "       payment_type  \n",
       "0      Mailed check  \n",
       "1      Mailed check  \n",
       "2  Electronic check  \n",
       "3  Electronic check  \n",
       "4      Mailed check  \n",
       "\n",
       "[5 rows x 24 columns]"
      ]
     },
     "execution_count": 2,
     "metadata": {},
     "output_type": "execute_result"
    }
   ],
   "source": [
    "telco = acquire.get_telco_data()\n",
    "telco.head()"
   ]
  },
  {
   "cell_type": "code",
   "execution_count": 3,
   "id": "9bf2d57c",
   "metadata": {},
   "outputs": [],
   "source": [
    "train, validate, test = prepare.prep_telco_data(telco)"
   ]
  },
  {
   "cell_type": "code",
   "execution_count": 4,
   "id": "32158c56",
   "metadata": {
    "scrolled": false
   },
   "outputs": [
    {
     "data": {
      "text/html": [
       "<div>\n",
       "<style scoped>\n",
       "    .dataframe tbody tr th:only-of-type {\n",
       "        vertical-align: middle;\n",
       "    }\n",
       "\n",
       "    .dataframe tbody tr th {\n",
       "        vertical-align: top;\n",
       "    }\n",
       "\n",
       "    .dataframe thead th {\n",
       "        text-align: right;\n",
       "    }\n",
       "</style>\n",
       "<table border=\"1\" class=\"dataframe\">\n",
       "  <thead>\n",
       "    <tr style=\"text-align: right;\">\n",
       "      <th></th>\n",
       "      <th>gender</th>\n",
       "      <th>senior_citizen</th>\n",
       "      <th>partner</th>\n",
       "      <th>dependents</th>\n",
       "      <th>tenure</th>\n",
       "      <th>phone_service</th>\n",
       "      <th>multiple_lines</th>\n",
       "      <th>online_security</th>\n",
       "      <th>online_backup</th>\n",
       "      <th>device_protection</th>\n",
       "      <th>...</th>\n",
       "      <th>streaming_tv_Yes</th>\n",
       "      <th>streaming_movies_No internet service</th>\n",
       "      <th>streaming_movies_Yes</th>\n",
       "      <th>contract_type_One year</th>\n",
       "      <th>contract_type_Two year</th>\n",
       "      <th>internet_service_type_Fiber optic</th>\n",
       "      <th>internet_service_type_None</th>\n",
       "      <th>payment_type_Credit card (automatic)</th>\n",
       "      <th>payment_type_Electronic check</th>\n",
       "      <th>payment_type_Mailed check</th>\n",
       "    </tr>\n",
       "  </thead>\n",
       "  <tbody>\n",
       "    <tr>\n",
       "      <th>5919</th>\n",
       "      <td>Female</td>\n",
       "      <td>0</td>\n",
       "      <td>No</td>\n",
       "      <td>No</td>\n",
       "      <td>58</td>\n",
       "      <td>Yes</td>\n",
       "      <td>Yes</td>\n",
       "      <td>Yes</td>\n",
       "      <td>Yes</td>\n",
       "      <td>Yes</td>\n",
       "      <td>...</td>\n",
       "      <td>0</td>\n",
       "      <td>0</td>\n",
       "      <td>0</td>\n",
       "      <td>1</td>\n",
       "      <td>0</td>\n",
       "      <td>0</td>\n",
       "      <td>0</td>\n",
       "      <td>1</td>\n",
       "      <td>0</td>\n",
       "      <td>0</td>\n",
       "    </tr>\n",
       "    <tr>\n",
       "      <th>1915</th>\n",
       "      <td>Male</td>\n",
       "      <td>0</td>\n",
       "      <td>No</td>\n",
       "      <td>Yes</td>\n",
       "      <td>71</td>\n",
       "      <td>Yes</td>\n",
       "      <td>Yes</td>\n",
       "      <td>Yes</td>\n",
       "      <td>Yes</td>\n",
       "      <td>No</td>\n",
       "      <td>...</td>\n",
       "      <td>0</td>\n",
       "      <td>0</td>\n",
       "      <td>0</td>\n",
       "      <td>1</td>\n",
       "      <td>0</td>\n",
       "      <td>1</td>\n",
       "      <td>0</td>\n",
       "      <td>1</td>\n",
       "      <td>0</td>\n",
       "      <td>0</td>\n",
       "    </tr>\n",
       "    <tr>\n",
       "      <th>5054</th>\n",
       "      <td>Female</td>\n",
       "      <td>0</td>\n",
       "      <td>Yes</td>\n",
       "      <td>Yes</td>\n",
       "      <td>35</td>\n",
       "      <td>Yes</td>\n",
       "      <td>Yes</td>\n",
       "      <td>No internet service</td>\n",
       "      <td>No internet service</td>\n",
       "      <td>No internet service</td>\n",
       "      <td>...</td>\n",
       "      <td>0</td>\n",
       "      <td>1</td>\n",
       "      <td>0</td>\n",
       "      <td>0</td>\n",
       "      <td>0</td>\n",
       "      <td>0</td>\n",
       "      <td>1</td>\n",
       "      <td>0</td>\n",
       "      <td>1</td>\n",
       "      <td>0</td>\n",
       "    </tr>\n",
       "    <tr>\n",
       "      <th>2355</th>\n",
       "      <td>Male</td>\n",
       "      <td>0</td>\n",
       "      <td>Yes</td>\n",
       "      <td>Yes</td>\n",
       "      <td>1</td>\n",
       "      <td>Yes</td>\n",
       "      <td>No</td>\n",
       "      <td>No internet service</td>\n",
       "      <td>No internet service</td>\n",
       "      <td>No internet service</td>\n",
       "      <td>...</td>\n",
       "      <td>0</td>\n",
       "      <td>1</td>\n",
       "      <td>0</td>\n",
       "      <td>0</td>\n",
       "      <td>0</td>\n",
       "      <td>0</td>\n",
       "      <td>1</td>\n",
       "      <td>0</td>\n",
       "      <td>0</td>\n",
       "      <td>1</td>\n",
       "    </tr>\n",
       "    <tr>\n",
       "      <th>6279</th>\n",
       "      <td>Male</td>\n",
       "      <td>1</td>\n",
       "      <td>No</td>\n",
       "      <td>No</td>\n",
       "      <td>20</td>\n",
       "      <td>Yes</td>\n",
       "      <td>No</td>\n",
       "      <td>Yes</td>\n",
       "      <td>No</td>\n",
       "      <td>No</td>\n",
       "      <td>...</td>\n",
       "      <td>0</td>\n",
       "      <td>0</td>\n",
       "      <td>0</td>\n",
       "      <td>1</td>\n",
       "      <td>0</td>\n",
       "      <td>0</td>\n",
       "      <td>0</td>\n",
       "      <td>0</td>\n",
       "      <td>0</td>\n",
       "      <td>1</td>\n",
       "    </tr>\n",
       "  </tbody>\n",
       "</table>\n",
       "<p>5 rows × 53 columns</p>\n",
       "</div>"
      ],
      "text/plain": [
       "      gender  senior_citizen partner dependents  tenure phone_service  \\\n",
       "5919  Female               0      No         No      58           Yes   \n",
       "1915    Male               0      No        Yes      71           Yes   \n",
       "5054  Female               0     Yes        Yes      35           Yes   \n",
       "2355    Male               0     Yes        Yes       1           Yes   \n",
       "6279    Male               1      No         No      20           Yes   \n",
       "\n",
       "     multiple_lines      online_security        online_backup  \\\n",
       "5919            Yes                  Yes                  Yes   \n",
       "1915            Yes                  Yes                  Yes   \n",
       "5054            Yes  No internet service  No internet service   \n",
       "2355             No  No internet service  No internet service   \n",
       "6279             No                  Yes                   No   \n",
       "\n",
       "        device_protection  ... streaming_tv_Yes  \\\n",
       "5919                  Yes  ...                0   \n",
       "1915                   No  ...                0   \n",
       "5054  No internet service  ...                0   \n",
       "2355  No internet service  ...                0   \n",
       "6279                   No  ...                0   \n",
       "\n",
       "     streaming_movies_No internet service streaming_movies_Yes  \\\n",
       "5919                                    0                    0   \n",
       "1915                                    0                    0   \n",
       "5054                                    1                    0   \n",
       "2355                                    1                    0   \n",
       "6279                                    0                    0   \n",
       "\n",
       "     contract_type_One year  contract_type_Two year  \\\n",
       "5919                      1                       0   \n",
       "1915                      1                       0   \n",
       "5054                      0                       0   \n",
       "2355                      0                       0   \n",
       "6279                      1                       0   \n",
       "\n",
       "      internet_service_type_Fiber optic internet_service_type_None  \\\n",
       "5919                                  0                          0   \n",
       "1915                                  1                          0   \n",
       "5054                                  0                          1   \n",
       "2355                                  0                          1   \n",
       "6279                                  0                          0   \n",
       "\n",
       "     payment_type_Credit card (automatic) payment_type_Electronic check  \\\n",
       "5919                                    1                             0   \n",
       "1915                                    1                             0   \n",
       "5054                                    0                             1   \n",
       "2355                                    0                             0   \n",
       "6279                                    0                             0   \n",
       "\n",
       "     payment_type_Mailed check  \n",
       "5919                         0  \n",
       "1915                         0  \n",
       "5054                         0  \n",
       "2355                         1  \n",
       "6279                         1  \n",
       "\n",
       "[5 rows x 53 columns]"
      ]
     },
     "execution_count": 4,
     "metadata": {},
     "output_type": "execute_result"
    }
   ],
   "source": [
    "train.head()"
   ]
  },
  {
   "cell_type": "code",
   "execution_count": 5,
   "id": "5bb462b6",
   "metadata": {
    "collapsed": true
   },
   "outputs": [
    {
     "data": {
      "text/plain": [
       "gender                                   0\n",
       "senior_citizen                           0\n",
       "partner                                  0\n",
       "dependents                               0\n",
       "tenure                                   0\n",
       "phone_service                            0\n",
       "multiple_lines                           0\n",
       "online_security                          0\n",
       "online_backup                            0\n",
       "device_protection                        0\n",
       "tech_support                             0\n",
       "streaming_tv                             0\n",
       "streaming_movies                         0\n",
       "paperless_billing                        0\n",
       "monthly_charges                          0\n",
       "total_charges                            0\n",
       "churn                                    0\n",
       "contract_type                            0\n",
       "internet_service_type                    0\n",
       "payment_type                             0\n",
       "binned_tenure                            0\n",
       "gender_encoded                           0\n",
       "partner_encoded                          0\n",
       "dependents_encoded                       0\n",
       "phone_service_encoded                    0\n",
       "paperless_billing_encoded                0\n",
       "churn_encoded                            0\n",
       "multiple_lines_No phone service          0\n",
       "multiple_lines_Yes                       0\n",
       "online_security_No internet service      0\n",
       "online_security_Yes                      0\n",
       "online_backup_No internet service        0\n",
       "online_backup_Yes                        0\n",
       "binned_tenure_2years                     0\n",
       "binned_tenure_3years                     0\n",
       "binned_tenure_4years                     0\n",
       "binned_tenure_5years                     0\n",
       "binned_tenure_6years                     0\n",
       "device_protection_No internet service    0\n",
       "device_protection_Yes                    0\n",
       "tech_support_No internet service         0\n",
       "tech_support_Yes                         0\n",
       "streaming_tv_No internet service         0\n",
       "streaming_tv_Yes                         0\n",
       "streaming_movies_No internet service     0\n",
       "streaming_movies_Yes                     0\n",
       "contract_type_One year                   0\n",
       "contract_type_Two year                   0\n",
       "internet_service_type_Fiber optic        0\n",
       "internet_service_type_None               0\n",
       "payment_type_Credit card (automatic)     0\n",
       "payment_type_Electronic check            0\n",
       "payment_type_Mailed check                0\n",
       "dtype: int64"
      ]
     },
     "execution_count": 5,
     "metadata": {},
     "output_type": "execute_result"
    }
   ],
   "source": [
    "# Isna will confirm that I do not have \n",
    "\n",
    "train.isna().sum()"
   ]
  },
  {
   "cell_type": "code",
   "execution_count": 6,
   "id": "9d45ee60",
   "metadata": {
    "scrolled": true
   },
   "outputs": [
    {
     "data": {
      "text/html": [
       "<div>\n",
       "<style scoped>\n",
       "    .dataframe tbody tr th:only-of-type {\n",
       "        vertical-align: middle;\n",
       "    }\n",
       "\n",
       "    .dataframe tbody tr th {\n",
       "        vertical-align: top;\n",
       "    }\n",
       "\n",
       "    .dataframe thead th {\n",
       "        text-align: right;\n",
       "    }\n",
       "</style>\n",
       "<table border=\"1\" class=\"dataframe\">\n",
       "  <thead>\n",
       "    <tr style=\"text-align: right;\">\n",
       "      <th></th>\n",
       "      <th>gender</th>\n",
       "      <th>senior_citizen</th>\n",
       "      <th>partner</th>\n",
       "      <th>dependents</th>\n",
       "      <th>tenure</th>\n",
       "      <th>phone_service</th>\n",
       "      <th>multiple_lines</th>\n",
       "      <th>online_security</th>\n",
       "      <th>online_backup</th>\n",
       "      <th>device_protection</th>\n",
       "      <th>...</th>\n",
       "      <th>streaming_tv_Yes</th>\n",
       "      <th>streaming_movies_No internet service</th>\n",
       "      <th>streaming_movies_Yes</th>\n",
       "      <th>contract_type_One year</th>\n",
       "      <th>contract_type_Two year</th>\n",
       "      <th>internet_service_type_Fiber optic</th>\n",
       "      <th>internet_service_type_None</th>\n",
       "      <th>payment_type_Credit card (automatic)</th>\n",
       "      <th>payment_type_Electronic check</th>\n",
       "      <th>payment_type_Mailed check</th>\n",
       "    </tr>\n",
       "  </thead>\n",
       "  <tbody>\n",
       "    <tr>\n",
       "      <th>816</th>\n",
       "      <td>Female</td>\n",
       "      <td>0</td>\n",
       "      <td>Yes</td>\n",
       "      <td>No</td>\n",
       "      <td>27</td>\n",
       "      <td>Yes</td>\n",
       "      <td>Yes</td>\n",
       "      <td>No</td>\n",
       "      <td>No</td>\n",
       "      <td>No</td>\n",
       "      <td>...</td>\n",
       "      <td>1</td>\n",
       "      <td>0</td>\n",
       "      <td>1</td>\n",
       "      <td>0</td>\n",
       "      <td>0</td>\n",
       "      <td>1</td>\n",
       "      <td>0</td>\n",
       "      <td>1</td>\n",
       "      <td>0</td>\n",
       "      <td>0</td>\n",
       "    </tr>\n",
       "    <tr>\n",
       "      <th>1488</th>\n",
       "      <td>Female</td>\n",
       "      <td>0</td>\n",
       "      <td>Yes</td>\n",
       "      <td>No</td>\n",
       "      <td>71</td>\n",
       "      <td>Yes</td>\n",
       "      <td>Yes</td>\n",
       "      <td>Yes</td>\n",
       "      <td>Yes</td>\n",
       "      <td>Yes</td>\n",
       "      <td>...</td>\n",
       "      <td>1</td>\n",
       "      <td>0</td>\n",
       "      <td>1</td>\n",
       "      <td>0</td>\n",
       "      <td>1</td>\n",
       "      <td>0</td>\n",
       "      <td>0</td>\n",
       "      <td>1</td>\n",
       "      <td>0</td>\n",
       "      <td>0</td>\n",
       "    </tr>\n",
       "    <tr>\n",
       "      <th>4796</th>\n",
       "      <td>Male</td>\n",
       "      <td>0</td>\n",
       "      <td>No</td>\n",
       "      <td>No</td>\n",
       "      <td>44</td>\n",
       "      <td>No</td>\n",
       "      <td>No phone service</td>\n",
       "      <td>Yes</td>\n",
       "      <td>No</td>\n",
       "      <td>Yes</td>\n",
       "      <td>...</td>\n",
       "      <td>1</td>\n",
       "      <td>0</td>\n",
       "      <td>1</td>\n",
       "      <td>1</td>\n",
       "      <td>0</td>\n",
       "      <td>0</td>\n",
       "      <td>0</td>\n",
       "      <td>0</td>\n",
       "      <td>1</td>\n",
       "      <td>0</td>\n",
       "    </tr>\n",
       "    <tr>\n",
       "      <th>3213</th>\n",
       "      <td>Female</td>\n",
       "      <td>0</td>\n",
       "      <td>Yes</td>\n",
       "      <td>Yes</td>\n",
       "      <td>27</td>\n",
       "      <td>Yes</td>\n",
       "      <td>No</td>\n",
       "      <td>No internet service</td>\n",
       "      <td>No internet service</td>\n",
       "      <td>No internet service</td>\n",
       "      <td>...</td>\n",
       "      <td>0</td>\n",
       "      <td>1</td>\n",
       "      <td>0</td>\n",
       "      <td>0</td>\n",
       "      <td>1</td>\n",
       "      <td>0</td>\n",
       "      <td>1</td>\n",
       "      <td>0</td>\n",
       "      <td>0</td>\n",
       "      <td>1</td>\n",
       "    </tr>\n",
       "    <tr>\n",
       "      <th>5026</th>\n",
       "      <td>Male</td>\n",
       "      <td>0</td>\n",
       "      <td>Yes</td>\n",
       "      <td>Yes</td>\n",
       "      <td>62</td>\n",
       "      <td>Yes</td>\n",
       "      <td>No</td>\n",
       "      <td>No internet service</td>\n",
       "      <td>No internet service</td>\n",
       "      <td>No internet service</td>\n",
       "      <td>...</td>\n",
       "      <td>0</td>\n",
       "      <td>1</td>\n",
       "      <td>0</td>\n",
       "      <td>0</td>\n",
       "      <td>1</td>\n",
       "      <td>0</td>\n",
       "      <td>1</td>\n",
       "      <td>1</td>\n",
       "      <td>0</td>\n",
       "      <td>0</td>\n",
       "    </tr>\n",
       "  </tbody>\n",
       "</table>\n",
       "<p>5 rows × 53 columns</p>\n",
       "</div>"
      ],
      "text/plain": [
       "      gender  senior_citizen partner dependents  tenure phone_service  \\\n",
       "816   Female               0     Yes         No      27           Yes   \n",
       "1488  Female               0     Yes         No      71           Yes   \n",
       "4796    Male               0      No         No      44            No   \n",
       "3213  Female               0     Yes        Yes      27           Yes   \n",
       "5026    Male               0     Yes        Yes      62           Yes   \n",
       "\n",
       "        multiple_lines      online_security        online_backup  \\\n",
       "816                Yes                   No                   No   \n",
       "1488               Yes                  Yes                  Yes   \n",
       "4796  No phone service                  Yes                   No   \n",
       "3213                No  No internet service  No internet service   \n",
       "5026                No  No internet service  No internet service   \n",
       "\n",
       "        device_protection  ... streaming_tv_Yes  \\\n",
       "816                    No  ...                1   \n",
       "1488                  Yes  ...                1   \n",
       "4796                  Yes  ...                1   \n",
       "3213  No internet service  ...                0   \n",
       "5026  No internet service  ...                0   \n",
       "\n",
       "     streaming_movies_No internet service streaming_movies_Yes  \\\n",
       "816                                     0                    1   \n",
       "1488                                    0                    1   \n",
       "4796                                    0                    1   \n",
       "3213                                    1                    0   \n",
       "5026                                    1                    0   \n",
       "\n",
       "     contract_type_One year  contract_type_Two year  \\\n",
       "816                       0                       0   \n",
       "1488                      0                       1   \n",
       "4796                      1                       0   \n",
       "3213                      0                       1   \n",
       "5026                      0                       1   \n",
       "\n",
       "      internet_service_type_Fiber optic internet_service_type_None  \\\n",
       "816                                   1                          0   \n",
       "1488                                  0                          0   \n",
       "4796                                  0                          0   \n",
       "3213                                  0                          1   \n",
       "5026                                  0                          1   \n",
       "\n",
       "     payment_type_Credit card (automatic) payment_type_Electronic check  \\\n",
       "816                                     1                             0   \n",
       "1488                                    1                             0   \n",
       "4796                                    0                             1   \n",
       "3213                                    0                             0   \n",
       "5026                                    1                             0   \n",
       "\n",
       "     payment_type_Mailed check  \n",
       "816                          0  \n",
       "1488                         0  \n",
       "4796                         0  \n",
       "3213                         1  \n",
       "5026                         0  \n",
       "\n",
       "[5 rows x 53 columns]"
      ]
     },
     "execution_count": 6,
     "metadata": {},
     "output_type": "execute_result"
    }
   ],
   "source": [
    "validate.head()"
   ]
  },
  {
   "cell_type": "code",
   "execution_count": 7,
   "id": "78255013",
   "metadata": {
    "collapsed": true
   },
   "outputs": [
    {
     "data": {
      "text/plain": [
       "gender                                   0\n",
       "senior_citizen                           0\n",
       "partner                                  0\n",
       "dependents                               0\n",
       "tenure                                   0\n",
       "phone_service                            0\n",
       "multiple_lines                           0\n",
       "online_security                          0\n",
       "online_backup                            0\n",
       "device_protection                        0\n",
       "tech_support                             0\n",
       "streaming_tv                             0\n",
       "streaming_movies                         0\n",
       "paperless_billing                        0\n",
       "monthly_charges                          0\n",
       "total_charges                            0\n",
       "churn                                    0\n",
       "contract_type                            0\n",
       "internet_service_type                    0\n",
       "payment_type                             0\n",
       "binned_tenure                            0\n",
       "gender_encoded                           0\n",
       "partner_encoded                          0\n",
       "dependents_encoded                       0\n",
       "phone_service_encoded                    0\n",
       "paperless_billing_encoded                0\n",
       "churn_encoded                            0\n",
       "multiple_lines_No phone service          0\n",
       "multiple_lines_Yes                       0\n",
       "online_security_No internet service      0\n",
       "online_security_Yes                      0\n",
       "online_backup_No internet service        0\n",
       "online_backup_Yes                        0\n",
       "binned_tenure_2years                     0\n",
       "binned_tenure_3years                     0\n",
       "binned_tenure_4years                     0\n",
       "binned_tenure_5years                     0\n",
       "binned_tenure_6years                     0\n",
       "device_protection_No internet service    0\n",
       "device_protection_Yes                    0\n",
       "tech_support_No internet service         0\n",
       "tech_support_Yes                         0\n",
       "streaming_tv_No internet service         0\n",
       "streaming_tv_Yes                         0\n",
       "streaming_movies_No internet service     0\n",
       "streaming_movies_Yes                     0\n",
       "contract_type_One year                   0\n",
       "contract_type_Two year                   0\n",
       "internet_service_type_Fiber optic        0\n",
       "internet_service_type_None               0\n",
       "payment_type_Credit card (automatic)     0\n",
       "payment_type_Electronic check            0\n",
       "payment_type_Mailed check                0\n",
       "dtype: int64"
      ]
     },
     "execution_count": 7,
     "metadata": {},
     "output_type": "execute_result"
    }
   ],
   "source": [
    "# Isna will confirm that I do not have \n",
    "\n",
    "validate.isna().sum()"
   ]
  },
  {
   "cell_type": "code",
   "execution_count": 8,
   "id": "815e2b9e",
   "metadata": {},
   "outputs": [
    {
     "data": {
      "text/html": [
       "<div>\n",
       "<style scoped>\n",
       "    .dataframe tbody tr th:only-of-type {\n",
       "        vertical-align: middle;\n",
       "    }\n",
       "\n",
       "    .dataframe tbody tr th {\n",
       "        vertical-align: top;\n",
       "    }\n",
       "\n",
       "    .dataframe thead th {\n",
       "        text-align: right;\n",
       "    }\n",
       "</style>\n",
       "<table border=\"1\" class=\"dataframe\">\n",
       "  <thead>\n",
       "    <tr style=\"text-align: right;\">\n",
       "      <th></th>\n",
       "      <th>gender</th>\n",
       "      <th>senior_citizen</th>\n",
       "      <th>partner</th>\n",
       "      <th>dependents</th>\n",
       "      <th>tenure</th>\n",
       "      <th>phone_service</th>\n",
       "      <th>multiple_lines</th>\n",
       "      <th>online_security</th>\n",
       "      <th>online_backup</th>\n",
       "      <th>device_protection</th>\n",
       "      <th>...</th>\n",
       "      <th>streaming_tv_Yes</th>\n",
       "      <th>streaming_movies_No internet service</th>\n",
       "      <th>streaming_movies_Yes</th>\n",
       "      <th>contract_type_One year</th>\n",
       "      <th>contract_type_Two year</th>\n",
       "      <th>internet_service_type_Fiber optic</th>\n",
       "      <th>internet_service_type_None</th>\n",
       "      <th>payment_type_Credit card (automatic)</th>\n",
       "      <th>payment_type_Electronic check</th>\n",
       "      <th>payment_type_Mailed check</th>\n",
       "    </tr>\n",
       "  </thead>\n",
       "  <tbody>\n",
       "    <tr>\n",
       "      <th>3311</th>\n",
       "      <td>Female</td>\n",
       "      <td>0</td>\n",
       "      <td>No</td>\n",
       "      <td>No</td>\n",
       "      <td>29</td>\n",
       "      <td>Yes</td>\n",
       "      <td>No</td>\n",
       "      <td>No internet service</td>\n",
       "      <td>No internet service</td>\n",
       "      <td>No internet service</td>\n",
       "      <td>...</td>\n",
       "      <td>0</td>\n",
       "      <td>1</td>\n",
       "      <td>0</td>\n",
       "      <td>1</td>\n",
       "      <td>0</td>\n",
       "      <td>0</td>\n",
       "      <td>1</td>\n",
       "      <td>0</td>\n",
       "      <td>0</td>\n",
       "      <td>1</td>\n",
       "    </tr>\n",
       "    <tr>\n",
       "      <th>6330</th>\n",
       "      <td>Male</td>\n",
       "      <td>0</td>\n",
       "      <td>Yes</td>\n",
       "      <td>Yes</td>\n",
       "      <td>36</td>\n",
       "      <td>Yes</td>\n",
       "      <td>Yes</td>\n",
       "      <td>No internet service</td>\n",
       "      <td>No internet service</td>\n",
       "      <td>No internet service</td>\n",
       "      <td>...</td>\n",
       "      <td>0</td>\n",
       "      <td>1</td>\n",
       "      <td>0</td>\n",
       "      <td>0</td>\n",
       "      <td>1</td>\n",
       "      <td>0</td>\n",
       "      <td>1</td>\n",
       "      <td>1</td>\n",
       "      <td>0</td>\n",
       "      <td>0</td>\n",
       "    </tr>\n",
       "    <tr>\n",
       "      <th>6156</th>\n",
       "      <td>Male</td>\n",
       "      <td>1</td>\n",
       "      <td>No</td>\n",
       "      <td>No</td>\n",
       "      <td>1</td>\n",
       "      <td>Yes</td>\n",
       "      <td>No</td>\n",
       "      <td>No</td>\n",
       "      <td>No</td>\n",
       "      <td>No</td>\n",
       "      <td>...</td>\n",
       "      <td>0</td>\n",
       "      <td>0</td>\n",
       "      <td>0</td>\n",
       "      <td>0</td>\n",
       "      <td>0</td>\n",
       "      <td>0</td>\n",
       "      <td>0</td>\n",
       "      <td>0</td>\n",
       "      <td>1</td>\n",
       "      <td>0</td>\n",
       "    </tr>\n",
       "    <tr>\n",
       "      <th>5313</th>\n",
       "      <td>Male</td>\n",
       "      <td>0</td>\n",
       "      <td>No</td>\n",
       "      <td>No</td>\n",
       "      <td>25</td>\n",
       "      <td>Yes</td>\n",
       "      <td>No</td>\n",
       "      <td>No</td>\n",
       "      <td>No</td>\n",
       "      <td>No</td>\n",
       "      <td>...</td>\n",
       "      <td>0</td>\n",
       "      <td>0</td>\n",
       "      <td>0</td>\n",
       "      <td>0</td>\n",
       "      <td>0</td>\n",
       "      <td>1</td>\n",
       "      <td>0</td>\n",
       "      <td>0</td>\n",
       "      <td>1</td>\n",
       "      <td>0</td>\n",
       "    </tr>\n",
       "    <tr>\n",
       "      <th>1176</th>\n",
       "      <td>Female</td>\n",
       "      <td>0</td>\n",
       "      <td>Yes</td>\n",
       "      <td>No</td>\n",
       "      <td>34</td>\n",
       "      <td>Yes</td>\n",
       "      <td>No</td>\n",
       "      <td>No</td>\n",
       "      <td>No</td>\n",
       "      <td>No</td>\n",
       "      <td>...</td>\n",
       "      <td>0</td>\n",
       "      <td>0</td>\n",
       "      <td>0</td>\n",
       "      <td>0</td>\n",
       "      <td>0</td>\n",
       "      <td>0</td>\n",
       "      <td>0</td>\n",
       "      <td>0</td>\n",
       "      <td>0</td>\n",
       "      <td>0</td>\n",
       "    </tr>\n",
       "  </tbody>\n",
       "</table>\n",
       "<p>5 rows × 53 columns</p>\n",
       "</div>"
      ],
      "text/plain": [
       "      gender  senior_citizen partner dependents  tenure phone_service  \\\n",
       "3311  Female               0      No         No      29           Yes   \n",
       "6330    Male               0     Yes        Yes      36           Yes   \n",
       "6156    Male               1      No         No       1           Yes   \n",
       "5313    Male               0      No         No      25           Yes   \n",
       "1176  Female               0     Yes         No      34           Yes   \n",
       "\n",
       "     multiple_lines      online_security        online_backup  \\\n",
       "3311             No  No internet service  No internet service   \n",
       "6330            Yes  No internet service  No internet service   \n",
       "6156             No                   No                   No   \n",
       "5313             No                   No                   No   \n",
       "1176             No                   No                   No   \n",
       "\n",
       "        device_protection  ... streaming_tv_Yes  \\\n",
       "3311  No internet service  ...                0   \n",
       "6330  No internet service  ...                0   \n",
       "6156                   No  ...                0   \n",
       "5313                   No  ...                0   \n",
       "1176                   No  ...                0   \n",
       "\n",
       "     streaming_movies_No internet service streaming_movies_Yes  \\\n",
       "3311                                    1                    0   \n",
       "6330                                    1                    0   \n",
       "6156                                    0                    0   \n",
       "5313                                    0                    0   \n",
       "1176                                    0                    0   \n",
       "\n",
       "     contract_type_One year  contract_type_Two year  \\\n",
       "3311                      1                       0   \n",
       "6330                      0                       1   \n",
       "6156                      0                       0   \n",
       "5313                      0                       0   \n",
       "1176                      0                       0   \n",
       "\n",
       "      internet_service_type_Fiber optic internet_service_type_None  \\\n",
       "3311                                  0                          1   \n",
       "6330                                  0                          1   \n",
       "6156                                  0                          0   \n",
       "5313                                  1                          0   \n",
       "1176                                  0                          0   \n",
       "\n",
       "     payment_type_Credit card (automatic) payment_type_Electronic check  \\\n",
       "3311                                    0                             0   \n",
       "6330                                    1                             0   \n",
       "6156                                    0                             1   \n",
       "5313                                    0                             1   \n",
       "1176                                    0                             0   \n",
       "\n",
       "     payment_type_Mailed check  \n",
       "3311                         1  \n",
       "6330                         0  \n",
       "6156                         0  \n",
       "5313                         0  \n",
       "1176                         0  \n",
       "\n",
       "[5 rows x 53 columns]"
      ]
     },
     "execution_count": 8,
     "metadata": {},
     "output_type": "execute_result"
    }
   ],
   "source": [
    "test.head()"
   ]
  },
  {
   "cell_type": "code",
   "execution_count": 9,
   "id": "8a88343b",
   "metadata": {
    "collapsed": true
   },
   "outputs": [
    {
     "data": {
      "text/plain": [
       "gender                                   0\n",
       "senior_citizen                           0\n",
       "partner                                  0\n",
       "dependents                               0\n",
       "tenure                                   0\n",
       "phone_service                            0\n",
       "multiple_lines                           0\n",
       "online_security                          0\n",
       "online_backup                            0\n",
       "device_protection                        0\n",
       "tech_support                             0\n",
       "streaming_tv                             0\n",
       "streaming_movies                         0\n",
       "paperless_billing                        0\n",
       "monthly_charges                          0\n",
       "total_charges                            0\n",
       "churn                                    0\n",
       "contract_type                            0\n",
       "internet_service_type                    0\n",
       "payment_type                             0\n",
       "binned_tenure                            0\n",
       "gender_encoded                           0\n",
       "partner_encoded                          0\n",
       "dependents_encoded                       0\n",
       "phone_service_encoded                    0\n",
       "paperless_billing_encoded                0\n",
       "churn_encoded                            0\n",
       "multiple_lines_No phone service          0\n",
       "multiple_lines_Yes                       0\n",
       "online_security_No internet service      0\n",
       "online_security_Yes                      0\n",
       "online_backup_No internet service        0\n",
       "online_backup_Yes                        0\n",
       "binned_tenure_2years                     0\n",
       "binned_tenure_3years                     0\n",
       "binned_tenure_4years                     0\n",
       "binned_tenure_5years                     0\n",
       "binned_tenure_6years                     0\n",
       "device_protection_No internet service    0\n",
       "device_protection_Yes                    0\n",
       "tech_support_No internet service         0\n",
       "tech_support_Yes                         0\n",
       "streaming_tv_No internet service         0\n",
       "streaming_tv_Yes                         0\n",
       "streaming_movies_No internet service     0\n",
       "streaming_movies_Yes                     0\n",
       "contract_type_One year                   0\n",
       "contract_type_Two year                   0\n",
       "internet_service_type_Fiber optic        0\n",
       "internet_service_type_None               0\n",
       "payment_type_Credit card (automatic)     0\n",
       "payment_type_Electronic check            0\n",
       "payment_type_Mailed check                0\n",
       "dtype: int64"
      ]
     },
     "execution_count": 9,
     "metadata": {},
     "output_type": "execute_result"
    }
   ],
   "source": [
    "# Isna will confirm that Ido not have \n",
    "\n",
    "test.isna().sum()"
   ]
  },
  {
   "cell_type": "markdown",
   "id": "549fec2d",
   "metadata": {},
   "source": [
    "# Exploration"
   ]
  },
  {
   "cell_type": "markdown",
   "id": "bfb4ed2f",
   "metadata": {},
   "source": [
    "There are no nulls in my train, validate, and test datasets"
   ]
  },
  {
   "cell_type": "code",
   "execution_count": 10,
   "id": "497b60e7",
   "metadata": {
    "collapsed": true
   },
   "outputs": [
    {
     "data": {
      "text/plain": [
       "['gender',\n",
       " 'senior_citizen',\n",
       " 'partner',\n",
       " 'dependents',\n",
       " 'tenure',\n",
       " 'phone_service',\n",
       " 'multiple_lines',\n",
       " 'online_security',\n",
       " 'online_backup',\n",
       " 'device_protection',\n",
       " 'tech_support',\n",
       " 'streaming_tv',\n",
       " 'streaming_movies',\n",
       " 'paperless_billing',\n",
       " 'monthly_charges',\n",
       " 'total_charges',\n",
       " 'churn',\n",
       " 'contract_type',\n",
       " 'internet_service_type',\n",
       " 'payment_type',\n",
       " 'binned_tenure',\n",
       " 'gender_encoded',\n",
       " 'partner_encoded',\n",
       " 'dependents_encoded',\n",
       " 'phone_service_encoded',\n",
       " 'paperless_billing_encoded',\n",
       " 'churn_encoded',\n",
       " 'multiple_lines_No phone service',\n",
       " 'multiple_lines_Yes',\n",
       " 'online_security_No internet service',\n",
       " 'online_security_Yes',\n",
       " 'online_backup_No internet service',\n",
       " 'online_backup_Yes',\n",
       " 'binned_tenure_2years',\n",
       " 'binned_tenure_3years',\n",
       " 'binned_tenure_4years',\n",
       " 'binned_tenure_5years',\n",
       " 'binned_tenure_6years',\n",
       " 'device_protection_No internet service',\n",
       " 'device_protection_Yes',\n",
       " 'tech_support_No internet service',\n",
       " 'tech_support_Yes',\n",
       " 'streaming_tv_No internet service',\n",
       " 'streaming_tv_Yes',\n",
       " 'streaming_movies_No internet service',\n",
       " 'streaming_movies_Yes',\n",
       " 'contract_type_One year',\n",
       " 'contract_type_Two year',\n",
       " 'internet_service_type_Fiber optic',\n",
       " 'internet_service_type_None',\n",
       " 'payment_type_Credit card (automatic)',\n",
       " 'payment_type_Electronic check',\n",
       " 'payment_type_Mailed check']"
      ]
     },
     "execution_count": 10,
     "metadata": {},
     "output_type": "execute_result"
    }
   ],
   "source": [
    "train.columns.to_list()"
   ]
  },
  {
   "cell_type": "code",
   "execution_count": 11,
   "id": "3ec4afaa",
   "metadata": {
    "scrolled": false
   },
   "outputs": [
    {
     "data": {
      "image/png": "[encoded data removed]",
      "text/plain": [
       "<Figure size 432x288 with 1 Axes>"
      ]
     },
     "metadata": {
      "needs_background": "light"
     },
     "output_type": "display_data"
    }
   ],
   "source": [
    "plt.title('How many churned')\n",
    "train.churn.hist()\n",
    "plt.show()"
   ]
  },
  {
   "cell_type": "code",
   "execution_count": 12,
   "id": "450e7e53",
   "metadata": {},
   "outputs": [
    {
     "data": {
      "text/plain": [
       "0.27"
      ]
     },
     "execution_count": 12,
     "metadata": {},
     "output_type": "execute_result"
    }
   ],
   "source": [
    "# To get the churn percentage\n",
    "round(train.churn_encoded.mean(), 2)"
   ]
  },
  {
   "cell_type": "markdown",
   "id": "7398d59c",
   "metadata": {},
   "source": [
    "**And also what columns have the most uneven distribution of their population** (Univariate exploration)"
   ]
  },
  {
   "cell_type": "markdown",
   "id": "b04ae655",
   "metadata": {},
   "source": [
    "   **- Categorical data**"
   ]
  },
  {
   "cell_type": "code",
   "execution_count": 36,
   "id": "7b84471c",
   "metadata": {},
   "outputs": [
    {
     "data": {
      "image/png": "[encoded data removed]",
      "text/plain": [
       "<Figure size 432x288 with 1 Axes>"
      ]
     },
     "metadata": {
      "needs_background": "light"
     },
     "output_type": "display_data"
    }
   ],
   "source": [
    "plt.hist(train['gender'], color='orange')\n",
    "plt.show()"
   ]
  },
  {
   "cell_type": "code",
   "execution_count": 14,
   "id": "e4dd4450",
   "metadata": {},
   "outputs": [
    {
     "data": {
      "text/plain": [
       "Male      50.47565\n",
       "Female    49.52435\n",
       "Name: gender, dtype: float64"
      ]
     },
     "execution_count": 14,
     "metadata": {},
     "output_type": "execute_result"
    }
   ],
   "source": [
    "telco.gender.value_counts(normalize=True)*100"
   ]
  },
  {
   "cell_type": "code",
   "execution_count": 37,
   "id": "aea5f646",
   "metadata": {},
   "outputs": [
    {
     "data": {
      "image/png": "[encoded data removed]",
      "text/plain": [
       "<Figure size 432x288 with 1 Axes>"
      ]
     },
     "metadata": {
      "needs_background": "light"
     },
     "output_type": "display_data"
    }
   ],
   "source": [
    "plt.hist(train['senior_citizen'], color='beige')\n",
    "plt.show()"
   ]
  },
  {
   "cell_type": "code",
   "execution_count": 38,
   "id": "b032035f",
   "metadata": {},
   "outputs": [
    {
     "data": {
      "image/png": "[encoded data removed]",
      "text/plain": [
       "<Figure size 432x288 with 1 Axes>"
      ]
     },
     "metadata": {
      "needs_background": "light"
     },
     "output_type": "display_data"
    }
   ],
   "source": [
    "plt.hist(train['partner'], color='beige')\n",
    "plt.show()"
   ]
  },
  {
   "cell_type": "code",
   "execution_count": 39,
   "id": "0279e8d3",
   "metadata": {},
   "outputs": [
    {
     "data": {
      "image/png": "[encoded data removed]",
      "text/plain": [
       "<Figure size 432x288 with 1 Axes>"
      ]
     },
     "metadata": {
      "needs_background": "light"
     },
     "output_type": "display_data"
    }
   ],
   "source": [
    "plt.hist(train['dependents'], color='purple')\n",
    "plt.show()"
   ]
  },
  {
   "cell_type": "code",
   "execution_count": 40,
   "id": "80d8740e",
   "metadata": {},
   "outputs": [
    {
     "data": {
      "image/png": "[encoded data removed]",
      "text/plain": [
       "<Figure size 432x288 with 1 Axes>"
      ]
     },
     "metadata": {
      "needs_background": "light"
     },
     "output_type": "display_data"
    }
   ],
   "source": [
    "plt.hist(train['tenure'], color='lightgreen')\n",
    "plt.show()"
   ]
  },
  {
   "cell_type": "code",
   "execution_count": 42,
   "id": "bd314960",
   "metadata": {},
   "outputs": [
    {
     "data": {
      "image/png": "[encoded data removed]",
      "text/plain": [
       "<Figure size 432x288 with 1 Axes>"
      ]
     },
     "metadata": {
      "needs_background": "light"
     },
     "output_type": "display_data"
    }
   ],
   "source": [
    "plt.hist(train['phone_service'], color='red')\n",
    "plt.show()"
   ]
  },
  {
   "cell_type": "code",
   "execution_count": 43,
   "id": "5e503aea",
   "metadata": {},
   "outputs": [
    {
     "data": {
      "image/png": "[encoded data removed]",
      "text/plain": [
       "<Figure size 432x288 with 1 Axes>"
      ]
     },
     "metadata": {
      "needs_background": "light"
     },
     "output_type": "display_data"
    }
   ],
   "source": [
    "plt.hist(train['multiple_lines'], color='blue')\n",
    "plt.show()"
   ]
  },
  {
   "cell_type": "code",
   "execution_count": 44,
   "id": "8eb8ddb6",
   "metadata": {},
   "outputs": [
    {
     "data": {
      "image/png": "[encoded data removed]",
      "text/plain": [
       "<Figure size 432x288 with 1 Axes>"
      ]
     },
     "metadata": {
      "needs_background": "light"
     },
     "output_type": "display_data"
    }
   ],
   "source": [
    "plt.hist(train['online_security'], color='green')\n",
    "plt.show()"
   ]
  },
  {
   "cell_type": "code",
   "execution_count": 45,
   "id": "50aacb87",
   "metadata": {},
   "outputs": [
    {
     "data": {
      "image/png": "[encoded data removed]",
      "text/plain": [
       "<Figure size 432x288 with 1 Axes>"
      ]
     },
     "metadata": {
      "needs_background": "light"
     },
     "output_type": "display_data"
    }
   ],
   "source": [
    "plt.hist(train['online_backup'], color='beige')\n",
    "plt.show()"
   ]
  },
  {
   "cell_type": "code",
   "execution_count": 46,
   "id": "3ab802c5",
   "metadata": {},
   "outputs": [
    {
     "data": {
      "image/png": "[encoded data removed]",
      "text/plain": [
       "<Figure size 432x288 with 1 Axes>"
      ]
     },
     "metadata": {
      "needs_background": "light"
     },
     "output_type": "display_data"
    }
   ],
   "source": [
    "plt.hist(train['device_protection'], color='orange')\n",
    "plt.show()"
   ]
  },
  {
   "cell_type": "code",
   "execution_count": 47,
   "id": "561bcd5e",
   "metadata": {},
   "outputs": [
    {
     "data": {
      "image/png": "[encoded data removed]",
      "text/plain": [
       "<Figure size 432x288 with 1 Axes>"
      ]
     },
     "metadata": {
      "needs_background": "light"
     },
     "output_type": "display_data"
    }
   ],
   "source": [
    "plt.hist(train['tech_support'], color='tan')\n",
    "plt.show()"
   ]
  },
  {
   "cell_type": "code",
   "execution_count": 48,
   "id": "6aa40100",
   "metadata": {},
   "outputs": [
    {
     "data": {
      "image/png": "[encoded data removed]",
      "text/plain": [
       "<Figure size 432x288 with 1 Axes>"
      ]
     },
     "metadata": {
      "needs_background": "light"
     },
     "output_type": "display_data"
    }
   ],
   "source": [
    "plt.hist(train['streaming_tv'], color='purple')\n",
    "plt.show()"
   ]
  },
  {
   "cell_type": "code",
   "execution_count": 49,
   "id": "80a274bc",
   "metadata": {},
   "outputs": [
    {
     "data": {
      "image/png": "[encoded data removed]",
      "text/plain": [
       "<Figure size 432x288 with 1 Axes>"
      ]
     },
     "metadata": {
      "needs_background": "light"
     },
     "output_type": "display_data"
    }
   ],
   "source": [
    "plt.hist(train['streaming_movies'], color='red')\n",
    "plt.show()"
   ]
  },
  {
   "cell_type": "code",
   "execution_count": 50,
   "id": "9ce883aa",
   "metadata": {},
   "outputs": [
    {
     "data": {
      "image/png": "[encoded data removed]",
      "text/plain": [
       "<Figure size 432x288 with 1 Axes>"
      ]
     },
     "metadata": {
      "needs_background": "light"
     },
     "output_type": "display_data"
    }
   ],
   "source": [
    "plt.hist(train['paperless_billing'], color='blue')\n",
    "plt.show()"
   ]
  },
  {
   "cell_type": "code",
   "execution_count": 51,
   "id": "63f2738c",
   "metadata": {},
   "outputs": [
    {
     "data": {
      "image/png": "[encoded data removed]",
      "text/plain": [
       "<Figure size 432x288 with 1 Axes>"
      ]
     },
     "metadata": {
      "needs_background": "light"
     },
     "output_type": "display_data"
    }
   ],
   "source": [
    "plt.hist(train['contract_type'], color='lightblue')\n",
    "plt.show()"
   ]
  },
  {
   "cell_type": "code",
   "execution_count": 52,
   "id": "e4810139",
   "metadata": {},
   "outputs": [
    {
     "data": {
      "image/png": "[encoded data removed]",
      "text/plain": [
       "<Figure size 432x288 with 1 Axes>"
      ]
     },
     "metadata": {
      "needs_background": "light"
     },
     "output_type": "display_data"
    }
   ],
   "source": [
    "plt.hist(train['payment_type'], color='grey', )\n",
    "plt.xticks([0, 1, 2, 3], ['Mailed\\ncheck', 'Electronic\\ncheck ', 'Credit card\\n(automatic)', 'Bank transfer\\n(automatic)'])\n",
    "plt.show()"
   ]
  },
  {
   "cell_type": "code",
   "execution_count": 53,
   "id": "e49b84c0",
   "metadata": {},
   "outputs": [
    {
     "data": {
      "text/plain": [
       "Electronic check             32.740665\n",
       "Credit card (automatic)      22.733045\n",
       "Mailed check                 22.631445\n",
       "Bank transfer (automatic)    21.894844\n",
       "Name: payment_type, dtype: float64"
      ]
     },
     "execution_count": 53,
     "metadata": {},
     "output_type": "execute_result"
    }
   ],
   "source": [
    "train.payment_type.value_counts(normalize=True)*100"
   ]
  },
  {
   "cell_type": "code",
   "execution_count": 54,
   "id": "955e1aa8",
   "metadata": {},
   "outputs": [
    {
     "data": {
      "image/png": "[encoded data removed]",
      "text/plain": [
       "<Figure size 432x288 with 1 Axes>"
      ]
     },
     "metadata": {
      "needs_background": "light"
     },
     "output_type": "display_data"
    }
   ],
   "source": [
    "plt.hist(train['internet_service_type'], color='green')\n",
    "plt.show()"
   ]
  },
  {
   "cell_type": "markdown",
   "id": "974bea50",
   "metadata": {},
   "source": [
    "   **- Numerical data**"
   ]
  },
  {
   "cell_type": "code",
   "execution_count": 55,
   "id": "7a10148f",
   "metadata": {},
   "outputs": [
    {
     "data": {
      "image/png": "[encoded data removed]",
      "text/plain": [
       "<Figure size 432x288 with 1 Axes>"
      ]
     },
     "metadata": {
      "needs_background": "light"
     },
     "output_type": "display_data"
    }
   ],
   "source": [
    "plt.hist(train['monthly_charges'], color='turquoise')\n",
    "plt.show()"
   ]
  },
  {
   "cell_type": "code",
   "execution_count": 56,
   "id": "e26440eb",
   "metadata": {},
   "outputs": [
    {
     "data": {
      "image/png": "[encoded data removed]",
      "text/plain": [
       "<Figure size 432x288 with 1 Axes>"
      ]
     },
     "metadata": {
      "needs_background": "light"
     },
     "output_type": "display_data"
    }
   ],
   "source": [
    "plt.hist(train['total_charges'], color='tan')\n",
    "plt.show()"
   ]
  },
  {
   "cell_type": "code",
   "execution_count": 57,
   "id": "2c82f051",
   "metadata": {},
   "outputs": [
    {
     "data": {
      "image/png": "[encoded data removed]",
      "text/plain": [
       "<Figure size 432x288 with 1 Axes>"
      ]
     },
     "metadata": {
      "needs_background": "light"
     },
     "output_type": "display_data"
    }
   ],
   "source": [
    "plt.hist(train['tenure'], color='brown')\n",
    "plt.show()"
   ]
  },
  {
   "cell_type": "markdown",
   "id": "6a5758b6",
   "metadata": {},
   "source": [
    "- Except for gender and partner, the rest of the columns have a pretty uneven distribution of their population.\n",
    "Some of the most important unevened ones are:\n",
    "    * phone service\n",
    "    * dependent\n",
    "    * Tenure\n",
    "    * Monthly charges\n",
    "    * Paperless billing\n",
    "    * Contract type\n",
    "- Tenure and monthly charges have approximately the same distribution"
   ]
  },
  {
   "cell_type": "markdown",
   "id": "393001d2",
   "metadata": {},
   "source": [
    "## The big question now would be: who is churning?"
   ]
  },
  {
   "cell_type": "code",
   "execution_count": 63,
   "id": "629a52a8",
   "metadata": {
    "scrolled": false
   },
   "outputs": [
    {
     "data": {
      "image/png": "[encoded data removed]",
      "text/plain": [
       "<Figure size 1080x504 with 3 Axes>"
      ]
     },
     "metadata": {
      "needs_background": "light"
     },
     "output_type": "display_data"
    }
   ],
   "source": [
    "features = ['gender',\n",
    "            'senior_citizen',\n",
    "            'partner']\n",
    "\n",
    "_,ax = plt.subplots(nrows=1, ncols=3, figsize=(15, 7), sharey=True)\n",
    "\n",
    "for i, feature in enumerate(features):\n",
    "    '''\n",
    "    Enumerate() function allows me to iterate inside the 'feature'\n",
    "    variable containing a set of features from the DataFrame.\n",
    "    I am plotting barplots using ax to plot several at the time.\n",
    "    '''\n",
    "    sns.barplot(feature, 'churn_encoded', data=train, ax=ax[i])\n",
    "    customers_churn_rate = train.churn_encoded.mean()\n",
    "    ax[i].set_xlabel('')\n",
    "    ax[i].set_ylabel('Customers churn rate')\n",
    "    ax[i].set_title(feature)\n",
    "    ax[i].axhline(customers_churn_rate, ls='--', color='fuchsia')"
   ]
  },
  {
   "cell_type": "markdown",
   "id": "20bba060",
   "metadata": {},
   "source": [
    "### Takeaways\n",
    "- Gender does not seem to have any impact on churn\n",
    "- Senior citizens churn at a higher rate\n",
    "- Those who have a partner churn at a higher rate"
   ]
  },
  {
   "cell_type": "code",
   "execution_count": 64,
   "id": "0ef7ed4b",
   "metadata": {
    "scrolled": false
   },
   "outputs": [
    {
     "data": {
      "image/png": "[encoded data removed]",
      "text/plain": [
       "<Figure size 1080x504 with 3 Axes>"
      ]
     },
     "metadata": {
      "needs_background": "light"
     },
     "output_type": "display_data"
    }
   ],
   "source": [
    "features = ['dependents',\n",
    "            'phone_service',\n",
    "            'paperless_billing']\n",
    "\n",
    "_,ax = plt.subplots(nrows=1, ncols=3, figsize=(15, 7), sharey=True)\n",
    "\n",
    "for i, feature in enumerate(features):\n",
    "    '''\n",
    "    Enumerate() function allows me to iterate inside the 'feature'\n",
    "    variable containing a set of features from the DataFrame.\n",
    "    I am plotting barplots using ax to plot several at the time.\n",
    "    '''\n",
    "    sns.barplot(feature, 'churn_encoded', data=train, ax=ax[i])\n",
    "    customers_churn_rate = train.churn_encoded.mean()\n",
    "    ax[i].set_xlabel('')\n",
    "    ax[i].set_ylabel('Customers churn rate')\n",
    "    ax[i].set_title(feature)\n",
    "    ax[i].axhline(customers_churn_rate, ls='--', color='fuchsia')"
   ]
  },
  {
   "cell_type": "markdown",
   "id": "919376e1",
   "metadata": {},
   "source": [
    "### Takeaways\n",
    "- Those who have dependents churn at a higher rate than those who don't\n",
    "- Not having a phone service makes a customer slighly more encline to churn\n",
    "- Those using paperless stay more than those who aren't"
   ]
  },
  {
   "cell_type": "code",
   "execution_count": 67,
   "id": "c5d076a0",
   "metadata": {},
   "outputs": [
    {
     "data": {
      "image/png": "[encoded data removed]",
      "text/plain": [
       "<Figure size 1080x504 with 3 Axes>"
      ]
     },
     "metadata": {
      "needs_background": "light"
     },
     "output_type": "display_data"
    }
   ],
   "source": [
    "features = ['multiple_lines',\n",
    "            'online_security',\n",
    "            'online_backup']\n",
    "\n",
    "_,ax = plt.subplots(nrows=1, ncols=3, figsize=(15, 7), sharey=True)\n",
    "\n",
    "for i, feature in enumerate(features):\n",
    "    '''\n",
    "    Enumerate() function allows me to iterate inside the 'feature'\n",
    "    variable containing a set of features from the DataFrame.\n",
    "    I am plotting barplots using ax to plot several at the time.\n",
    "    '''\n",
    "    sns.barplot(feature, 'churn_encoded', data=train, ax=ax[i])\n",
    "    customers_churn_rate = train.churn_encoded.mean()\n",
    "    ax[i].set_xlabel('')\n",
    "    ax[i].set_ylabel('Customers churn rate')\n",
    "    ax[i].set_title(feature)\n",
    "    ax[i].customers_churn_rate = train\n",
    "    ax[i].axhline(customers_churn_rate, ls='--', color='fuchsia')"
   ]
  },
  {
   "cell_type": "markdown",
   "id": "3261de55",
   "metadata": {},
   "source": [
    "### Takeaways\n",
    "- Having multiple lines make customers less likely to churn than those who have 1 or no phone service\n",
    "- Having online security or no internet service leads customers to churn\n",
    "- Having online backup or no internet service leads customers to churn"
   ]
  },
  {
   "cell_type": "code",
   "execution_count": 68,
   "id": "551391a4",
   "metadata": {},
   "outputs": [
    {
     "data": {
      "image/png": "[encoded data removed]",
      "text/plain": [
       "<Figure size 1080x504 with 3 Axes>"
      ]
     },
     "metadata": {
      "needs_background": "light"
     },
     "output_type": "display_data"
    }
   ],
   "source": [
    "features = ['device_protection', \\\n",
    "            'tech_support', \\\n",
    "            'streaming_tv']\n",
    "\n",
    "_,ax = plt.subplots(nrows=1, ncols=3, figsize=(15, 7), sharey=True)\n",
    "\n",
    "for i, feature in enumerate(features):\n",
    "    '''\n",
    "    Enumerate() function allows me to iterate inside the 'feature'\n",
    "    variable containing a set of features from the DataFrame.\n",
    "    I am plotting barplots using ax to plot several at the time.\n",
    "    '''\n",
    "    sns.barplot(feature, 'churn_encoded', data=train, ax=ax[i])\n",
    "    customers_churn_rate = train.churn_encoded.mean()\n",
    "    ax[i].set_xlabel('')\n",
    "    ax[i].set_ylabel('Customers churn rate')\n",
    "    ax[i].set_title(feature)\n",
    "    ax[i].axhline(customers_churn_rate, ls='--', color='fuchsia')"
   ]
  },
  {
   "cell_type": "markdown",
   "id": "557966a1",
   "metadata": {},
   "source": [
    "### Takeaways\n",
    "- Having device protection and tech support also leads customers to churn\n",
    "- Not having internet service makes a customer more encline to churn"
   ]
  },
  {
   "cell_type": "code",
   "execution_count": 72,
   "id": "4be132e2",
   "metadata": {
    "scrolled": false
   },
   "outputs": [
    {
     "data": {
      "image/png": "[encoded data removed]",
      "text/plain": [
       "<Figure size 1080x504 with 3 Axes>"
      ]
     },
     "metadata": {
      "needs_background": "light"
     },
     "output_type": "display_data"
    }
   ],
   "source": [
    "features = ['streaming_movies', \\\n",
    "            'contract_type', \\\n",
    "            'internet_service_type']\n",
    "\n",
    "_,ax = plt.subplots(nrows=1, ncols=3, figsize=(15, 7), sharey=True)\n",
    "\n",
    "for i, feature in enumerate(features):\n",
    "    '''\n",
    "    Enumerate() function allows me to iterate inside the 'feature'\n",
    "    variable containing a set of features from the DataFrame.\n",
    "    I am plotting barplots using ax to plot several at the time.\n",
    "    '''\n",
    "    sns.barplot(feature, 'churn_encoded', data=train, ax=ax[i])\n",
    "    customers_churn_rate = train.churn_encoded.mean()\n",
    "    ax[i].set_xlabel('')\n",
    "    ax[i].set_ylabel('Customers churn rate')\n",
    "    ax[i].set_title(feature)\n",
    "    ax[i].axhline(customers_churn_rate, ls='--', color='fuchsia')"
   ]
  },
  {
   "cell_type": "markdown",
   "id": "c1cad3c6",
   "metadata": {},
   "source": [
    "### Takeaways\n",
    "- Having device protection and tech support also leads customers to churn\n",
    "- Not having internet service makes a customer more encline to churn"
   ]
  },
  {
   "cell_type": "code",
   "execution_count": 75,
   "id": "c189bc7d",
   "metadata": {
    "scrolled": false
   },
   "outputs": [
    {
     "data": {
      "image/png": "[encoded data removed]",
      "text/plain": [
       "<Figure size 432x288 with 1 Axes>"
      ]
     },
     "metadata": {
      "needs_background": "light"
     },
     "output_type": "display_data"
    }
   ],
   "source": [
    "plt.title('Payment types and churn rate')\n",
    "sns.barplot(x='payment_type', y='churn_encoded', data=train)\n",
    "customers_churn_rate = train.churn_encoded.mean()\n",
    "plt.axhline(customers_churn_rate, label= 'Customers churn rate')\n",
    "plt.xticks([0, 1, 2, 3], ['Credit card\\n(automatic)', 'Electronic\\ncheck ', 'Mailed\\ncheck', 'Bank transfer\\n(automatic)'])\n",
    "plt.legend()\n",
    "plt.show()"
   ]
  },
  {
   "cell_type": "code",
   "execution_count": 76,
   "id": "12a3ff87",
   "metadata": {},
   "outputs": [
    {
     "data": {
      "text/plain": [
       "Electronic check             1289\n",
       "Credit card (automatic)       895\n",
       "Mailed check                  891\n",
       "Bank transfer (automatic)     862\n",
       "Name: payment_type, dtype: int64"
      ]
     },
     "execution_count": 76,
     "metadata": {},
     "output_type": "execute_result"
    }
   ],
   "source": [
    "train.payment_type.value_counts()"
   ]
  },
  {
   "cell_type": "markdown",
   "id": "44b2ddd1",
   "metadata": {},
   "source": [
    "## Takeaways\n",
    "- Electronic check users are less likely to churn (who are they? investigate if I have time)\n",
    "- The users of other types of payment churn at a similar rate"
   ]
  },
  {
   "cell_type": "code",
   "execution_count": 79,
   "id": "c5cfc0b1",
   "metadata": {
    "scrolled": false
   },
   "outputs": [
    {
     "data": {
      "image/png": "[encoded data removed]",
      "text/plain": [
       "<Figure size 1440x1080 with 1 Axes>"
      ]
     },
     "metadata": {
      "needs_background": "light"
     },
     "output_type": "display_data"
    }
   ],
   "source": [
    "plt.figure(figsize=(20, 15))\n",
    "plt.title('Tenure and churn rate')\n",
    "sns.barplot(x='tenure', y='churn_encoded', data=train)\n",
    "customers_churn_rate = train.churn_encoded.mean()\n",
    "plt.axhline(customers_churn_rate, label= 'Customers churn rate', ls='-.', color='red')\n",
    "plt.legend()\n",
    "plt.show()"
   ]
  },
  {
   "cell_type": "code",
   "execution_count": 101,
   "id": "74f0e25c",
   "metadata": {
    "scrolled": true
   },
   "outputs": [
    {
     "data": {
      "image/png": "[encoded data removed]",
      "text/plain": [
       "<Figure size 432x288 with 1 Axes>"
      ]
     },
     "metadata": {
      "needs_background": "light"
     },
     "output_type": "display_data"
    }
   ],
   "source": [
    "plt.title('Binned tenure and churn rate')\n",
    "sns.barplot(x='binned_tenure', y='churn_encoded', data=train)\n",
    "customers_churn_rate = train.churn_encoded.mean()\n",
    "plt.axhline(customers_churn_rate, label= 'Customers churn rate', )\n",
    "plt.legend()\n",
    "plt.show()"
   ]
  },
  {
   "cell_type": "markdown",
   "id": "7a0357c8",
   "metadata": {},
   "source": [
    "## Takeaways\n",
    "- The non-binned version of tenure has the same behavior as the binned one\n",
    "- Higher tenure tend to churn more it seems"
   ]
  },
  {
   "cell_type": "markdown",
   "id": "517e0bce",
   "metadata": {},
   "source": [
    "I do not have a normal distribution for tenure nor the other numeric values (monthly charges and total charges)\n",
    "So I will use a t-test to understand the relationship between these features"
   ]
  },
  {
   "cell_type": "code",
   "execution_count": null,
   "id": "352c7db0",
   "metadata": {},
   "outputs": [],
   "source": [
    "churn_sample = train[train.churn == 'Yes'].binned_tenure\n",
    "\n",
    "churn_sample.hist()"
   ]
  },
  {
   "cell_type": "markdown",
   "id": "7f82590b",
   "metadata": {},
   "source": [
    "Hypothesis setting\n",
    "\n",
    "- Null hypothesis (): Mean of monthly charges of churned customers <= Mean of monthly charges of all customers\n",
    "- Alternative hypothesis: Mean of monthly charges of churned customers > Mean of monthly charges of all customers"
   ]
  },
  {
   "cell_type": "code",
   "execution_count": 81,
   "id": "9f9f4577",
   "metadata": {},
   "outputs": [
    {
     "data": {
      "text/plain": [
       "<AxesSubplot:>"
      ]
     },
     "execution_count": 81,
     "metadata": {},
     "output_type": "execute_result"
    },
    {
     "data": {
      "image/png": "[encoded data removed]",
      "text/plain": [
       "<Figure size 432x288 with 1 Axes>"
      ]
     },
     "metadata": {
      "needs_background": "light"
     },
     "output_type": "display_data"
    }
   ],
   "source": [
    "churn_sample = train[train.churn == 'Yes'].monthly_charges\n",
    "\n",
    "churn_sample.hist()"
   ]
  },
  {
   "cell_type": "code",
   "execution_count": null,
   "id": "173c0044",
   "metadata": {},
   "outputs": [],
   "source": [
    "Hypothesis setting\n",
    "\n",
    "Null hypothesis: Mean of monthly charges of churned customers <= Mean of monthly charges of all customers\n",
    "Alternative hypothesis: Mean of monthly charges of churned customers > Mean of monthly charges of all customers"
   ]
  },
  {
   "cell_type": "code",
   "execution_count": 206,
   "id": "7b2b7d14",
   "metadata": {},
   "outputs": [
    {
     "name": "stdout",
     "output_type": "stream",
     "text": [
      "Reject null hypothesis\n",
      "I have sufficient evidenc to say that there is a relationship between churn and tenure\n"
     ]
    }
   ],
   "source": [
    "alpha = .05\n",
    "\n",
    "null_hypothesis = 'tenure and churn rate are independent'\n",
    "alternative_hypothesis ='higher tenure tend to churn more'\n",
    "\n",
    "#Using a crosstab of churn to binned tenure\n",
    "observed = pd.crosstab(train.churn, train.binned_tenure)\n",
    "\n",
    "chi2, p, degf, expected = stats.chi2_contingency(observed)\n",
    "\n",
    "if p < alpha:\n",
    "    print('Reject null hypothesis')\n",
    "    print('I have sufficient evidenc to say that', alternative_hypothesis)\n",
    "else:\n",
    "    print('Fail to reject null hypothesis')\n",
    "    print('I do not have sufficient evidence to reject the null hypothesis')"
   ]
  },
  {
   "cell_type": "code",
   "execution_count": 73,
   "id": "1b9cfcb1",
   "metadata": {
    "scrolled": false
   },
   "outputs": [
    {
     "data": {
      "text/plain": [
       "1year     1220\n",
       "6years     818\n",
       "2years     532\n",
       "3years     469\n",
       "5years     459\n",
       "4years     439\n",
       "Name: binned_tenure, dtype: int64"
      ]
     },
     "execution_count": 73,
     "metadata": {},
     "output_type": "execute_result"
    }
   ],
   "source": [
    "train.binned_tenure.value_counts()"
   ]
  },
  {
   "cell_type": "code",
   "execution_count": 198,
   "id": "2c65aa25",
   "metadata": {
    "scrolled": false
   },
   "outputs": [
    {
     "data": {
      "image/png": "[encoded data removed]",
      "text/plain": [
       "<Figure size 1080x720 with 1 Axes>"
      ]
     },
     "metadata": {
      "needs_background": "light"
     },
     "output_type": "display_data"
    }
   ],
   "source": [
    "plt.figure(figsize=(15, 10))\n",
    "plt.title('Customers with tenure 1years churn at a higher rate: almost the same number of churned (orange) and not churned(blue)')\n",
    "sns.boxplot(x='binned_tenure', y='monthly_charges', data=train, hue='churn_encoded')\n",
    "customer_churn_rate = train.churn_encoded.mean()\n",
    "plt.show()"
   ]
  },
  {
   "cell_type": "code",
   "execution_count": 197,
   "id": "d33c475f",
   "metadata": {},
   "outputs": [
    {
     "data": {
      "image/png": "[encoded data removed]",
      "text/plain": [
       "<Figure size 1080x720 with 1 Axes>"
      ]
     },
     "metadata": {
      "needs_background": "light"
     },
     "output_type": "display_data"
    }
   ],
   "source": [
    "plt.figure(figsize=(15, 10))\n",
    "plt.title('Customers with tenure 1years churn at a higher rate: almost the same number of churned (orange) and not churned(blue)')\n",
    "sns.boxplot(x='binned_tenure', y='total_charges', data=train, hue='churn_encoded')\n",
    "customer_churn_rate = train.churn_encoded.mean()\n",
    "plt.show()"
   ]
  },
  {
   "cell_type": "markdown",
   "id": "c8eab779",
   "metadata": {},
   "source": [
    "## Summary Takeaways\n",
    "\n",
    "- Who are not getting internet services?\n",
    "- Customers who do not have internet services churn the most\n",
    "- In general those who have services like online back up, online security churn more\n",
    "- Those who have services such as streaming tv and movie churn less\n",
    "- Those who have a DSL connection churn more\n",
    "- Those who hahve a 1year and 2year contract are more likely to churn\n",
    "- Customers with tenure 1years churn at a higher rate: almost the same number of churned and not churned"
   ]
  },
  {
   "cell_type": "markdown",
   "id": "18a9835a",
   "metadata": {},
   "source": [
    "# Modeling"
   ]
  },
  {
   "cell_type": "markdown",
   "id": "e12087cf",
   "metadata": {},
   "source": [
    "## Decision trees"
   ]
  },
  {
   "cell_type": "code",
   "execution_count": 207,
   "id": "6483c00a",
   "metadata": {
    "scrolled": true
   },
   "outputs": [
    {
     "data": {
      "text/html": [
       "<div>\n",
       "<style scoped>\n",
       "    .dataframe tbody tr th:only-of-type {\n",
       "        vertical-align: middle;\n",
       "    }\n",
       "\n",
       "    .dataframe tbody tr th {\n",
       "        vertical-align: top;\n",
       "    }\n",
       "\n",
       "    .dataframe thead th {\n",
       "        text-align: right;\n",
       "    }\n",
       "</style>\n",
       "<table border=\"1\" class=\"dataframe\">\n",
       "  <thead>\n",
       "    <tr style=\"text-align: right;\">\n",
       "      <th></th>\n",
       "      <th>gender_encoded</th>\n",
       "      <th>partner_encoded</th>\n",
       "      <th>dependents_encoded</th>\n",
       "      <th>phone_service_encoded</th>\n",
       "      <th>paperless_billing_encoded</th>\n",
       "      <th>churn_encoded</th>\n",
       "      <th>multiple_lines_No phone service</th>\n",
       "      <th>multiple_lines_Yes</th>\n",
       "      <th>online_security_No internet service</th>\n",
       "      <th>online_security_Yes</th>\n",
       "      <th>...</th>\n",
       "      <th>streaming_tv_Yes</th>\n",
       "      <th>streaming_movies_No internet service</th>\n",
       "      <th>streaming_movies_Yes</th>\n",
       "      <th>contract_type_One year</th>\n",
       "      <th>contract_type_Two year</th>\n",
       "      <th>internet_service_type_Fiber optic</th>\n",
       "      <th>internet_service_type_None</th>\n",
       "      <th>payment_type_Credit card (automatic)</th>\n",
       "      <th>payment_type_Electronic check</th>\n",
       "      <th>payment_type_Mailed check</th>\n",
       "    </tr>\n",
       "  </thead>\n",
       "  <tbody>\n",
       "    <tr>\n",
       "      <th>5919</th>\n",
       "      <td>1</td>\n",
       "      <td>0</td>\n",
       "      <td>0</td>\n",
       "      <td>1</td>\n",
       "      <td>1</td>\n",
       "      <td>0</td>\n",
       "      <td>0</td>\n",
       "      <td>1</td>\n",
       "      <td>0</td>\n",
       "      <td>1</td>\n",
       "      <td>...</td>\n",
       "      <td>0</td>\n",
       "      <td>0</td>\n",
       "      <td>0</td>\n",
       "      <td>1</td>\n",
       "      <td>0</td>\n",
       "      <td>0</td>\n",
       "      <td>0</td>\n",
       "      <td>1</td>\n",
       "      <td>0</td>\n",
       "      <td>0</td>\n",
       "    </tr>\n",
       "    <tr>\n",
       "      <th>1915</th>\n",
       "      <td>0</td>\n",
       "      <td>0</td>\n",
       "      <td>1</td>\n",
       "      <td>1</td>\n",
       "      <td>1</td>\n",
       "      <td>0</td>\n",
       "      <td>0</td>\n",
       "      <td>1</td>\n",
       "      <td>0</td>\n",
       "      <td>1</td>\n",
       "      <td>...</td>\n",
       "      <td>0</td>\n",
       "      <td>0</td>\n",
       "      <td>0</td>\n",
       "      <td>1</td>\n",
       "      <td>0</td>\n",
       "      <td>1</td>\n",
       "      <td>0</td>\n",
       "      <td>1</td>\n",
       "      <td>0</td>\n",
       "      <td>0</td>\n",
       "    </tr>\n",
       "    <tr>\n",
       "      <th>5054</th>\n",
       "      <td>1</td>\n",
       "      <td>1</td>\n",
       "      <td>1</td>\n",
       "      <td>1</td>\n",
       "      <td>1</td>\n",
       "      <td>0</td>\n",
       "      <td>0</td>\n",
       "      <td>1</td>\n",
       "      <td>1</td>\n",
       "      <td>0</td>\n",
       "      <td>...</td>\n",
       "      <td>0</td>\n",
       "      <td>1</td>\n",
       "      <td>0</td>\n",
       "      <td>0</td>\n",
       "      <td>0</td>\n",
       "      <td>0</td>\n",
       "      <td>1</td>\n",
       "      <td>0</td>\n",
       "      <td>1</td>\n",
       "      <td>0</td>\n",
       "    </tr>\n",
       "    <tr>\n",
       "      <th>2355</th>\n",
       "      <td>0</td>\n",
       "      <td>1</td>\n",
       "      <td>1</td>\n",
       "      <td>1</td>\n",
       "      <td>0</td>\n",
       "      <td>0</td>\n",
       "      <td>0</td>\n",
       "      <td>0</td>\n",
       "      <td>1</td>\n",
       "      <td>0</td>\n",
       "      <td>...</td>\n",
       "      <td>0</td>\n",
       "      <td>1</td>\n",
       "      <td>0</td>\n",
       "      <td>0</td>\n",
       "      <td>0</td>\n",
       "      <td>0</td>\n",
       "      <td>1</td>\n",
       "      <td>0</td>\n",
       "      <td>0</td>\n",
       "      <td>1</td>\n",
       "    </tr>\n",
       "    <tr>\n",
       "      <th>6279</th>\n",
       "      <td>0</td>\n",
       "      <td>0</td>\n",
       "      <td>0</td>\n",
       "      <td>1</td>\n",
       "      <td>0</td>\n",
       "      <td>0</td>\n",
       "      <td>0</td>\n",
       "      <td>0</td>\n",
       "      <td>0</td>\n",
       "      <td>1</td>\n",
       "      <td>...</td>\n",
       "      <td>0</td>\n",
       "      <td>0</td>\n",
       "      <td>0</td>\n",
       "      <td>1</td>\n",
       "      <td>0</td>\n",
       "      <td>0</td>\n",
       "      <td>0</td>\n",
       "      <td>0</td>\n",
       "      <td>0</td>\n",
       "      <td>1</td>\n",
       "    </tr>\n",
       "  </tbody>\n",
       "</table>\n",
       "<p>5 rows × 32 columns</p>\n",
       "</div>"
      ],
      "text/plain": [
       "      gender_encoded  partner_encoded  dependents_encoded  \\\n",
       "5919               1                0                   0   \n",
       "1915               0                0                   1   \n",
       "5054               1                1                   1   \n",
       "2355               0                1                   1   \n",
       "6279               0                0                   0   \n",
       "\n",
       "      phone_service_encoded  paperless_billing_encoded  churn_encoded  \\\n",
       "5919                      1                          1              0   \n",
       "1915                      1                          1              0   \n",
       "5054                      1                          1              0   \n",
       "2355                      1                          0              0   \n",
       "6279                      1                          0              0   \n",
       "\n",
       "      multiple_lines_No phone service  multiple_lines_Yes  \\\n",
       "5919                                0                   1   \n",
       "1915                                0                   1   \n",
       "5054                                0                   1   \n",
       "2355                                0                   0   \n",
       "6279                                0                   0   \n",
       "\n",
       "      online_security_No internet service  online_security_Yes  ...  \\\n",
       "5919                                    0                    1  ...   \n",
       "1915                                    0                    1  ...   \n",
       "5054                                    1                    0  ...   \n",
       "2355                                    1                    0  ...   \n",
       "6279                                    0                    1  ...   \n",
       "\n",
       "      streaming_tv_Yes  streaming_movies_No internet service  \\\n",
       "5919                 0                                     0   \n",
       "1915                 0                                     0   \n",
       "5054                 0                                     1   \n",
       "2355                 0                                     1   \n",
       "6279                 0                                     0   \n",
       "\n",
       "      streaming_movies_Yes  contract_type_One year  contract_type_Two year  \\\n",
       "5919                     0                       1                       0   \n",
       "1915                     0                       1                       0   \n",
       "5054                     0                       0                       0   \n",
       "2355                     0                       0                       0   \n",
       "6279                     0                       1                       0   \n",
       "\n",
       "      internet_service_type_Fiber optic  internet_service_type_None  \\\n",
       "5919                                  0                           0   \n",
       "1915                                  1                           0   \n",
       "5054                                  0                           1   \n",
       "2355                                  0                           1   \n",
       "6279                                  0                           0   \n",
       "\n",
       "      payment_type_Credit card (automatic)  payment_type_Electronic check  \\\n",
       "5919                                     1                              0   \n",
       "1915                                     1                              0   \n",
       "5054                                     0                              1   \n",
       "2355                                     0                              0   \n",
       "6279                                     0                              0   \n",
       "\n",
       "      payment_type_Mailed check  \n",
       "5919                          0  \n",
       "1915                          0  \n",
       "5054                          0  \n",
       "2355                          1  \n",
       "6279                          1  \n",
       "\n",
       "[5 rows x 32 columns]"
      ]
     },
     "execution_count": 207,
     "metadata": {},
     "output_type": "execute_result"
    }
   ],
   "source": [
    "# I am going to drop all the non numeric columns\n",
    "\n",
    "non_num = ['gender',\n",
    " 'senior_citizen',\n",
    " 'partner',\n",
    " 'dependents',\n",
    " 'tenure',\n",
    " 'phone_service',\n",
    " 'multiple_lines',\n",
    " 'online_security',\n",
    " 'online_backup',\n",
    " 'device_protection',\n",
    " 'tech_support',\n",
    " 'streaming_tv',\n",
    " 'streaming_movies',\n",
    " 'paperless_billing',\n",
    " 'monthly_charges',\n",
    " 'total_charges',\n",
    " 'churn',\n",
    " 'contract_type',\n",
    " 'internet_service_type',\n",
    " 'payment_type',\n",
    " 'binned_tenure']\n",
    "\n",
    "train = train.drop(columns=non_num)\n",
    "train.head()"
   ]
  },
  {
   "cell_type": "code",
   "execution_count": 208,
   "id": "43da88a9",
   "metadata": {
    "collapsed": true
   },
   "outputs": [
    {
     "data": {
      "text/plain": [
       "['gender_encoded',\n",
       " 'partner_encoded',\n",
       " 'dependents_encoded',\n",
       " 'phone_service_encoded',\n",
       " 'paperless_billing_encoded',\n",
       " 'churn_encoded',\n",
       " 'multiple_lines_No phone service',\n",
       " 'multiple_lines_Yes',\n",
       " 'online_security_No internet service',\n",
       " 'online_security_Yes',\n",
       " 'online_backup_No internet service',\n",
       " 'online_backup_Yes',\n",
       " 'binned_tenure_2years',\n",
       " 'binned_tenure_3years',\n",
       " 'binned_tenure_4years',\n",
       " 'binned_tenure_5years',\n",
       " 'binned_tenure_6years',\n",
       " 'device_protection_No internet service',\n",
       " 'device_protection_Yes',\n",
       " 'tech_support_No internet service',\n",
       " 'tech_support_Yes',\n",
       " 'streaming_tv_No internet service',\n",
       " 'streaming_tv_Yes',\n",
       " 'streaming_movies_No internet service',\n",
       " 'streaming_movies_Yes',\n",
       " 'contract_type_One year',\n",
       " 'contract_type_Two year',\n",
       " 'internet_service_type_Fiber optic',\n",
       " 'internet_service_type_None',\n",
       " 'payment_type_Credit card (automatic)',\n",
       " 'payment_type_Electronic check',\n",
       " 'payment_type_Mailed check']"
      ]
     },
     "execution_count": 208,
     "metadata": {},
     "output_type": "execute_result"
    }
   ],
   "source": [
    "train.columns.to_list()"
   ]
  },
  {
   "cell_type": "code",
   "execution_count": 209,
   "id": "8ab19c98",
   "metadata": {},
   "outputs": [
    {
     "data": {
      "text/html": [
       "<div>\n",
       "<style scoped>\n",
       "    .dataframe tbody tr th:only-of-type {\n",
       "        vertical-align: middle;\n",
       "    }\n",
       "\n",
       "    .dataframe tbody tr th {\n",
       "        vertical-align: top;\n",
       "    }\n",
       "\n",
       "    .dataframe thead th {\n",
       "        text-align: right;\n",
       "    }\n",
       "</style>\n",
       "<table border=\"1\" class=\"dataframe\">\n",
       "  <thead>\n",
       "    <tr style=\"text-align: right;\">\n",
       "      <th></th>\n",
       "      <th>gender_encoded</th>\n",
       "      <th>partner_encoded</th>\n",
       "      <th>dependents_encoded</th>\n",
       "      <th>phone_service_encoded</th>\n",
       "      <th>paperless_billing_encoded</th>\n",
       "      <th>churn_encoded</th>\n",
       "      <th>multiple_lines_No phone service</th>\n",
       "      <th>multiple_lines_Yes</th>\n",
       "      <th>online_security_No internet service</th>\n",
       "      <th>online_security_Yes</th>\n",
       "      <th>...</th>\n",
       "      <th>streaming_tv_Yes</th>\n",
       "      <th>streaming_movies_No internet service</th>\n",
       "      <th>streaming_movies_Yes</th>\n",
       "      <th>contract_type_One year</th>\n",
       "      <th>contract_type_Two year</th>\n",
       "      <th>internet_service_type_Fiber optic</th>\n",
       "      <th>internet_service_type_None</th>\n",
       "      <th>payment_type_Credit card (automatic)</th>\n",
       "      <th>payment_type_Electronic check</th>\n",
       "      <th>payment_type_Mailed check</th>\n",
       "    </tr>\n",
       "  </thead>\n",
       "  <tbody>\n",
       "    <tr>\n",
       "      <th>816</th>\n",
       "      <td>1</td>\n",
       "      <td>1</td>\n",
       "      <td>0</td>\n",
       "      <td>1</td>\n",
       "      <td>0</td>\n",
       "      <td>0</td>\n",
       "      <td>0</td>\n",
       "      <td>1</td>\n",
       "      <td>0</td>\n",
       "      <td>0</td>\n",
       "      <td>...</td>\n",
       "      <td>1</td>\n",
       "      <td>0</td>\n",
       "      <td>1</td>\n",
       "      <td>0</td>\n",
       "      <td>0</td>\n",
       "      <td>1</td>\n",
       "      <td>0</td>\n",
       "      <td>1</td>\n",
       "      <td>0</td>\n",
       "      <td>0</td>\n",
       "    </tr>\n",
       "    <tr>\n",
       "      <th>1488</th>\n",
       "      <td>1</td>\n",
       "      <td>1</td>\n",
       "      <td>0</td>\n",
       "      <td>1</td>\n",
       "      <td>0</td>\n",
       "      <td>0</td>\n",
       "      <td>0</td>\n",
       "      <td>1</td>\n",
       "      <td>0</td>\n",
       "      <td>1</td>\n",
       "      <td>...</td>\n",
       "      <td>1</td>\n",
       "      <td>0</td>\n",
       "      <td>1</td>\n",
       "      <td>0</td>\n",
       "      <td>1</td>\n",
       "      <td>0</td>\n",
       "      <td>0</td>\n",
       "      <td>1</td>\n",
       "      <td>0</td>\n",
       "      <td>0</td>\n",
       "    </tr>\n",
       "    <tr>\n",
       "      <th>4796</th>\n",
       "      <td>0</td>\n",
       "      <td>0</td>\n",
       "      <td>0</td>\n",
       "      <td>0</td>\n",
       "      <td>1</td>\n",
       "      <td>0</td>\n",
       "      <td>1</td>\n",
       "      <td>0</td>\n",
       "      <td>0</td>\n",
       "      <td>1</td>\n",
       "      <td>...</td>\n",
       "      <td>1</td>\n",
       "      <td>0</td>\n",
       "      <td>1</td>\n",
       "      <td>1</td>\n",
       "      <td>0</td>\n",
       "      <td>0</td>\n",
       "      <td>0</td>\n",
       "      <td>0</td>\n",
       "      <td>1</td>\n",
       "      <td>0</td>\n",
       "    </tr>\n",
       "    <tr>\n",
       "      <th>3213</th>\n",
       "      <td>1</td>\n",
       "      <td>1</td>\n",
       "      <td>1</td>\n",
       "      <td>1</td>\n",
       "      <td>0</td>\n",
       "      <td>0</td>\n",
       "      <td>0</td>\n",
       "      <td>0</td>\n",
       "      <td>1</td>\n",
       "      <td>0</td>\n",
       "      <td>...</td>\n",
       "      <td>0</td>\n",
       "      <td>1</td>\n",
       "      <td>0</td>\n",
       "      <td>0</td>\n",
       "      <td>1</td>\n",
       "      <td>0</td>\n",
       "      <td>1</td>\n",
       "      <td>0</td>\n",
       "      <td>0</td>\n",
       "      <td>1</td>\n",
       "    </tr>\n",
       "    <tr>\n",
       "      <th>5026</th>\n",
       "      <td>0</td>\n",
       "      <td>1</td>\n",
       "      <td>1</td>\n",
       "      <td>1</td>\n",
       "      <td>0</td>\n",
       "      <td>0</td>\n",
       "      <td>0</td>\n",
       "      <td>0</td>\n",
       "      <td>1</td>\n",
       "      <td>0</td>\n",
       "      <td>...</td>\n",
       "      <td>0</td>\n",
       "      <td>1</td>\n",
       "      <td>0</td>\n",
       "      <td>0</td>\n",
       "      <td>1</td>\n",
       "      <td>0</td>\n",
       "      <td>1</td>\n",
       "      <td>1</td>\n",
       "      <td>0</td>\n",
       "      <td>0</td>\n",
       "    </tr>\n",
       "  </tbody>\n",
       "</table>\n",
       "<p>5 rows × 32 columns</p>\n",
       "</div>"
      ],
      "text/plain": [
       "      gender_encoded  partner_encoded  dependents_encoded  \\\n",
       "816                1                1                   0   \n",
       "1488               1                1                   0   \n",
       "4796               0                0                   0   \n",
       "3213               1                1                   1   \n",
       "5026               0                1                   1   \n",
       "\n",
       "      phone_service_encoded  paperless_billing_encoded  churn_encoded  \\\n",
       "816                       1                          0              0   \n",
       "1488                      1                          0              0   \n",
       "4796                      0                          1              0   \n",
       "3213                      1                          0              0   \n",
       "5026                      1                          0              0   \n",
       "\n",
       "      multiple_lines_No phone service  multiple_lines_Yes  \\\n",
       "816                                 0                   1   \n",
       "1488                                0                   1   \n",
       "4796                                1                   0   \n",
       "3213                                0                   0   \n",
       "5026                                0                   0   \n",
       "\n",
       "      online_security_No internet service  online_security_Yes  ...  \\\n",
       "816                                     0                    0  ...   \n",
       "1488                                    0                    1  ...   \n",
       "4796                                    0                    1  ...   \n",
       "3213                                    1                    0  ...   \n",
       "5026                                    1                    0  ...   \n",
       "\n",
       "      streaming_tv_Yes  streaming_movies_No internet service  \\\n",
       "816                  1                                     0   \n",
       "1488                 1                                     0   \n",
       "4796                 1                                     0   \n",
       "3213                 0                                     1   \n",
       "5026                 0                                     1   \n",
       "\n",
       "      streaming_movies_Yes  contract_type_One year  contract_type_Two year  \\\n",
       "816                      1                       0                       0   \n",
       "1488                     1                       0                       1   \n",
       "4796                     1                       1                       0   \n",
       "3213                     0                       0                       1   \n",
       "5026                     0                       0                       1   \n",
       "\n",
       "      internet_service_type_Fiber optic  internet_service_type_None  \\\n",
       "816                                   1                           0   \n",
       "1488                                  0                           0   \n",
       "4796                                  0                           0   \n",
       "3213                                  0                           1   \n",
       "5026                                  0                           1   \n",
       "\n",
       "      payment_type_Credit card (automatic)  payment_type_Electronic check  \\\n",
       "816                                      1                              0   \n",
       "1488                                     1                              0   \n",
       "4796                                     0                              1   \n",
       "3213                                     0                              0   \n",
       "5026                                     1                              0   \n",
       "\n",
       "      payment_type_Mailed check  \n",
       "816                           0  \n",
       "1488                          0  \n",
       "4796                          0  \n",
       "3213                          1  \n",
       "5026                          0  \n",
       "\n",
       "[5 rows x 32 columns]"
      ]
     },
     "execution_count": 209,
     "metadata": {},
     "output_type": "execute_result"
    }
   ],
   "source": [
    "# I am going to drop all the non numeric columns\n",
    "\n",
    "non_num = ['gender',\n",
    " 'senior_citizen',\n",
    " 'partner',\n",
    " 'dependents',\n",
    " 'tenure',\n",
    " 'phone_service',\n",
    " 'multiple_lines',\n",
    " 'online_security',\n",
    " 'online_backup',\n",
    " 'device_protection',\n",
    " 'tech_support',\n",
    " 'streaming_tv',\n",
    " 'streaming_movies',\n",
    " 'paperless_billing',\n",
    " 'monthly_charges',\n",
    " 'total_charges',\n",
    " 'churn',\n",
    " 'contract_type',\n",
    " 'internet_service_type',\n",
    " 'payment_type',\n",
    " 'binned_tenure']\n",
    "\n",
    "validate = validate.drop(columns=non_num)\n",
    "validate.head()"
   ]
  },
  {
   "cell_type": "code",
   "execution_count": 210,
   "id": "0aa01ebf",
   "metadata": {},
   "outputs": [
    {
     "data": {
      "text/html": [
       "<div>\n",
       "<style scoped>\n",
       "    .dataframe tbody tr th:only-of-type {\n",
       "        vertical-align: middle;\n",
       "    }\n",
       "\n",
       "    .dataframe tbody tr th {\n",
       "        vertical-align: top;\n",
       "    }\n",
       "\n",
       "    .dataframe thead th {\n",
       "        text-align: right;\n",
       "    }\n",
       "</style>\n",
       "<table border=\"1\" class=\"dataframe\">\n",
       "  <thead>\n",
       "    <tr style=\"text-align: right;\">\n",
       "      <th></th>\n",
       "      <th>gender_encoded</th>\n",
       "      <th>partner_encoded</th>\n",
       "      <th>dependents_encoded</th>\n",
       "      <th>phone_service_encoded</th>\n",
       "      <th>paperless_billing_encoded</th>\n",
       "      <th>churn_encoded</th>\n",
       "      <th>multiple_lines_No phone service</th>\n",
       "      <th>multiple_lines_Yes</th>\n",
       "      <th>online_security_No internet service</th>\n",
       "      <th>online_security_Yes</th>\n",
       "      <th>...</th>\n",
       "      <th>streaming_tv_Yes</th>\n",
       "      <th>streaming_movies_No internet service</th>\n",
       "      <th>streaming_movies_Yes</th>\n",
       "      <th>contract_type_One year</th>\n",
       "      <th>contract_type_Two year</th>\n",
       "      <th>internet_service_type_Fiber optic</th>\n",
       "      <th>internet_service_type_None</th>\n",
       "      <th>payment_type_Credit card (automatic)</th>\n",
       "      <th>payment_type_Electronic check</th>\n",
       "      <th>payment_type_Mailed check</th>\n",
       "    </tr>\n",
       "  </thead>\n",
       "  <tbody>\n",
       "    <tr>\n",
       "      <th>3311</th>\n",
       "      <td>1</td>\n",
       "      <td>0</td>\n",
       "      <td>0</td>\n",
       "      <td>1</td>\n",
       "      <td>0</td>\n",
       "      <td>0</td>\n",
       "      <td>0</td>\n",
       "      <td>0</td>\n",
       "      <td>1</td>\n",
       "      <td>0</td>\n",
       "      <td>...</td>\n",
       "      <td>0</td>\n",
       "      <td>1</td>\n",
       "      <td>0</td>\n",
       "      <td>1</td>\n",
       "      <td>0</td>\n",
       "      <td>0</td>\n",
       "      <td>1</td>\n",
       "      <td>0</td>\n",
       "      <td>0</td>\n",
       "      <td>1</td>\n",
       "    </tr>\n",
       "    <tr>\n",
       "      <th>6330</th>\n",
       "      <td>0</td>\n",
       "      <td>1</td>\n",
       "      <td>1</td>\n",
       "      <td>1</td>\n",
       "      <td>0</td>\n",
       "      <td>0</td>\n",
       "      <td>0</td>\n",
       "      <td>1</td>\n",
       "      <td>1</td>\n",
       "      <td>0</td>\n",
       "      <td>...</td>\n",
       "      <td>0</td>\n",
       "      <td>1</td>\n",
       "      <td>0</td>\n",
       "      <td>0</td>\n",
       "      <td>1</td>\n",
       "      <td>0</td>\n",
       "      <td>1</td>\n",
       "      <td>1</td>\n",
       "      <td>0</td>\n",
       "      <td>0</td>\n",
       "    </tr>\n",
       "    <tr>\n",
       "      <th>6156</th>\n",
       "      <td>0</td>\n",
       "      <td>0</td>\n",
       "      <td>0</td>\n",
       "      <td>1</td>\n",
       "      <td>0</td>\n",
       "      <td>0</td>\n",
       "      <td>0</td>\n",
       "      <td>0</td>\n",
       "      <td>0</td>\n",
       "      <td>0</td>\n",
       "      <td>...</td>\n",
       "      <td>0</td>\n",
       "      <td>0</td>\n",
       "      <td>0</td>\n",
       "      <td>0</td>\n",
       "      <td>0</td>\n",
       "      <td>0</td>\n",
       "      <td>0</td>\n",
       "      <td>0</td>\n",
       "      <td>1</td>\n",
       "      <td>0</td>\n",
       "    </tr>\n",
       "    <tr>\n",
       "      <th>5313</th>\n",
       "      <td>0</td>\n",
       "      <td>0</td>\n",
       "      <td>0</td>\n",
       "      <td>1</td>\n",
       "      <td>0</td>\n",
       "      <td>0</td>\n",
       "      <td>0</td>\n",
       "      <td>0</td>\n",
       "      <td>0</td>\n",
       "      <td>0</td>\n",
       "      <td>...</td>\n",
       "      <td>0</td>\n",
       "      <td>0</td>\n",
       "      <td>0</td>\n",
       "      <td>0</td>\n",
       "      <td>0</td>\n",
       "      <td>1</td>\n",
       "      <td>0</td>\n",
       "      <td>0</td>\n",
       "      <td>1</td>\n",
       "      <td>0</td>\n",
       "    </tr>\n",
       "    <tr>\n",
       "      <th>1176</th>\n",
       "      <td>1</td>\n",
       "      <td>1</td>\n",
       "      <td>0</td>\n",
       "      <td>1</td>\n",
       "      <td>0</td>\n",
       "      <td>0</td>\n",
       "      <td>0</td>\n",
       "      <td>0</td>\n",
       "      <td>0</td>\n",
       "      <td>0</td>\n",
       "      <td>...</td>\n",
       "      <td>0</td>\n",
       "      <td>0</td>\n",
       "      <td>0</td>\n",
       "      <td>0</td>\n",
       "      <td>0</td>\n",
       "      <td>0</td>\n",
       "      <td>0</td>\n",
       "      <td>0</td>\n",
       "      <td>0</td>\n",
       "      <td>0</td>\n",
       "    </tr>\n",
       "  </tbody>\n",
       "</table>\n",
       "<p>5 rows × 32 columns</p>\n",
       "</div>"
      ],
      "text/plain": [
       "      gender_encoded  partner_encoded  dependents_encoded  \\\n",
       "3311               1                0                   0   \n",
       "6330               0                1                   1   \n",
       "6156               0                0                   0   \n",
       "5313               0                0                   0   \n",
       "1176               1                1                   0   \n",
       "\n",
       "      phone_service_encoded  paperless_billing_encoded  churn_encoded  \\\n",
       "3311                      1                          0              0   \n",
       "6330                      1                          0              0   \n",
       "6156                      1                          0              0   \n",
       "5313                      1                          0              0   \n",
       "1176                      1                          0              0   \n",
       "\n",
       "      multiple_lines_No phone service  multiple_lines_Yes  \\\n",
       "3311                                0                   0   \n",
       "6330                                0                   1   \n",
       "6156                                0                   0   \n",
       "5313                                0                   0   \n",
       "1176                                0                   0   \n",
       "\n",
       "      online_security_No internet service  online_security_Yes  ...  \\\n",
       "3311                                    1                    0  ...   \n",
       "6330                                    1                    0  ...   \n",
       "6156                                    0                    0  ...   \n",
       "5313                                    0                    0  ...   \n",
       "1176                                    0                    0  ...   \n",
       "\n",
       "      streaming_tv_Yes  streaming_movies_No internet service  \\\n",
       "3311                 0                                     1   \n",
       "6330                 0                                     1   \n",
       "6156                 0                                     0   \n",
       "5313                 0                                     0   \n",
       "1176                 0                                     0   \n",
       "\n",
       "      streaming_movies_Yes  contract_type_One year  contract_type_Two year  \\\n",
       "3311                     0                       1                       0   \n",
       "6330                     0                       0                       1   \n",
       "6156                     0                       0                       0   \n",
       "5313                     0                       0                       0   \n",
       "1176                     0                       0                       0   \n",
       "\n",
       "      internet_service_type_Fiber optic  internet_service_type_None  \\\n",
       "3311                                  0                           1   \n",
       "6330                                  0                           1   \n",
       "6156                                  0                           0   \n",
       "5313                                  1                           0   \n",
       "1176                                  0                           0   \n",
       "\n",
       "      payment_type_Credit card (automatic)  payment_type_Electronic check  \\\n",
       "3311                                     0                              0   \n",
       "6330                                     1                              0   \n",
       "6156                                     0                              1   \n",
       "5313                                     0                              1   \n",
       "1176                                     0                              0   \n",
       "\n",
       "      payment_type_Mailed check  \n",
       "3311                          1  \n",
       "6330                          0  \n",
       "6156                          0  \n",
       "5313                          0  \n",
       "1176                          0  \n",
       "\n",
       "[5 rows x 32 columns]"
      ]
     },
     "execution_count": 210,
     "metadata": {},
     "output_type": "execute_result"
    }
   ],
   "source": [
    "# I am going to drop all the non numeric columns\n",
    "\n",
    "non_num = ['gender',\n",
    " 'senior_citizen',\n",
    " 'partner',\n",
    " 'dependents',\n",
    " 'tenure',\n",
    " 'phone_service',\n",
    " 'multiple_lines',\n",
    " 'online_security',\n",
    " 'online_backup',\n",
    " 'device_protection',\n",
    " 'tech_support',\n",
    " 'streaming_tv',\n",
    " 'streaming_movies',\n",
    " 'paperless_billing',\n",
    " 'monthly_charges',\n",
    " 'total_charges',\n",
    " 'churn',\n",
    " 'contract_type',\n",
    " 'internet_service_type',\n",
    " 'payment_type',\n",
    " 'binned_tenure']\n",
    "\n",
    "test = test.drop(columns=non_num)\n",
    "test.head()"
   ]
  },
  {
   "cell_type": "code",
   "execution_count": 213,
   "id": "b2c7ffb8",
   "metadata": {},
   "outputs": [],
   "source": [
    "\n",
    "# create X & y version of train, where y is a series with just the target variable and X are all the features. \n",
    "\n",
    "X_train = train.drop(columns=['churn_encoded'])\n",
    "y_train = train.churn_encoded\n",
    "\n",
    "X_validate = validate.drop(columns=['churn_encoded'])\n",
    "y_validate = validate.churn_encoded\n",
    "\n",
    "X_test = test.drop(columns=['churn_encoded'])\n",
    "y_test = test.churn_encoded"
   ]
  },
  {
   "cell_type": "code",
   "execution_count": 236,
   "id": "11a9c2bc",
   "metadata": {},
   "outputs": [
    {
     "data": {
      "text/plain": [
       "0    73.0\n",
       "1    27.0\n",
       "Name: churn_encoded, dtype: float64"
      ]
     },
     "execution_count": 236,
     "metadata": {},
     "output_type": "execute_result"
    }
   ],
   "source": [
    "# Determining the proportion of not churned (0) vs churned (1)\n",
    "\n",
    "round(y_train.value_counts(normalize=True)*100)"
   ]
  },
  {
   "cell_type": "code",
   "execution_count": 216,
   "id": "b2de1b07",
   "metadata": {},
   "outputs": [],
   "source": [
    "# Using a decision Tree classifier, I will create a decision tree\n",
    "\n",
    "clf = DecisionTreeClassifier(max_depth=2, random_state=75)"
   ]
  },
  {
   "cell_type": "code",
   "execution_count": 220,
   "id": "05a1b21b",
   "metadata": {},
   "outputs": [],
   "source": [
    "clf = clf.fit(X_train, y_train)"
   ]
  },
  {
   "cell_type": "code",
   "execution_count": 221,
   "id": "d4ccc748",
   "metadata": {},
   "outputs": [
    {
     "data": {
      "text/plain": [
       "array([0, 1])"
      ]
     },
     "execution_count": 221,
     "metadata": {},
     "output_type": "execute_result"
    }
   ],
   "source": [
    "clf.classes_"
   ]
  },
  {
   "cell_type": "code",
   "execution_count": 222,
   "id": "9d780e09",
   "metadata": {},
   "outputs": [
    {
     "data": {
      "text/plain": [
       "[Text(474.30000000000007, 543.6, 'internet_service_type_Fiber optic <= 0.5\\ngini = 0.39\\nsamples = 3937\\nvalue = [2891, 1046]\\nclass = Did not churn'),\n",
       " Text(237.15000000000003, 326.16, 'contract_type_Two year <= 0.5\\ngini = 0.241\\nsamples = 2215\\nvalue = [1904, 311]\\nclass = Did not churn'),\n",
       " Text(118.57500000000002, 108.72000000000003, 'gini = 0.319\\nsamples = 1506\\nvalue = [1206, 300]\\nclass = Did not churn'),\n",
       " Text(355.725, 108.72000000000003, 'gini = 0.031\\nsamples = 709\\nvalue = [698, 11]\\nclass = Did not churn'),\n",
       " Text(711.45, 326.16, 'binned_tenure_6years <= 0.5\\ngini = 0.489\\nsamples = 1722\\nvalue = [987, 735]\\nclass = Did not churn'),\n",
       " Text(592.8750000000001, 108.72000000000003, 'gini = 0.5\\nsamples = 1355\\nvalue = [667, 688]\\nclass = Churned'),\n",
       " Text(830.0250000000001, 108.72000000000003, 'gini = 0.223\\nsamples = 367\\nvalue = [320, 47]\\nclass = Did not churn')]"
      ]
     },
     "execution_count": 222,
     "metadata": {},
     "output_type": "execute_result"
    },
    {
     "data": {
      "image/png": "[encoded data removed]",
      "text/plain": [
       "<Figure size 1224x864 with 1 Axes>"
      ]
     },
     "metadata": {
      "needs_background": "light"
     },
     "output_type": "display_data"
    }
   ],
   "source": [
    "plt.figure(figsize=(17, 12))\n",
    "plot_tree(clf, feature_names=X_train.columns, class_names=['Did not churn', 'Churned'], rounded=True)"
   ]
  },
  {
   "cell_type": "code",
   "execution_count": 223,
   "id": "41beea15",
   "metadata": {},
   "outputs": [
    {
     "data": {
      "text/plain": [
       "array([0, 0, 0, 0, 0, 1, 0, 0, 1, 0])"
      ]
     },
     "execution_count": 223,
     "metadata": {},
     "output_type": "execute_result"
    }
   ],
   "source": [
    "# Evaluating the in-sample result with a prediction\n",
    "\n",
    "y_pred = clf.predict(X_train)\n",
    "y_pred[0:10]"
   ]
  },
  {
   "cell_type": "code",
   "execution_count": 224,
   "id": "41b300f1",
   "metadata": {},
   "outputs": [
    {
     "data": {
      "text/plain": [
       "array([[0.80079681, 0.19920319],\n",
       "       [0.8719346 , 0.1280654 ],\n",
       "       [0.80079681, 0.19920319],\n",
       "       [0.80079681, 0.19920319],\n",
       "       [0.80079681, 0.19920319],\n",
       "       [0.49225092, 0.50774908],\n",
       "       [0.98448519, 0.01551481],\n",
       "       [0.80079681, 0.19920319],\n",
       "       [0.49225092, 0.50774908],\n",
       "       [0.98448519, 0.01551481]])"
      ]
     },
     "execution_count": 224,
     "metadata": {},
     "output_type": "execute_result"
    }
   ],
   "source": [
    "# Calculating its probability\n",
    "\n",
    "y_pred_proba = clf.predict_proba(X_train)\n",
    "y_pred_proba[0:10]"
   ]
  },
  {
   "cell_type": "code",
   "execution_count": 225,
   "id": "1951aa52",
   "metadata": {},
   "outputs": [
    {
     "data": {
      "text/plain": [
       "'0.7396494792989586'"
      ]
     },
     "execution_count": 225,
     "metadata": {},
     "output_type": "execute_result"
    }
   ],
   "source": [
    "# Then its accuracy\n",
    "\n",
    "format(clf.score(X_train, y_train))"
   ]
  },
  {
   "cell_type": "code",
   "execution_count": 230,
   "id": "b03540c1",
   "metadata": {},
   "outputs": [
    {
     "data": {
      "text/html": [
       "<div>\n",
       "<style scoped>\n",
       "    .dataframe tbody tr th:only-of-type {\n",
       "        vertical-align: middle;\n",
       "    }\n",
       "\n",
       "    .dataframe tbody tr th {\n",
       "        vertical-align: top;\n",
       "    }\n",
       "\n",
       "    .dataframe thead th {\n",
       "        text-align: right;\n",
       "    }\n",
       "</style>\n",
       "<table border=\"1\" class=\"dataframe\">\n",
       "  <thead>\n",
       "    <tr style=\"text-align: right;\">\n",
       "      <th></th>\n",
       "      <th>0</th>\n",
       "      <th>1</th>\n",
       "    </tr>\n",
       "  </thead>\n",
       "  <tbody>\n",
       "    <tr>\n",
       "      <th>0</th>\n",
       "      <td>2224</td>\n",
       "      <td>667</td>\n",
       "    </tr>\n",
       "    <tr>\n",
       "      <th>1</th>\n",
       "      <td>358</td>\n",
       "      <td>688</td>\n",
       "    </tr>\n",
       "  </tbody>\n",
       "</table>\n",
       "</div>"
      ],
      "text/plain": [
       "      0    1\n",
       "0  2224  667\n",
       "1   358  688"
      ]
     },
     "execution_count": 230,
     "metadata": {},
     "output_type": "execute_result"
    }
   ],
   "source": [
    "# Running a classification report matrix to find out more\n",
    "\n",
    "\n",
    "pd.DataFrame(confusion_matrix(y_train, y_pred))"
   ]
  },
  {
   "cell_type": "code",
   "execution_count": 231,
   "id": "a2f2a281",
   "metadata": {},
   "outputs": [
    {
     "name": "stdout",
     "output_type": "stream",
     "text": [
      "              precision    recall  f1-score   support\n",
      "\n",
      "           0       0.86      0.77      0.81      2891\n",
      "           1       0.51      0.66      0.57      1046\n",
      "\n",
      "    accuracy                           0.74      3937\n",
      "   macro avg       0.68      0.71      0.69      3937\n",
      "weighted avg       0.77      0.74      0.75      3937\n",
      "\n"
     ]
    }
   ],
   "source": [
    "print(classification_report(y_train, y_pred))"
   ]
  },
  {
   "cell_type": "code",
   "execution_count": 233,
   "id": "9ca3c480",
   "metadata": {},
   "outputs": [
    {
     "name": "stdout",
     "output_type": "stream",
     "text": [
      "DecisionTree depth 2\n",
      "\n",
      "                     0            1  accuracy    macro avg  weighted avg\n",
      "precision     0.861348     0.507749  0.739649     0.684548      0.767402\n",
      "recall        0.769284     0.657744  0.739649     0.713514      0.739649\n",
      "f1-score      0.812717     0.573095  0.739649     0.692906      0.749053\n",
      "support    2891.000000  1046.000000  0.739649  3937.000000   3937.000000\n",
      "\n",
      "=======================\n",
      "\n",
      "DecisionTree depth 3\n",
      "\n",
      "                     0            1  accuracy    macro avg  weighted avg\n",
      "precision     0.857555     0.559278  0.769368     0.708417      0.778308\n",
      "recall        0.822553     0.622371  0.769368     0.722462      0.769368\n",
      "f1-score      0.839689     0.589140  0.769368     0.714415      0.773122\n",
      "support    2891.000000  1046.000000  0.769368  3937.000000   3937.000000\n",
      "\n",
      "=======================\n",
      "\n",
      "DecisionTree depth 4\n",
      "\n",
      "                     0            1  accuracy    macro avg  weighted avg\n",
      "precision     0.857850     0.580703  0.779782     0.719277      0.784216\n",
      "recall        0.839156     0.615679  0.779782     0.727417      0.779782\n",
      "f1-score      0.848400     0.597680  0.779782     0.723040      0.781788\n",
      "support    2891.000000  1046.000000  0.779782  3937.000000   3937.000000\n",
      "\n",
      "=======================\n",
      "\n",
      "DecisionTree depth 5\n",
      "\n",
      "                     0            1  accuracy    macro avg  weighted avg\n",
      "precision     0.842843     0.611702  0.787656     0.727272      0.781432\n",
      "recall        0.873746     0.549713  0.787656     0.711730      0.787656\n",
      "f1-score      0.858016     0.579053  0.787656     0.718535      0.783900\n",
      "support    2891.000000  1046.000000  0.787656  3937.000000   3937.000000\n",
      "\n",
      "=======================\n",
      "\n",
      "DecisionTree depth 6\n",
      "\n",
      "                     0            1  accuracy    macro avg  weighted avg\n",
      "precision     0.842711     0.632517  0.794768     0.737614      0.786866\n",
      "recall        0.885853     0.543021  0.794768     0.714437      0.794768\n",
      "f1-score      0.863744     0.584362  0.794768     0.724053      0.789516\n",
      "support    2891.000000  1046.000000  0.794768  3937.000000   3937.000000\n",
      "\n",
      "=======================\n",
      "\n",
      "DecisionTree depth 7\n",
      "\n",
      "                     0            1  accuracy    macro avg  weighted avg\n",
      "precision     0.855750     0.640706   0.80315     0.748228      0.798616\n",
      "recall        0.880318     0.589866   0.80315     0.735092      0.803150\n",
      "f1-score      0.867860     0.614236   0.80315     0.741048      0.800476\n",
      "support    2891.000000  1046.000000   0.80315  3937.000000   3937.000000\n",
      "\n",
      "=======================\n",
      "\n",
      "DecisionTree depth 8\n",
      "\n",
      "                     0            1  accuracy    macro avg  weighted avg\n",
      "precision     0.875958     0.646673  0.813818     0.761316      0.815041\n",
      "recall        0.869595     0.659656  0.813818     0.764626      0.813818\n",
      "f1-score      0.872765     0.653100  0.813818     0.762933      0.814403\n",
      "support    2891.000000  1046.000000  0.813818  3937.000000   3937.000000\n",
      "\n",
      "=======================\n",
      "\n",
      "DecisionTree depth 9\n",
      "\n",
      "                     0            1  accuracy    macro avg  weighted avg\n",
      "precision     0.871011     0.689583  0.826772     0.780297      0.822809\n",
      "recall        0.896921     0.632887  0.826772     0.764904      0.826772\n",
      "f1-score      0.883776     0.660020  0.826772     0.771898      0.824328\n",
      "support    2891.000000  1046.000000  0.826772  3937.000000   3937.000000\n",
      "\n",
      "=======================\n",
      "\n",
      "DecisionTree depth 10\n",
      "\n",
      "                     0            1  accuracy    macro avg  weighted avg\n",
      "precision     0.892488     0.709179  0.844298     0.800833      0.843786\n",
      "recall        0.895884     0.701721  0.844298     0.798802      0.844298\n",
      "f1-score      0.894183     0.705430  0.844298     0.799806      0.844034\n",
      "support    2891.000000  1046.000000  0.844298  3937.000000   3937.000000\n",
      "\n",
      "=======================\n",
      "\n"
     ]
    }
   ],
   "source": [
    "# Running several other model to see which one has the \n",
    "\n",
    "X_train_i = train.drop(columns=['churn_encoded'])\n",
    "y_train_i = train.churn_encoded\n",
    "\n",
    "for i in range(2, 11):\n",
    "    best_depth = DecisionTreeClassifier(max_depth=i, random_state=175)\n",
    "\n",
    "    best_depth = best_depth.fit(X_train_i, y_train_i)\n",
    "\n",
    "    y_pred_i = best_depth.predict(X_train)\n",
    "\n",
    "    report_i = classification_report(y_train, y_pred_i, output_dict=True)\n",
    "    print(f'DecisionTree depth {i}\\n')\n",
    "    print(pd.DataFrame(report_i))\n",
    "    print('\\n=======================\\n')"
   ]
  },
  {
   "cell_type": "markdown",
   "id": "0daf1d7c",
   "metadata": {},
   "source": [
    "## K-Nearest Neighbor"
   ]
  },
  {
   "cell_type": "code",
   "execution_count": null,
   "id": "338a10fc",
   "metadata": {},
   "outputs": [],
   "source": []
  }
 ],
 "metadata": {
  "kernelspec": {
   "display_name": "Python 3 (ipykernel)",
   "language": "python",
   "name": "python3"
  },
  "language_info": {
   "codemirror_mode": {
    "name": "ipython",
    "version": 3
   },
   "file_extension": ".py",
   "mimetype": "text/x-python",
   "name": "python",
   "nbconvert_exporter": "python",
   "pygments_lexer": "ipython3",
   "version": "3.9.7"
  }
 },
 "nbformat": 4,
 "nbformat_minor": 5
}
