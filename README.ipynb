{
 "cells": [
  {
   "cell_type": "markdown",
   "id": "ef86d43a",
   "metadata": {},
   "source": [
    "# The Man in a Hole project or A Way Against Customer Churn Cycle\n",
    "\n",
    "## Project objectives\n",
    "\n",
    "  - Document code, process (data acquistion, preparation, exploratory data analysis and statistical testing, modeling, and model evaluation),\n",
    "  findings, and key takeaways in a Jupyter Notebook report.\n",
    "  - Create modules (acquire.py, prepare.py) that make your process repeateable.\n",
    "  - Ask exploratory questions of your data that will help you understand more about the attributes and drivers of customers churning \n",
    "  by using charts and statistical tests.\n",
    "  - Construct a model to predict customer churn using classification techniques.\n",
    "  - Deliver a 5 minute target-audience-appropriate presentation consisting of a high-level notebook walkthrough \n",
    "  using your Jupyter Notebook from above.\n",
    "  - Answer questions of my audience.\n",
    "## Business Goals\n",
    "  - Find drivers for customer churn at Telco.\n",
    "  - Construct a ML classification model that accurately predicts customer churn.\n",
    "  - Deliver a report that a non-data scientist can read through and understand what steps were taken, why and what the outcome was.\n",
    "## Audience\n",
    "  - CodeUp students and instructors\n",
    "## Project Deliverables\n",
    "  - A final report notebook\n",
    "  - A final presentation\n",
    "  - Modules to make my project reproducible:\n",
    "    * An acquire.py file\n",
    "    * A prepare.py file\n",
    "    * Explanation for the env.py module\n",
    "    * A Readme (.md) file\n",
    "  - A Predictions (.csv) file"
   ]
  }
 ],
 "metadata": {
  "kernelspec": {
   "display_name": "Python 3 (ipykernel)",
   "language": "python",
   "name": "python3"
  },
  "language_info": {
   "codemirror_mode": {
    "name": "ipython",
    "version": 3
   },
   "file_extension": ".py",
   "mimetype": "text/x-python",
   "name": "python",
   "nbconvert_exporter": "python",
   "pygments_lexer": "ipython3",
   "version": "3.9.7"
  }
 },
 "nbformat": 4,
 "nbformat_minor": 5
}
