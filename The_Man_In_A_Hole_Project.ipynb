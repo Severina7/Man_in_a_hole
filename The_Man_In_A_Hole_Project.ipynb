{
 "cells": [
  {
   "cell_type": "markdown",
   "id": "f51d6e9f",
   "metadata": {},
   "source": [
    "# Acquisition Phase"
   ]
  },
  {
   "cell_type": "code",
   "execution_count": 1,
   "id": "7cf001ab",
   "metadata": {},
   "outputs": [],
   "source": [
    "# Importing all necessary modules and functions for the project\n",
    "\n",
    "import warnings\n",
    "warnings.filterwarnings(\"ignore\")\n",
    "\n",
    "import pandas as pd\n",
    "import numpy as np\n",
    "import os\n",
    "\n",
    "import matplotlib.pyplot as plt\n",
    "import seaborn as sns\n",
    "import scipy.stats\n",
    "from pydataset import data\n",
    "\n",
    "from sklearn.model_selection import train_test_split\n",
    "from sklearn.tree import DecisionTreeClassifier, plot_tree\n",
    "from sklearn.neighbors import KNeighborsClassifier\n",
    "from sklearn.ensemble import RandomForestClassifier\n",
    "from sklearn.linear_model import LogisticRegression\n",
    "\n",
    "from sklearn.metrics import classification_report\n",
    "from sklearn.metrics import confusion_matrix\n",
    "\n",
    "from scipy import stats\n",
    "\n",
    "import acquire\n",
    "import prepare"
   ]
  },
  {
   "cell_type": "markdown",
   "id": "184469b2",
   "metadata": {},
   "source": [
    "### <font color=\"blue\">The acquire module below uses an env.py file that has my log in info to get the csv file from the Codeup DataBase (db)</font>"
   ]
  },
  {
   "cell_type": "code",
   "execution_count": 2,
   "id": "1a31c408",
   "metadata": {},
   "outputs": [
    {
     "data": {
      "text/html": [
       "<div>\n",
       "<style scoped>\n",
       "    .dataframe tbody tr th:only-of-type {\n",
       "        vertical-align: middle;\n",
       "    }\n",
       "\n",
       "    .dataframe tbody tr th {\n",
       "        vertical-align: top;\n",
       "    }\n",
       "\n",
       "    .dataframe thead th {\n",
       "        text-align: right;\n",
       "    }\n",
       "</style>\n",
       "<table border=\"1\" class=\"dataframe\">\n",
       "  <thead>\n",
       "    <tr style=\"text-align: right;\">\n",
       "      <th></th>\n",
       "      <th>payment_type_id</th>\n",
       "      <th>internet_service_type_id</th>\n",
       "      <th>contract_type_id</th>\n",
       "      <th>customer_id</th>\n",
       "      <th>gender</th>\n",
       "      <th>senior_citizen</th>\n",
       "      <th>partner</th>\n",
       "      <th>dependents</th>\n",
       "      <th>tenure</th>\n",
       "      <th>phone_service</th>\n",
       "      <th>...</th>\n",
       "      <th>tech_support</th>\n",
       "      <th>streaming_tv</th>\n",
       "      <th>streaming_movies</th>\n",
       "      <th>paperless_billing</th>\n",
       "      <th>monthly_charges</th>\n",
       "      <th>total_charges</th>\n",
       "      <th>churn</th>\n",
       "      <th>contract_type</th>\n",
       "      <th>internet_service_type</th>\n",
       "      <th>payment_type</th>\n",
       "    </tr>\n",
       "  </thead>\n",
       "  <tbody>\n",
       "    <tr>\n",
       "      <th>0</th>\n",
       "      <td>2</td>\n",
       "      <td>1</td>\n",
       "      <td>2</td>\n",
       "      <td>0002-ORFBO</td>\n",
       "      <td>Female</td>\n",
       "      <td>0</td>\n",
       "      <td>Yes</td>\n",
       "      <td>Yes</td>\n",
       "      <td>9</td>\n",
       "      <td>Yes</td>\n",
       "      <td>...</td>\n",
       "      <td>Yes</td>\n",
       "      <td>Yes</td>\n",
       "      <td>No</td>\n",
       "      <td>Yes</td>\n",
       "      <td>65.6</td>\n",
       "      <td>593.3</td>\n",
       "      <td>No</td>\n",
       "      <td>One year</td>\n",
       "      <td>DSL</td>\n",
       "      <td>Mailed check</td>\n",
       "    </tr>\n",
       "    <tr>\n",
       "      <th>1</th>\n",
       "      <td>2</td>\n",
       "      <td>1</td>\n",
       "      <td>1</td>\n",
       "      <td>0003-MKNFE</td>\n",
       "      <td>Male</td>\n",
       "      <td>0</td>\n",
       "      <td>No</td>\n",
       "      <td>No</td>\n",
       "      <td>9</td>\n",
       "      <td>Yes</td>\n",
       "      <td>...</td>\n",
       "      <td>No</td>\n",
       "      <td>No</td>\n",
       "      <td>Yes</td>\n",
       "      <td>No</td>\n",
       "      <td>59.9</td>\n",
       "      <td>542.4</td>\n",
       "      <td>No</td>\n",
       "      <td>Month-to-month</td>\n",
       "      <td>DSL</td>\n",
       "      <td>Mailed check</td>\n",
       "    </tr>\n",
       "    <tr>\n",
       "      <th>2</th>\n",
       "      <td>1</td>\n",
       "      <td>2</td>\n",
       "      <td>1</td>\n",
       "      <td>0004-TLHLJ</td>\n",
       "      <td>Male</td>\n",
       "      <td>0</td>\n",
       "      <td>No</td>\n",
       "      <td>No</td>\n",
       "      <td>4</td>\n",
       "      <td>Yes</td>\n",
       "      <td>...</td>\n",
       "      <td>No</td>\n",
       "      <td>No</td>\n",
       "      <td>No</td>\n",
       "      <td>Yes</td>\n",
       "      <td>73.9</td>\n",
       "      <td>280.85</td>\n",
       "      <td>Yes</td>\n",
       "      <td>Month-to-month</td>\n",
       "      <td>Fiber optic</td>\n",
       "      <td>Electronic check</td>\n",
       "    </tr>\n",
       "    <tr>\n",
       "      <th>3</th>\n",
       "      <td>1</td>\n",
       "      <td>2</td>\n",
       "      <td>1</td>\n",
       "      <td>0011-IGKFF</td>\n",
       "      <td>Male</td>\n",
       "      <td>1</td>\n",
       "      <td>Yes</td>\n",
       "      <td>No</td>\n",
       "      <td>13</td>\n",
       "      <td>Yes</td>\n",
       "      <td>...</td>\n",
       "      <td>No</td>\n",
       "      <td>Yes</td>\n",
       "      <td>Yes</td>\n",
       "      <td>Yes</td>\n",
       "      <td>98.0</td>\n",
       "      <td>1237.85</td>\n",
       "      <td>Yes</td>\n",
       "      <td>Month-to-month</td>\n",
       "      <td>Fiber optic</td>\n",
       "      <td>Electronic check</td>\n",
       "    </tr>\n",
       "    <tr>\n",
       "      <th>4</th>\n",
       "      <td>2</td>\n",
       "      <td>2</td>\n",
       "      <td>1</td>\n",
       "      <td>0013-EXCHZ</td>\n",
       "      <td>Female</td>\n",
       "      <td>1</td>\n",
       "      <td>Yes</td>\n",
       "      <td>No</td>\n",
       "      <td>3</td>\n",
       "      <td>Yes</td>\n",
       "      <td>...</td>\n",
       "      <td>Yes</td>\n",
       "      <td>Yes</td>\n",
       "      <td>No</td>\n",
       "      <td>Yes</td>\n",
       "      <td>83.9</td>\n",
       "      <td>267.4</td>\n",
       "      <td>Yes</td>\n",
       "      <td>Month-to-month</td>\n",
       "      <td>Fiber optic</td>\n",
       "      <td>Mailed check</td>\n",
       "    </tr>\n",
       "  </tbody>\n",
       "</table>\n",
       "<p>5 rows × 24 columns</p>\n",
       "</div>"
      ],
      "text/plain": [
       "   payment_type_id  internet_service_type_id  contract_type_id customer_id  \\\n",
       "0                2                         1                 2  0002-ORFBO   \n",
       "1                2                         1                 1  0003-MKNFE   \n",
       "2                1                         2                 1  0004-TLHLJ   \n",
       "3                1                         2                 1  0011-IGKFF   \n",
       "4                2                         2                 1  0013-EXCHZ   \n",
       "\n",
       "   gender  senior_citizen partner dependents  tenure phone_service  ...  \\\n",
       "0  Female               0     Yes        Yes       9           Yes  ...   \n",
       "1    Male               0      No         No       9           Yes  ...   \n",
       "2    Male               0      No         No       4           Yes  ...   \n",
       "3    Male               1     Yes         No      13           Yes  ...   \n",
       "4  Female               1     Yes         No       3           Yes  ...   \n",
       "\n",
       "  tech_support streaming_tv streaming_movies paperless_billing  \\\n",
       "0          Yes          Yes               No               Yes   \n",
       "1           No           No              Yes                No   \n",
       "2           No           No               No               Yes   \n",
       "3           No          Yes              Yes               Yes   \n",
       "4          Yes          Yes               No               Yes   \n",
       "\n",
       "  monthly_charges total_charges churn   contract_type  internet_service_type  \\\n",
       "0            65.6         593.3    No        One year                    DSL   \n",
       "1            59.9         542.4    No  Month-to-month                    DSL   \n",
       "2            73.9        280.85   Yes  Month-to-month            Fiber optic   \n",
       "3            98.0       1237.85   Yes  Month-to-month            Fiber optic   \n",
       "4            83.9         267.4   Yes  Month-to-month            Fiber optic   \n",
       "\n",
       "       payment_type  \n",
       "0      Mailed check  \n",
       "1      Mailed check  \n",
       "2  Electronic check  \n",
       "3  Electronic check  \n",
       "4      Mailed check  \n",
       "\n",
       "[5 rows x 24 columns]"
      ]
     },
     "execution_count": 2,
     "metadata": {},
     "output_type": "execute_result"
    }
   ],
   "source": [
    "# Accessing the file and writing it into a CSV file on my computer\n",
    "\n",
    "telco = acquire.get_telco_data()\n",
    "telco.head()"
   ]
  },
  {
   "cell_type": "markdown",
   "id": "3c415602",
   "metadata": {},
   "source": [
    "# Preparation Phase"
   ]
  },
  {
   "cell_type": "markdown",
   "id": "494638f7",
   "metadata": {},
   "source": [
    "### <font color=\"blue\">The prepare module does the following:\n",
    "    - drops duplicate columns\n",
    "    - drops null values that do not affect the outcome of the modeling process\n",
    "    - Bins the tenure columns for a more succint visualization\n",
    "    - Converts binary and non-binary categorical variables to numeric through manuak encoding and one-hot encoding\n",
    "    - Splits the data into train, validate, and test groups</font>"
   ]
  },
  {
   "cell_type": "code",
   "execution_count": 3,
   "id": "540da14b",
   "metadata": {},
   "outputs": [],
   "source": [
    "train, validate, test = prepare.prep_telco_data(telco)"
   ]
  },
  {
   "cell_type": "code",
   "execution_count": 4,
   "id": "6e4cc8ba",
   "metadata": {},
   "outputs": [
    {
     "data": {
      "text/html": [
       "<div>\n",
       "<style scoped>\n",
       "    .dataframe tbody tr th:only-of-type {\n",
       "        vertical-align: middle;\n",
       "    }\n",
       "\n",
       "    .dataframe tbody tr th {\n",
       "        vertical-align: top;\n",
       "    }\n",
       "\n",
       "    .dataframe thead th {\n",
       "        text-align: right;\n",
       "    }\n",
       "</style>\n",
       "<table border=\"1\" class=\"dataframe\">\n",
       "  <thead>\n",
       "    <tr style=\"text-align: right;\">\n",
       "      <th></th>\n",
       "      <th>gender</th>\n",
       "      <th>senior_citizen</th>\n",
       "      <th>partner</th>\n",
       "      <th>dependents</th>\n",
       "      <th>tenure</th>\n",
       "      <th>phone_service</th>\n",
       "      <th>multiple_lines</th>\n",
       "      <th>online_security</th>\n",
       "      <th>online_backup</th>\n",
       "      <th>device_protection</th>\n",
       "      <th>...</th>\n",
       "      <th>streaming_tv_Yes</th>\n",
       "      <th>streaming_movies_No internet service</th>\n",
       "      <th>streaming_movies_Yes</th>\n",
       "      <th>contract_type_One year</th>\n",
       "      <th>contract_type_Two year</th>\n",
       "      <th>internet_service_type_Fiber optic</th>\n",
       "      <th>internet_service_type_None</th>\n",
       "      <th>payment_type_Credit card (automatic)</th>\n",
       "      <th>payment_type_Electronic check</th>\n",
       "      <th>payment_type_Mailed check</th>\n",
       "    </tr>\n",
       "  </thead>\n",
       "  <tbody>\n",
       "    <tr>\n",
       "      <th>5919</th>\n",
       "      <td>Female</td>\n",
       "      <td>0</td>\n",
       "      <td>No</td>\n",
       "      <td>No</td>\n",
       "      <td>58</td>\n",
       "      <td>Yes</td>\n",
       "      <td>Yes</td>\n",
       "      <td>Yes</td>\n",
       "      <td>Yes</td>\n",
       "      <td>Yes</td>\n",
       "      <td>...</td>\n",
       "      <td>0</td>\n",
       "      <td>0</td>\n",
       "      <td>0</td>\n",
       "      <td>1</td>\n",
       "      <td>0</td>\n",
       "      <td>0</td>\n",
       "      <td>0</td>\n",
       "      <td>1</td>\n",
       "      <td>0</td>\n",
       "      <td>0</td>\n",
       "    </tr>\n",
       "    <tr>\n",
       "      <th>1915</th>\n",
       "      <td>Male</td>\n",
       "      <td>0</td>\n",
       "      <td>No</td>\n",
       "      <td>Yes</td>\n",
       "      <td>71</td>\n",
       "      <td>Yes</td>\n",
       "      <td>Yes</td>\n",
       "      <td>Yes</td>\n",
       "      <td>Yes</td>\n",
       "      <td>No</td>\n",
       "      <td>...</td>\n",
       "      <td>0</td>\n",
       "      <td>0</td>\n",
       "      <td>0</td>\n",
       "      <td>1</td>\n",
       "      <td>0</td>\n",
       "      <td>1</td>\n",
       "      <td>0</td>\n",
       "      <td>1</td>\n",
       "      <td>0</td>\n",
       "      <td>0</td>\n",
       "    </tr>\n",
       "    <tr>\n",
       "      <th>5054</th>\n",
       "      <td>Female</td>\n",
       "      <td>0</td>\n",
       "      <td>Yes</td>\n",
       "      <td>Yes</td>\n",
       "      <td>35</td>\n",
       "      <td>Yes</td>\n",
       "      <td>Yes</td>\n",
       "      <td>No internet service</td>\n",
       "      <td>No internet service</td>\n",
       "      <td>No internet service</td>\n",
       "      <td>...</td>\n",
       "      <td>0</td>\n",
       "      <td>1</td>\n",
       "      <td>0</td>\n",
       "      <td>0</td>\n",
       "      <td>0</td>\n",
       "      <td>0</td>\n",
       "      <td>1</td>\n",
       "      <td>0</td>\n",
       "      <td>1</td>\n",
       "      <td>0</td>\n",
       "    </tr>\n",
       "    <tr>\n",
       "      <th>2355</th>\n",
       "      <td>Male</td>\n",
       "      <td>0</td>\n",
       "      <td>Yes</td>\n",
       "      <td>Yes</td>\n",
       "      <td>1</td>\n",
       "      <td>Yes</td>\n",
       "      <td>No</td>\n",
       "      <td>No internet service</td>\n",
       "      <td>No internet service</td>\n",
       "      <td>No internet service</td>\n",
       "      <td>...</td>\n",
       "      <td>0</td>\n",
       "      <td>1</td>\n",
       "      <td>0</td>\n",
       "      <td>0</td>\n",
       "      <td>0</td>\n",
       "      <td>0</td>\n",
       "      <td>1</td>\n",
       "      <td>0</td>\n",
       "      <td>0</td>\n",
       "      <td>1</td>\n",
       "    </tr>\n",
       "    <tr>\n",
       "      <th>6279</th>\n",
       "      <td>Male</td>\n",
       "      <td>1</td>\n",
       "      <td>No</td>\n",
       "      <td>No</td>\n",
       "      <td>20</td>\n",
       "      <td>Yes</td>\n",
       "      <td>No</td>\n",
       "      <td>Yes</td>\n",
       "      <td>No</td>\n",
       "      <td>No</td>\n",
       "      <td>...</td>\n",
       "      <td>0</td>\n",
       "      <td>0</td>\n",
       "      <td>0</td>\n",
       "      <td>1</td>\n",
       "      <td>0</td>\n",
       "      <td>0</td>\n",
       "      <td>0</td>\n",
       "      <td>0</td>\n",
       "      <td>0</td>\n",
       "      <td>1</td>\n",
       "    </tr>\n",
       "  </tbody>\n",
       "</table>\n",
       "<p>5 rows × 53 columns</p>\n",
       "</div>"
      ],
      "text/plain": [
       "      gender  senior_citizen partner dependents  tenure phone_service  \\\n",
       "5919  Female               0      No         No      58           Yes   \n",
       "1915    Male               0      No        Yes      71           Yes   \n",
       "5054  Female               0     Yes        Yes      35           Yes   \n",
       "2355    Male               0     Yes        Yes       1           Yes   \n",
       "6279    Male               1      No         No      20           Yes   \n",
       "\n",
       "     multiple_lines      online_security        online_backup  \\\n",
       "5919            Yes                  Yes                  Yes   \n",
       "1915            Yes                  Yes                  Yes   \n",
       "5054            Yes  No internet service  No internet service   \n",
       "2355             No  No internet service  No internet service   \n",
       "6279             No                  Yes                   No   \n",
       "\n",
       "        device_protection  ... streaming_tv_Yes  \\\n",
       "5919                  Yes  ...                0   \n",
       "1915                   No  ...                0   \n",
       "5054  No internet service  ...                0   \n",
       "2355  No internet service  ...                0   \n",
       "6279                   No  ...                0   \n",
       "\n",
       "     streaming_movies_No internet service streaming_movies_Yes  \\\n",
       "5919                                    0                    0   \n",
       "1915                                    0                    0   \n",
       "5054                                    1                    0   \n",
       "2355                                    1                    0   \n",
       "6279                                    0                    0   \n",
       "\n",
       "     contract_type_One year  contract_type_Two year  \\\n",
       "5919                      1                       0   \n",
       "1915                      1                       0   \n",
       "5054                      0                       0   \n",
       "2355                      0                       0   \n",
       "6279                      1                       0   \n",
       "\n",
       "      internet_service_type_Fiber optic internet_service_type_None  \\\n",
       "5919                                  0                          0   \n",
       "1915                                  1                          0   \n",
       "5054                                  0                          1   \n",
       "2355                                  0                          1   \n",
       "6279                                  0                          0   \n",
       "\n",
       "     payment_type_Credit card (automatic) payment_type_Electronic check  \\\n",
       "5919                                    1                             0   \n",
       "1915                                    1                             0   \n",
       "5054                                    0                             1   \n",
       "2355                                    0                             0   \n",
       "6279                                    0                             0   \n",
       "\n",
       "     payment_type_Mailed check  \n",
       "5919                         0  \n",
       "1915                         0  \n",
       "5054                         0  \n",
       "2355                         1  \n",
       "6279                         1  \n",
       "\n",
       "[5 rows x 53 columns]"
      ]
     },
     "execution_count": 4,
     "metadata": {},
     "output_type": "execute_result"
    }
   ],
   "source": [
    "train.head()"
   ]
  },
  {
   "cell_type": "markdown",
   "id": "07929ec1",
   "metadata": {},
   "source": [
    "# Exploration Phase"
   ]
  },
  {
   "cell_type": "markdown",
   "id": "aa89d117",
   "metadata": {},
   "source": [
    "### <font color=\"blue\">I quickly check for missing values (None or NaN ) and the integrity of the data</font>"
   ]
  },
  {
   "cell_type": "code",
   "execution_count": 5,
   "id": "1cfbbe7f",
   "metadata": {
    "collapsed": true
   },
   "outputs": [
    {
     "data": {
      "text/plain": [
       "gender                                   0\n",
       "senior_citizen                           0\n",
       "partner                                  0\n",
       "dependents                               0\n",
       "tenure                                   0\n",
       "phone_service                            0\n",
       "multiple_lines                           0\n",
       "online_security                          0\n",
       "online_backup                            0\n",
       "device_protection                        0\n",
       "tech_support                             0\n",
       "streaming_tv                             0\n",
       "streaming_movies                         0\n",
       "paperless_billing                        0\n",
       "monthly_charges                          0\n",
       "total_charges                            0\n",
       "churn                                    0\n",
       "contract_type                            0\n",
       "internet_service_type                    0\n",
       "payment_type                             0\n",
       "binned_tenure                            0\n",
       "gender_encoded                           0\n",
       "partner_encoded                          0\n",
       "dependents_encoded                       0\n",
       "phone_service_encoded                    0\n",
       "paperless_billing_encoded                0\n",
       "churn_encoded                            0\n",
       "multiple_lines_No phone service          0\n",
       "multiple_lines_Yes                       0\n",
       "online_security_No internet service      0\n",
       "online_security_Yes                      0\n",
       "online_backup_No internet service        0\n",
       "online_backup_Yes                        0\n",
       "binned_tenure_2years                     0\n",
       "binned_tenure_3years                     0\n",
       "binned_tenure_4years                     0\n",
       "binned_tenure_5years                     0\n",
       "binned_tenure_6years                     0\n",
       "device_protection_No internet service    0\n",
       "device_protection_Yes                    0\n",
       "tech_support_No internet service         0\n",
       "tech_support_Yes                         0\n",
       "streaming_tv_No internet service         0\n",
       "streaming_tv_Yes                         0\n",
       "streaming_movies_No internet service     0\n",
       "streaming_movies_Yes                     0\n",
       "contract_type_One year                   0\n",
       "contract_type_Two year                   0\n",
       "internet_service_type_Fiber optic        0\n",
       "internet_service_type_None               0\n",
       "payment_type_Credit card (automatic)     0\n",
       "payment_type_Electronic check            0\n",
       "payment_type_Mailed check                0\n",
       "dtype: int64"
      ]
     },
     "execution_count": 5,
     "metadata": {},
     "output_type": "execute_result"
    }
   ],
   "source": [
    "# Isna will confirm that I do not have \n",
    "\n",
    "train.isna().sum()"
   ]
  },
  {
   "cell_type": "code",
   "execution_count": 6,
   "id": "82572e58",
   "metadata": {},
   "outputs": [
    {
     "data": {
      "text/html": [
       "<div>\n",
       "<style scoped>\n",
       "    .dataframe tbody tr th:only-of-type {\n",
       "        vertical-align: middle;\n",
       "    }\n",
       "\n",
       "    .dataframe tbody tr th {\n",
       "        vertical-align: top;\n",
       "    }\n",
       "\n",
       "    .dataframe thead th {\n",
       "        text-align: right;\n",
       "    }\n",
       "</style>\n",
       "<table border=\"1\" class=\"dataframe\">\n",
       "  <thead>\n",
       "    <tr style=\"text-align: right;\">\n",
       "      <th></th>\n",
       "      <th>gender</th>\n",
       "      <th>senior_citizen</th>\n",
       "      <th>partner</th>\n",
       "      <th>dependents</th>\n",
       "      <th>tenure</th>\n",
       "      <th>phone_service</th>\n",
       "      <th>multiple_lines</th>\n",
       "      <th>online_security</th>\n",
       "      <th>online_backup</th>\n",
       "      <th>device_protection</th>\n",
       "      <th>...</th>\n",
       "      <th>streaming_tv_Yes</th>\n",
       "      <th>streaming_movies_No internet service</th>\n",
       "      <th>streaming_movies_Yes</th>\n",
       "      <th>contract_type_One year</th>\n",
       "      <th>contract_type_Two year</th>\n",
       "      <th>internet_service_type_Fiber optic</th>\n",
       "      <th>internet_service_type_None</th>\n",
       "      <th>payment_type_Credit card (automatic)</th>\n",
       "      <th>payment_type_Electronic check</th>\n",
       "      <th>payment_type_Mailed check</th>\n",
       "    </tr>\n",
       "  </thead>\n",
       "  <tbody>\n",
       "    <tr>\n",
       "      <th>816</th>\n",
       "      <td>Female</td>\n",
       "      <td>0</td>\n",
       "      <td>Yes</td>\n",
       "      <td>No</td>\n",
       "      <td>27</td>\n",
       "      <td>Yes</td>\n",
       "      <td>Yes</td>\n",
       "      <td>No</td>\n",
       "      <td>No</td>\n",
       "      <td>No</td>\n",
       "      <td>...</td>\n",
       "      <td>1</td>\n",
       "      <td>0</td>\n",
       "      <td>1</td>\n",
       "      <td>0</td>\n",
       "      <td>0</td>\n",
       "      <td>1</td>\n",
       "      <td>0</td>\n",
       "      <td>1</td>\n",
       "      <td>0</td>\n",
       "      <td>0</td>\n",
       "    </tr>\n",
       "    <tr>\n",
       "      <th>1488</th>\n",
       "      <td>Female</td>\n",
       "      <td>0</td>\n",
       "      <td>Yes</td>\n",
       "      <td>No</td>\n",
       "      <td>71</td>\n",
       "      <td>Yes</td>\n",
       "      <td>Yes</td>\n",
       "      <td>Yes</td>\n",
       "      <td>Yes</td>\n",
       "      <td>Yes</td>\n",
       "      <td>...</td>\n",
       "      <td>1</td>\n",
       "      <td>0</td>\n",
       "      <td>1</td>\n",
       "      <td>0</td>\n",
       "      <td>1</td>\n",
       "      <td>0</td>\n",
       "      <td>0</td>\n",
       "      <td>1</td>\n",
       "      <td>0</td>\n",
       "      <td>0</td>\n",
       "    </tr>\n",
       "    <tr>\n",
       "      <th>4796</th>\n",
       "      <td>Male</td>\n",
       "      <td>0</td>\n",
       "      <td>No</td>\n",
       "      <td>No</td>\n",
       "      <td>44</td>\n",
       "      <td>No</td>\n",
       "      <td>No phone service</td>\n",
       "      <td>Yes</td>\n",
       "      <td>No</td>\n",
       "      <td>Yes</td>\n",
       "      <td>...</td>\n",
       "      <td>1</td>\n",
       "      <td>0</td>\n",
       "      <td>1</td>\n",
       "      <td>1</td>\n",
       "      <td>0</td>\n",
       "      <td>0</td>\n",
       "      <td>0</td>\n",
       "      <td>0</td>\n",
       "      <td>1</td>\n",
       "      <td>0</td>\n",
       "    </tr>\n",
       "    <tr>\n",
       "      <th>3213</th>\n",
       "      <td>Female</td>\n",
       "      <td>0</td>\n",
       "      <td>Yes</td>\n",
       "      <td>Yes</td>\n",
       "      <td>27</td>\n",
       "      <td>Yes</td>\n",
       "      <td>No</td>\n",
       "      <td>No internet service</td>\n",
       "      <td>No internet service</td>\n",
       "      <td>No internet service</td>\n",
       "      <td>...</td>\n",
       "      <td>0</td>\n",
       "      <td>1</td>\n",
       "      <td>0</td>\n",
       "      <td>0</td>\n",
       "      <td>1</td>\n",
       "      <td>0</td>\n",
       "      <td>1</td>\n",
       "      <td>0</td>\n",
       "      <td>0</td>\n",
       "      <td>1</td>\n",
       "    </tr>\n",
       "    <tr>\n",
       "      <th>5026</th>\n",
       "      <td>Male</td>\n",
       "      <td>0</td>\n",
       "      <td>Yes</td>\n",
       "      <td>Yes</td>\n",
       "      <td>62</td>\n",
       "      <td>Yes</td>\n",
       "      <td>No</td>\n",
       "      <td>No internet service</td>\n",
       "      <td>No internet service</td>\n",
       "      <td>No internet service</td>\n",
       "      <td>...</td>\n",
       "      <td>0</td>\n",
       "      <td>1</td>\n",
       "      <td>0</td>\n",
       "      <td>0</td>\n",
       "      <td>1</td>\n",
       "      <td>0</td>\n",
       "      <td>1</td>\n",
       "      <td>1</td>\n",
       "      <td>0</td>\n",
       "      <td>0</td>\n",
       "    </tr>\n",
       "  </tbody>\n",
       "</table>\n",
       "<p>5 rows × 53 columns</p>\n",
       "</div>"
      ],
      "text/plain": [
       "      gender  senior_citizen partner dependents  tenure phone_service  \\\n",
       "816   Female               0     Yes         No      27           Yes   \n",
       "1488  Female               0     Yes         No      71           Yes   \n",
       "4796    Male               0      No         No      44            No   \n",
       "3213  Female               0     Yes        Yes      27           Yes   \n",
       "5026    Male               0     Yes        Yes      62           Yes   \n",
       "\n",
       "        multiple_lines      online_security        online_backup  \\\n",
       "816                Yes                   No                   No   \n",
       "1488               Yes                  Yes                  Yes   \n",
       "4796  No phone service                  Yes                   No   \n",
       "3213                No  No internet service  No internet service   \n",
       "5026                No  No internet service  No internet service   \n",
       "\n",
       "        device_protection  ... streaming_tv_Yes  \\\n",
       "816                    No  ...                1   \n",
       "1488                  Yes  ...                1   \n",
       "4796                  Yes  ...                1   \n",
       "3213  No internet service  ...                0   \n",
       "5026  No internet service  ...                0   \n",
       "\n",
       "     streaming_movies_No internet service streaming_movies_Yes  \\\n",
       "816                                     0                    1   \n",
       "1488                                    0                    1   \n",
       "4796                                    0                    1   \n",
       "3213                                    1                    0   \n",
       "5026                                    1                    0   \n",
       "\n",
       "     contract_type_One year  contract_type_Two year  \\\n",
       "816                       0                       0   \n",
       "1488                      0                       1   \n",
       "4796                      1                       0   \n",
       "3213                      0                       1   \n",
       "5026                      0                       1   \n",
       "\n",
       "      internet_service_type_Fiber optic internet_service_type_None  \\\n",
       "816                                   1                          0   \n",
       "1488                                  0                          0   \n",
       "4796                                  0                          0   \n",
       "3213                                  0                          1   \n",
       "5026                                  0                          1   \n",
       "\n",
       "     payment_type_Credit card (automatic) payment_type_Electronic check  \\\n",
       "816                                     1                             0   \n",
       "1488                                    1                             0   \n",
       "4796                                    0                             1   \n",
       "3213                                    0                             0   \n",
       "5026                                    1                             0   \n",
       "\n",
       "     payment_type_Mailed check  \n",
       "816                          0  \n",
       "1488                         0  \n",
       "4796                         0  \n",
       "3213                         1  \n",
       "5026                         0  \n",
       "\n",
       "[5 rows x 53 columns]"
      ]
     },
     "execution_count": 6,
     "metadata": {},
     "output_type": "execute_result"
    }
   ],
   "source": [
    "validate.head()"
   ]
  },
  {
   "cell_type": "code",
   "execution_count": 7,
   "id": "7d214455",
   "metadata": {
    "collapsed": true
   },
   "outputs": [
    {
     "data": {
      "text/plain": [
       "gender                                   0\n",
       "senior_citizen                           0\n",
       "partner                                  0\n",
       "dependents                               0\n",
       "tenure                                   0\n",
       "phone_service                            0\n",
       "multiple_lines                           0\n",
       "online_security                          0\n",
       "online_backup                            0\n",
       "device_protection                        0\n",
       "tech_support                             0\n",
       "streaming_tv                             0\n",
       "streaming_movies                         0\n",
       "paperless_billing                        0\n",
       "monthly_charges                          0\n",
       "total_charges                            0\n",
       "churn                                    0\n",
       "contract_type                            0\n",
       "internet_service_type                    0\n",
       "payment_type                             0\n",
       "binned_tenure                            0\n",
       "gender_encoded                           0\n",
       "partner_encoded                          0\n",
       "dependents_encoded                       0\n",
       "phone_service_encoded                    0\n",
       "paperless_billing_encoded                0\n",
       "churn_encoded                            0\n",
       "multiple_lines_No phone service          0\n",
       "multiple_lines_Yes                       0\n",
       "online_security_No internet service      0\n",
       "online_security_Yes                      0\n",
       "online_backup_No internet service        0\n",
       "online_backup_Yes                        0\n",
       "binned_tenure_2years                     0\n",
       "binned_tenure_3years                     0\n",
       "binned_tenure_4years                     0\n",
       "binned_tenure_5years                     0\n",
       "binned_tenure_6years                     0\n",
       "device_protection_No internet service    0\n",
       "device_protection_Yes                    0\n",
       "tech_support_No internet service         0\n",
       "tech_support_Yes                         0\n",
       "streaming_tv_No internet service         0\n",
       "streaming_tv_Yes                         0\n",
       "streaming_movies_No internet service     0\n",
       "streaming_movies_Yes                     0\n",
       "contract_type_One year                   0\n",
       "contract_type_Two year                   0\n",
       "internet_service_type_Fiber optic        0\n",
       "internet_service_type_None               0\n",
       "payment_type_Credit card (automatic)     0\n",
       "payment_type_Electronic check            0\n",
       "payment_type_Mailed check                0\n",
       "dtype: int64"
      ]
     },
     "execution_count": 7,
     "metadata": {},
     "output_type": "execute_result"
    }
   ],
   "source": [
    "# Isna will confirm that I do not have \n",
    "\n",
    "validate.isna().sum()"
   ]
  },
  {
   "cell_type": "code",
   "execution_count": 8,
   "id": "000c855b",
   "metadata": {},
   "outputs": [
    {
     "data": {
      "text/html": [
       "<div>\n",
       "<style scoped>\n",
       "    .dataframe tbody tr th:only-of-type {\n",
       "        vertical-align: middle;\n",
       "    }\n",
       "\n",
       "    .dataframe tbody tr th {\n",
       "        vertical-align: top;\n",
       "    }\n",
       "\n",
       "    .dataframe thead th {\n",
       "        text-align: right;\n",
       "    }\n",
       "</style>\n",
       "<table border=\"1\" class=\"dataframe\">\n",
       "  <thead>\n",
       "    <tr style=\"text-align: right;\">\n",
       "      <th></th>\n",
       "      <th>gender</th>\n",
       "      <th>senior_citizen</th>\n",
       "      <th>partner</th>\n",
       "      <th>dependents</th>\n",
       "      <th>tenure</th>\n",
       "      <th>phone_service</th>\n",
       "      <th>multiple_lines</th>\n",
       "      <th>online_security</th>\n",
       "      <th>online_backup</th>\n",
       "      <th>device_protection</th>\n",
       "      <th>...</th>\n",
       "      <th>streaming_tv_Yes</th>\n",
       "      <th>streaming_movies_No internet service</th>\n",
       "      <th>streaming_movies_Yes</th>\n",
       "      <th>contract_type_One year</th>\n",
       "      <th>contract_type_Two year</th>\n",
       "      <th>internet_service_type_Fiber optic</th>\n",
       "      <th>internet_service_type_None</th>\n",
       "      <th>payment_type_Credit card (automatic)</th>\n",
       "      <th>payment_type_Electronic check</th>\n",
       "      <th>payment_type_Mailed check</th>\n",
       "    </tr>\n",
       "  </thead>\n",
       "  <tbody>\n",
       "    <tr>\n",
       "      <th>3311</th>\n",
       "      <td>Female</td>\n",
       "      <td>0</td>\n",
       "      <td>No</td>\n",
       "      <td>No</td>\n",
       "      <td>29</td>\n",
       "      <td>Yes</td>\n",
       "      <td>No</td>\n",
       "      <td>No internet service</td>\n",
       "      <td>No internet service</td>\n",
       "      <td>No internet service</td>\n",
       "      <td>...</td>\n",
       "      <td>0</td>\n",
       "      <td>1</td>\n",
       "      <td>0</td>\n",
       "      <td>1</td>\n",
       "      <td>0</td>\n",
       "      <td>0</td>\n",
       "      <td>1</td>\n",
       "      <td>0</td>\n",
       "      <td>0</td>\n",
       "      <td>1</td>\n",
       "    </tr>\n",
       "    <tr>\n",
       "      <th>6330</th>\n",
       "      <td>Male</td>\n",
       "      <td>0</td>\n",
       "      <td>Yes</td>\n",
       "      <td>Yes</td>\n",
       "      <td>36</td>\n",
       "      <td>Yes</td>\n",
       "      <td>Yes</td>\n",
       "      <td>No internet service</td>\n",
       "      <td>No internet service</td>\n",
       "      <td>No internet service</td>\n",
       "      <td>...</td>\n",
       "      <td>0</td>\n",
       "      <td>1</td>\n",
       "      <td>0</td>\n",
       "      <td>0</td>\n",
       "      <td>1</td>\n",
       "      <td>0</td>\n",
       "      <td>1</td>\n",
       "      <td>1</td>\n",
       "      <td>0</td>\n",
       "      <td>0</td>\n",
       "    </tr>\n",
       "    <tr>\n",
       "      <th>6156</th>\n",
       "      <td>Male</td>\n",
       "      <td>1</td>\n",
       "      <td>No</td>\n",
       "      <td>No</td>\n",
       "      <td>1</td>\n",
       "      <td>Yes</td>\n",
       "      <td>No</td>\n",
       "      <td>No</td>\n",
       "      <td>No</td>\n",
       "      <td>No</td>\n",
       "      <td>...</td>\n",
       "      <td>0</td>\n",
       "      <td>0</td>\n",
       "      <td>0</td>\n",
       "      <td>0</td>\n",
       "      <td>0</td>\n",
       "      <td>0</td>\n",
       "      <td>0</td>\n",
       "      <td>0</td>\n",
       "      <td>1</td>\n",
       "      <td>0</td>\n",
       "    </tr>\n",
       "    <tr>\n",
       "      <th>5313</th>\n",
       "      <td>Male</td>\n",
       "      <td>0</td>\n",
       "      <td>No</td>\n",
       "      <td>No</td>\n",
       "      <td>25</td>\n",
       "      <td>Yes</td>\n",
       "      <td>No</td>\n",
       "      <td>No</td>\n",
       "      <td>No</td>\n",
       "      <td>No</td>\n",
       "      <td>...</td>\n",
       "      <td>0</td>\n",
       "      <td>0</td>\n",
       "      <td>0</td>\n",
       "      <td>0</td>\n",
       "      <td>0</td>\n",
       "      <td>1</td>\n",
       "      <td>0</td>\n",
       "      <td>0</td>\n",
       "      <td>1</td>\n",
       "      <td>0</td>\n",
       "    </tr>\n",
       "    <tr>\n",
       "      <th>1176</th>\n",
       "      <td>Female</td>\n",
       "      <td>0</td>\n",
       "      <td>Yes</td>\n",
       "      <td>No</td>\n",
       "      <td>34</td>\n",
       "      <td>Yes</td>\n",
       "      <td>No</td>\n",
       "      <td>No</td>\n",
       "      <td>No</td>\n",
       "      <td>No</td>\n",
       "      <td>...</td>\n",
       "      <td>0</td>\n",
       "      <td>0</td>\n",
       "      <td>0</td>\n",
       "      <td>0</td>\n",
       "      <td>0</td>\n",
       "      <td>0</td>\n",
       "      <td>0</td>\n",
       "      <td>0</td>\n",
       "      <td>0</td>\n",
       "      <td>0</td>\n",
       "    </tr>\n",
       "  </tbody>\n",
       "</table>\n",
       "<p>5 rows × 53 columns</p>\n",
       "</div>"
      ],
      "text/plain": [
       "      gender  senior_citizen partner dependents  tenure phone_service  \\\n",
       "3311  Female               0      No         No      29           Yes   \n",
       "6330    Male               0     Yes        Yes      36           Yes   \n",
       "6156    Male               1      No         No       1           Yes   \n",
       "5313    Male               0      No         No      25           Yes   \n",
       "1176  Female               0     Yes         No      34           Yes   \n",
       "\n",
       "     multiple_lines      online_security        online_backup  \\\n",
       "3311             No  No internet service  No internet service   \n",
       "6330            Yes  No internet service  No internet service   \n",
       "6156             No                   No                   No   \n",
       "5313             No                   No                   No   \n",
       "1176             No                   No                   No   \n",
       "\n",
       "        device_protection  ... streaming_tv_Yes  \\\n",
       "3311  No internet service  ...                0   \n",
       "6330  No internet service  ...                0   \n",
       "6156                   No  ...                0   \n",
       "5313                   No  ...                0   \n",
       "1176                   No  ...                0   \n",
       "\n",
       "     streaming_movies_No internet service streaming_movies_Yes  \\\n",
       "3311                                    1                    0   \n",
       "6330                                    1                    0   \n",
       "6156                                    0                    0   \n",
       "5313                                    0                    0   \n",
       "1176                                    0                    0   \n",
       "\n",
       "     contract_type_One year  contract_type_Two year  \\\n",
       "3311                      1                       0   \n",
       "6330                      0                       1   \n",
       "6156                      0                       0   \n",
       "5313                      0                       0   \n",
       "1176                      0                       0   \n",
       "\n",
       "      internet_service_type_Fiber optic internet_service_type_None  \\\n",
       "3311                                  0                          1   \n",
       "6330                                  0                          1   \n",
       "6156                                  0                          0   \n",
       "5313                                  1                          0   \n",
       "1176                                  0                          0   \n",
       "\n",
       "     payment_type_Credit card (automatic) payment_type_Electronic check  \\\n",
       "3311                                    0                             0   \n",
       "6330                                    1                             0   \n",
       "6156                                    0                             1   \n",
       "5313                                    0                             1   \n",
       "1176                                    0                             0   \n",
       "\n",
       "     payment_type_Mailed check  \n",
       "3311                         1  \n",
       "6330                         0  \n",
       "6156                         0  \n",
       "5313                         0  \n",
       "1176                         0  \n",
       "\n",
       "[5 rows x 53 columns]"
      ]
     },
     "execution_count": 8,
     "metadata": {},
     "output_type": "execute_result"
    }
   ],
   "source": [
    "test.head()"
   ]
  },
  {
   "cell_type": "code",
   "execution_count": 9,
   "id": "71a89c89",
   "metadata": {
    "collapsed": true
   },
   "outputs": [
    {
     "data": {
      "text/plain": [
       "gender                                   0\n",
       "senior_citizen                           0\n",
       "partner                                  0\n",
       "dependents                               0\n",
       "tenure                                   0\n",
       "phone_service                            0\n",
       "multiple_lines                           0\n",
       "online_security                          0\n",
       "online_backup                            0\n",
       "device_protection                        0\n",
       "tech_support                             0\n",
       "streaming_tv                             0\n",
       "streaming_movies                         0\n",
       "paperless_billing                        0\n",
       "monthly_charges                          0\n",
       "total_charges                            0\n",
       "churn                                    0\n",
       "contract_type                            0\n",
       "internet_service_type                    0\n",
       "payment_type                             0\n",
       "binned_tenure                            0\n",
       "gender_encoded                           0\n",
       "partner_encoded                          0\n",
       "dependents_encoded                       0\n",
       "phone_service_encoded                    0\n",
       "paperless_billing_encoded                0\n",
       "churn_encoded                            0\n",
       "multiple_lines_No phone service          0\n",
       "multiple_lines_Yes                       0\n",
       "online_security_No internet service      0\n",
       "online_security_Yes                      0\n",
       "online_backup_No internet service        0\n",
       "online_backup_Yes                        0\n",
       "binned_tenure_2years                     0\n",
       "binned_tenure_3years                     0\n",
       "binned_tenure_4years                     0\n",
       "binned_tenure_5years                     0\n",
       "binned_tenure_6years                     0\n",
       "device_protection_No internet service    0\n",
       "device_protection_Yes                    0\n",
       "tech_support_No internet service         0\n",
       "tech_support_Yes                         0\n",
       "streaming_tv_No internet service         0\n",
       "streaming_tv_Yes                         0\n",
       "streaming_movies_No internet service     0\n",
       "streaming_movies_Yes                     0\n",
       "contract_type_One year                   0\n",
       "contract_type_Two year                   0\n",
       "internet_service_type_Fiber optic        0\n",
       "internet_service_type_None               0\n",
       "payment_type_Credit card (automatic)     0\n",
       "payment_type_Electronic check            0\n",
       "payment_type_Mailed check                0\n",
       "dtype: int64"
      ]
     },
     "execution_count": 9,
     "metadata": {},
     "output_type": "execute_result"
    }
   ],
   "source": [
    "# Isna will confirm that Ido not have \n",
    "\n",
    "test.isna().sum()"
   ]
  },
  {
   "cell_type": "markdown",
   "id": "d67c18a8",
   "metadata": {},
   "source": [
    "There are no nulls in my train, validate, and test datasets"
   ]
  },
  {
   "cell_type": "code",
   "execution_count": 10,
   "id": "25078122",
   "metadata": {},
   "outputs": [
    {
     "data": {
      "text/plain": [
       "['gender',\n",
       " 'senior_citizen',\n",
       " 'partner',\n",
       " 'dependents',\n",
       " 'tenure',\n",
       " 'phone_service',\n",
       " 'multiple_lines',\n",
       " 'online_security',\n",
       " 'online_backup',\n",
       " 'device_protection',\n",
       " 'tech_support',\n",
       " 'streaming_tv',\n",
       " 'streaming_movies',\n",
       " 'paperless_billing',\n",
       " 'monthly_charges',\n",
       " 'total_charges',\n",
       " 'churn',\n",
       " 'contract_type',\n",
       " 'internet_service_type',\n",
       " 'payment_type',\n",
       " 'binned_tenure',\n",
       " 'gender_encoded',\n",
       " 'partner_encoded',\n",
       " 'dependents_encoded',\n",
       " 'phone_service_encoded',\n",
       " 'paperless_billing_encoded',\n",
       " 'churn_encoded',\n",
       " 'multiple_lines_No phone service',\n",
       " 'multiple_lines_Yes',\n",
       " 'online_security_No internet service',\n",
       " 'online_security_Yes',\n",
       " 'online_backup_No internet service',\n",
       " 'online_backup_Yes',\n",
       " 'binned_tenure_2years',\n",
       " 'binned_tenure_3years',\n",
       " 'binned_tenure_4years',\n",
       " 'binned_tenure_5years',\n",
       " 'binned_tenure_6years',\n",
       " 'device_protection_No internet service',\n",
       " 'device_protection_Yes',\n",
       " 'tech_support_No internet service',\n",
       " 'tech_support_Yes',\n",
       " 'streaming_tv_No internet service',\n",
       " 'streaming_tv_Yes',\n",
       " 'streaming_movies_No internet service',\n",
       " 'streaming_movies_Yes',\n",
       " 'contract_type_One year',\n",
       " 'contract_type_Two year',\n",
       " 'internet_service_type_Fiber optic',\n",
       " 'internet_service_type_None',\n",
       " 'payment_type_Credit card (automatic)',\n",
       " 'payment_type_Electronic check',\n",
       " 'payment_type_Mailed check']"
      ]
     },
     "execution_count": 10,
     "metadata": {},
     "output_type": "execute_result"
    }
   ],
   "source": [
    "# I put the columns into a list to have the magnitude of the task because the columns are the features\n",
    "\n",
    "train.columns.to_list()"
   ]
  },
  {
   "cell_type": "markdown",
   "id": "c1cba1cb",
   "metadata": {},
   "source": [
    "### <font color=\"brown\">A. Univariate visualizations (visualizing one variable at the time)</font>"
   ]
  },
  {
   "cell_type": "markdown",
   "id": "546309d2",
   "metadata": {},
   "source": [
    "### <font color=\"blue\">I check the percentage of churned customers which is the target variable</font>"
   ]
  },
  {
   "cell_type": "code",
   "execution_count": 11,
   "id": "3b8bf5c3",
   "metadata": {
    "scrolled": false
   },
   "outputs": [
    {
     "data": {
      "image/png": "[encoded data removed]",
      "text/plain": [
       "<Figure size 432x288 with 1 Axes>"
      ]
     },
     "metadata": {
      "needs_background": "light"
     },
     "output_type": "display_data"
    }
   ],
   "source": [
    "# Plotting a histogram of churn\n",
    "\n",
    "plt.title('How many churned')\n",
    "train.churn.hist()\n",
    "plt.show()"
   ]
  },
  {
   "cell_type": "code",
   "execution_count": 12,
   "id": "a153d173",
   "metadata": {},
   "outputs": [
    {
     "data": {
      "text/plain": [
       "0.27"
      ]
     },
     "execution_count": 12,
     "metadata": {},
     "output_type": "execute_result"
    }
   ],
   "source": [
    "# To get the churn percentage\n",
    "round(train.churn_encoded.mean(), 2)"
   ]
  },
  {
   "cell_type": "markdown",
   "id": "c2a59ab9",
   "metadata": {},
   "source": [
    "### <font color=\"blue\">And also check the general distribution of all the columns through graph but sometimes statistical measures especially when they are very close or really far apart </font>"
   ]
  },
  {
   "cell_type": "markdown",
   "id": "dc8e1474",
   "metadata": {},
   "source": [
    "<font color=\"blue\">The</font>"
   ]
  },
  {
   "cell_type": "markdown",
   "id": "663c8afd",
   "metadata": {},
   "source": [
    "- **<font color=\"brown\"> Categorical data</font>**"
   ]
  },
  {
   "cell_type": "code",
   "execution_count": 13,
   "id": "02cd4a4e",
   "metadata": {},
   "outputs": [
    {
     "data": {
      "image/png": "[encoded data removed]",
      "text/plain": [
       "<Figure size 432x288 with 1 Axes>"
      ]
     },
     "metadata": {
      "needs_background": "light"
     },
     "output_type": "display_data"
    }
   ],
   "source": [
    "plt.hist(train['gender'], color='orange')\n",
    "plt.show()"
   ]
  },
  {
   "cell_type": "code",
   "execution_count": 14,
   "id": "d79c371b",
   "metadata": {},
   "outputs": [
    {
     "data": {
      "text/plain": [
       "Male      50.47565\n",
       "Female    49.52435\n",
       "Name: gender, dtype: float64"
      ]
     },
     "execution_count": 14,
     "metadata": {},
     "output_type": "execute_result"
    }
   ],
   "source": [
    "telco.gender.value_counts(normalize=True)*100"
   ]
  },
  {
   "cell_type": "code",
   "execution_count": 15,
   "id": "b9820276",
   "metadata": {
    "scrolled": true
   },
   "outputs": [
    {
     "data": {
      "image/png": "[encoded data removed]",
      "text/plain": [
       "<Figure size 432x288 with 1 Axes>"
      ]
     },
     "metadata": {
      "needs_background": "light"
     },
     "output_type": "display_data"
    }
   ],
   "source": [
    "plt.hist(train['senior_citizen'], color='beige')\n",
    "plt.show()"
   ]
  },
  {
   "cell_type": "code",
   "execution_count": 16,
   "id": "a2e7e925",
   "metadata": {},
   "outputs": [
    {
     "data": {
      "text/plain": [
       "0    83.785319\n",
       "1    16.214681\n",
       "Name: senior_citizen, dtype: float64"
      ]
     },
     "execution_count": 16,
     "metadata": {},
     "output_type": "execute_result"
    }
   ],
   "source": [
    "telco.senior_citizen.value_counts(normalize=True)*100"
   ]
  },
  {
   "cell_type": "code",
   "execution_count": 17,
   "id": "9abab8ad",
   "metadata": {
    "scrolled": true
   },
   "outputs": [
    {
     "data": {
      "image/png": "[encoded data removed]",
      "text/plain": [
       "<Figure size 432x288 with 1 Axes>"
      ]
     },
     "metadata": {
      "needs_background": "light"
     },
     "output_type": "display_data"
    }
   ],
   "source": [
    "plt.hist(train['partner'], color='teal')\n",
    "plt.show()"
   ]
  },
  {
   "cell_type": "code",
   "execution_count": 18,
   "id": "a9eb3e32",
   "metadata": {},
   "outputs": [
    {
     "data": {
      "image/png": "[encoded data removed]",
      "text/plain": [
       "<Figure size 432x288 with 1 Axes>"
      ]
     },
     "metadata": {
      "needs_background": "light"
     },
     "output_type": "display_data"
    }
   ],
   "source": [
    "plt.hist(train['dependents'], color='purple')\n",
    "plt.show()"
   ]
  },
  {
   "cell_type": "code",
   "execution_count": 19,
   "id": "ee44416b",
   "metadata": {
    "scrolled": true
   },
   "outputs": [
    {
     "data": {
      "image/png": "[encoded data removed]",
      "text/plain": [
       "<Figure size 432x288 with 1 Axes>"
      ]
     },
     "metadata": {
      "needs_background": "light"
     },
     "output_type": "display_data"
    }
   ],
   "source": [
    "plt.hist(train['phone_service'], color='red')\n",
    "plt.show()"
   ]
  },
  {
   "cell_type": "code",
   "execution_count": 20,
   "id": "638b305d",
   "metadata": {},
   "outputs": [
    {
     "data": {
      "text/plain": [
       "Yes    90.316626\n",
       "No      9.683374\n",
       "Name: phone_service, dtype: float64"
      ]
     },
     "execution_count": 20,
     "metadata": {},
     "output_type": "execute_result"
    }
   ],
   "source": [
    "telco.phone_service.value_counts(normalize=True)*100"
   ]
  },
  {
   "cell_type": "code",
   "execution_count": 21,
   "id": "23e43f35",
   "metadata": {},
   "outputs": [
    {
     "data": {
      "image/png": "[encoded data removed]",
      "text/plain": [
       "<Figure size 432x288 with 1 Axes>"
      ]
     },
     "metadata": {
      "needs_background": "light"
     },
     "output_type": "display_data"
    }
   ],
   "source": [
    "plt.hist(train['multiple_lines'], color='blue')\n",
    "plt.show()"
   ]
  },
  {
   "cell_type": "code",
   "execution_count": 22,
   "id": "999402a7",
   "metadata": {},
   "outputs": [
    {
     "data": {
      "image/png": "[encoded data removed]",
      "text/plain": [
       "<Figure size 432x288 with 1 Axes>"
      ]
     },
     "metadata": {
      "needs_background": "light"
     },
     "output_type": "display_data"
    }
   ],
   "source": [
    "plt.hist(train['online_security'], color='green')\n",
    "plt.show()"
   ]
  },
  {
   "cell_type": "code",
   "execution_count": 23,
   "id": "0de31087",
   "metadata": {},
   "outputs": [
    {
     "data": {
      "image/png": "[encoded data removed]",
      "text/plain": [
       "<Figure size 432x288 with 1 Axes>"
      ]
     },
     "metadata": {
      "needs_background": "light"
     },
     "output_type": "display_data"
    }
   ],
   "source": [
    "plt.hist(train['online_backup'], color='beige')\n",
    "plt.show()"
   ]
  },
  {
   "cell_type": "code",
   "execution_count": 24,
   "id": "06139f86",
   "metadata": {},
   "outputs": [
    {
     "data": {
      "image/png": "[encoded data removed]",
      "text/plain": [
       "<Figure size 432x288 with 1 Axes>"
      ]
     },
     "metadata": {
      "needs_background": "light"
     },
     "output_type": "display_data"
    }
   ],
   "source": [
    "plt.hist(train['device_protection'], color='orange')\n",
    "plt.show()"
   ]
  },
  {
   "cell_type": "code",
   "execution_count": 25,
   "id": "1ee764cf",
   "metadata": {},
   "outputs": [
    {
     "data": {
      "image/png": "[encoded data removed]",
      "text/plain": [
       "<Figure size 432x288 with 1 Axes>"
      ]
     },
     "metadata": {
      "needs_background": "light"
     },
     "output_type": "display_data"
    }
   ],
   "source": [
    "plt.hist(train['tech_support'], color='tan')\n",
    "plt.show()"
   ]
  },
  {
   "cell_type": "code",
   "execution_count": 26,
   "id": "958f82c2",
   "metadata": {
    "scrolled": true
   },
   "outputs": [
    {
     "data": {
      "image/png": "[encoded data removed]",
      "text/plain": [
       "<Figure size 432x288 with 1 Axes>"
      ]
     },
     "metadata": {
      "needs_background": "light"
     },
     "output_type": "display_data"
    }
   ],
   "source": [
    "plt.hist(train['streaming_tv'], color='purple')\n",
    "plt.show()"
   ]
  },
  {
   "cell_type": "code",
   "execution_count": 29,
   "id": "c1effc92",
   "metadata": {},
   "outputs": [
    {
     "data": {
      "text/plain": [
       "No                     39.897771\n",
       "Yes                    38.435326\n",
       "No internet service    21.666903\n",
       "Name: streaming_tv, dtype: float64"
      ]
     },
     "execution_count": 29,
     "metadata": {},
     "output_type": "execute_result"
    }
   ],
   "source": [
    "telco.streaming_tv.value_counts(normalize=True)*100"
   ]
  },
  {
   "cell_type": "code",
   "execution_count": 31,
   "id": "7764d529",
   "metadata": {
    "scrolled": true
   },
   "outputs": [
    {
     "data": {
      "image/png": "[encoded data removed]",
      "text/plain": [
       "<Figure size 432x288 with 1 Axes>"
      ]
     },
     "metadata": {
      "needs_background": "light"
     },
     "output_type": "display_data"
    }
   ],
   "source": [
    "plt.hist(train['streaming_movies'], color='red')\n",
    "plt.show()"
   ]
  },
  {
   "cell_type": "code",
   "execution_count": 30,
   "id": "356e1e9a",
   "metadata": {},
   "outputs": [
    {
     "data": {
      "text/plain": [
       "No                     39.542808\n",
       "Yes                    38.790288\n",
       "No internet service    21.666903\n",
       "Name: streaming_movies, dtype: float64"
      ]
     },
     "execution_count": 30,
     "metadata": {},
     "output_type": "execute_result"
    }
   ],
   "source": [
    "telco.streaming_movies.value_counts(normalize=True)*100"
   ]
  },
  {
   "cell_type": "code",
   "execution_count": 32,
   "id": "304c4b5c",
   "metadata": {},
   "outputs": [
    {
     "data": {
      "image/png": "[encoded data removed]",
      "text/plain": [
       "<Figure size 432x288 with 1 Axes>"
      ]
     },
     "metadata": {
      "needs_background": "light"
     },
     "output_type": "display_data"
    }
   ],
   "source": [
    "plt.hist(train['paperless_billing'], color='blue')\n",
    "plt.show()"
   ]
  },
  {
   "cell_type": "code",
   "execution_count": 33,
   "id": "ba081bbd",
   "metadata": {},
   "outputs": [
    {
     "data": {
      "image/png": "[encoded data removed]",
      "text/plain": [
       "<Figure size 432x288 with 1 Axes>"
      ]
     },
     "metadata": {
      "needs_background": "light"
     },
     "output_type": "display_data"
    }
   ],
   "source": [
    "plt.hist(train['contract_type'], color='lightblue')\n",
    "plt.show()"
   ]
  },
  {
   "cell_type": "code",
   "execution_count": 34,
   "id": "3fe2aa0c",
   "metadata": {},
   "outputs": [
    {
     "data": {
      "image/png": "[encoded data removed]",
      "text/plain": [
       "<Figure size 432x288 with 1 Axes>"
      ]
     },
     "metadata": {
      "needs_background": "light"
     },
     "output_type": "display_data"
    }
   ],
   "source": [
    "plt.hist(train['payment_type'], color='grey', )\n",
    "plt.xticks([0, 1, 2, 3], ['Mailed\\ncheck', 'Electronic\\ncheck ', 'Credit card\\n(automatic)', 'Bank transfer\\n(automatic)'])\n",
    "plt.show()"
   ]
  },
  {
   "cell_type": "code",
   "execution_count": 35,
   "id": "aaed7673",
   "metadata": {},
   "outputs": [
    {
     "data": {
      "text/plain": [
       "Electronic check             32.740665\n",
       "Credit card (automatic)      22.733045\n",
       "Mailed check                 22.631445\n",
       "Bank transfer (automatic)    21.894844\n",
       "Name: payment_type, dtype: float64"
      ]
     },
     "execution_count": 35,
     "metadata": {},
     "output_type": "execute_result"
    }
   ],
   "source": [
    "train.payment_type.value_counts(normalize=True)*100"
   ]
  },
  {
   "cell_type": "code",
   "execution_count": 36,
   "id": "f3529987",
   "metadata": {},
   "outputs": [
    {
     "data": {
      "image/png": "[encoded data removed]",
      "text/plain": [
       "<Figure size 432x288 with 1 Axes>"
      ]
     },
     "metadata": {
      "needs_background": "light"
     },
     "output_type": "display_data"
    }
   ],
   "source": [
    "plt.hist(train['internet_service_type'], color='green')\n",
    "plt.show()"
   ]
  },
  {
   "cell_type": "markdown",
   "id": "0ba1b4f2",
   "metadata": {},
   "source": [
    "- **<font color=\"brown\"> Numerical data</font>**"
   ]
  },
  {
   "cell_type": "code",
   "execution_count": 37,
   "id": "d584500e",
   "metadata": {},
   "outputs": [
    {
     "data": {
      "image/png": "[encoded data removed]",
      "text/plain": [
       "<Figure size 432x288 with 1 Axes>"
      ]
     },
     "metadata": {
      "needs_background": "light"
     },
     "output_type": "display_data"
    }
   ],
   "source": [
    "plt.hist(train['monthly_charges'], color='turquoise')\n",
    "plt.show()"
   ]
  },
  {
   "cell_type": "code",
   "execution_count": 38,
   "id": "8ba95335",
   "metadata": {},
   "outputs": [
    {
     "data": {
      "image/png": "[encoded data removed]",
      "text/plain": [
       "<Figure size 432x288 with 1 Axes>"
      ]
     },
     "metadata": {
      "needs_background": "light"
     },
     "output_type": "display_data"
    }
   ],
   "source": [
    "plt.hist(train['total_charges'], color='tan')\n",
    "plt.show()"
   ]
  },
  {
   "cell_type": "code",
   "execution_count": 39,
   "id": "49d4cfe3",
   "metadata": {},
   "outputs": [
    {
     "data": {
      "image/png": "[encoded data removed]",
      "text/plain": [
       "<Figure size 432x288 with 1 Axes>"
      ]
     },
     "metadata": {
      "needs_background": "light"
     },
     "output_type": "display_data"
    }
   ],
   "source": [
    "plt.hist(train['tenure'], color='brown')\n",
    "plt.show()"
   ]
  },
  {
   "cell_type": "markdown",
   "id": "2f241990",
   "metadata": {},
   "source": [
    "# <font color=\"darkblue\">Takeaways from Univariate exploration</font>\n",
    "\n",
    "- Except for gender and partner, the rest of the columns don't have symetric of their values.\n",
    "The most important uneven ones are:\n",
    "    * phone service\n",
    "    * dependent\n",
    "    * Tenure\n",
    "    * Monthly charges\n",
    "    * Paperless billing\n",
    "    * Contract type\n",
    "- Tenure and monthly charges have approximately the same distribution\n",
    "- Streaming TV and Streaming movies are approximately the same\n",
    "\n",
    "<font color=\"fuchsia\"> - The churn rate is at 27% which is above industry level and warrants a further examination</font>"
   ]
  },
  {
   "cell_type": "markdown",
   "id": "9bed1b28",
   "metadata": {},
   "source": [
    "### B. Bivariate exploration"
   ]
  },
  {
   "cell_type": "code",
   "execution_count": 51,
   "id": "88ad151c",
   "metadata": {},
   "outputs": [
    {
     "data": {
      "text/plain": [
       "'churn'"
      ]
     },
     "execution_count": 51,
     "metadata": {},
     "output_type": "execute_result"
    }
   ],
   "source": [
    "train.columns[16]"
   ]
  },
  {
   "cell_type": "markdown",
   "id": "110c61ee",
   "metadata": {},
   "source": [
    "### <font color=\"blue\">The big question now would be: who is churning?</font>"
   ]
  },
  {
   "cell_type": "code",
   "execution_count": 67,
   "id": "1d125630",
   "metadata": {},
   "outputs": [],
   "source": [
    "def frequency(ds, vars):\n",
    "    if len(vars) > 1:\n",
    "        c1 = ds[vars[0]]\n",
    "        c2 = []\n",
    "        for i in range(1,len(vars)):\n",
    "            c2.append(ds[vars[i]])\n",
    "        dfs = []\n",
    "        dfs.append(pd.crosstab(c1,c2).unstack().reset_index().rename(columns={0:'Count'}))\n",
    "        dfs.append(pd.crosstab(c1,c2, normalize='all').unstack().reset_index().rename(columns={0:'Percent'}))\n",
    "        dfs = [df.set_index(vars) for df in dfs]\n",
    "        df = dfs[0].join(dfs[1:]).reset_index()\n",
    "        return df"
   ]
  },
  {
   "cell_type": "code",
   "execution_count": 64,
   "id": "a09beca5",
   "metadata": {
    "scrolled": false
   },
   "outputs": [],
   "source": [
    "frequency(train, ['gender',\n",
    "                  'senior_citizen', \n",
    "                  'partner',\n",
    "                  'dependents',\n",
    "                  'tenure',\n",
    "                  'phone_service',\n",
    "                  'multiple_lines',\n",
    "                  'online_security',\n",
    "                  'online_backup',\n",
    "                  'device_protection',\n",
    "                  'tech_support',\n",
    "                  'streaming_tv',\n",
    "                  'streaming_movies',\n",
    "                  'paperless_billing',\n",
    "                  'monthly_charges',\n",
    "                  'total_charges',\n",
    "                  'churn',\n",
    "                  'contract_type',\n",
    "                  'internet_service_type',\n",
    "                  'payment_type',\n",
    "                  'binned_tenure'])"
   ]
  },
  {
   "cell_type": "code",
   "execution_count": 69,
   "id": "b9e6b287",
   "metadata": {},
   "outputs": [
    {
     "data": {
      "text/html": [
       "<div>\n",
       "<style scoped>\n",
       "    .dataframe tbody tr th:only-of-type {\n",
       "        vertical-align: middle;\n",
       "    }\n",
       "\n",
       "    .dataframe tbody tr th {\n",
       "        vertical-align: top;\n",
       "    }\n",
       "\n",
       "    .dataframe thead th {\n",
       "        text-align: right;\n",
       "    }\n",
       "</style>\n",
       "<table border=\"1\" class=\"dataframe\">\n",
       "  <thead>\n",
       "    <tr style=\"text-align: right;\">\n",
       "      <th></th>\n",
       "      <th>churn</th>\n",
       "      <th>binned_tenure</th>\n",
       "      <th>Count</th>\n",
       "      <th>Percent</th>\n",
       "    </tr>\n",
       "  </thead>\n",
       "  <tbody>\n",
       "    <tr>\n",
       "      <th>0</th>\n",
       "      <td>No</td>\n",
       "      <td>1year</td>\n",
       "      <td>639</td>\n",
       "      <td>0.162306</td>\n",
       "    </tr>\n",
       "    <tr>\n",
       "      <th>1</th>\n",
       "      <td>Yes</td>\n",
       "      <td>1year</td>\n",
       "      <td>581</td>\n",
       "      <td>0.147574</td>\n",
       "    </tr>\n",
       "    <tr>\n",
       "      <th>2</th>\n",
       "      <td>No</td>\n",
       "      <td>2years</td>\n",
       "      <td>386</td>\n",
       "      <td>0.098044</td>\n",
       "    </tr>\n",
       "    <tr>\n",
       "      <th>3</th>\n",
       "      <td>Yes</td>\n",
       "      <td>2years</td>\n",
       "      <td>146</td>\n",
       "      <td>0.037084</td>\n",
       "    </tr>\n",
       "    <tr>\n",
       "      <th>4</th>\n",
       "      <td>No</td>\n",
       "      <td>3years</td>\n",
       "      <td>367</td>\n",
       "      <td>0.093218</td>\n",
       "    </tr>\n",
       "    <tr>\n",
       "      <th>5</th>\n",
       "      <td>Yes</td>\n",
       "      <td>3years</td>\n",
       "      <td>102</td>\n",
       "      <td>0.025908</td>\n",
       "    </tr>\n",
       "    <tr>\n",
       "      <th>6</th>\n",
       "      <td>No</td>\n",
       "      <td>4years</td>\n",
       "      <td>347</td>\n",
       "      <td>0.088138</td>\n",
       "    </tr>\n",
       "    <tr>\n",
       "      <th>7</th>\n",
       "      <td>Yes</td>\n",
       "      <td>4years</td>\n",
       "      <td>92</td>\n",
       "      <td>0.023368</td>\n",
       "    </tr>\n",
       "    <tr>\n",
       "      <th>8</th>\n",
       "      <td>No</td>\n",
       "      <td>5years</td>\n",
       "      <td>391</td>\n",
       "      <td>0.099314</td>\n",
       "    </tr>\n",
       "    <tr>\n",
       "      <th>9</th>\n",
       "      <td>Yes</td>\n",
       "      <td>5years</td>\n",
       "      <td>68</td>\n",
       "      <td>0.017272</td>\n",
       "    </tr>\n",
       "    <tr>\n",
       "      <th>10</th>\n",
       "      <td>No</td>\n",
       "      <td>6years</td>\n",
       "      <td>761</td>\n",
       "      <td>0.193294</td>\n",
       "    </tr>\n",
       "    <tr>\n",
       "      <th>11</th>\n",
       "      <td>Yes</td>\n",
       "      <td>6years</td>\n",
       "      <td>57</td>\n",
       "      <td>0.014478</td>\n",
       "    </tr>\n",
       "  </tbody>\n",
       "</table>\n",
       "</div>"
      ],
      "text/plain": [
       "   churn binned_tenure  Count   Percent\n",
       "0     No         1year    639  0.162306\n",
       "1    Yes         1year    581  0.147574\n",
       "2     No        2years    386  0.098044\n",
       "3    Yes        2years    146  0.037084\n",
       "4     No        3years    367  0.093218\n",
       "5    Yes        3years    102  0.025908\n",
       "6     No        4years    347  0.088138\n",
       "7    Yes        4years     92  0.023368\n",
       "8     No        5years    391  0.099314\n",
       "9    Yes        5years     68  0.017272\n",
       "10    No        6years    761  0.193294\n",
       "11   Yes        6years     57  0.014478"
      ]
     },
     "execution_count": 69,
     "metadata": {},
     "output_type": "execute_result"
    }
   ],
   "source": [
    "frequency(train, ['churn',\n",
    "                  'binned_tenure'])"
   ]
  },
  {
   "cell_type": "markdown",
   "id": "fb1acb7d",
   "metadata": {},
   "source": [
    "### Non-Numeric Data"
   ]
  },
  {
   "cell_type": "markdown",
   "id": "14be2ca9",
   "metadata": {},
   "source": [
    "### Gender"
   ]
  },
  {
   "cell_type": "code",
   "execution_count": 40,
   "id": "1f400005",
   "metadata": {
    "scrolled": false
   },
   "outputs": [
    {
     "data": {
      "text/html": [
       "<div>\n",
       "<style scoped>\n",
       "    .dataframe tbody tr th:only-of-type {\n",
       "        vertical-align: middle;\n",
       "    }\n",
       "\n",
       "    .dataframe tbody tr th {\n",
       "        vertical-align: top;\n",
       "    }\n",
       "\n",
       "    .dataframe thead th {\n",
       "        text-align: right;\n",
       "    }\n",
       "</style>\n",
       "<table border=\"1\" class=\"dataframe\">\n",
       "  <thead>\n",
       "    <tr style=\"text-align: right;\">\n",
       "      <th>gender</th>\n",
       "      <th>Female</th>\n",
       "      <th>Male</th>\n",
       "    </tr>\n",
       "    <tr>\n",
       "      <th>churn</th>\n",
       "      <th></th>\n",
       "      <th></th>\n",
       "    </tr>\n",
       "  </thead>\n",
       "  <tbody>\n",
       "    <tr>\n",
       "      <th>No</th>\n",
       "      <td>0.498098</td>\n",
       "      <td>0.501902</td>\n",
       "    </tr>\n",
       "    <tr>\n",
       "      <th>Yes</th>\n",
       "      <td>0.498088</td>\n",
       "      <td>0.501912</td>\n",
       "    </tr>\n",
       "  </tbody>\n",
       "</table>\n",
       "</div>"
      ],
      "text/plain": [
       "gender    Female      Male\n",
       "churn                     \n",
       "No      0.498098  0.501902\n",
       "Yes     0.498088  0.501912"
      ]
     },
     "execution_count": 40,
     "metadata": {},
     "output_type": "execute_result"
    }
   ],
   "source": [
    "churn_gender_ctab = pd.crosstab(index=train.churn, columns=train.gender, normalize=\"index\")\n",
    "churn_gender_ctab"
   ]
  },
  {
   "cell_type": "code",
   "execution_count": 41,
   "id": "f40d5ad9",
   "metadata": {
    "scrolled": false
   },
   "outputs": [
    {
     "data": {
      "image/png": "[encoded data removed]",
      "text/plain": [
       "<Figure size 720x432 with 1 Axes>"
      ]
     },
     "metadata": {
      "needs_background": "light"
     },
     "output_type": "display_data"
    }
   ],
   "source": [
    "churn_gender_ctab.plot(kind='bar', \n",
    "                    stacked=True, \n",
    "                    colormap='tab10', \n",
    "                    figsize=(10, 6))\n",
    "\n",
    "plt.legend(loc=\"upper left\", ncol=2)\n",
    "plt.xlabel(\"Churn\")\n",
    "plt.ylabel(\"Percent of Female vs Male\")\n",
    "plt.show()"
   ]
  },
  {
   "cell_type": "markdown",
   "id": "cf0eb26e",
   "metadata": {},
   "source": [
    "### Takeaways\n",
    "Gender does not seem to have any impact on churn"
   ]
  },
  {
   "cell_type": "markdown",
   "id": "f8c5ac4d",
   "metadata": {},
   "source": [
    "### Senior Status"
   ]
  },
  {
   "cell_type": "code",
   "execution_count": 43,
   "id": "f0d737c8",
   "metadata": {},
   "outputs": [
    {
     "data": {
      "text/html": [
       "<div>\n",
       "<style scoped>\n",
       "    .dataframe tbody tr th:only-of-type {\n",
       "        vertical-align: middle;\n",
       "    }\n",
       "\n",
       "    .dataframe tbody tr th {\n",
       "        vertical-align: top;\n",
       "    }\n",
       "\n",
       "    .dataframe thead th {\n",
       "        text-align: right;\n",
       "    }\n",
       "</style>\n",
       "<table border=\"1\" class=\"dataframe\">\n",
       "  <thead>\n",
       "    <tr style=\"text-align: right;\">\n",
       "      <th>senior_citizen</th>\n",
       "      <th>0</th>\n",
       "      <th>1</th>\n",
       "    </tr>\n",
       "    <tr>\n",
       "      <th>churn</th>\n",
       "      <th></th>\n",
       "      <th></th>\n",
       "    </tr>\n",
       "  </thead>\n",
       "  <tbody>\n",
       "    <tr>\n",
       "      <th>No</th>\n",
       "      <td>0.874092</td>\n",
       "      <td>0.125908</td>\n",
       "    </tr>\n",
       "    <tr>\n",
       "      <th>Yes</th>\n",
       "      <td>0.740918</td>\n",
       "      <td>0.259082</td>\n",
       "    </tr>\n",
       "  </tbody>\n",
       "</table>\n",
       "</div>"
      ],
      "text/plain": [
       "senior_citizen         0         1\n",
       "churn                             \n",
       "No              0.874092  0.125908\n",
       "Yes             0.740918  0.259082"
      ]
     },
     "execution_count": 43,
     "metadata": {},
     "output_type": "execute_result"
    }
   ],
   "source": [
    "churn_senior_ctab = pd.crosstab(index=train.churn, columns=train.senior_citizen, normalize=\"index\")\n",
    "churn_senior_ctab"
   ]
  },
  {
   "cell_type": "code",
   "execution_count": 81,
   "id": "e7292fee",
   "metadata": {
    "scrolled": false
   },
   "outputs": [
    {
     "data": {
      "image/png": "[encoded data removed]",
      "text/plain": [
       "<Figure size 720x432 with 1 Axes>"
      ]
     },
     "metadata": {
      "needs_background": "light"
     },
     "output_type": "display_data"
    }
   ],
   "source": [
    "churn_senior_ctab.plot(kind='bar', \n",
    "                    stacked=True, \n",
    "                    colormap='Accent', \n",
    "                    figsize=(10, 6))\n",
    "\n",
    "plt.legend(loc=\"upper left\", ncol=2)\n",
    "plt.xlabel(\"Churn\")\n",
    "plt.ylabel(\"Percent of Non-senior (0) vs Senior (1)\")\n",
    "plt.show()"
   ]
  },
  {
   "cell_type": "markdown",
   "id": "fe9adf02",
   "metadata": {},
   "source": [
    "### Takeaways\n",
    "\n",
    "Non senior seem to churn more but they are a bigger proprtion of this population"
   ]
  },
  {
   "cell_type": "markdown",
   "id": "1e740d47",
   "metadata": {},
   "source": [
    "### Partner Status"
   ]
  },
  {
   "cell_type": "code",
   "execution_count": 72,
   "id": "be807d1c",
   "metadata": {},
   "outputs": [
    {
     "data": {
      "text/html": [
       "<div>\n",
       "<style scoped>\n",
       "    .dataframe tbody tr th:only-of-type {\n",
       "        vertical-align: middle;\n",
       "    }\n",
       "\n",
       "    .dataframe tbody tr th {\n",
       "        vertical-align: top;\n",
       "    }\n",
       "\n",
       "    .dataframe thead th {\n",
       "        text-align: right;\n",
       "    }\n",
       "</style>\n",
       "<table border=\"1\" class=\"dataframe\">\n",
       "  <thead>\n",
       "    <tr style=\"text-align: right;\">\n",
       "      <th>partner</th>\n",
       "      <th>No</th>\n",
       "      <th>Yes</th>\n",
       "    </tr>\n",
       "    <tr>\n",
       "      <th>churn</th>\n",
       "      <th></th>\n",
       "      <th></th>\n",
       "    </tr>\n",
       "  </thead>\n",
       "  <tbody>\n",
       "    <tr>\n",
       "      <th>No</th>\n",
       "      <td>0.471809</td>\n",
       "      <td>0.528191</td>\n",
       "    </tr>\n",
       "    <tr>\n",
       "      <th>Yes</th>\n",
       "      <td>0.633843</td>\n",
       "      <td>0.366157</td>\n",
       "    </tr>\n",
       "  </tbody>\n",
       "</table>\n",
       "</div>"
      ],
      "text/plain": [
       "partner        No       Yes\n",
       "churn                      \n",
       "No       0.471809  0.528191\n",
       "Yes      0.633843  0.366157"
      ]
     },
     "execution_count": 72,
     "metadata": {},
     "output_type": "execute_result"
    }
   ],
   "source": [
    "partner_churn_ctab = pd.crosstab(index=train.churn, columns=train.partner, normalize=\"index\")\n",
    "partner_churn_ctab"
   ]
  },
  {
   "cell_type": "code",
   "execution_count": 84,
   "id": "5ae7a849",
   "metadata": {
    "scrolled": false
   },
   "outputs": [
    {
     "data": {
      "image/png": "[encoded data removed]",
      "text/plain": [
       "<Figure size 720x432 with 1 Axes>"
      ]
     },
     "metadata": {
      "needs_background": "light"
     },
     "output_type": "display_data"
    }
   ],
   "source": [
    "partner_churn_ctab.plot(kind='bar', \n",
    "                    stacked=True, \n",
    "                    colormap='icefire', \n",
    "                    figsize=(10, 6))\n",
    "\n",
    "plt.legend(loc=\"upper left\", ncol=2)\n",
    "plt.xlabel(\"Churn\")\n",
    "plt.ylabel(\"Percent of Has partner vs No partner\")\n",
    "plt.show()"
   ]
  },
  {
   "cell_type": "markdown",
   "id": "faf662a1",
   "metadata": {},
   "source": [
    "### Takeaways\n",
    "Those who do not have partners churn more than those who do"
   ]
  },
  {
   "cell_type": "markdown",
   "id": "0254ce3f",
   "metadata": {},
   "source": [
    "### Dependent Status"
   ]
  },
  {
   "cell_type": "code",
   "execution_count": 87,
   "id": "31ac9916",
   "metadata": {},
   "outputs": [
    {
     "data": {
      "text/html": [
       "<div>\n",
       "<style scoped>\n",
       "    .dataframe tbody tr th:only-of-type {\n",
       "        vertical-align: middle;\n",
       "    }\n",
       "\n",
       "    .dataframe tbody tr th {\n",
       "        vertical-align: top;\n",
       "    }\n",
       "\n",
       "    .dataframe thead th {\n",
       "        text-align: right;\n",
       "    }\n",
       "</style>\n",
       "<table border=\"1\" class=\"dataframe\">\n",
       "  <thead>\n",
       "    <tr style=\"text-align: right;\">\n",
       "      <th>dependents</th>\n",
       "      <th>No</th>\n",
       "      <th>Yes</th>\n",
       "    </tr>\n",
       "    <tr>\n",
       "      <th>churn</th>\n",
       "      <th></th>\n",
       "      <th></th>\n",
       "    </tr>\n",
       "  </thead>\n",
       "  <tbody>\n",
       "    <tr>\n",
       "      <th>No</th>\n",
       "      <td>0.652024</td>\n",
       "      <td>0.347976</td>\n",
       "    </tr>\n",
       "    <tr>\n",
       "      <th>Yes</th>\n",
       "      <td>0.822180</td>\n",
       "      <td>0.177820</td>\n",
       "    </tr>\n",
       "  </tbody>\n",
       "</table>\n",
       "</div>"
      ],
      "text/plain": [
       "dependents        No       Yes\n",
       "churn                         \n",
       "No          0.652024  0.347976\n",
       "Yes         0.822180  0.177820"
      ]
     },
     "execution_count": 87,
     "metadata": {},
     "output_type": "execute_result"
    }
   ],
   "source": [
    "churn_dependents_ctab = pd.crosstab(index=train.churn, columns=train.dependents, normalize=\"index\")\n",
    "churn_dependents_ctab"
   ]
  },
  {
   "cell_type": "code",
   "execution_count": 88,
   "id": "4449b942",
   "metadata": {
    "scrolled": false
   },
   "outputs": [
    {
     "data": {
      "image/png": "[encoded data removed]",
      "text/plain": [
       "<Figure size 720x432 with 1 Axes>"
      ]
     },
     "metadata": {
      "needs_background": "light"
     },
     "output_type": "display_data"
    }
   ],
   "source": [
    "churn_dependents_ctab.plot(kind='bar', \n",
    "                    stacked=True, \n",
    "                    colormap='tab10', \n",
    "                    figsize=(10, 6))\n",
    "\n",
    "plt.legend(loc=\"upper left\", ncol=2)\n",
    "plt.xlabel(\"Churn\")\n",
    "plt.ylabel(\"Percent of Female vs Male\")\n",
    "plt.show()"
   ]
  },
  {
   "cell_type": "markdown",
   "id": "0277cf18",
   "metadata": {},
   "source": [
    "### Takeaways\n",
    "Those who have a dependent are slightely more likely to churn"
   ]
  },
  {
   "cell_type": "markdown",
   "id": "645ea3cd",
   "metadata": {},
   "source": [
    "### Phone service possession"
   ]
  },
  {
   "cell_type": "code",
   "execution_count": 90,
   "id": "1d89e1f5",
   "metadata": {},
   "outputs": [
    {
     "data": {
      "text/html": [
       "<div>\n",
       "<style scoped>\n",
       "    .dataframe tbody tr th:only-of-type {\n",
       "        vertical-align: middle;\n",
       "    }\n",
       "\n",
       "    .dataframe tbody tr th {\n",
       "        vertical-align: top;\n",
       "    }\n",
       "\n",
       "    .dataframe thead th {\n",
       "        text-align: right;\n",
       "    }\n",
       "</style>\n",
       "<table border=\"1\" class=\"dataframe\">\n",
       "  <thead>\n",
       "    <tr style=\"text-align: right;\">\n",
       "      <th>phone_service</th>\n",
       "      <th>No</th>\n",
       "      <th>Yes</th>\n",
       "    </tr>\n",
       "    <tr>\n",
       "      <th>churn</th>\n",
       "      <th></th>\n",
       "      <th></th>\n",
       "    </tr>\n",
       "  </thead>\n",
       "  <tbody>\n",
       "    <tr>\n",
       "      <th>No</th>\n",
       "      <td>0.097544</td>\n",
       "      <td>0.902456</td>\n",
       "    </tr>\n",
       "    <tr>\n",
       "      <th>Yes</th>\n",
       "      <td>0.086998</td>\n",
       "      <td>0.913002</td>\n",
       "    </tr>\n",
       "  </tbody>\n",
       "</table>\n",
       "</div>"
      ],
      "text/plain": [
       "phone_service        No       Yes\n",
       "churn                            \n",
       "No             0.097544  0.902456\n",
       "Yes            0.086998  0.913002"
      ]
     },
     "execution_count": 90,
     "metadata": {},
     "output_type": "execute_result"
    }
   ],
   "source": [
    "churn_phone_service_ctab = pd.crosstab(index=train.churn, columns=train.phone_service, normalize=\"index\")\n",
    "churn_phone_service_ctab"
   ]
  },
  {
   "cell_type": "code",
   "execution_count": 97,
   "id": "ebfc5a87",
   "metadata": {
    "scrolled": false
   },
   "outputs": [
    {
     "data": {
      "image/png": "[encoded data removed]",
      "text/plain": [
       "<Figure size 720x432 with 1 Axes>"
      ]
     },
     "metadata": {
      "needs_background": "light"
     },
     "output_type": "display_data"
    }
   ],
   "source": [
    "churn_phone_service_ctab.plot(kind='bar', \n",
    "                    stacked=True, \n",
    "                    colormap='Set1', \n",
    "                    figsize=(10, 6))\n",
    "\n",
    "plt.legend(loc=\"upper left\", ncol=2)\n",
    "plt.xlabel(\"Churn\")\n",
    "plt.ylabel(\"Percent of Not having phone service vs Phone service\")\n",
    "plt.show()"
   ]
  },
  {
   "cell_type": "markdown",
   "id": "ad07085f",
   "metadata": {},
   "source": [
    "### Takeaways\n",
    "Those who have a phone service churn enormously but as we saw earlier they make up most of the population"
   ]
  },
  {
   "cell_type": "markdown",
   "id": "9570aa00",
   "metadata": {},
   "source": [
    "### Having multiple lines"
   ]
  },
  {
   "cell_type": "code",
   "execution_count": 98,
   "id": "3e47bda1",
   "metadata": {},
   "outputs": [
    {
     "data": {
      "text/html": [
       "<div>\n",
       "<style scoped>\n",
       "    .dataframe tbody tr th:only-of-type {\n",
       "        vertical-align: middle;\n",
       "    }\n",
       "\n",
       "    .dataframe tbody tr th {\n",
       "        vertical-align: top;\n",
       "    }\n",
       "\n",
       "    .dataframe thead th {\n",
       "        text-align: right;\n",
       "    }\n",
       "</style>\n",
       "<table border=\"1\" class=\"dataframe\">\n",
       "  <thead>\n",
       "    <tr style=\"text-align: right;\">\n",
       "      <th>multiple_lines</th>\n",
       "      <th>No</th>\n",
       "      <th>No phone service</th>\n",
       "      <th>Yes</th>\n",
       "    </tr>\n",
       "    <tr>\n",
       "      <th>churn</th>\n",
       "      <th></th>\n",
       "      <th></th>\n",
       "      <th></th>\n",
       "    </tr>\n",
       "  </thead>\n",
       "  <tbody>\n",
       "    <tr>\n",
       "      <th>No</th>\n",
       "      <td>0.494293</td>\n",
       "      <td>0.097544</td>\n",
       "      <td>0.408163</td>\n",
       "    </tr>\n",
       "    <tr>\n",
       "      <th>Yes</th>\n",
       "      <td>0.445507</td>\n",
       "      <td>0.086998</td>\n",
       "      <td>0.467495</td>\n",
       "    </tr>\n",
       "  </tbody>\n",
       "</table>\n",
       "</div>"
      ],
      "text/plain": [
       "multiple_lines        No  No phone service       Yes\n",
       "churn                                               \n",
       "No              0.494293          0.097544  0.408163\n",
       "Yes             0.445507          0.086998  0.467495"
      ]
     },
     "execution_count": 98,
     "metadata": {},
     "output_type": "execute_result"
    }
   ],
   "source": [
    "churn_multiple_lines_ctab = pd.crosstab(index=train.churn, columns=train.multiple_lines, normalize=\"index\")\n",
    "churn_multiple_lines_ctab"
   ]
  },
  {
   "cell_type": "code",
   "execution_count": 100,
   "id": "9b6390b3",
   "metadata": {
    "scrolled": false
   },
   "outputs": [
    {
     "data": {
      "image/png": "[encoded data removed]",
      "text/plain": [
       "<Figure size 720x432 with 1 Axes>"
      ]
     },
     "metadata": {
      "needs_background": "light"
     },
     "output_type": "display_data"
    }
   ],
   "source": [
    "churn_multiple_lines_ctab.plot(kind='bar', \n",
    "                    stacked=True, \n",
    "                    colormap='Set2', \n",
    "                    figsize=(10, 6))\n",
    "\n",
    "plt.legend(loc=\"upper left\", ncol=2)\n",
    "plt.xlabel(\"Churn\")\n",
    "plt.ylabel(\"Has multiple lines (Yes), One line (No), No phone service. Percent\")\n",
    "plt.show()"
   ]
  },
  {
   "cell_type": "markdown",
   "id": "4b970b31",
   "metadata": {},
   "source": [
    "### Takeaways\n",
    "Proportions are pretty equal here"
   ]
  },
  {
   "cell_type": "markdown",
   "id": "bf50c57b",
   "metadata": {},
   "source": [
    "### Online security service"
   ]
  },
  {
   "cell_type": "code",
   "execution_count": 102,
   "id": "5f36c13d",
   "metadata": {},
   "outputs": [
    {
     "data": {
      "text/html": [
       "<div>\n",
       "<style scoped>\n",
       "    .dataframe tbody tr th:only-of-type {\n",
       "        vertical-align: middle;\n",
       "    }\n",
       "\n",
       "    .dataframe tbody tr th {\n",
       "        vertical-align: top;\n",
       "    }\n",
       "\n",
       "    .dataframe thead th {\n",
       "        text-align: right;\n",
       "    }\n",
       "</style>\n",
       "<table border=\"1\" class=\"dataframe\">\n",
       "  <thead>\n",
       "    <tr style=\"text-align: right;\">\n",
       "      <th>online_security</th>\n",
       "      <th>No</th>\n",
       "      <th>No internet service</th>\n",
       "      <th>Yes</th>\n",
       "    </tr>\n",
       "    <tr>\n",
       "      <th>churn</th>\n",
       "      <th></th>\n",
       "      <th></th>\n",
       "      <th></th>\n",
       "    </tr>\n",
       "  </thead>\n",
       "  <tbody>\n",
       "    <tr>\n",
       "      <th>No</th>\n",
       "      <td>0.380145</td>\n",
       "      <td>0.277759</td>\n",
       "      <td>0.342096</td>\n",
       "    </tr>\n",
       "    <tr>\n",
       "      <th>Yes</th>\n",
       "      <td>0.782983</td>\n",
       "      <td>0.061185</td>\n",
       "      <td>0.155832</td>\n",
       "    </tr>\n",
       "  </tbody>\n",
       "</table>\n",
       "</div>"
      ],
      "text/plain": [
       "online_security        No  No internet service       Yes\n",
       "churn                                                   \n",
       "No               0.380145             0.277759  0.342096\n",
       "Yes              0.782983             0.061185  0.155832"
      ]
     },
     "execution_count": 102,
     "metadata": {},
     "output_type": "execute_result"
    }
   ],
   "source": [
    "churn_online_security_ctab = pd.crosstab(index=train.churn, columns=train.online_security, normalize=\"index\")\n",
    "churn_online_security_ctab"
   ]
  },
  {
   "cell_type": "code",
   "execution_count": 104,
   "id": "804a4a8f",
   "metadata": {
    "scrolled": false
   },
   "outputs": [
    {
     "data": {
      "image/png": "[encoded data removed]",
      "text/plain": [
       "<Figure size 720x432 with 1 Axes>"
      ]
     },
     "metadata": {
      "needs_background": "light"
     },
     "output_type": "display_data"
    }
   ],
   "source": [
    "churn_online_security_ctab.plot(kind='bar', \n",
    "                    stacked=True, \n",
    "                    colormap='tab10', \n",
    "                    figsize=(10, 6))\n",
    "\n",
    "plt.legend(loc=\"upper left\", ncol=2)\n",
    "plt.xlabel(\"Churn\")\n",
    "plt.ylabel(\"No online security (No), No internet, Online Security (Yes), in percent\")\n",
    "plt.show()"
   ]
  },
  {
   "cell_type": "markdown",
   "id": "1a8e4703",
   "metadata": {},
   "source": [
    "### Takeaways\n",
    "Those who do not have this service churn the most"
   ]
  },
  {
   "cell_type": "markdown",
   "id": "1f9c95ef",
   "metadata": {},
   "source": [
    "### Online backup service"
   ]
  },
  {
   "cell_type": "code",
   "execution_count": 105,
   "id": "8d4d6452",
   "metadata": {},
   "outputs": [
    {
     "data": {
      "text/html": [
       "<div>\n",
       "<style scoped>\n",
       "    .dataframe tbody tr th:only-of-type {\n",
       "        vertical-align: middle;\n",
       "    }\n",
       "\n",
       "    .dataframe tbody tr th {\n",
       "        vertical-align: top;\n",
       "    }\n",
       "\n",
       "    .dataframe thead th {\n",
       "        text-align: right;\n",
       "    }\n",
       "</style>\n",
       "<table border=\"1\" class=\"dataframe\">\n",
       "  <thead>\n",
       "    <tr style=\"text-align: right;\">\n",
       "      <th>online_backup</th>\n",
       "      <th>No</th>\n",
       "      <th>No internet service</th>\n",
       "      <th>Yes</th>\n",
       "    </tr>\n",
       "    <tr>\n",
       "      <th>churn</th>\n",
       "      <th></th>\n",
       "      <th></th>\n",
       "      <th></th>\n",
       "    </tr>\n",
       "  </thead>\n",
       "  <tbody>\n",
       "    <tr>\n",
       "      <th>No</th>\n",
       "      <td>0.353857</td>\n",
       "      <td>0.277759</td>\n",
       "      <td>0.368385</td>\n",
       "    </tr>\n",
       "    <tr>\n",
       "      <th>Yes</th>\n",
       "      <td>0.644359</td>\n",
       "      <td>0.061185</td>\n",
       "      <td>0.294455</td>\n",
       "    </tr>\n",
       "  </tbody>\n",
       "</table>\n",
       "</div>"
      ],
      "text/plain": [
       "online_backup        No  No internet service       Yes\n",
       "churn                                                 \n",
       "No             0.353857             0.277759  0.368385\n",
       "Yes            0.644359             0.061185  0.294455"
      ]
     },
     "execution_count": 105,
     "metadata": {},
     "output_type": "execute_result"
    }
   ],
   "source": [
    "churn_online_backup_ctab = pd.crosstab(index=train.churn, columns=train.online_backup, normalize=\"index\")\n",
    "churn_online_backup_ctab"
   ]
  },
  {
   "cell_type": "code",
   "execution_count": 107,
   "id": "285e701b",
   "metadata": {
    "scrolled": false
   },
   "outputs": [
    {
     "data": {
      "image/png": "[encoded data removed]",
      "text/plain": [
       "<Figure size 720x432 with 1 Axes>"
      ]
     },
     "metadata": {
      "needs_background": "light"
     },
     "output_type": "display_data"
    }
   ],
   "source": [
    "churn_online_backup_ctab.plot(kind='bar', \n",
    "                    stacked=True, \n",
    "                    colormap='icefire', \n",
    "                    figsize=(10, 6))\n",
    "\n",
    "plt.legend(loc='upper left', ncol=2)\n",
    "plt.xlabel('Churn')\n",
    "plt.ylabel('No online backup (No), No internet, Online backup (Yes), in percent')\n",
    "plt.show()"
   ]
  },
  {
   "cell_type": "markdown",
   "id": "07d7429c",
   "metadata": {},
   "source": [
    "### Device protection service"
   ]
  },
  {
   "cell_type": "code",
   "execution_count": 108,
   "id": "aa395761",
   "metadata": {},
   "outputs": [
    {
     "data": {
      "text/html": [
       "<div>\n",
       "<style scoped>\n",
       "    .dataframe tbody tr th:only-of-type {\n",
       "        vertical-align: middle;\n",
       "    }\n",
       "\n",
       "    .dataframe tbody tr th {\n",
       "        vertical-align: top;\n",
       "    }\n",
       "\n",
       "    .dataframe thead th {\n",
       "        text-align: right;\n",
       "    }\n",
       "</style>\n",
       "<table border=\"1\" class=\"dataframe\">\n",
       "  <thead>\n",
       "    <tr style=\"text-align: right;\">\n",
       "      <th>device_protection</th>\n",
       "      <th>No</th>\n",
       "      <th>No internet service</th>\n",
       "      <th>Yes</th>\n",
       "    </tr>\n",
       "    <tr>\n",
       "      <th>churn</th>\n",
       "      <th></th>\n",
       "      <th></th>\n",
       "      <th></th>\n",
       "    </tr>\n",
       "  </thead>\n",
       "  <tbody>\n",
       "    <tr>\n",
       "      <th>No</th>\n",
       "      <td>0.355240</td>\n",
       "      <td>0.277759</td>\n",
       "      <td>0.367001</td>\n",
       "    </tr>\n",
       "    <tr>\n",
       "      <th>Yes</th>\n",
       "      <td>0.636711</td>\n",
       "      <td>0.061185</td>\n",
       "      <td>0.302103</td>\n",
       "    </tr>\n",
       "  </tbody>\n",
       "</table>\n",
       "</div>"
      ],
      "text/plain": [
       "device_protection        No  No internet service       Yes\n",
       "churn                                                     \n",
       "No                 0.355240             0.277759  0.367001\n",
       "Yes                0.636711             0.061185  0.302103"
      ]
     },
     "execution_count": 108,
     "metadata": {},
     "output_type": "execute_result"
    }
   ],
   "source": [
    "churn_device_protection_ctab = pd.crosstab(index=train.churn, columns=train.device_protection, normalize=\"index\")\n",
    "churn_device_protection_ctab"
   ]
  },
  {
   "cell_type": "code",
   "execution_count": 109,
   "id": "b19a3612",
   "metadata": {
    "scrolled": false
   },
   "outputs": [
    {
     "data": {
      "image/png": "[encoded data removed]",
      "text/plain": [
       "<Figure size 720x432 with 1 Axes>"
      ]
     },
     "metadata": {
      "needs_background": "light"
     },
     "output_type": "display_data"
    }
   ],
   "source": [
    "churn_device_protection_ctab.plot(kind='bar', \n",
    "                    stacked=True, \n",
    "                    colormap='tab10', \n",
    "                    figsize=(10, 6))\n",
    "\n",
    "plt.legend(loc=\"upper left\", ncol=2)\n",
    "plt.xlabel(\"Churn\")\n",
    "plt.ylabel('No device protection (No), No internet, Device protection (Yes), in percent')\n",
    "plt.show()"
   ]
  },
  {
   "cell_type": "markdown",
   "id": "ca541816",
   "metadata": {},
   "source": [
    "### Takeaways\n",
    "Those who do not have the service tend to churn more"
   ]
  },
  {
   "cell_type": "markdown",
   "id": "a71c52f9",
   "metadata": {},
   "source": [
    "### Tech support"
   ]
  },
  {
   "cell_type": "code",
   "execution_count": 111,
   "id": "90eec83a",
   "metadata": {
    "scrolled": true
   },
   "outputs": [
    {
     "data": {
      "text/html": [
       "<div>\n",
       "<style scoped>\n",
       "    .dataframe tbody tr th:only-of-type {\n",
       "        vertical-align: middle;\n",
       "    }\n",
       "\n",
       "    .dataframe tbody tr th {\n",
       "        vertical-align: top;\n",
       "    }\n",
       "\n",
       "    .dataframe thead th {\n",
       "        text-align: right;\n",
       "    }\n",
       "</style>\n",
       "<table border=\"1\" class=\"dataframe\">\n",
       "  <thead>\n",
       "    <tr style=\"text-align: right;\">\n",
       "      <th>tech_support</th>\n",
       "      <th>No</th>\n",
       "      <th>No internet service</th>\n",
       "      <th>Yes</th>\n",
       "    </tr>\n",
       "    <tr>\n",
       "      <th>churn</th>\n",
       "      <th></th>\n",
       "      <th></th>\n",
       "      <th></th>\n",
       "    </tr>\n",
       "  </thead>\n",
       "  <tbody>\n",
       "    <tr>\n",
       "      <th>No</th>\n",
       "      <td>0.389485</td>\n",
       "      <td>0.277759</td>\n",
       "      <td>0.332757</td>\n",
       "    </tr>\n",
       "    <tr>\n",
       "      <th>Yes</th>\n",
       "      <td>0.769598</td>\n",
       "      <td>0.061185</td>\n",
       "      <td>0.169216</td>\n",
       "    </tr>\n",
       "  </tbody>\n",
       "</table>\n",
       "</div>"
      ],
      "text/plain": [
       "tech_support        No  No internet service       Yes\n",
       "churn                                                \n",
       "No            0.389485             0.277759  0.332757\n",
       "Yes           0.769598             0.061185  0.169216"
      ]
     },
     "execution_count": 111,
     "metadata": {},
     "output_type": "execute_result"
    }
   ],
   "source": [
    "churn_tech_support_ctab = pd.crosstab(index=train.churn, columns=train.tech_support, normalize=\"index\")\n",
    "churn_tech_support_ctab"
   ]
  },
  {
   "cell_type": "code",
   "execution_count": 118,
   "id": "0a03ef53",
   "metadata": {
    "scrolled": false
   },
   "outputs": [
    {
     "data": {
      "image/png": "[encoded data removed]",
      "text/plain": [
       "<Figure size 720x432 with 1 Axes>"
      ]
     },
     "metadata": {
      "needs_background": "light"
     },
     "output_type": "display_data"
    }
   ],
   "source": [
    "churn_tech_support_ctab.plot(kind='bar', \n",
    "                    stacked=True, \n",
    "                    colormap='Set1', \n",
    "                    figsize=(10, 6))\n",
    "\n",
    "plt.legend(loc=\"upper left\", ncol=2)\n",
    "plt.xlabel(\"Churn\")\n",
    "plt.ylabel('No tech support (No), No internet, Tech support (Yes), in percent')\n",
    "plt.show()"
   ]
  },
  {
   "cell_type": "markdown",
   "id": "83bee0bd",
   "metadata": {},
   "source": [
    "### Takeaways\n",
    "Those who do not have the service churn at a much higher rate"
   ]
  },
  {
   "cell_type": "markdown",
   "id": "74cbb37e",
   "metadata": {},
   "source": [
    "### Streaming TV"
   ]
  },
  {
   "cell_type": "code",
   "execution_count": 114,
   "id": "d6198029",
   "metadata": {
    "scrolled": true
   },
   "outputs": [
    {
     "data": {
      "text/html": [
       "<div>\n",
       "<style scoped>\n",
       "    .dataframe tbody tr th:only-of-type {\n",
       "        vertical-align: middle;\n",
       "    }\n",
       "\n",
       "    .dataframe tbody tr th {\n",
       "        vertical-align: top;\n",
       "    }\n",
       "\n",
       "    .dataframe thead th {\n",
       "        text-align: right;\n",
       "    }\n",
       "</style>\n",
       "<table border=\"1\" class=\"dataframe\">\n",
       "  <thead>\n",
       "    <tr style=\"text-align: right;\">\n",
       "      <th>streaming_tv</th>\n",
       "      <th>No</th>\n",
       "      <th>No internet service</th>\n",
       "      <th>Yes</th>\n",
       "    </tr>\n",
       "    <tr>\n",
       "      <th>churn</th>\n",
       "      <th></th>\n",
       "      <th></th>\n",
       "      <th></th>\n",
       "    </tr>\n",
       "  </thead>\n",
       "  <tbody>\n",
       "    <tr>\n",
       "      <th>No</th>\n",
       "      <td>0.347285</td>\n",
       "      <td>0.277759</td>\n",
       "      <td>0.374957</td>\n",
       "    </tr>\n",
       "    <tr>\n",
       "      <th>Yes</th>\n",
       "      <td>0.521033</td>\n",
       "      <td>0.061185</td>\n",
       "      <td>0.417782</td>\n",
       "    </tr>\n",
       "  </tbody>\n",
       "</table>\n",
       "</div>"
      ],
      "text/plain": [
       "streaming_tv        No  No internet service       Yes\n",
       "churn                                                \n",
       "No            0.347285             0.277759  0.374957\n",
       "Yes           0.521033             0.061185  0.417782"
      ]
     },
     "execution_count": 114,
     "metadata": {},
     "output_type": "execute_result"
    }
   ],
   "source": [
    "churn_streaming_tv_ctab = pd.crosstab(index=train.churn, columns=train.streaming_tv, normalize=\"index\")\n",
    "churn_streaming_tv_ctab"
   ]
  },
  {
   "cell_type": "code",
   "execution_count": 119,
   "id": "75e0fd66",
   "metadata": {
    "scrolled": false
   },
   "outputs": [
    {
     "data": {
      "image/png": "[encoded data removed]",
      "text/plain": [
       "<Figure size 720x432 with 1 Axes>"
      ]
     },
     "metadata": {
      "needs_background": "light"
     },
     "output_type": "display_data"
    }
   ],
   "source": [
    "churn_streaming_tv_ctab.plot(kind='bar', \n",
    "                    stacked=True, \n",
    "                    colormap='Set2', \n",
    "                    figsize=(10, 6))\n",
    "\n",
    "plt.legend(loc='upper left', ncol=2)\n",
    "plt.xlabel('Churn')\n",
    "plt.ylabel('No streaming tv (No), No internet, Streaming tv (Yes), in percent')\n",
    "plt.show()"
   ]
  },
  {
   "cell_type": "markdown",
   "id": "c3b9cc38",
   "metadata": {},
   "source": [
    "### Takeaways\n",
    "Proportions a pretty similar although those who do not have streaming tv churn a little more"
   ]
  },
  {
   "cell_type": "markdown",
   "id": "86c1bf3a",
   "metadata": {},
   "source": [
    "### Streaming movies"
   ]
  },
  {
   "cell_type": "code",
   "execution_count": 120,
   "id": "6a9c0cf3",
   "metadata": {
    "scrolled": true
   },
   "outputs": [
    {
     "data": {
      "text/html": [
       "<div>\n",
       "<style scoped>\n",
       "    .dataframe tbody tr th:only-of-type {\n",
       "        vertical-align: middle;\n",
       "    }\n",
       "\n",
       "    .dataframe tbody tr th {\n",
       "        vertical-align: top;\n",
       "    }\n",
       "\n",
       "    .dataframe thead th {\n",
       "        text-align: right;\n",
       "    }\n",
       "</style>\n",
       "<table border=\"1\" class=\"dataframe\">\n",
       "  <thead>\n",
       "    <tr style=\"text-align: right;\">\n",
       "      <th>streaming_movies</th>\n",
       "      <th>No</th>\n",
       "      <th>No internet service</th>\n",
       "      <th>Yes</th>\n",
       "    </tr>\n",
       "    <tr>\n",
       "      <th>churn</th>\n",
       "      <th></th>\n",
       "      <th></th>\n",
       "      <th></th>\n",
       "    </tr>\n",
       "  </thead>\n",
       "  <tbody>\n",
       "    <tr>\n",
       "      <th>No</th>\n",
       "      <td>0.345901</td>\n",
       "      <td>0.277759</td>\n",
       "      <td>0.376340</td>\n",
       "    </tr>\n",
       "    <tr>\n",
       "      <th>Yes</th>\n",
       "      <td>0.505736</td>\n",
       "      <td>0.061185</td>\n",
       "      <td>0.433078</td>\n",
       "    </tr>\n",
       "  </tbody>\n",
       "</table>\n",
       "</div>"
      ],
      "text/plain": [
       "streaming_movies        No  No internet service       Yes\n",
       "churn                                                    \n",
       "No                0.345901             0.277759  0.376340\n",
       "Yes               0.505736             0.061185  0.433078"
      ]
     },
     "execution_count": 120,
     "metadata": {},
     "output_type": "execute_result"
    }
   ],
   "source": [
    "churn_streaming_movies_ctab = pd.crosstab(index=train.churn, columns=train.streaming_movies, normalize=\"index\")\n",
    "churn_streaming_movies_ctab"
   ]
  },
  {
   "cell_type": "code",
   "execution_count": 121,
   "id": "79ec924c",
   "metadata": {
    "scrolled": false
   },
   "outputs": [
    {
     "data": {
      "image/png": "[encoded data removed]",
      "text/plain": [
       "<Figure size 720x432 with 1 Axes>"
      ]
     },
     "metadata": {
      "needs_background": "light"
     },
     "output_type": "display_data"
    }
   ],
   "source": [
    "churn_streaming_movies_ctab.plot(kind='bar', \n",
    "                    stacked=True, \n",
    "                    colormap='Accent', \n",
    "                    figsize=(10, 6))\n",
    "\n",
    "plt.legend(loc=\"upper left\", ncol=2)\n",
    "plt.xlabel(\"Churn\")\n",
    "plt.ylabel('No streaming movies (No), No internet, Streaming movies (Yes), in percent')\n",
    "plt.show()"
   ]
  },
  {
   "cell_type": "markdown",
   "id": "d0fcb735",
   "metadata": {},
   "source": [
    "### Takeaways\n",
    "Proportions a pretty similar although those who do not have streaming movies churn a little more"
   ]
  },
  {
   "cell_type": "markdown",
   "id": "a716eee8",
   "metadata": {},
   "source": [
    "### Paperless billing option"
   ]
  },
  {
   "cell_type": "code",
   "execution_count": 122,
   "id": "88e65119",
   "metadata": {
    "scrolled": true
   },
   "outputs": [
    {
     "data": {
      "text/html": [
       "<div>\n",
       "<style scoped>\n",
       "    .dataframe tbody tr th:only-of-type {\n",
       "        vertical-align: middle;\n",
       "    }\n",
       "\n",
       "    .dataframe tbody tr th {\n",
       "        vertical-align: top;\n",
       "    }\n",
       "\n",
       "    .dataframe thead th {\n",
       "        text-align: right;\n",
       "    }\n",
       "</style>\n",
       "<table border=\"1\" class=\"dataframe\">\n",
       "  <thead>\n",
       "    <tr style=\"text-align: right;\">\n",
       "      <th>paperless_billing</th>\n",
       "      <th>No</th>\n",
       "      <th>Yes</th>\n",
       "    </tr>\n",
       "    <tr>\n",
       "      <th>churn</th>\n",
       "      <th></th>\n",
       "      <th></th>\n",
       "    </tr>\n",
       "  </thead>\n",
       "  <tbody>\n",
       "    <tr>\n",
       "      <th>No</th>\n",
       "      <td>0.465929</td>\n",
       "      <td>0.534071</td>\n",
       "    </tr>\n",
       "    <tr>\n",
       "      <th>Yes</th>\n",
       "      <td>0.254302</td>\n",
       "      <td>0.745698</td>\n",
       "    </tr>\n",
       "  </tbody>\n",
       "</table>\n",
       "</div>"
      ],
      "text/plain": [
       "paperless_billing        No       Yes\n",
       "churn                                \n",
       "No                 0.465929  0.534071\n",
       "Yes                0.254302  0.745698"
      ]
     },
     "execution_count": 122,
     "metadata": {},
     "output_type": "execute_result"
    }
   ],
   "source": [
    "churn_paperless_billing_ctab = pd.crosstab(index=train.churn, columns=train.paperless_billing, normalize=\"index\")\n",
    "churn_paperless_billing_ctab"
   ]
  },
  {
   "cell_type": "code",
   "execution_count": 123,
   "id": "2fe71fd0",
   "metadata": {
    "scrolled": false
   },
   "outputs": [
    {
     "data": {
      "image/png": "[encoded data removed]",
      "text/plain": [
       "<Figure size 720x432 with 1 Axes>"
      ]
     },
     "metadata": {
      "needs_background": "light"
     },
     "output_type": "display_data"
    }
   ],
   "source": [
    "churn_paperless_billing_ctab.plot(kind='bar', \n",
    "                    stacked=True, \n",
    "                    colormap='tab10', \n",
    "                    figsize=(10, 6))\n",
    "\n",
    "plt.legend(loc=\"upper left\", ncol=2)\n",
    "plt.xlabel(\"Churn\")\n",
    "plt.ylabel('No paperles billing (No), Paperles billing (Yes), in percent')\n",
    "plt.show()"
   ]
  },
  {
   "cell_type": "markdown",
   "id": "1f133137",
   "metadata": {},
   "source": [
    "### Takeaways\n",
    "Surprisingly those who have paperless billing churn at a higher rate in this group"
   ]
  },
  {
   "cell_type": "markdown",
   "id": "4971fadc",
   "metadata": {},
   "source": [
    "Wha??? \\uparrow"
   ]
  },
  {
   "cell_type": "markdown",
   "id": "3fc2e896",
   "metadata": {},
   "source": [
    "### The contract type"
   ]
  },
  {
   "cell_type": "code",
   "execution_count": 126,
   "id": "e9f4e460",
   "metadata": {},
   "outputs": [
    {
     "data": {
      "text/html": [
       "<div>\n",
       "<style scoped>\n",
       "    .dataframe tbody tr th:only-of-type {\n",
       "        vertical-align: middle;\n",
       "    }\n",
       "\n",
       "    .dataframe tbody tr th {\n",
       "        vertical-align: top;\n",
       "    }\n",
       "\n",
       "    .dataframe thead th {\n",
       "        text-align: right;\n",
       "    }\n",
       "</style>\n",
       "<table border=\"1\" class=\"dataframe\">\n",
       "  <thead>\n",
       "    <tr style=\"text-align: right;\">\n",
       "      <th>contract_type</th>\n",
       "      <th>Month-to-month</th>\n",
       "      <th>One year</th>\n",
       "      <th>Two year</th>\n",
       "    </tr>\n",
       "    <tr>\n",
       "      <th>churn</th>\n",
       "      <th></th>\n",
       "      <th></th>\n",
       "      <th></th>\n",
       "    </tr>\n",
       "  </thead>\n",
       "  <tbody>\n",
       "    <tr>\n",
       "      <th>No</th>\n",
       "      <td>0.428226</td>\n",
       "      <td>0.251124</td>\n",
       "      <td>0.320650</td>\n",
       "    </tr>\n",
       "    <tr>\n",
       "      <th>Yes</th>\n",
       "      <td>0.886233</td>\n",
       "      <td>0.085086</td>\n",
       "      <td>0.028681</td>\n",
       "    </tr>\n",
       "  </tbody>\n",
       "</table>\n",
       "</div>"
      ],
      "text/plain": [
       "contract_type  Month-to-month  One year  Two year\n",
       "churn                                            \n",
       "No                   0.428226  0.251124  0.320650\n",
       "Yes                  0.886233  0.085086  0.028681"
      ]
     },
     "execution_count": 126,
     "metadata": {},
     "output_type": "execute_result"
    }
   ],
   "source": [
    "churn_contract_type_ctab = pd.crosstab(index=train.churn, columns=train.contract_type, normalize=\"index\")\n",
    "churn_contract_type_ctab"
   ]
  },
  {
   "cell_type": "code",
   "execution_count": 129,
   "id": "70c0f584",
   "metadata": {
    "scrolled": false
   },
   "outputs": [
    {
     "data": {
      "image/png": "[encoded data removed]",
      "text/plain": [
       "<Figure size 720x432 with 1 Axes>"
      ]
     },
     "metadata": {
      "needs_background": "light"
     },
     "output_type": "display_data"
    }
   ],
   "source": [
    "churn_contract_type_ctab.plot(kind='bar', \n",
    "                    stacked=True, \n",
    "                    colormap='icefire', \n",
    "                    figsize=(10, 6))\n",
    "\n",
    "plt.legend(loc='upper left', ncol=2)\n",
    "plt.xlabel('Churn')\n",
    "plt.ylabel('Month-to-month, One year, Two year, in percent')\n",
    "plt.show()"
   ]
  },
  {
   "cell_type": "markdown",
   "id": "290d24f5",
   "metadata": {},
   "source": [
    "### Takeaways\n",
    "An overwhelmeing number of clients who contract month to month churned"
   ]
  },
  {
   "cell_type": "markdown",
   "id": "01b622d9",
   "metadata": {},
   "source": [
    "### Internet Service type"
   ]
  },
  {
   "cell_type": "code",
   "execution_count": 137,
   "id": "06d732fd",
   "metadata": {
    "scrolled": true
   },
   "outputs": [
    {
     "data": {
      "text/html": [
       "<div>\n",
       "<style scoped>\n",
       "    .dataframe tbody tr th:only-of-type {\n",
       "        vertical-align: middle;\n",
       "    }\n",
       "\n",
       "    .dataframe tbody tr th {\n",
       "        vertical-align: top;\n",
       "    }\n",
       "\n",
       "    .dataframe thead th {\n",
       "        text-align: right;\n",
       "    }\n",
       "</style>\n",
       "<table border=\"1\" class=\"dataframe\">\n",
       "  <thead>\n",
       "    <tr style=\"text-align: right;\">\n",
       "      <th>internet_service_type</th>\n",
       "      <th>DSL</th>\n",
       "      <th>Fiber optic</th>\n",
       "      <th>None</th>\n",
       "    </tr>\n",
       "    <tr>\n",
       "      <th>churn</th>\n",
       "      <th></th>\n",
       "      <th></th>\n",
       "      <th></th>\n",
       "    </tr>\n",
       "  </thead>\n",
       "  <tbody>\n",
       "    <tr>\n",
       "      <th>No</th>\n",
       "      <td>0.380837</td>\n",
       "      <td>0.341404</td>\n",
       "      <td>0.277759</td>\n",
       "    </tr>\n",
       "    <tr>\n",
       "      <th>Yes</th>\n",
       "      <td>0.236138</td>\n",
       "      <td>0.702677</td>\n",
       "      <td>0.061185</td>\n",
       "    </tr>\n",
       "  </tbody>\n",
       "</table>\n",
       "</div>"
      ],
      "text/plain": [
       "internet_service_type       DSL  Fiber optic      None\n",
       "churn                                                 \n",
       "No                     0.380837     0.341404  0.277759\n",
       "Yes                    0.236138     0.702677  0.061185"
      ]
     },
     "execution_count": 137,
     "metadata": {},
     "output_type": "execute_result"
    }
   ],
   "source": [
    "churn_internet_service_type_ctab = pd.crosstab(index=train.churn,\n",
    "                                               columns=train.internet_service_type, normalize=\"index\")\n",
    "churn_internet_service_type_ctab"
   ]
  },
  {
   "cell_type": "code",
   "execution_count": 132,
   "id": "07cebe0d",
   "metadata": {
    "scrolled": false
   },
   "outputs": [
    {
     "data": {
      "image/png": "[encoded data removed]",
      "text/plain": [
       "<Figure size 720x432 with 1 Axes>"
      ]
     },
     "metadata": {
      "needs_background": "light"
     },
     "output_type": "display_data"
    }
   ],
   "source": [
    "churn_internet_service_type_ctab.plot(kind='bar', \n",
    "                    stacked=True, \n",
    "                    colormap='Set1', \n",
    "                    figsize=(10, 6))\n",
    "\n",
    "plt.legend(loc='upper left', ncol=2)\n",
    "plt.xlabel('Churn')\n",
    "plt.ylabel('DSL, Fiber optic, None, in percent')\n",
    "plt.show()"
   ]
  },
  {
   "cell_type": "markdown",
   "id": "a8dbc253",
   "metadata": {},
   "source": [
    "### Takeaways\n",
    "Clients who receive fiber optic churn much more than the other services"
   ]
  },
  {
   "cell_type": "code",
   "execution_count": 134,
   "id": "c02a5023",
   "metadata": {
    "scrolled": true
   },
   "outputs": [
    {
     "data": {
      "text/html": [
       "<div>\n",
       "<style scoped>\n",
       "    .dataframe tbody tr th:only-of-type {\n",
       "        vertical-align: middle;\n",
       "    }\n",
       "\n",
       "    .dataframe tbody tr th {\n",
       "        vertical-align: top;\n",
       "    }\n",
       "\n",
       "    .dataframe thead th {\n",
       "        text-align: right;\n",
       "    }\n",
       "</style>\n",
       "<table border=\"1\" class=\"dataframe\">\n",
       "  <thead>\n",
       "    <tr style=\"text-align: right;\">\n",
       "      <th>binned_tenure</th>\n",
       "      <th>1year</th>\n",
       "      <th>2years</th>\n",
       "      <th>3years</th>\n",
       "      <th>4years</th>\n",
       "      <th>5years</th>\n",
       "      <th>6years</th>\n",
       "    </tr>\n",
       "    <tr>\n",
       "      <th>churn</th>\n",
       "      <th></th>\n",
       "      <th></th>\n",
       "      <th></th>\n",
       "      <th></th>\n",
       "      <th></th>\n",
       "      <th></th>\n",
       "    </tr>\n",
       "  </thead>\n",
       "  <tbody>\n",
       "    <tr>\n",
       "      <th>No</th>\n",
       "      <td>0.221031</td>\n",
       "      <td>0.133518</td>\n",
       "      <td>0.126946</td>\n",
       "      <td>0.120028</td>\n",
       "      <td>0.135247</td>\n",
       "      <td>0.263231</td>\n",
       "    </tr>\n",
       "    <tr>\n",
       "      <th>Yes</th>\n",
       "      <td>0.555449</td>\n",
       "      <td>0.139579</td>\n",
       "      <td>0.097514</td>\n",
       "      <td>0.087954</td>\n",
       "      <td>0.065010</td>\n",
       "      <td>0.054493</td>\n",
       "    </tr>\n",
       "  </tbody>\n",
       "</table>\n",
       "</div>"
      ],
      "text/plain": [
       "binned_tenure     1year    2years    3years    4years    5years    6years\n",
       "churn                                                                    \n",
       "No             0.221031  0.133518  0.126946  0.120028  0.135247  0.263231\n",
       "Yes            0.555449  0.139579  0.097514  0.087954  0.065010  0.054493"
      ]
     },
     "execution_count": 134,
     "metadata": {},
     "output_type": "execute_result"
    }
   ],
   "source": [
    "churn_binned_tenure_ctab = pd.crosstab(index=train.churn, columns=train.binned_tenure, normalize=\"index\")\n",
    "churn_binned_tenure_ctab"
   ]
  },
  {
   "cell_type": "code",
   "execution_count": 149,
   "id": "10b1b4b1",
   "metadata": {},
   "outputs": [
    {
     "data": {
      "image/png": "[encoded data removed]",
      "text/plain": [
       "<Figure size 720x432 with 1 Axes>"
      ]
     },
     "metadata": {
      "needs_background": "light"
     },
     "output_type": "display_data"
    }
   ],
   "source": [
    "churn_binned_tenure_ctab.plot(kind='bar', \n",
    "                    stacked=True, \n",
    "                    colormap='Set2', \n",
    "                    figsize=(10, 6))\n",
    "\n",
    "plt.legend(loc='upper left', ncol=2)\n",
    "plt.xlabel('Churn')\n",
    "plt.ylabel('1 to 6 years, in percent')\n",
    "plt.show()"
   ]
  },
  {
   "cell_type": "code",
   "execution_count": 143,
   "id": "bccb88b2",
   "metadata": {},
   "outputs": [
    {
     "data": {
      "text/html": [
       "<div>\n",
       "<style scoped>\n",
       "    .dataframe tbody tr th:only-of-type {\n",
       "        vertical-align: middle;\n",
       "    }\n",
       "\n",
       "    .dataframe tbody tr th {\n",
       "        vertical-align: top;\n",
       "    }\n",
       "\n",
       "    .dataframe thead th {\n",
       "        text-align: right;\n",
       "    }\n",
       "</style>\n",
       "<table border=\"1\" class=\"dataframe\">\n",
       "  <thead>\n",
       "    <tr style=\"text-align: right;\">\n",
       "      <th>payment_type</th>\n",
       "      <th>Bank transfer (automatic)</th>\n",
       "      <th>Credit card (automatic)</th>\n",
       "      <th>Electronic check</th>\n",
       "      <th>Mailed check</th>\n",
       "    </tr>\n",
       "    <tr>\n",
       "      <th>churn</th>\n",
       "      <th></th>\n",
       "      <th></th>\n",
       "      <th></th>\n",
       "      <th></th>\n",
       "    </tr>\n",
       "  </thead>\n",
       "  <tbody>\n",
       "    <tr>\n",
       "      <th>No</th>\n",
       "      <td>0.246627</td>\n",
       "      <td>0.259426</td>\n",
       "      <td>0.244898</td>\n",
       "      <td>0.249049</td>\n",
       "    </tr>\n",
       "    <tr>\n",
       "      <th>Yes</th>\n",
       "      <td>0.142447</td>\n",
       "      <td>0.138623</td>\n",
       "      <td>0.555449</td>\n",
       "      <td>0.163480</td>\n",
       "    </tr>\n",
       "  </tbody>\n",
       "</table>\n",
       "</div>"
      ],
      "text/plain": [
       "payment_type  Bank transfer (automatic)  Credit card (automatic)  \\\n",
       "churn                                                              \n",
       "No                             0.246627                 0.259426   \n",
       "Yes                            0.142447                 0.138623   \n",
       "\n",
       "payment_type  Electronic check  Mailed check  \n",
       "churn                                         \n",
       "No                    0.244898      0.249049  \n",
       "Yes                   0.555449      0.163480  "
      ]
     },
     "execution_count": 143,
     "metadata": {},
     "output_type": "execute_result"
    }
   ],
   "source": [
    "churn_payment_type_ctab = pd.crosstab(index=train.churn, columns=train.payment_type, normalize=\"index\")\n",
    "churn_payment_type_ctab"
   ]
  },
  {
   "cell_type": "code",
   "execution_count": 147,
   "id": "f3529315",
   "metadata": {},
   "outputs": [
    {
     "data": {
      "image/png": "[encoded data removed]",
      "text/plain": [
       "<Figure size 720x432 with 1 Axes>"
      ]
     },
     "metadata": {
      "needs_background": "light"
     },
     "output_type": "display_data"
    }
   ],
   "source": [
    "churn_payment_type_ctab.plot(kind='bar', \n",
    "                    stacked=True, \n",
    "                    colormap='Set2', \n",
    "                    figsize=(10, 6))\n",
    "\n",
    "plt.legend(loc='upper left', ncol=2)\n",
    "plt.xlabel('Churn')\n",
    "plt.ylabel('transfert type, in percent')\n",
    "plt.show()"
   ]
  },
  {
   "cell_type": "markdown",
   "id": "ea586f03",
   "metadata": {},
   "source": [
    "### Summary of Takeaways of non-numeric data\n",
    "- Gender does not seem to have any impact on churn, but senior churn more relatively to their numbers\n",
    "\n",
    "<font color=\"fuchsia\">- It seems as if when customers have certain services they tend to not churn (online backup, device protection, tech support, Streaming tv, streaming movie)</font>\n",
    "- The following features have a rate of churn > 70% in their respective group: tech support, paperless billingMonth-to-month payment, fiber optic, Binned tenure, Phone service (although those who have a phone service are about 90% of the group), D ependents."
   ]
  },
  {
   "cell_type": "code",
   "execution_count": 198,
   "id": "7979c691",
   "metadata": {
    "scrolled": false
   },
   "outputs": [
    {
     "data": {
      "image/png": "[encoded data removed]",
      "text/plain": [
       "<Figure size 1080x720 with 1 Axes>"
      ]
     },
     "metadata": {
      "needs_background": "light"
     },
     "output_type": "display_data"
    }
   ],
   "source": [
    "plt.figure(figsize=(15, 10))\n",
    "plt.title('Customers with tenure 1years churn at a higher rate: almost the same number of churned (orange) and not churned(blue)')\n",
    "sns.boxplot(x='binned_tenure', y='monthly_charges', data=train, hue='churn_encoded')\n",
    "customer_churn_rate = train.churn_encoded.mean()\n",
    "plt.show()"
   ]
  },
  {
   "cell_type": "code",
   "execution_count": 197,
   "id": "b5d1f158",
   "metadata": {
    "scrolled": false
   },
   "outputs": [
    {
     "data": {
      "image/png": "[encoded data removed]",
      "text/plain": [
       "<Figure size 1080x720 with 1 Axes>"
      ]
     },
     "metadata": {
      "needs_background": "light"
     },
     "output_type": "display_data"
    }
   ],
   "source": [
    "plt.figure(figsize=(15, 10))\n",
    "plt.title('Customers with tenure 1years churn at a higher rate proportionally to other')\n",
    "sns.boxplot(x='binned_tenure', y='total_charges', data=train, hue='churn_encoded')\n",
    "customer_churn_rate = train.churn_encoded.mean()\n",
    "plt.show()"
   ]
  },
  {
   "cell_type": "code",
   "execution_count": 73,
   "id": "121e6243",
   "metadata": {
    "scrolled": false
   },
   "outputs": [
    {
     "data": {
      "text/plain": [
       "1year     1220\n",
       "6years     818\n",
       "2years     532\n",
       "3years     469\n",
       "5years     459\n",
       "4years     439\n",
       "Name: binned_tenure, dtype: int64"
      ]
     },
     "execution_count": 73,
     "metadata": {},
     "output_type": "execute_result"
    }
   ],
   "source": [
    "train.binned_tenure.value_counts()"
   ]
  },
  {
   "cell_type": "markdown",
   "id": "1cf99ec4",
   "metadata": {},
   "source": [
    "## Takeaways\n",
    "- With Monthly charges, We can how customers in the first year churn much more than those in later years\n",
    "- For Total charges it seems like Customers with tenure 1years churn at a higher rate proportionally to their numbers: almost the same number of churned (orange) and not churned(blue). Meanwhile a greater number of 4, 5, & 6years tenure customers are churning.\n",
    "\n",
    "<font color=\"fuchsia\">After these takeaways we can wonder to what extent these observation are true and are these features really driving the churn at Telco? Well, let's into some more math to find out!</font>"
   ]
  },
  {
   "cell_type": "markdown",
   "id": "fbc4ec67",
   "metadata": {},
   "source": [
    "## <font color=\"brown\">C. Statistical Analysis of Features</font>"
   ]
  },
  {
   "cell_type": "markdown",
   "id": "d00065e9",
   "metadata": {},
   "source": [
    "To make sure a correlations or a linear relationship exist, I will perform statistical analyses on significant values mentionned in the non-numeric data summary and numerical cata summary."
   ]
  },
  {
   "cell_type": "markdown",
   "id": "8a526bd6",
   "metadata": {},
   "source": [
    "tech support, paperless billing, Month-to-month payment, fiber optic, Binned tenure, Phone service, dependents"
   ]
  },
  {
   "cell_type": "markdown",
   "id": "abc09ee7",
   "metadata": {},
   "source": [
    "I do not have a normal distribution for tenure nor the other numeric values (monthly charges and total charges)\n",
    "So I will use a t-test to understand the relationship between these features"
   ]
  },
  {
   "cell_type": "markdown",
   "id": "6dc6df7b",
   "metadata": {},
   "source": [
    "**Assumptions**\n",
    "The churn sample is far larger than 30 data pointsand thus meets the assumptions of normal distributions."
   ]
  },
  {
   "cell_type": "markdown",
   "id": "a29e05b4",
   "metadata": {},
   "source": [
    "**Of all the features examined, a few stand out because of their level of churn on the graph. I am going to examine these features statistically**"
   ]
  },
  {
   "cell_type": "markdown",
   "id": "5f8f002c",
   "metadata": {},
   "source": [
    "**Selected features**\n",
    "\n",
    "- Dependents: dependents_encoded\n",
    "- Phone service: phone_service_encoded\n",
    "- Tech support: tech_support_Yes\n",
    "- Paperless billing: paperless_billing_encoded\n",
    "- Tenure: binned_tenure\n",
    "- Fiber optic: internet_service_type_Fiber optic\n",
    "- Monthly charges: monthly_charges\n",
    "- Contract type (Month-to-month): (train['contract_type'] == 'Month-to-month')"
   ]
  },
  {
   "cell_type": "code",
   "execution_count": 152,
   "id": "52182719",
   "metadata": {},
   "outputs": [],
   "source": [
    "# I set alpha for all calculations\n",
    "\n",
    "α = .05"
   ]
  },
  {
   "cell_type": "markdown",
   "id": "459290e7",
   "metadata": {},
   "source": [
    "**Hypothesis setting**\n",
    "\n",
    "- Null hypothesis = $H_{0}$\n",
    "- Alternative hypothesis = $H_{A}$"
   ]
  },
  {
   "cell_type": "markdown",
   "id": "6c637692",
   "metadata": {},
   "source": [
    "## Paperless billing"
   ]
  },
  {
   "cell_type": "markdown",
   "id": "6ed6222b",
   "metadata": {},
   "source": [
    "$H_{0}$: Electronic Paperless billing and churn are independent.\n",
    "\n",
    "$H_{A}$: There is a dependency between Paperless billing and churn."
   ]
  },
  {
   "cell_type": "code",
   "execution_count": 161,
   "id": "edf87b3d",
   "metadata": {},
   "outputs": [
    {
     "data": {
      "text/html": [
       "<div>\n",
       "<style scoped>\n",
       "    .dataframe tbody tr th:only-of-type {\n",
       "        vertical-align: middle;\n",
       "    }\n",
       "\n",
       "    .dataframe tbody tr th {\n",
       "        vertical-align: top;\n",
       "    }\n",
       "\n",
       "    .dataframe thead th {\n",
       "        text-align: right;\n",
       "    }\n",
       "</style>\n",
       "<table border=\"1\" class=\"dataframe\">\n",
       "  <thead>\n",
       "    <tr style=\"text-align: right;\">\n",
       "      <th>churn</th>\n",
       "      <th>No</th>\n",
       "      <th>Yes</th>\n",
       "    </tr>\n",
       "    <tr>\n",
       "      <th>paperless_billing_encoded</th>\n",
       "      <th></th>\n",
       "      <th></th>\n",
       "    </tr>\n",
       "  </thead>\n",
       "  <tbody>\n",
       "    <tr>\n",
       "      <th>0</th>\n",
       "      <td>1347</td>\n",
       "      <td>266</td>\n",
       "    </tr>\n",
       "    <tr>\n",
       "      <th>1</th>\n",
       "      <td>1544</td>\n",
       "      <td>780</td>\n",
       "    </tr>\n",
       "  </tbody>\n",
       "</table>\n",
       "</div>"
      ],
      "text/plain": [
       "churn                        No  Yes\n",
       "paperless_billing_encoded           \n",
       "0                          1347  266\n",
       "1                          1544  780"
      ]
     },
     "execution_count": 161,
     "metadata": {},
     "output_type": "execute_result"
    }
   ],
   "source": [
    "p_billing_ctab = pd.crosstab(train['paperless_billing_encoded'] , train.churn)\n",
    "p_billing_ctab"
   ]
  },
  {
   "cell_type": "code",
   "execution_count": 163,
   "id": "c1c381e9",
   "metadata": {
    "scrolled": false
   },
   "outputs": [
    {
     "name": "stdout",
     "output_type": "stream",
     "text": [
      "[[1184.4508509  428.5491491]\n",
      " [1706.5491491  617.4508509]]\n",
      "p value: 1.3393723943150956e-32\n",
      "\n",
      "=======================\n",
      "\n",
      "I reject the null hypothesis: There is a dependency between Electronic payment and churn\n"
     ]
    }
   ],
   "source": [
    "χ2, p_p_billing, degf, expected_p_billing = stats.chi2_contingency(p_billing_ctab)\n",
    "\n",
    "null_hypothesis = 'Electronic payment and churn are independent'\n",
    "alternative_hypothesis = 'There is a dependency between Electronic payment and churn'\n",
    "\n",
    "\n",
    "print(expected_p_billing)\n",
    "print(f\"p value: {p_p_billing}\")\n",
    "print('\\n=======================\\n')\n",
    "\n",
    "\n",
    "if p_p_billing < α:\n",
    "    print('I reject the null hypothesis:', alternative_hypothesis)\n",
    "else:\n",
    "    print('I fail to reject the null hypothesis:', null_hypothesis)"
   ]
  },
  {
   "cell_type": "markdown",
   "id": "cacdff2d",
   "metadata": {},
   "source": [
    "## Tenure"
   ]
  },
  {
   "cell_type": "markdown",
   "id": "40ec5883",
   "metadata": {},
   "source": [
    "$H_{0}$: Tenure and churn are independent\n",
    "\n",
    "$H_{A}$: There is a dependency between the Tenure and churn"
   ]
  },
  {
   "cell_type": "code",
   "execution_count": 164,
   "id": "7a7b57d2",
   "metadata": {},
   "outputs": [
    {
     "data": {
      "text/html": [
       "<div>\n",
       "<style scoped>\n",
       "    .dataframe tbody tr th:only-of-type {\n",
       "        vertical-align: middle;\n",
       "    }\n",
       "\n",
       "    .dataframe tbody tr th {\n",
       "        vertical-align: top;\n",
       "    }\n",
       "\n",
       "    .dataframe thead th {\n",
       "        text-align: right;\n",
       "    }\n",
       "</style>\n",
       "<table border=\"1\" class=\"dataframe\">\n",
       "  <thead>\n",
       "    <tr style=\"text-align: right;\">\n",
       "      <th>churn</th>\n",
       "      <th>No</th>\n",
       "      <th>Yes</th>\n",
       "    </tr>\n",
       "    <tr>\n",
       "      <th>binned_tenure</th>\n",
       "      <th></th>\n",
       "      <th></th>\n",
       "    </tr>\n",
       "  </thead>\n",
       "  <tbody>\n",
       "    <tr>\n",
       "      <th>1year</th>\n",
       "      <td>639</td>\n",
       "      <td>581</td>\n",
       "    </tr>\n",
       "    <tr>\n",
       "      <th>2years</th>\n",
       "      <td>386</td>\n",
       "      <td>146</td>\n",
       "    </tr>\n",
       "    <tr>\n",
       "      <th>3years</th>\n",
       "      <td>367</td>\n",
       "      <td>102</td>\n",
       "    </tr>\n",
       "    <tr>\n",
       "      <th>4years</th>\n",
       "      <td>347</td>\n",
       "      <td>92</td>\n",
       "    </tr>\n",
       "    <tr>\n",
       "      <th>5years</th>\n",
       "      <td>391</td>\n",
       "      <td>68</td>\n",
       "    </tr>\n",
       "    <tr>\n",
       "      <th>6years</th>\n",
       "      <td>761</td>\n",
       "      <td>57</td>\n",
       "    </tr>\n",
       "  </tbody>\n",
       "</table>\n",
       "</div>"
      ],
      "text/plain": [
       "churn           No  Yes\n",
       "binned_tenure          \n",
       "1year          639  581\n",
       "2years         386  146\n",
       "3years         367  102\n",
       "4years         347   92\n",
       "5years         391   68\n",
       "6years         761   57"
      ]
     },
     "execution_count": 164,
     "metadata": {},
     "output_type": "execute_result"
    }
   ],
   "source": [
    "b_tenure_ctab = pd.crosstab(train['binned_tenure'] , train.churn)\n",
    "b_tenure_ctab"
   ]
  },
  {
   "cell_type": "code",
   "execution_count": 165,
   "id": "929f1d4f",
   "metadata": {},
   "outputs": [
    {
     "name": "stdout",
     "output_type": "stream",
     "text": [
      "[[895.86487173 324.13512827]\n",
      " [390.65582931 141.34417069]\n",
      " [344.39395479 124.60604521]\n",
      " [322.36449073 116.63550927]\n",
      " [337.0508001  121.9491999 ]\n",
      " [600.67005334 217.32994666]]\n",
      "p-val: 2.6829703056467787e-102\n",
      "\n",
      "=======================\n",
      "\n",
      "I reject the null hypothesis: There is a dependency between the Tenure and churn\n"
     ]
    }
   ],
   "source": [
    "χ2, p_bt_check, degf, expected_b_tenure = stats.chi2_contingency(b_tenure_ctab)\n",
    "\n",
    "null_hypothesis = 'Tenure and churn are independent'\n",
    "alternative_hypothesis = 'There is a dependency between the Tenure and churn'\n",
    "\n",
    "\n",
    "print(expected_b_tenure)\n",
    "print(f\"p-val: {p_bt_check}\")\n",
    "print('\\n=======================\\n')\n",
    "\n",
    "\n",
    "if p_e_check < α:\n",
    "    print('I reject the null hypothesis:', alternative_hypothesis)\n",
    "else:\n",
    "    print('I fail to reject the null hypothesis:', null_hypothesis)"
   ]
  },
  {
   "cell_type": "markdown",
   "id": "490c9d4e",
   "metadata": {},
   "source": [
    "## Fiber optic"
   ]
  },
  {
   "cell_type": "markdown",
   "id": "d7950676",
   "metadata": {},
   "source": [
    "$H_{0}$: Fiber optic and churn are independent\n",
    "\n",
    "$H_{A}$: There is a dependency between Fiber optic and churn"
   ]
  },
  {
   "cell_type": "code",
   "execution_count": 167,
   "id": "4a6e0182",
   "metadata": {},
   "outputs": [
    {
     "data": {
      "text/html": [
       "<div>\n",
       "<style scoped>\n",
       "    .dataframe tbody tr th:only-of-type {\n",
       "        vertical-align: middle;\n",
       "    }\n",
       "\n",
       "    .dataframe tbody tr th {\n",
       "        vertical-align: top;\n",
       "    }\n",
       "\n",
       "    .dataframe thead th {\n",
       "        text-align: right;\n",
       "    }\n",
       "</style>\n",
       "<table border=\"1\" class=\"dataframe\">\n",
       "  <thead>\n",
       "    <tr style=\"text-align: right;\">\n",
       "      <th>churn</th>\n",
       "      <th>No</th>\n",
       "      <th>Yes</th>\n",
       "    </tr>\n",
       "    <tr>\n",
       "      <th>internet_service_type_Fiber optic</th>\n",
       "      <th></th>\n",
       "      <th></th>\n",
       "    </tr>\n",
       "  </thead>\n",
       "  <tbody>\n",
       "    <tr>\n",
       "      <th>0</th>\n",
       "      <td>1904</td>\n",
       "      <td>311</td>\n",
       "    </tr>\n",
       "    <tr>\n",
       "      <th>1</th>\n",
       "      <td>987</td>\n",
       "      <td>735</td>\n",
       "    </tr>\n",
       "  </tbody>\n",
       "</table>\n",
       "</div>"
      ],
      "text/plain": [
       "churn                                No  Yes\n",
       "internet_service_type_Fiber optic           \n",
       "0                                  1904  311\n",
       "1                                   987  735"
      ]
     },
     "execution_count": 167,
     "metadata": {},
     "output_type": "execute_result"
    }
   ],
   "source": [
    "f_optic_ctab = pd.crosstab(train['internet_service_type_Fiber optic'] , train.churn)\n",
    "f_optic_ctab"
   ]
  },
  {
   "cell_type": "code",
   "execution_count": 168,
   "id": "7e36ac67",
   "metadata": {},
   "outputs": [
    {
     "name": "stdout",
     "output_type": "stream",
     "text": [
      "[[1626.50876302  588.49123698]\n",
      " [1264.49123698  457.50876302]]\n",
      "p-val: 2.831419548361709e-90\n",
      "\n",
      "=======================\n",
      "\n",
      "I reject the null hypothesis: There is a dependency between Fiber optic and churn\n"
     ]
    }
   ],
   "source": [
    "χ2, p_f_optic, degf, expected_f_optic = stats.chi2_contingency(f_optic_ctab)\n",
    "\n",
    "\n",
    "null_hypothesis = 'Fiber optic and churn are independent'\n",
    "alternative_hypothesis = 'There is a dependency between Fiber optic and churn'\n",
    "\n",
    "print(expected_f_optic)\n",
    "print(f\"p-val: {p_f_optic}\")\n",
    "print('\\n=======================\\n')\n",
    "\n",
    "\n",
    "if p_e_check < α:\n",
    "    print('I reject the null hypothesis:', alternative_hypothesis)\n",
    "else:\n",
    "    print('I fail to reject the null hypothesis:', null_hypothesis)"
   ]
  },
  {
   "cell_type": "markdown",
   "id": "8b65f973",
   "metadata": {},
   "source": [
    "## Monthly charges"
   ]
  },
  {
   "cell_type": "markdown",
   "id": "4535a70c",
   "metadata": {},
   "source": [
    "$H_{0}$: There is no linear correlation between the monthly charges and the rate of churn\n",
    "\n",
    "$H_{A}$: There is a linear correlation between the monthly charges and the rate of churn"
   ]
  },
  {
   "cell_type": "code",
   "execution_count": 172,
   "id": "2aadf191",
   "metadata": {},
   "outputs": [
    {
     "data": {
      "text/html": [
       "<div>\n",
       "<style scoped>\n",
       "    .dataframe tbody tr th:only-of-type {\n",
       "        vertical-align: middle;\n",
       "    }\n",
       "\n",
       "    .dataframe tbody tr th {\n",
       "        vertical-align: top;\n",
       "    }\n",
       "\n",
       "    .dataframe thead th {\n",
       "        text-align: right;\n",
       "    }\n",
       "</style>\n",
       "<table border=\"1\" class=\"dataframe\">\n",
       "  <thead>\n",
       "    <tr style=\"text-align: right;\">\n",
       "      <th>monthly_charges</th>\n",
       "      <th>18.25</th>\n",
       "      <th>18.40</th>\n",
       "      <th>18.55</th>\n",
       "      <th>18.75</th>\n",
       "      <th>18.85</th>\n",
       "      <th>18.90</th>\n",
       "      <th>18.95</th>\n",
       "      <th>19.00</th>\n",
       "      <th>19.05</th>\n",
       "      <th>19.10</th>\n",
       "      <th>...</th>\n",
       "      <th>116.60</th>\n",
       "      <th>116.75</th>\n",
       "      <th>116.95</th>\n",
       "      <th>117.35</th>\n",
       "      <th>117.45</th>\n",
       "      <th>117.60</th>\n",
       "      <th>118.20</th>\n",
       "      <th>118.35</th>\n",
       "      <th>118.60</th>\n",
       "      <th>118.65</th>\n",
       "    </tr>\n",
       "    <tr>\n",
       "      <th>churn</th>\n",
       "      <th></th>\n",
       "      <th></th>\n",
       "      <th></th>\n",
       "      <th></th>\n",
       "      <th></th>\n",
       "      <th></th>\n",
       "      <th></th>\n",
       "      <th></th>\n",
       "      <th></th>\n",
       "      <th></th>\n",
       "      <th></th>\n",
       "      <th></th>\n",
       "      <th></th>\n",
       "      <th></th>\n",
       "      <th></th>\n",
       "      <th></th>\n",
       "      <th></th>\n",
       "      <th></th>\n",
       "      <th></th>\n",
       "      <th></th>\n",
       "      <th></th>\n",
       "    </tr>\n",
       "  </thead>\n",
       "  <tbody>\n",
       "    <tr>\n",
       "      <th>No</th>\n",
       "      <td>1</td>\n",
       "      <td>1</td>\n",
       "      <td>1</td>\n",
       "      <td>1</td>\n",
       "      <td>3</td>\n",
       "      <td>2</td>\n",
       "      <td>3</td>\n",
       "      <td>3</td>\n",
       "      <td>7</td>\n",
       "      <td>5</td>\n",
       "      <td>...</td>\n",
       "      <td>1</td>\n",
       "      <td>1</td>\n",
       "      <td>1</td>\n",
       "      <td>1</td>\n",
       "      <td>0</td>\n",
       "      <td>1</td>\n",
       "      <td>1</td>\n",
       "      <td>0</td>\n",
       "      <td>2</td>\n",
       "      <td>1</td>\n",
       "    </tr>\n",
       "    <tr>\n",
       "      <th>Yes</th>\n",
       "      <td>0</td>\n",
       "      <td>0</td>\n",
       "      <td>0</td>\n",
       "      <td>0</td>\n",
       "      <td>1</td>\n",
       "      <td>0</td>\n",
       "      <td>0</td>\n",
       "      <td>1</td>\n",
       "      <td>0</td>\n",
       "      <td>0</td>\n",
       "      <td>...</td>\n",
       "      <td>0</td>\n",
       "      <td>0</td>\n",
       "      <td>0</td>\n",
       "      <td>0</td>\n",
       "      <td>1</td>\n",
       "      <td>0</td>\n",
       "      <td>0</td>\n",
       "      <td>1</td>\n",
       "      <td>0</td>\n",
       "      <td>0</td>\n",
       "    </tr>\n",
       "  </tbody>\n",
       "</table>\n",
       "<p>2 rows × 1331 columns</p>\n",
       "</div>"
      ],
      "text/plain": [
       "monthly_charges  18.25   18.40   18.55   18.75   18.85   18.90   18.95   \\\n",
       "churn                                                                     \n",
       "No                    1       1       1       1       3       2       3   \n",
       "Yes                   0       0       0       0       1       0       0   \n",
       "\n",
       "monthly_charges  19.00   19.05   19.10   ...  116.60  116.75  116.95  117.35  \\\n",
       "churn                                    ...                                   \n",
       "No                    3       7       5  ...       1       1       1       1   \n",
       "Yes                   1       0       0  ...       0       0       0       0   \n",
       "\n",
       "monthly_charges  117.45  117.60  118.20  118.35  118.60  118.65  \n",
       "churn                                                            \n",
       "No                    0       1       1       0       2       1  \n",
       "Yes                   1       0       0       1       0       0  \n",
       "\n",
       "[2 rows x 1331 columns]"
      ]
     },
     "execution_count": 172,
     "metadata": {},
     "output_type": "execute_result"
    }
   ],
   "source": [
    "m_charges_ctab = pd.crosstab(train.churn, train.monthly_charges)\n",
    "m_charges_ctab"
   ]
  },
  {
   "cell_type": "code",
   "execution_count": 173,
   "id": "f8e4d3f6",
   "metadata": {},
   "outputs": [
    {
     "name": "stdout",
     "output_type": "stream",
     "text": [
      "[[0.73431547 0.73431547 0.73431547 ... 0.73431547 1.46863094 0.73431547]\n",
      " [0.26568453 0.26568453 0.26568453 ... 0.26568453 0.53136906 0.26568453]]\n",
      "p-val: 1.7696616579595508e-06\n",
      "\n",
      "=======================\n",
      "\n",
      "I reject the null hypothesis: There is a correlation between the monthly charges and the rate of churn\n"
     ]
    }
   ],
   "source": [
    "null_hypothesis = 'There is no correlation between the monthly charges and the rate of churn'\n",
    "alternative_hypothesis ='There is a correlation between the monthly charges and the rate of churn'\n",
    "\n",
    "#Using a crosstab of churn to binned tenure\n",
    "\n",
    "chi2, p_m_charges, degf, expected_m_charges = stats.chi2_contingency(m_charges_ctab)\n",
    "\n",
    "\n",
    "print(expected_m_charges)\n",
    "print(f\"p-val: {p_m_charges}\")\n",
    "print('\\n=======================\\n')\n",
    "\n",
    "\n",
    "if p < α:\n",
    "    print('I reject the null hypothesis:', alternative_hypothesis)\n",
    "else:\n",
    "    print('Fail to reject null hypothesis:', null_hypothesis)"
   ]
  },
  {
   "cell_type": "markdown",
   "id": "9d1d3364",
   "metadata": {},
   "source": [
    "## Contract type: Month-to-month"
   ]
  },
  {
   "cell_type": "markdown",
   "id": "8dec76d0",
   "metadata": {},
   "source": [
    "$H_{0}$: there is no relationship between contract type and churn\n",
    "\n",
    "$H_{A}$: there is a relationship between contract type and churn"
   ]
  },
  {
   "cell_type": "code",
   "execution_count": 175,
   "id": "e37dd4ec",
   "metadata": {},
   "outputs": [
    {
     "name": "stdout",
     "output_type": "stream",
     "text": [
      "[[1301.20701041  470.79298959]\n",
      " [1589.79298959  575.20701041]]\n",
      "p-val: 3.4484593947893894e-143\n",
      "\n",
      "=======================\n",
      "\n",
      "I reject the null hypthesis: There is a correlation between the Month-to-month Contracts and Churn\n"
     ]
    }
   ],
   "source": [
    "null_hypothesis = 'There is no correlation between the Month-to-month Contracts and Churn'\n",
    "alternative_hypothesis = 'There is a correlation between the Month-to-month Contracts and Churn'\n",
    "\n",
    "mtm_ctab = pd.crosstab((train['contract_type'] == 'Month-to-month'), train.churn)\n",
    "chi2, p_mtm_ctab, degf, expected_mtm_ctab = stats.chi2_contingency(mtm_ctab)\n",
    "\n",
    "\n",
    "print(expected_mtm_ctab)\n",
    "print(f'p-val: {p_mtm_ctab}')\n",
    "print('\\n=======================\\n')\n",
    "\n",
    "\n",
    "if p < α:\n",
    "    print('I reject the null hypthesis:', alternative_hypothesis)\n",
    "else:\n",
    "    print('I fail to reject the null:', null_hypothesis)"
   ]
  },
  {
   "cell_type": "markdown",
   "id": "c69ee5be",
   "metadata": {},
   "source": [
    "## Tech support "
   ]
  },
  {
   "cell_type": "markdown",
   "id": "296e70bc",
   "metadata": {},
   "source": [
    "$H_{0}$: there is no relationship between Tech support and churn\n",
    "\n",
    "$H_{A}$: there is a relationship between Tech support and churn"
   ]
  },
  {
   "cell_type": "code",
   "execution_count": 176,
   "id": "d536af97",
   "metadata": {
    "scrolled": true
   },
   "outputs": [
    {
     "name": "stdout",
     "output_type": "stream",
     "text": [
      "[[2054.61468123  743.38531877]\n",
      " [ 836.38531877  302.61468123]]\n",
      "p-val: 2.376480997030356e-23\n",
      "\n",
      "=======================\n",
      "\n",
      "I reject the null hypthesis: There is a correlation between Tech support and Churn\n"
     ]
    }
   ],
   "source": [
    "null_hypothesis = 'There is correlation between Tech support and Churn'\n",
    "alternative_hypothesis = 'There is a correlation between Tech support and Churn'\n",
    "\n",
    "t_support_Y_ctab = pd.crosstab(train['tech_support_Yes'], train.churn)\n",
    "chi2, p_t_support_Y, degf, expected_t_support_Y = stats.chi2_contingency(t_support_Y_ctab)\n",
    "\n",
    "\n",
    "print(expected_t_support_Y)\n",
    "print(f'p-val: {p_t_support_Y}')\n",
    "print('\\n=======================\\n')\n",
    "\n",
    "\n",
    "if p < α:\n",
    "    print('I reject the null hypthesis:', alternative_hypothesis)\n",
    "else:\n",
    "    print('I fail to reject the null:', null_hypothesis)"
   ]
  },
  {
   "cell_type": "markdown",
   "id": "8f37af86",
   "metadata": {},
   "source": [
    "## Dependents"
   ]
  },
  {
   "cell_type": "markdown",
   "id": "6184f062",
   "metadata": {},
   "source": [
    "$H_{0}$: there is no relationship between Dependents and churn\n",
    "\n",
    "$H_{A}$: there is a relationship between Dependents and churn"
   ]
  },
  {
   "cell_type": "code",
   "execution_count": 177,
   "id": "8b139390",
   "metadata": {},
   "outputs": [
    {
     "name": "stdout",
     "output_type": "stream",
     "text": [
      "[[2015.69596139  729.30403861]\n",
      " [ 875.30403861  316.69596139]]\n",
      "p-val: 1.5385742575781703e-24\n",
      "\n",
      "=======================\n",
      "\n",
      "I reject the null hypthesis: There is a correlation between Dependents and Churn\n"
     ]
    }
   ],
   "source": [
    "null_hypothesis = 'There is correlation between Dependents and Churn'\n",
    "alternative_hypothesis = 'There is a correlation between Dependents and Churn'\n",
    "\n",
    "d_encoded_ctab = pd.crosstab(train['dependents_encoded'], train.churn)\n",
    "chi2, p_d_encoded, degf, expected_d_encoded = stats.chi2_contingency(d_encoded_ctab)\n",
    "\n",
    "\n",
    "print(expected_d_encoded)\n",
    "print(f'p-val: {p_d_encoded}')\n",
    "print('\\n=======================\\n')\n",
    "\n",
    "\n",
    "if p < α:\n",
    "    print('I reject the null hypthesis:', alternative_hypothesis)\n",
    "else:\n",
    "    print('I fail to reject the null:', null_hypothesis)"
   ]
  },
  {
   "cell_type": "markdown",
   "id": "c553a1c5",
   "metadata": {},
   "source": [
    "## Phone service"
   ]
  },
  {
   "cell_type": "markdown",
   "id": "22a2c985",
   "metadata": {},
   "source": [
    "$H_{0}$: there is no relationship between Phone service and churn\n",
    "\n",
    "$H_{A}$: there is a relationship between Phone service and churn"
   ]
  },
  {
   "cell_type": "code",
   "execution_count": 178,
   "id": "ebdab2e8",
   "metadata": {},
   "outputs": [
    {
     "name": "stdout",
     "output_type": "stream",
     "text": [
      "[[2054.61468123  743.38531877]\n",
      " [ 836.38531877  302.61468123]]\n",
      "p-val: 2.376480997030356e-23\n",
      "\n",
      "=======================\n",
      "\n",
      "I reject the null hypthesis: There is a correlation between Phone service and Churn\n"
     ]
    }
   ],
   "source": [
    "null_hypothesis = 'There is correlation between Phone service and Churn'\n",
    "alternative_hypothesis = 'There is a correlation between Phone service and Churn'\n",
    "\n",
    "ps_encoded_ctab = pd.crosstab(train['tech_support_Yes'], train.churn)\n",
    "chi2, p_ps_encoded, degf, expected_tps_encoded = stats.chi2_contingency(ps_encoded_ctab)\n",
    "\n",
    "\n",
    "print(expected_tps_encoded)\n",
    "print(f'p-val: {p_ps_encoded}')\n",
    "print('\\n=======================\\n')\n",
    "\n",
    "\n",
    "if p < α:\n",
    "    print('I reject the null hypthesis:', alternative_hypothesis)\n",
    "else:\n",
    "    print('I fail to reject the null:', null_hypothesis)"
   ]
  },
  {
   "cell_type": "markdown",
   "id": "d46f0035",
   "metadata": {},
   "source": [
    "## Summary Takeaways Graphs and Statistical analysis\n",
    "\n",
    "- The feature that I detected during the charting phase truly have a correlation to churn.\n",
    "- For some like Month-to-month, Fiber optic, Tenure, the p value is extremely low\n",
    "- There is a high number of features and it is necessary to select the most significance to improve my model performance but also avoid overfitting the models\n",
    "-"
   ]
  },
  {
   "cell_type": "markdown",
   "id": "95646129",
   "metadata": {},
   "source": [
    "# Modeling"
   ]
  },
  {
   "cell_type": "markdown",
   "id": "a3dd4f31",
   "metadata": {},
   "source": [
    "In this section, I am trying to predict the customers that will churn.\n",
    "\n",
    "So, after examining the features through the lens of graphs and running statistical tests on those that appeared to be significant, I will use them to in my train model to predict which customer is likely to churn in the future. \n",
    "\n",
    "- Dependents: dependents_encoded\n",
    "- Phone service: phone_service_encoded\n",
    "- Tech support: tech_support_Yes\n",
    "- Paperless billing: paperless_billing_encoded\n",
    "- Tenure: binned_tenure\n",
    "- Fiber optic: internet_service_type_Fiber optic\n",
    "- Monthly charges: monthly_charges\n",
    "- Contract type (Month-to-month): (train['contract_type'] == 'Month-to-month')\n",
    "\n",
    "Churn is the target variable and I will focus on churned customers (feature characteristic 1)\n",
    "\n",
    "To evaluate the model I will use a confusion matrix with the following characteristics:\n",
    "\n",
    "- TP\n",
    "    * Prediction = customer will churn\n",
    "    * Actual = customer churns\n",
    "- TN\n",
    "    * Predict = customer will not churn\n",
    "    * Actual = customer does not churn\n",
    "- FP\n",
    "    * Predict = customer will churn\n",
    "    * Actual = customer does NOT churn\n",
    "- FN\n",
    "    * Predict = customer will not churn\n",
    "    * Actual = customer churns\n",
    "\n",
    "\n",
    "**<font color=\"fuchsia\">- Objective: Identify customers that will churn</font>**\n",
    "\n",
    "**<font color=\"navyblue\">* Corresponding indicator: I want an indicator that tells me precisely who will churn but I don't want to predict that someone will not churn but they do churn. So I want to be able to predict well who will churn and who will not churn and ACCURACY is the best indicator for that combined with Recall.</font>**\n",
    "\n",
    "**<font color=\"fuchsia\">- Positive is set to churn = 1</font>**"
   ]
  },
  {
   "cell_type": "markdown",
   "id": "2cba3db9",
   "metadata": {},
   "source": [
    "## <font color=\"brown\">A. Decision trees</font>"
   ]
  },
  {
   "cell_type": "code",
   "execution_count": 180,
   "id": "ccd7b7c2",
   "metadata": {
    "scrolled": true
   },
   "outputs": [
    {
     "data": {
      "text/html": [
       "<div>\n",
       "<style scoped>\n",
       "    .dataframe tbody tr th:only-of-type {\n",
       "        vertical-align: middle;\n",
       "    }\n",
       "\n",
       "    .dataframe tbody tr th {\n",
       "        vertical-align: top;\n",
       "    }\n",
       "\n",
       "    .dataframe thead th {\n",
       "        text-align: right;\n",
       "    }\n",
       "</style>\n",
       "<table border=\"1\" class=\"dataframe\">\n",
       "  <thead>\n",
       "    <tr style=\"text-align: right;\">\n",
       "      <th></th>\n",
       "      <th>gender_encoded</th>\n",
       "      <th>partner_encoded</th>\n",
       "      <th>dependents_encoded</th>\n",
       "      <th>phone_service_encoded</th>\n",
       "      <th>paperless_billing_encoded</th>\n",
       "      <th>churn_encoded</th>\n",
       "      <th>multiple_lines_No phone service</th>\n",
       "      <th>multiple_lines_Yes</th>\n",
       "      <th>online_security_No internet service</th>\n",
       "      <th>online_security_Yes</th>\n",
       "      <th>...</th>\n",
       "      <th>streaming_tv_Yes</th>\n",
       "      <th>streaming_movies_No internet service</th>\n",
       "      <th>streaming_movies_Yes</th>\n",
       "      <th>contract_type_One year</th>\n",
       "      <th>contract_type_Two year</th>\n",
       "      <th>internet_service_type_Fiber optic</th>\n",
       "      <th>internet_service_type_None</th>\n",
       "      <th>payment_type_Credit card (automatic)</th>\n",
       "      <th>payment_type_Electronic check</th>\n",
       "      <th>payment_type_Mailed check</th>\n",
       "    </tr>\n",
       "  </thead>\n",
       "  <tbody>\n",
       "    <tr>\n",
       "      <th>3311</th>\n",
       "      <td>1</td>\n",
       "      <td>0</td>\n",
       "      <td>0</td>\n",
       "      <td>1</td>\n",
       "      <td>0</td>\n",
       "      <td>0</td>\n",
       "      <td>0</td>\n",
       "      <td>0</td>\n",
       "      <td>1</td>\n",
       "      <td>0</td>\n",
       "      <td>...</td>\n",
       "      <td>0</td>\n",
       "      <td>1</td>\n",
       "      <td>0</td>\n",
       "      <td>1</td>\n",
       "      <td>0</td>\n",
       "      <td>0</td>\n",
       "      <td>1</td>\n",
       "      <td>0</td>\n",
       "      <td>0</td>\n",
       "      <td>1</td>\n",
       "    </tr>\n",
       "    <tr>\n",
       "      <th>6330</th>\n",
       "      <td>0</td>\n",
       "      <td>1</td>\n",
       "      <td>1</td>\n",
       "      <td>1</td>\n",
       "      <td>0</td>\n",
       "      <td>0</td>\n",
       "      <td>0</td>\n",
       "      <td>1</td>\n",
       "      <td>1</td>\n",
       "      <td>0</td>\n",
       "      <td>...</td>\n",
       "      <td>0</td>\n",
       "      <td>1</td>\n",
       "      <td>0</td>\n",
       "      <td>0</td>\n",
       "      <td>1</td>\n",
       "      <td>0</td>\n",
       "      <td>1</td>\n",
       "      <td>1</td>\n",
       "      <td>0</td>\n",
       "      <td>0</td>\n",
       "    </tr>\n",
       "    <tr>\n",
       "      <th>6156</th>\n",
       "      <td>0</td>\n",
       "      <td>0</td>\n",
       "      <td>0</td>\n",
       "      <td>1</td>\n",
       "      <td>0</td>\n",
       "      <td>0</td>\n",
       "      <td>0</td>\n",
       "      <td>0</td>\n",
       "      <td>0</td>\n",
       "      <td>0</td>\n",
       "      <td>...</td>\n",
       "      <td>0</td>\n",
       "      <td>0</td>\n",
       "      <td>0</td>\n",
       "      <td>0</td>\n",
       "      <td>0</td>\n",
       "      <td>0</td>\n",
       "      <td>0</td>\n",
       "      <td>0</td>\n",
       "      <td>1</td>\n",
       "      <td>0</td>\n",
       "    </tr>\n",
       "    <tr>\n",
       "      <th>5313</th>\n",
       "      <td>0</td>\n",
       "      <td>0</td>\n",
       "      <td>0</td>\n",
       "      <td>1</td>\n",
       "      <td>0</td>\n",
       "      <td>0</td>\n",
       "      <td>0</td>\n",
       "      <td>0</td>\n",
       "      <td>0</td>\n",
       "      <td>0</td>\n",
       "      <td>...</td>\n",
       "      <td>0</td>\n",
       "      <td>0</td>\n",
       "      <td>0</td>\n",
       "      <td>0</td>\n",
       "      <td>0</td>\n",
       "      <td>1</td>\n",
       "      <td>0</td>\n",
       "      <td>0</td>\n",
       "      <td>1</td>\n",
       "      <td>0</td>\n",
       "    </tr>\n",
       "    <tr>\n",
       "      <th>1176</th>\n",
       "      <td>1</td>\n",
       "      <td>1</td>\n",
       "      <td>0</td>\n",
       "      <td>1</td>\n",
       "      <td>0</td>\n",
       "      <td>0</td>\n",
       "      <td>0</td>\n",
       "      <td>0</td>\n",
       "      <td>0</td>\n",
       "      <td>0</td>\n",
       "      <td>...</td>\n",
       "      <td>0</td>\n",
       "      <td>0</td>\n",
       "      <td>0</td>\n",
       "      <td>0</td>\n",
       "      <td>0</td>\n",
       "      <td>0</td>\n",
       "      <td>0</td>\n",
       "      <td>0</td>\n",
       "      <td>0</td>\n",
       "      <td>0</td>\n",
       "    </tr>\n",
       "  </tbody>\n",
       "</table>\n",
       "<p>5 rows × 32 columns</p>\n",
       "</div>"
      ],
      "text/plain": [
       "      gender_encoded  partner_encoded  dependents_encoded  \\\n",
       "3311               1                0                   0   \n",
       "6330               0                1                   1   \n",
       "6156               0                0                   0   \n",
       "5313               0                0                   0   \n",
       "1176               1                1                   0   \n",
       "\n",
       "      phone_service_encoded  paperless_billing_encoded  churn_encoded  \\\n",
       "3311                      1                          0              0   \n",
       "6330                      1                          0              0   \n",
       "6156                      1                          0              0   \n",
       "5313                      1                          0              0   \n",
       "1176                      1                          0              0   \n",
       "\n",
       "      multiple_lines_No phone service  multiple_lines_Yes  \\\n",
       "3311                                0                   0   \n",
       "6330                                0                   1   \n",
       "6156                                0                   0   \n",
       "5313                                0                   0   \n",
       "1176                                0                   0   \n",
       "\n",
       "      online_security_No internet service  online_security_Yes  ...  \\\n",
       "3311                                    1                    0  ...   \n",
       "6330                                    1                    0  ...   \n",
       "6156                                    0                    0  ...   \n",
       "5313                                    0                    0  ...   \n",
       "1176                                    0                    0  ...   \n",
       "\n",
       "      streaming_tv_Yes  streaming_movies_No internet service  \\\n",
       "3311                 0                                     1   \n",
       "6330                 0                                     1   \n",
       "6156                 0                                     0   \n",
       "5313                 0                                     0   \n",
       "1176                 0                                     0   \n",
       "\n",
       "      streaming_movies_Yes  contract_type_One year  contract_type_Two year  \\\n",
       "3311                     0                       1                       0   \n",
       "6330                     0                       0                       1   \n",
       "6156                     0                       0                       0   \n",
       "5313                     0                       0                       0   \n",
       "1176                     0                       0                       0   \n",
       "\n",
       "      internet_service_type_Fiber optic  internet_service_type_None  \\\n",
       "3311                                  0                           1   \n",
       "6330                                  0                           1   \n",
       "6156                                  0                           0   \n",
       "5313                                  1                           0   \n",
       "1176                                  0                           0   \n",
       "\n",
       "      payment_type_Credit card (automatic)  payment_type_Electronic check  \\\n",
       "3311                                     0                              0   \n",
       "6330                                     1                              0   \n",
       "6156                                     0                              1   \n",
       "5313                                     0                              1   \n",
       "1176                                     0                              0   \n",
       "\n",
       "      payment_type_Mailed check  \n",
       "3311                          1  \n",
       "6330                          0  \n",
       "6156                          0  \n",
       "5313                          0  \n",
       "1176                          0  \n",
       "\n",
       "[5 rows x 32 columns]"
      ]
     },
     "execution_count": 180,
     "metadata": {},
     "output_type": "execute_result"
    }
   ],
   "source": [
    "# I am going to first drop all the non numeric columns\n",
    "\n",
    "non_num = ['gender',\n",
    " 'senior_citizen',\n",
    " 'partner',\n",
    " 'dependents',\n",
    " 'tenure',\n",
    " 'phone_service',\n",
    " 'multiple_lines',\n",
    " 'online_security',\n",
    " 'online_backup',\n",
    " 'device_protection',\n",
    " 'tech_support',\n",
    " 'streaming_tv',\n",
    " 'streaming_movies',\n",
    " 'paperless_billing',\n",
    " 'monthly_charges',\n",
    " 'total_charges',\n",
    " 'churn',\n",
    " 'contract_type',\n",
    " 'internet_service_type',\n",
    " 'payment_type',\n",
    " 'binned_tenure']\n",
    "\n",
    "train = train.drop(columns=non_num)\n",
    "train.head()\n",
    "validate = validate.drop(columns=non_num)\n",
    "validate.head()\n",
    "test = test.drop(columns=non_num)\n",
    "test.head()"
   ]
  },
  {
   "cell_type": "code",
   "execution_count": 182,
   "id": "68e4374a",
   "metadata": {},
   "outputs": [],
   "source": [
    "# create X & y version of train, where y is a series with just the target variable\n",
    "# and X are all the features that I have selected. \n",
    "\n",
    "cols_to_drop = ['partner_encoded',\n",
    "                'gender_encoded',\n",
    "                'multiple_lines_No phone service',\n",
    "                'multiple_lines_Yes',\n",
    "                'online_security_No internet service',\n",
    "                'online_security_Yes',\n",
    "                'online_backup_No internet service',\n",
    "                'online_backup_Yes',\n",
    "                'device_protection_No internet service',\n",
    "                'device_protection_Yes',\n",
    "                'tech_support_No internet service',\n",
    "                'streaming_tv_No internet service',\n",
    "                'streaming_tv_Yes',\n",
    "                'streaming_movies_No internet service',\n",
    "                'streaming_movies_Yes',\n",
    "                'internet_service_type_Fiber optic',\n",
    "                'payment_type_Credit card (automatic)',\n",
    "                'payment_type_Electronic check',\n",
    "                'payment_type_Mailed check',\n",
    "                'internet_service_type_None']\n",
    "\n",
    "\n",
    "train = train.drop(columns=cols_to_drop)\n",
    "validate = validate.drop(columns=cols_to_drop)\n",
    "test = test.drop(columns=cols_to_drop)"
   ]
  },
  {
   "cell_type": "code",
   "execution_count": 183,
   "id": "ef9e71c1",
   "metadata": {},
   "outputs": [
    {
     "data": {
      "text/html": [
       "<div>\n",
       "<style scoped>\n",
       "    .dataframe tbody tr th:only-of-type {\n",
       "        vertical-align: middle;\n",
       "    }\n",
       "\n",
       "    .dataframe tbody tr th {\n",
       "        vertical-align: top;\n",
       "    }\n",
       "\n",
       "    .dataframe thead th {\n",
       "        text-align: right;\n",
       "    }\n",
       "</style>\n",
       "<table border=\"1\" class=\"dataframe\">\n",
       "  <thead>\n",
       "    <tr style=\"text-align: right;\">\n",
       "      <th></th>\n",
       "      <th>dependents_encoded</th>\n",
       "      <th>phone_service_encoded</th>\n",
       "      <th>paperless_billing_encoded</th>\n",
       "      <th>churn_encoded</th>\n",
       "      <th>binned_tenure_2years</th>\n",
       "      <th>binned_tenure_3years</th>\n",
       "      <th>binned_tenure_4years</th>\n",
       "      <th>binned_tenure_5years</th>\n",
       "      <th>binned_tenure_6years</th>\n",
       "      <th>tech_support_Yes</th>\n",
       "      <th>contract_type_One year</th>\n",
       "      <th>contract_type_Two year</th>\n",
       "    </tr>\n",
       "  </thead>\n",
       "  <tbody>\n",
       "    <tr>\n",
       "      <th>5919</th>\n",
       "      <td>0</td>\n",
       "      <td>1</td>\n",
       "      <td>1</td>\n",
       "      <td>0</td>\n",
       "      <td>0</td>\n",
       "      <td>0</td>\n",
       "      <td>0</td>\n",
       "      <td>1</td>\n",
       "      <td>0</td>\n",
       "      <td>1</td>\n",
       "      <td>1</td>\n",
       "      <td>0</td>\n",
       "    </tr>\n",
       "    <tr>\n",
       "      <th>1915</th>\n",
       "      <td>1</td>\n",
       "      <td>1</td>\n",
       "      <td>1</td>\n",
       "      <td>0</td>\n",
       "      <td>0</td>\n",
       "      <td>0</td>\n",
       "      <td>0</td>\n",
       "      <td>0</td>\n",
       "      <td>1</td>\n",
       "      <td>0</td>\n",
       "      <td>1</td>\n",
       "      <td>0</td>\n",
       "    </tr>\n",
       "    <tr>\n",
       "      <th>5054</th>\n",
       "      <td>1</td>\n",
       "      <td>1</td>\n",
       "      <td>1</td>\n",
       "      <td>0</td>\n",
       "      <td>0</td>\n",
       "      <td>1</td>\n",
       "      <td>0</td>\n",
       "      <td>0</td>\n",
       "      <td>0</td>\n",
       "      <td>0</td>\n",
       "      <td>0</td>\n",
       "      <td>0</td>\n",
       "    </tr>\n",
       "    <tr>\n",
       "      <th>2355</th>\n",
       "      <td>1</td>\n",
       "      <td>1</td>\n",
       "      <td>0</td>\n",
       "      <td>0</td>\n",
       "      <td>0</td>\n",
       "      <td>0</td>\n",
       "      <td>0</td>\n",
       "      <td>0</td>\n",
       "      <td>0</td>\n",
       "      <td>0</td>\n",
       "      <td>0</td>\n",
       "      <td>0</td>\n",
       "    </tr>\n",
       "    <tr>\n",
       "      <th>6279</th>\n",
       "      <td>0</td>\n",
       "      <td>1</td>\n",
       "      <td>0</td>\n",
       "      <td>0</td>\n",
       "      <td>1</td>\n",
       "      <td>0</td>\n",
       "      <td>0</td>\n",
       "      <td>0</td>\n",
       "      <td>0</td>\n",
       "      <td>1</td>\n",
       "      <td>1</td>\n",
       "      <td>0</td>\n",
       "    </tr>\n",
       "  </tbody>\n",
       "</table>\n",
       "</div>"
      ],
      "text/plain": [
       "      dependents_encoded  phone_service_encoded  paperless_billing_encoded  \\\n",
       "5919                   0                      1                          1   \n",
       "1915                   1                      1                          1   \n",
       "5054                   1                      1                          1   \n",
       "2355                   1                      1                          0   \n",
       "6279                   0                      1                          0   \n",
       "\n",
       "      churn_encoded  binned_tenure_2years  binned_tenure_3years  \\\n",
       "5919              0                     0                     0   \n",
       "1915              0                     0                     0   \n",
       "5054              0                     0                     1   \n",
       "2355              0                     0                     0   \n",
       "6279              0                     1                     0   \n",
       "\n",
       "      binned_tenure_4years  binned_tenure_5years  binned_tenure_6years  \\\n",
       "5919                     0                     1                     0   \n",
       "1915                     0                     0                     1   \n",
       "5054                     0                     0                     0   \n",
       "2355                     0                     0                     0   \n",
       "6279                     0                     0                     0   \n",
       "\n",
       "      tech_support_Yes  contract_type_One year  contract_type_Two year  \n",
       "5919                 1                       1                       0  \n",
       "1915                 0                       1                       0  \n",
       "5054                 0                       0                       0  \n",
       "2355                 0                       0                       0  \n",
       "6279                 1                       1                       0  "
      ]
     },
     "execution_count": 183,
     "metadata": {},
     "output_type": "execute_result"
    }
   ],
   "source": [
    "train.head()"
   ]
  },
  {
   "cell_type": "code",
   "execution_count": 184,
   "id": "c5001f52",
   "metadata": {},
   "outputs": [
    {
     "data": {
      "text/html": [
       "<div>\n",
       "<style scoped>\n",
       "    .dataframe tbody tr th:only-of-type {\n",
       "        vertical-align: middle;\n",
       "    }\n",
       "\n",
       "    .dataframe tbody tr th {\n",
       "        vertical-align: top;\n",
       "    }\n",
       "\n",
       "    .dataframe thead th {\n",
       "        text-align: right;\n",
       "    }\n",
       "</style>\n",
       "<table border=\"1\" class=\"dataframe\">\n",
       "  <thead>\n",
       "    <tr style=\"text-align: right;\">\n",
       "      <th></th>\n",
       "      <th>dependents_encoded</th>\n",
       "      <th>phone_service_encoded</th>\n",
       "      <th>paperless_billing_encoded</th>\n",
       "      <th>churn_encoded</th>\n",
       "      <th>binned_tenure_2years</th>\n",
       "      <th>binned_tenure_3years</th>\n",
       "      <th>binned_tenure_4years</th>\n",
       "      <th>binned_tenure_5years</th>\n",
       "      <th>binned_tenure_6years</th>\n",
       "      <th>tech_support_Yes</th>\n",
       "      <th>contract_type_One year</th>\n",
       "      <th>contract_type_Two year</th>\n",
       "    </tr>\n",
       "  </thead>\n",
       "  <tbody>\n",
       "    <tr>\n",
       "      <th>816</th>\n",
       "      <td>0</td>\n",
       "      <td>1</td>\n",
       "      <td>0</td>\n",
       "      <td>0</td>\n",
       "      <td>0</td>\n",
       "      <td>1</td>\n",
       "      <td>0</td>\n",
       "      <td>0</td>\n",
       "      <td>0</td>\n",
       "      <td>0</td>\n",
       "      <td>0</td>\n",
       "      <td>0</td>\n",
       "    </tr>\n",
       "    <tr>\n",
       "      <th>1488</th>\n",
       "      <td>0</td>\n",
       "      <td>1</td>\n",
       "      <td>0</td>\n",
       "      <td>0</td>\n",
       "      <td>0</td>\n",
       "      <td>0</td>\n",
       "      <td>0</td>\n",
       "      <td>0</td>\n",
       "      <td>1</td>\n",
       "      <td>1</td>\n",
       "      <td>0</td>\n",
       "      <td>1</td>\n",
       "    </tr>\n",
       "    <tr>\n",
       "      <th>4796</th>\n",
       "      <td>0</td>\n",
       "      <td>0</td>\n",
       "      <td>1</td>\n",
       "      <td>0</td>\n",
       "      <td>0</td>\n",
       "      <td>0</td>\n",
       "      <td>1</td>\n",
       "      <td>0</td>\n",
       "      <td>0</td>\n",
       "      <td>0</td>\n",
       "      <td>1</td>\n",
       "      <td>0</td>\n",
       "    </tr>\n",
       "    <tr>\n",
       "      <th>3213</th>\n",
       "      <td>1</td>\n",
       "      <td>1</td>\n",
       "      <td>0</td>\n",
       "      <td>0</td>\n",
       "      <td>0</td>\n",
       "      <td>1</td>\n",
       "      <td>0</td>\n",
       "      <td>0</td>\n",
       "      <td>0</td>\n",
       "      <td>0</td>\n",
       "      <td>0</td>\n",
       "      <td>1</td>\n",
       "    </tr>\n",
       "    <tr>\n",
       "      <th>5026</th>\n",
       "      <td>1</td>\n",
       "      <td>1</td>\n",
       "      <td>0</td>\n",
       "      <td>0</td>\n",
       "      <td>0</td>\n",
       "      <td>0</td>\n",
       "      <td>0</td>\n",
       "      <td>0</td>\n",
       "      <td>1</td>\n",
       "      <td>0</td>\n",
       "      <td>0</td>\n",
       "      <td>1</td>\n",
       "    </tr>\n",
       "  </tbody>\n",
       "</table>\n",
       "</div>"
      ],
      "text/plain": [
       "      dependents_encoded  phone_service_encoded  paperless_billing_encoded  \\\n",
       "816                    0                      1                          0   \n",
       "1488                   0                      1                          0   \n",
       "4796                   0                      0                          1   \n",
       "3213                   1                      1                          0   \n",
       "5026                   1                      1                          0   \n",
       "\n",
       "      churn_encoded  binned_tenure_2years  binned_tenure_3years  \\\n",
       "816               0                     0                     1   \n",
       "1488              0                     0                     0   \n",
       "4796              0                     0                     0   \n",
       "3213              0                     0                     1   \n",
       "5026              0                     0                     0   \n",
       "\n",
       "      binned_tenure_4years  binned_tenure_5years  binned_tenure_6years  \\\n",
       "816                      0                     0                     0   \n",
       "1488                     0                     0                     1   \n",
       "4796                     1                     0                     0   \n",
       "3213                     0                     0                     0   \n",
       "5026                     0                     0                     1   \n",
       "\n",
       "      tech_support_Yes  contract_type_One year  contract_type_Two year  \n",
       "816                  0                       0                       0  \n",
       "1488                 1                       0                       1  \n",
       "4796                 0                       1                       0  \n",
       "3213                 0                       0                       1  \n",
       "5026                 0                       0                       1  "
      ]
     },
     "execution_count": 184,
     "metadata": {},
     "output_type": "execute_result"
    }
   ],
   "source": [
    "validate.head()"
   ]
  },
  {
   "cell_type": "code",
   "execution_count": 185,
   "id": "6e6c81d9",
   "metadata": {
    "scrolled": true
   },
   "outputs": [
    {
     "data": {
      "text/html": [
       "<div>\n",
       "<style scoped>\n",
       "    .dataframe tbody tr th:only-of-type {\n",
       "        vertical-align: middle;\n",
       "    }\n",
       "\n",
       "    .dataframe tbody tr th {\n",
       "        vertical-align: top;\n",
       "    }\n",
       "\n",
       "    .dataframe thead th {\n",
       "        text-align: right;\n",
       "    }\n",
       "</style>\n",
       "<table border=\"1\" class=\"dataframe\">\n",
       "  <thead>\n",
       "    <tr style=\"text-align: right;\">\n",
       "      <th></th>\n",
       "      <th>dependents_encoded</th>\n",
       "      <th>phone_service_encoded</th>\n",
       "      <th>paperless_billing_encoded</th>\n",
       "      <th>churn_encoded</th>\n",
       "      <th>binned_tenure_2years</th>\n",
       "      <th>binned_tenure_3years</th>\n",
       "      <th>binned_tenure_4years</th>\n",
       "      <th>binned_tenure_5years</th>\n",
       "      <th>binned_tenure_6years</th>\n",
       "      <th>tech_support_Yes</th>\n",
       "      <th>contract_type_One year</th>\n",
       "      <th>contract_type_Two year</th>\n",
       "    </tr>\n",
       "  </thead>\n",
       "  <tbody>\n",
       "    <tr>\n",
       "      <th>3311</th>\n",
       "      <td>0</td>\n",
       "      <td>1</td>\n",
       "      <td>0</td>\n",
       "      <td>0</td>\n",
       "      <td>0</td>\n",
       "      <td>1</td>\n",
       "      <td>0</td>\n",
       "      <td>0</td>\n",
       "      <td>0</td>\n",
       "      <td>0</td>\n",
       "      <td>1</td>\n",
       "      <td>0</td>\n",
       "    </tr>\n",
       "    <tr>\n",
       "      <th>6330</th>\n",
       "      <td>1</td>\n",
       "      <td>1</td>\n",
       "      <td>0</td>\n",
       "      <td>0</td>\n",
       "      <td>0</td>\n",
       "      <td>1</td>\n",
       "      <td>0</td>\n",
       "      <td>0</td>\n",
       "      <td>0</td>\n",
       "      <td>0</td>\n",
       "      <td>0</td>\n",
       "      <td>1</td>\n",
       "    </tr>\n",
       "    <tr>\n",
       "      <th>6156</th>\n",
       "      <td>0</td>\n",
       "      <td>1</td>\n",
       "      <td>0</td>\n",
       "      <td>0</td>\n",
       "      <td>0</td>\n",
       "      <td>0</td>\n",
       "      <td>0</td>\n",
       "      <td>0</td>\n",
       "      <td>0</td>\n",
       "      <td>0</td>\n",
       "      <td>0</td>\n",
       "      <td>0</td>\n",
       "    </tr>\n",
       "    <tr>\n",
       "      <th>5313</th>\n",
       "      <td>0</td>\n",
       "      <td>1</td>\n",
       "      <td>0</td>\n",
       "      <td>0</td>\n",
       "      <td>0</td>\n",
       "      <td>1</td>\n",
       "      <td>0</td>\n",
       "      <td>0</td>\n",
       "      <td>0</td>\n",
       "      <td>0</td>\n",
       "      <td>0</td>\n",
       "      <td>0</td>\n",
       "    </tr>\n",
       "    <tr>\n",
       "      <th>1176</th>\n",
       "      <td>0</td>\n",
       "      <td>1</td>\n",
       "      <td>0</td>\n",
       "      <td>0</td>\n",
       "      <td>0</td>\n",
       "      <td>1</td>\n",
       "      <td>0</td>\n",
       "      <td>0</td>\n",
       "      <td>0</td>\n",
       "      <td>1</td>\n",
       "      <td>0</td>\n",
       "      <td>0</td>\n",
       "    </tr>\n",
       "  </tbody>\n",
       "</table>\n",
       "</div>"
      ],
      "text/plain": [
       "      dependents_encoded  phone_service_encoded  paperless_billing_encoded  \\\n",
       "3311                   0                      1                          0   \n",
       "6330                   1                      1                          0   \n",
       "6156                   0                      1                          0   \n",
       "5313                   0                      1                          0   \n",
       "1176                   0                      1                          0   \n",
       "\n",
       "      churn_encoded  binned_tenure_2years  binned_tenure_3years  \\\n",
       "3311              0                     0                     1   \n",
       "6330              0                     0                     1   \n",
       "6156              0                     0                     0   \n",
       "5313              0                     0                     1   \n",
       "1176              0                     0                     1   \n",
       "\n",
       "      binned_tenure_4years  binned_tenure_5years  binned_tenure_6years  \\\n",
       "3311                     0                     0                     0   \n",
       "6330                     0                     0                     0   \n",
       "6156                     0                     0                     0   \n",
       "5313                     0                     0                     0   \n",
       "1176                     0                     0                     0   \n",
       "\n",
       "      tech_support_Yes  contract_type_One year  contract_type_Two year  \n",
       "3311                 0                       1                       0  \n",
       "6330                 0                       0                       1  \n",
       "6156                 0                       0                       0  \n",
       "5313                 0                       0                       0  \n",
       "1176                 1                       0                       0  "
      ]
     },
     "execution_count": 185,
     "metadata": {},
     "output_type": "execute_result"
    }
   ],
   "source": [
    "test.head()"
   ]
  },
  {
   "cell_type": "code",
   "execution_count": 186,
   "id": "96da0b7c",
   "metadata": {},
   "outputs": [],
   "source": [
    "X_train = train.drop(columns=['churn_encoded'])\n",
    "y_train = train.churn_encoded\n",
    "\n",
    "X_validate = validate.drop(columns=['churn_encoded'])\n",
    "y_validate = validate.churn_encoded\n",
    "\n",
    "X_test = test.drop(columns=['churn_encoded'])\n",
    "y_test = test.churn_encoded"
   ]
  },
  {
   "cell_type": "markdown",
   "id": "af941b3c",
   "metadata": {},
   "source": [
    "## Baseline"
   ]
  },
  {
   "cell_type": "code",
   "execution_count": 187,
   "id": "9b32c06a",
   "metadata": {},
   "outputs": [
    {
     "data": {
      "text/html": [
       "<div>\n",
       "<style scoped>\n",
       "    .dataframe tbody tr th:only-of-type {\n",
       "        vertical-align: middle;\n",
       "    }\n",
       "\n",
       "    .dataframe tbody tr th {\n",
       "        vertical-align: top;\n",
       "    }\n",
       "\n",
       "    .dataframe thead th {\n",
       "        text-align: right;\n",
       "    }\n",
       "</style>\n",
       "<table border=\"1\" class=\"dataframe\">\n",
       "  <thead>\n",
       "    <tr style=\"text-align: right;\">\n",
       "      <th>baseline</th>\n",
       "      <th>0</th>\n",
       "    </tr>\n",
       "    <tr>\n",
       "      <th>actual</th>\n",
       "      <th></th>\n",
       "    </tr>\n",
       "  </thead>\n",
       "  <tbody>\n",
       "    <tr>\n",
       "      <th>0</th>\n",
       "      <td>2891</td>\n",
       "    </tr>\n",
       "    <tr>\n",
       "      <th>1</th>\n",
       "      <td>1046</td>\n",
       "    </tr>\n",
       "  </tbody>\n",
       "</table>\n",
       "</div>"
      ],
      "text/plain": [
       "baseline     0\n",
       "actual        \n",
       "0         2891\n",
       "1         1046"
      ]
     },
     "execution_count": 187,
     "metadata": {},
     "output_type": "execute_result"
    }
   ],
   "source": [
    "baseline_model = pd.DataFrame({'actual': y_train})\n",
    "baseline_model['baseline'] = 0\n",
    "baseline_confusion_matrix = pd.crosstab(baseline_model.actual, baseline_model.baseline)\n",
    "baseline_confusion_matrix"
   ]
  },
  {
   "cell_type": "code",
   "execution_count": 188,
   "id": "dae97ce9",
   "metadata": {},
   "outputs": [
    {
     "name": "stdout",
     "output_type": "stream",
     "text": [
      "Baseline Accuracy: 73.431547%\n"
     ]
    }
   ],
   "source": [
    "baseline_accuracy = (baseline_model.baseline == baseline_model.actual).mean()\n",
    "\n",
    "print(f'Baseline Accuracy: {baseline_accuracy:10%}')"
   ]
  },
  {
   "cell_type": "markdown",
   "id": "f547e8e1",
   "metadata": {},
   "source": [
    "### Decision Tree"
   ]
  },
  {
   "cell_type": "code",
   "execution_count": 211,
   "id": "c92f2708",
   "metadata": {
    "scrolled": false
   },
   "outputs": [
    {
     "name": "stdout",
     "output_type": "stream",
     "text": [
      "\n",
      "*****Winner*****\n",
      "\n",
      "The Top Depth is 10\n",
      "Accuracy = 77.470155%\n"
     ]
    }
   ],
   "source": [
    "# Running several other model to see which one has the \n",
    "\n",
    "best_result = []\n",
    "for i in range(2, 30):\n",
    "    best_depth = DecisionTreeClassifier(max_depth=i, random_state=175)\n",
    "    best_depth = best_depth.fit(X_train, y_train)\n",
    "    y_pred = best_depth.predict(X_train)\n",
    "    report_dt = classification_report(y_train, y_pred, output_dict=True)\n",
    "\n",
    "    best_result.append(best_depth.score(X_train, y_train))\n",
    "    best_result_accuracy = max(best_result)\n",
    "    best_result_num = best_result.index(best_result_accuracy)\n",
    "    top_train_depth = best_result_num + 1\n",
    "\n",
    "print('\\n*****Winner*****\\n')\n",
    "print(f'The Top Depth is {top_train_depth}')\n",
    "print(f'Accuracy = {best_result_accuracy:10%}')\n"
   ]
  },
  {
   "cell_type": "code",
   "execution_count": 202,
   "id": "bc991a7b",
   "metadata": {},
   "outputs": [
    {
     "data": {
      "text/html": [
       "<div>\n",
       "<style scoped>\n",
       "    .dataframe tbody tr th:only-of-type {\n",
       "        vertical-align: middle;\n",
       "    }\n",
       "\n",
       "    .dataframe tbody tr th {\n",
       "        vertical-align: top;\n",
       "    }\n",
       "\n",
       "    .dataframe thead th {\n",
       "        text-align: right;\n",
       "    }\n",
       "</style>\n",
       "<table border=\"1\" class=\"dataframe\">\n",
       "  <thead>\n",
       "    <tr style=\"text-align: right;\">\n",
       "      <th></th>\n",
       "      <th>0</th>\n",
       "      <th>1</th>\n",
       "    </tr>\n",
       "  </thead>\n",
       "  <tbody>\n",
       "    <tr>\n",
       "      <th>0</th>\n",
       "      <td>2660</td>\n",
       "      <td>231</td>\n",
       "    </tr>\n",
       "    <tr>\n",
       "      <th>1</th>\n",
       "      <td>656</td>\n",
       "      <td>390</td>\n",
       "    </tr>\n",
       "  </tbody>\n",
       "</table>\n",
       "</div>"
      ],
      "text/plain": [
       "      0    1\n",
       "0  2660  231\n",
       "1   656  390"
      ]
     },
     "execution_count": 202,
     "metadata": {},
     "output_type": "execute_result"
    }
   ],
   "source": [
    "# Running a classification report matrix to find out more\n",
    "\n",
    "pd.DataFrame(confusion_matrix(y_train, y_pred))"
   ]
  },
  {
   "cell_type": "code",
   "execution_count": 198,
   "id": "803635f9",
   "metadata": {
    "scrolled": false
   },
   "outputs": [
    {
     "name": "stdout",
     "output_type": "stream",
     "text": [
      "              precision    recall  f1-score   support\n",
      "\n",
      "           0       0.80      0.92      0.86      2891\n",
      "           1       0.63      0.37      0.47      1046\n",
      "\n",
      "    accuracy                           0.77      3937\n",
      "   macro avg       0.72      0.65      0.66      3937\n",
      "weighted avg       0.76      0.77      0.75      3937\n",
      "\n"
     ]
    }
   ],
   "source": [
    "print(classification_report(y_train, y_pred))"
   ]
  },
  {
   "cell_type": "markdown",
   "id": "4b9271bd",
   "metadata": {},
   "source": [
    "### Random Forest"
   ]
  },
  {
   "cell_type": "code",
   "execution_count": 233,
   "id": "d0311dc1",
   "metadata": {
    "scrolled": true
   },
   "outputs": [
    {
     "name": "stdout",
     "output_type": "stream",
     "text": [
      "\n",
      "*****Winner*****\n",
      "\n",
      "The Top Depth is 10\n",
      "Accuracy = 77.470155%\n"
     ]
    }
   ],
   "source": [
    "for i in range(2, 20):\n",
    "    rf = RandomForestClassifier(max_depth=i, random_state=175)\n",
    "    rf = rf.fit(X_train, y_train)\n",
    "    y_predictions = rf.predict(X_train)\n",
    "    report_rf = classification_report(y_train, y_predictions, output_dict=True)\n",
    "\n",
    "print('\\n*****Winner*****\\n')\n",
    "print(f'The Top Depth is {top_train_depth}')\n",
    "print(f'Accuracy = {best_result_accuracy:10%}')"
   ]
  },
  {
   "cell_type": "markdown",
   "id": "fb786242",
   "metadata": {},
   "source": [
    "### K-Nearest Neighbor"
   ]
  },
  {
   "cell_type": "code",
   "execution_count": 241,
   "id": "16e20457",
   "metadata": {},
   "outputs": [
    {
     "name": "stdout",
     "output_type": "stream",
     "text": [
      "\n",
      "*****Winner*****\n",
      "\n",
      "The Top Depth is 10\n",
      "Accuracy = 77.470155%\n"
     ]
    }
   ],
   "source": [
    "for i in range(1, 10):\n",
    "            \n",
    "    knn = KNeighborsClassifier(n_neighbors=i)\n",
    "    knn.fit(X_train, y_train)\n",
    "    KNeighborsClassifier()\n",
    "    \n",
    "    y_pred = knn.predict(X_train)\n",
    "    y_pred_proba = knn.predict_proba(X_train)\n",
    "\n",
    "    \n",
    "print('\\n*****Winner*****\\n')\n",
    "print(f'The Top Depth is {top_train_depth}')\n",
    "print(f'Accuracy = {best_result_accuracy:10%}')"
   ]
  },
  {
   "cell_type": "code",
   "execution_count": 242,
   "id": "7c0023ba",
   "metadata": {
    "scrolled": false
   },
   "outputs": [
    {
     "name": "stdout",
     "output_type": "stream",
     "text": [
      "              precision    recall  f1-score   support\n",
      "\n",
      "           0       0.82      0.88      0.85      2891\n",
      "           1       0.59      0.48      0.53      1046\n",
      "\n",
      "    accuracy                           0.77      3937\n",
      "   macro avg       0.71      0.68      0.69      3937\n",
      "weighted avg       0.76      0.77      0.76      3937\n",
      "\n"
     ]
    }
   ],
   "source": [
    "print(classification_report(y_train, y_pred))"
   ]
  },
  {
   "cell_type": "markdown",
   "id": "e16ccb23",
   "metadata": {},
   "source": [
    "### Logistic Regression"
   ]
  },
  {
   "cell_type": "code",
   "execution_count": 225,
   "id": "54c4833f",
   "metadata": {
    "scrolled": true
   },
   "outputs": [
    {
     "name": "stdout",
     "output_type": "stream",
     "text": [
      "Coefficient: \n",
      " [[-0.3795548   0.20560612  0.81093159 -0.65956874 -0.82540273 -0.51448292\n",
      "  -0.66022417 -0.77215757 -0.15263819 -1.36530208 -2.47483404]]\n",
      "Intercept: \n",
      " [0.40419705]\n"
     ]
    }
   ],
   "source": [
    "logit = LogisticRegression(C=1, class_weight='balanced', random_state=175, intercept_scaling=1, solver='lbfgs')\n",
    "logit.fit(X_train, y_train)\n",
    "\n",
    "y_pred = logit.predict(X_train)\n",
    "\n",
    "print('Coefficient: \\n', logit.coef_)\n",
    "print('Intercept: \\n', logit.intercept_)"
   ]
  },
  {
   "cell_type": "code",
   "execution_count": null,
   "id": "bb514e1a",
   "metadata": {},
   "outputs": [],
   "source": [
    "y_pred_proba = logit.predict_proba(X_train)\n",
    "print('Accuracy of Logistic Regression classifier on training set: {:.2f}'\n",
    "     .format(logit.score(X_train, y_train)))"
   ]
  },
  {
   "cell_type": "code",
   "execution_count": 226,
   "id": "8dd40558",
   "metadata": {},
   "outputs": [
    {
     "name": "stdout",
     "output_type": "stream",
     "text": [
      "[[1857 1034]\n",
      " [ 184  862]]\n"
     ]
    }
   ],
   "source": [
    "print(confusion_matrix(y_train, y_pred))\n"
   ]
  },
  {
   "cell_type": "code",
   "execution_count": 229,
   "id": "1e93a4da",
   "metadata": {},
   "outputs": [
    {
     "name": "stdout",
     "output_type": "stream",
     "text": [
      "              precision    recall  f1-score   support\n",
      "\n",
      "           0       0.91      0.64      0.75      2891\n",
      "           1       0.45      0.82      0.59      1046\n",
      "\n",
      "    accuracy                           0.69      3937\n",
      "   macro avg       0.68      0.73      0.67      3937\n",
      "weighted avg       0.79      0.69      0.71      3937\n",
      "\n"
     ]
    }
   ],
   "source": [
    "print(classification_report(y_train, y_pred))"
   ]
  },
  {
   "cell_type": "markdown",
   "id": "b1cce649",
   "metadata": {},
   "source": [
    "## <font color=\"brown\"> B. Crosscheck with validate</font>"
   ]
  },
  {
   "cell_type": "markdown",
   "id": "d2a0add2",
   "metadata": {},
   "source": [
    "### Decision Tree"
   ]
  },
  {
   "cell_type": "code",
   "execution_count": 243,
   "id": "17de79bd",
   "metadata": {
    "scrolled": true
   },
   "outputs": [
    {
     "name": "stdout",
     "output_type": "stream",
     "text": [
      "Model 1: Decision Tree\n",
      "Accuracy: 75.829384%\n",
      "[[1132  107]\n",
      " [ 301  148]]\n",
      "              precision    recall  f1-score   support\n",
      "\n",
      "           0       0.79      0.91      0.85      1239\n",
      "           1       0.58      0.33      0.42       449\n",
      "\n",
      "    accuracy                           0.76      1688\n",
      "   macro avg       0.69      0.62      0.63      1688\n",
      "weighted avg       0.73      0.76      0.73      1688\n",
      "\n"
     ]
    }
   ],
   "source": [
    "print(\"Model 1: Decision Tree\")\n",
    "\n",
    "print('Accuracy: {:10%}'.format(top_depth.score(X_validate, y_validate)))\n",
    "\n",
    "\n",
    "y_pred = top_depth.predict(X_validate)\n",
    "\n",
    "print(confusion_matrix(y_validate, y_pred))\n",
    "\n",
    "print(classification_report(y_validate, y_pred))"
   ]
  },
  {
   "cell_type": "markdown",
   "id": "1eebdc64",
   "metadata": {},
   "source": [
    "### Random Forest"
   ]
  },
  {
   "cell_type": "code",
   "execution_count": 234,
   "id": "31e8fd27",
   "metadata": {},
   "outputs": [
    {
     "name": "stdout",
     "output_type": "stream",
     "text": [
      "Model 2: Random Forest\n",
      "Accuracy: 75.118483%\n",
      "[[1120  119]\n",
      " [ 301  148]]\n",
      "              precision    recall  f1-score   support\n",
      "\n",
      "           0       0.79      0.90      0.84      1239\n",
      "           1       0.55      0.33      0.41       449\n",
      "\n",
      "    accuracy                           0.75      1688\n",
      "   macro avg       0.67      0.62      0.63      1688\n",
      "weighted avg       0.73      0.75      0.73      1688\n",
      "\n"
     ]
    }
   ],
   "source": [
    "print(\"Model 2: Random Forest\")\n",
    "\n",
    "print('Accuracy: {:10%}'.format(rf.score(X_validate, y_validate)))\n",
    "\n",
    "\n",
    "y_pred = rf.predict(X_validate)\n",
    "\n",
    "print(confusion_matrix(y_validate, y_pred))\n",
    "\n",
    "print(classification_report(y_validate, y_pred))"
   ]
  },
  {
   "cell_type": "markdown",
   "id": "58fde104",
   "metadata": {},
   "source": [
    "### K-NN"
   ]
  },
  {
   "cell_type": "code",
   "execution_count": 245,
   "id": "3fde07f4",
   "metadata": {},
   "outputs": [
    {
     "name": "stdout",
     "output_type": "stream",
     "text": [
      "Model 3: K-NN\n",
      "Accuracy: 75.177725%\n",
      "[[1064  175]\n",
      " [ 244  205]]\n",
      "              precision    recall  f1-score   support\n",
      "\n",
      "           0       0.81      0.86      0.84      1239\n",
      "           1       0.54      0.46      0.49       449\n",
      "\n",
      "    accuracy                           0.75      1688\n",
      "   macro avg       0.68      0.66      0.67      1688\n",
      "weighted avg       0.74      0.75      0.74      1688\n",
      "\n"
     ]
    }
   ],
   "source": [
    "print(\"Model 3: K-NN\")\n",
    "\n",
    "print('Accuracy: {:10%}'.format(knn.score(X_validate, y_validate)))\n",
    "\n",
    "\n",
    "y_pred = knn.predict(X_validate)\n",
    "\n",
    "print(confusion_matrix(y_validate, y_pred))\n",
    "\n",
    "print(classification_report(y_validate, y_pred))"
   ]
  },
  {
   "cell_type": "markdown",
   "id": "503bd55d",
   "metadata": {},
   "source": [
    "### Logistic Regression"
   ]
  },
  {
   "cell_type": "code",
   "execution_count": 244,
   "id": "39f724d2",
   "metadata": {},
   "outputs": [
    {
     "name": "stdout",
     "output_type": "stream",
     "text": [
      "Model 4: Logistic Regression\n",
      "Accuracy: 68.898104%\n",
      "[[792 447]\n",
      " [ 78 371]]\n",
      "              precision    recall  f1-score   support\n",
      "\n",
      "           0       0.91      0.64      0.75      1239\n",
      "           1       0.45      0.83      0.59       449\n",
      "\n",
      "    accuracy                           0.69      1688\n",
      "   macro avg       0.68      0.73      0.67      1688\n",
      "weighted avg       0.79      0.69      0.71      1688\n",
      "\n"
     ]
    }
   ],
   "source": [
    "print(\"Model 4: Logistic Regression\")\n",
    "\n",
    "print('Accuracy: {:10%}'.format(logit.score(X_validate, y_validate)))\n",
    "\n",
    "\n",
    "y_pred = logit.predict(X_validate)\n",
    "\n",
    "print(confusion_matrix(y_validate, y_pred))\n",
    "\n",
    "print(classification_report(y_validate, y_pred))"
   ]
  },
  {
   "cell_type": "markdown",
   "id": "3bc6a3cc",
   "metadata": {},
   "source": [
    "**<font color=\"brown\">The best model with the highest ACCURAY and RECALL is: Decision tree model at depth 10</font>**"
   ]
  },
  {
   "cell_type": "markdown",
   "id": "747a2390",
   "metadata": {},
   "source": [
    "## <font color=\"brown\">C. Crosscheck with test</font>"
   ]
  },
  {
   "cell_type": "code",
   "execution_count": 246,
   "id": "cf475b3c",
   "metadata": {},
   "outputs": [
    {
     "name": "stdout",
     "output_type": "stream",
     "text": [
      "[[940  93]\n",
      " [248 126]]\n",
      "              precision    recall  f1-score   support\n",
      "\n",
      "           0       0.79      0.91      0.85      1033\n",
      "           1       0.58      0.34      0.42       374\n",
      "\n",
      "    accuracy                           0.76      1407\n",
      "   macro avg       0.68      0.62      0.64      1407\n",
      "weighted avg       0.73      0.76      0.73      1407\n",
      "\n"
     ]
    }
   ],
   "source": [
    "y_pred = top_depth.predict(X_test)\n",
    "\n",
    "print(confusion_matrix(y_test, y_pred))\n",
    "\n",
    "print(classification_report(y_test, y_pred))"
   ]
  },
  {
   "cell_type": "markdown",
   "id": "96514117",
   "metadata": {},
   "source": [
    "## Prediction CSV FILE"
   ]
  },
  {
   "cell_type": "code",
   "execution_count": null,
   "id": "2d6f9f9d",
   "metadata": {},
   "outputs": [],
   "source": [
    "y_predictions = model.predict(X_test)\n",
    "y_proba = model.predict_proba(X_test)\n",
    "\n",
    "predictions = pd.DataFrame({\n",
    "    \"customer_id\": test.customer_id, # since the customer_id is dropped from X_test, we'll use test here since the indexes line up\n",
    "    \"prediction\": y_predictions,\n",
    "    \"probability_of_churn\", y_proba\n",
    "})\n",
    "\n",
    "predictions.to_csv(\"predictions.csv\")"
   ]
  },
  {
   "cell_type": "markdown",
   "id": "525caca4",
   "metadata": {},
   "source": [
    "# Conclusions"
   ]
  },
  {
   "cell_type": "markdown",
   "id": "7459eacf",
   "metadata": {},
   "source": [
    "### Final observations\n",
    "My model performed better than the baseline and could be used to prerdict whether a customer will churn with an accuracy of 76% and a recall of 91%.\n",
    "\n",
    "Churn is driven by so many variables but it seems that the strongest based on their p value and the percentage od clients churning in their respective group (column) are Month-to-month, Fiber optic, and Tenure\n",
    "\n",
    "### Recommendations\n",
    "I would recommend that:\n",
    "- the offers to the month to month clients be reviewed and a survey run\n",
    "- in the meantime, the company can offer promotion that will entice clients to stay longer like promotional prices for short bursts of time allowing them to buy two or three months at half or 1/3 of the price\n",
    "- a further investigation shoulb launch to understand the short-coming of fiber optic.\n",
    "- It would be valuable to understand what keep customers who have extra services likt tech support, streaming tv and reinforce it and find ways to make it more available for more people.\n",
    "\n",
    "### Next steps\n",
    "With additional time, I could:\n",
    "    - Dig deeper with the Logistic Regression model by carving more features\n",
    "    - Investigate more feature more wholesomely\n",
    "    - Run some analysis of the market and the competion to understand the evolution of the market (SWOT & PESTLE analysis, Boston Matrix, )\n",
    "    - Investigate whether and maybe how Streaming TV and Streaming Movies,  help keep customers from churning and if it could be a good way to keep them\n",
    "    "
   ]
  },
  {
   "cell_type": "markdown",
   "id": "48c56234",
   "metadata": {},
   "source": [
    "**<center><font color=\"brown\">Thank you!</font></center>**"
   ]
  }
 ],
 "metadata": {
  "kernelspec": {
   "display_name": "Python 3 (ipykernel)",
   "language": "python",
   "name": "python3"
  },
  "language_info": {
   "codemirror_mode": {
    "name": "ipython",
    "version": 3
   },
   "file_extension": ".py",
   "mimetype": "text/x-python",
   "name": "python",
   "nbconvert_exporter": "python",
   "pygments_lexer": "ipython3",
   "version": "3.9.7"
  }
 },
 "nbformat": 4,
 "nbformat_minor": 5
}
