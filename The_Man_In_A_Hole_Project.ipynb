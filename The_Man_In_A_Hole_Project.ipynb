{
 "cells": [
  {
   "cell_type": "markdown",
   "id": "012fb84a",
   "metadata": {},
   "source": [
    "# Acquisition Phase"
   ]
  },
  {
   "cell_type": "code",
   "execution_count": 1,
   "id": "4e1a808c",
   "metadata": {},
   "outputs": [],
   "source": [
    "# Importing all necessary modules and functions for the project\n",
    "\n",
    "import warnings\n",
    "warnings.filterwarnings(\"ignore\")\n",
    "\n",
    "import pandas as pd\n",
    "import numpy as np\n",
    "import os\n",
    "\n",
    "import matplotlib.pyplot as plt\n",
    "import seaborn as sns\n",
    "import scipy.stats\n",
    "from pydataset import data\n",
    "\n",
    "from sklearn.model_selection import train_test_split\n",
    "from sklearn.tree import DecisionTreeClassifier, plot_tree\n",
    "from sklearn.neighbors import KNeighborsClassifier\n",
    "from sklearn.ensemble import RandomForestClassifier\n",
    "from sklearn.linear_model import LogisticRegression\n",
    "\n",
    "from sklearn.metrics import classification_report\n",
    "from sklearn.metrics import confusion_matrix\n",
    "\n",
    "from scipy import stats\n",
    "\n",
    "import acquire\n",
    "import prepare"
   ]
  },
  {
   "cell_type": "markdown",
   "id": "a257fda1",
   "metadata": {},
   "source": [
    "### <font color=\"blue\">The acquire module below uses an env.py file that has my log in info to get the csv file from the Codeup DataBase (db)</font>"
   ]
  },
  {
   "cell_type": "code",
   "execution_count": 2,
   "id": "0ea0f7b2",
   "metadata": {},
   "outputs": [
    {
     "data": {
      "text/html": [
       "<div>\n",
       "<style scoped>\n",
       "    .dataframe tbody tr th:only-of-type {\n",
       "        vertical-align: middle;\n",
       "    }\n",
       "\n",
       "    .dataframe tbody tr th {\n",
       "        vertical-align: top;\n",
       "    }\n",
       "\n",
       "    .dataframe thead th {\n",
       "        text-align: right;\n",
       "    }\n",
       "</style>\n",
       "<table border=\"1\" class=\"dataframe\">\n",
       "  <thead>\n",
       "    <tr style=\"text-align: right;\">\n",
       "      <th></th>\n",
       "      <th>payment_type_id</th>\n",
       "      <th>internet_service_type_id</th>\n",
       "      <th>contract_type_id</th>\n",
       "      <th>customer_id</th>\n",
       "      <th>gender</th>\n",
       "      <th>senior_citizen</th>\n",
       "      <th>partner</th>\n",
       "      <th>dependents</th>\n",
       "      <th>tenure</th>\n",
       "      <th>phone_service</th>\n",
       "      <th>...</th>\n",
       "      <th>tech_support</th>\n",
       "      <th>streaming_tv</th>\n",
       "      <th>streaming_movies</th>\n",
       "      <th>paperless_billing</th>\n",
       "      <th>monthly_charges</th>\n",
       "      <th>total_charges</th>\n",
       "      <th>churn</th>\n",
       "      <th>contract_type</th>\n",
       "      <th>internet_service_type</th>\n",
       "      <th>payment_type</th>\n",
       "    </tr>\n",
       "  </thead>\n",
       "  <tbody>\n",
       "    <tr>\n",
       "      <th>0</th>\n",
       "      <td>2</td>\n",
       "      <td>1</td>\n",
       "      <td>2</td>\n",
       "      <td>0002-ORFBO</td>\n",
       "      <td>Female</td>\n",
       "      <td>0</td>\n",
       "      <td>Yes</td>\n",
       "      <td>Yes</td>\n",
       "      <td>9</td>\n",
       "      <td>Yes</td>\n",
       "      <td>...</td>\n",
       "      <td>Yes</td>\n",
       "      <td>Yes</td>\n",
       "      <td>No</td>\n",
       "      <td>Yes</td>\n",
       "      <td>65.6</td>\n",
       "      <td>593.3</td>\n",
       "      <td>No</td>\n",
       "      <td>One year</td>\n",
       "      <td>DSL</td>\n",
       "      <td>Mailed check</td>\n",
       "    </tr>\n",
       "    <tr>\n",
       "      <th>1</th>\n",
       "      <td>2</td>\n",
       "      <td>1</td>\n",
       "      <td>1</td>\n",
       "      <td>0003-MKNFE</td>\n",
       "      <td>Male</td>\n",
       "      <td>0</td>\n",
       "      <td>No</td>\n",
       "      <td>No</td>\n",
       "      <td>9</td>\n",
       "      <td>Yes</td>\n",
       "      <td>...</td>\n",
       "      <td>No</td>\n",
       "      <td>No</td>\n",
       "      <td>Yes</td>\n",
       "      <td>No</td>\n",
       "      <td>59.9</td>\n",
       "      <td>542.4</td>\n",
       "      <td>No</td>\n",
       "      <td>Month-to-month</td>\n",
       "      <td>DSL</td>\n",
       "      <td>Mailed check</td>\n",
       "    </tr>\n",
       "    <tr>\n",
       "      <th>2</th>\n",
       "      <td>1</td>\n",
       "      <td>2</td>\n",
       "      <td>1</td>\n",
       "      <td>0004-TLHLJ</td>\n",
       "      <td>Male</td>\n",
       "      <td>0</td>\n",
       "      <td>No</td>\n",
       "      <td>No</td>\n",
       "      <td>4</td>\n",
       "      <td>Yes</td>\n",
       "      <td>...</td>\n",
       "      <td>No</td>\n",
       "      <td>No</td>\n",
       "      <td>No</td>\n",
       "      <td>Yes</td>\n",
       "      <td>73.9</td>\n",
       "      <td>280.85</td>\n",
       "      <td>Yes</td>\n",
       "      <td>Month-to-month</td>\n",
       "      <td>Fiber optic</td>\n",
       "      <td>Electronic check</td>\n",
       "    </tr>\n",
       "    <tr>\n",
       "      <th>3</th>\n",
       "      <td>1</td>\n",
       "      <td>2</td>\n",
       "      <td>1</td>\n",
       "      <td>0011-IGKFF</td>\n",
       "      <td>Male</td>\n",
       "      <td>1</td>\n",
       "      <td>Yes</td>\n",
       "      <td>No</td>\n",
       "      <td>13</td>\n",
       "      <td>Yes</td>\n",
       "      <td>...</td>\n",
       "      <td>No</td>\n",
       "      <td>Yes</td>\n",
       "      <td>Yes</td>\n",
       "      <td>Yes</td>\n",
       "      <td>98.0</td>\n",
       "      <td>1237.85</td>\n",
       "      <td>Yes</td>\n",
       "      <td>Month-to-month</td>\n",
       "      <td>Fiber optic</td>\n",
       "      <td>Electronic check</td>\n",
       "    </tr>\n",
       "    <tr>\n",
       "      <th>4</th>\n",
       "      <td>2</td>\n",
       "      <td>2</td>\n",
       "      <td>1</td>\n",
       "      <td>0013-EXCHZ</td>\n",
       "      <td>Female</td>\n",
       "      <td>1</td>\n",
       "      <td>Yes</td>\n",
       "      <td>No</td>\n",
       "      <td>3</td>\n",
       "      <td>Yes</td>\n",
       "      <td>...</td>\n",
       "      <td>Yes</td>\n",
       "      <td>Yes</td>\n",
       "      <td>No</td>\n",
       "      <td>Yes</td>\n",
       "      <td>83.9</td>\n",
       "      <td>267.4</td>\n",
       "      <td>Yes</td>\n",
       "      <td>Month-to-month</td>\n",
       "      <td>Fiber optic</td>\n",
       "      <td>Mailed check</td>\n",
       "    </tr>\n",
       "  </tbody>\n",
       "</table>\n",
       "<p>5 rows × 24 columns</p>\n",
       "</div>"
      ],
      "text/plain": [
       "   payment_type_id  internet_service_type_id  contract_type_id customer_id  \\\n",
       "0                2                         1                 2  0002-ORFBO   \n",
       "1                2                         1                 1  0003-MKNFE   \n",
       "2                1                         2                 1  0004-TLHLJ   \n",
       "3                1                         2                 1  0011-IGKFF   \n",
       "4                2                         2                 1  0013-EXCHZ   \n",
       "\n",
       "   gender  senior_citizen partner dependents  tenure phone_service  ...  \\\n",
       "0  Female               0     Yes        Yes       9           Yes  ...   \n",
       "1    Male               0      No         No       9           Yes  ...   \n",
       "2    Male               0      No         No       4           Yes  ...   \n",
       "3    Male               1     Yes         No      13           Yes  ...   \n",
       "4  Female               1     Yes         No       3           Yes  ...   \n",
       "\n",
       "  tech_support streaming_tv streaming_movies paperless_billing  \\\n",
       "0          Yes          Yes               No               Yes   \n",
       "1           No           No              Yes                No   \n",
       "2           No           No               No               Yes   \n",
       "3           No          Yes              Yes               Yes   \n",
       "4          Yes          Yes               No               Yes   \n",
       "\n",
       "  monthly_charges total_charges churn   contract_type  internet_service_type  \\\n",
       "0            65.6         593.3    No        One year                    DSL   \n",
       "1            59.9         542.4    No  Month-to-month                    DSL   \n",
       "2            73.9        280.85   Yes  Month-to-month            Fiber optic   \n",
       "3            98.0       1237.85   Yes  Month-to-month            Fiber optic   \n",
       "4            83.9         267.4   Yes  Month-to-month            Fiber optic   \n",
       "\n",
       "       payment_type  \n",
       "0      Mailed check  \n",
       "1      Mailed check  \n",
       "2  Electronic check  \n",
       "3  Electronic check  \n",
       "4      Mailed check  \n",
       "\n",
       "[5 rows x 24 columns]"
      ]
     },
     "execution_count": 2,
     "metadata": {},
     "output_type": "execute_result"
    }
   ],
   "source": [
    "# Accessing the file and writing it into a CSV file on my computer\n",
    "\n",
    "telco = acquire.get_telco_data()\n",
    "telco.head()"
   ]
  },
  {
   "cell_type": "markdown",
   "id": "1bc7cf27",
   "metadata": {},
   "source": [
    "# Preparation Phase"
   ]
  },
  {
   "cell_type": "markdown",
   "id": "762dd250",
   "metadata": {},
   "source": [
    "### <font color=\"blue\">The prepare module does the following:\n",
    "    - drops duplicate columns\n",
    "    - drops null values that do not affect the outcome of the modeling process\n",
    "    - Bins the tenure columns for a more succint visualization\n",
    "    - Converts binary and non-binary categorical variables to numeric through manuak encoding and one-hot encoding\n",
    "    - Splits the data into train, validate, and test groups</font>"
   ]
  },
  {
   "cell_type": "code",
   "execution_count": 3,
   "id": "aff3905f",
   "metadata": {},
   "outputs": [],
   "source": [
    "train, validate, test = prepare.prep_telco_data(telco)"
   ]
  },
  {
   "cell_type": "code",
   "execution_count": 4,
   "id": "42221f23",
   "metadata": {},
   "outputs": [
    {
     "data": {
      "text/html": [
       "<div>\n",
       "<style scoped>\n",
       "    .dataframe tbody tr th:only-of-type {\n",
       "        vertical-align: middle;\n",
       "    }\n",
       "\n",
       "    .dataframe tbody tr th {\n",
       "        vertical-align: top;\n",
       "    }\n",
       "\n",
       "    .dataframe thead th {\n",
       "        text-align: right;\n",
       "    }\n",
       "</style>\n",
       "<table border=\"1\" class=\"dataframe\">\n",
       "  <thead>\n",
       "    <tr style=\"text-align: right;\">\n",
       "      <th></th>\n",
       "      <th>gender</th>\n",
       "      <th>senior_citizen</th>\n",
       "      <th>partner</th>\n",
       "      <th>dependents</th>\n",
       "      <th>tenure</th>\n",
       "      <th>phone_service</th>\n",
       "      <th>multiple_lines</th>\n",
       "      <th>online_security</th>\n",
       "      <th>online_backup</th>\n",
       "      <th>device_protection</th>\n",
       "      <th>...</th>\n",
       "      <th>streaming_tv_Yes</th>\n",
       "      <th>streaming_movies_No internet service</th>\n",
       "      <th>streaming_movies_Yes</th>\n",
       "      <th>contract_type_One year</th>\n",
       "      <th>contract_type_Two year</th>\n",
       "      <th>internet_service_type_Fiber optic</th>\n",
       "      <th>internet_service_type_None</th>\n",
       "      <th>payment_type_Credit card (automatic)</th>\n",
       "      <th>payment_type_Electronic check</th>\n",
       "      <th>payment_type_Mailed check</th>\n",
       "    </tr>\n",
       "  </thead>\n",
       "  <tbody>\n",
       "    <tr>\n",
       "      <th>5919</th>\n",
       "      <td>Female</td>\n",
       "      <td>0</td>\n",
       "      <td>No</td>\n",
       "      <td>No</td>\n",
       "      <td>58</td>\n",
       "      <td>Yes</td>\n",
       "      <td>Yes</td>\n",
       "      <td>Yes</td>\n",
       "      <td>Yes</td>\n",
       "      <td>Yes</td>\n",
       "      <td>...</td>\n",
       "      <td>0</td>\n",
       "      <td>0</td>\n",
       "      <td>0</td>\n",
       "      <td>1</td>\n",
       "      <td>0</td>\n",
       "      <td>0</td>\n",
       "      <td>0</td>\n",
       "      <td>1</td>\n",
       "      <td>0</td>\n",
       "      <td>0</td>\n",
       "    </tr>\n",
       "    <tr>\n",
       "      <th>1915</th>\n",
       "      <td>Male</td>\n",
       "      <td>0</td>\n",
       "      <td>No</td>\n",
       "      <td>Yes</td>\n",
       "      <td>71</td>\n",
       "      <td>Yes</td>\n",
       "      <td>Yes</td>\n",
       "      <td>Yes</td>\n",
       "      <td>Yes</td>\n",
       "      <td>No</td>\n",
       "      <td>...</td>\n",
       "      <td>0</td>\n",
       "      <td>0</td>\n",
       "      <td>0</td>\n",
       "      <td>1</td>\n",
       "      <td>0</td>\n",
       "      <td>1</td>\n",
       "      <td>0</td>\n",
       "      <td>1</td>\n",
       "      <td>0</td>\n",
       "      <td>0</td>\n",
       "    </tr>\n",
       "    <tr>\n",
       "      <th>5054</th>\n",
       "      <td>Female</td>\n",
       "      <td>0</td>\n",
       "      <td>Yes</td>\n",
       "      <td>Yes</td>\n",
       "      <td>35</td>\n",
       "      <td>Yes</td>\n",
       "      <td>Yes</td>\n",
       "      <td>No internet service</td>\n",
       "      <td>No internet service</td>\n",
       "      <td>No internet service</td>\n",
       "      <td>...</td>\n",
       "      <td>0</td>\n",
       "      <td>1</td>\n",
       "      <td>0</td>\n",
       "      <td>0</td>\n",
       "      <td>0</td>\n",
       "      <td>0</td>\n",
       "      <td>1</td>\n",
       "      <td>0</td>\n",
       "      <td>1</td>\n",
       "      <td>0</td>\n",
       "    </tr>\n",
       "    <tr>\n",
       "      <th>2355</th>\n",
       "      <td>Male</td>\n",
       "      <td>0</td>\n",
       "      <td>Yes</td>\n",
       "      <td>Yes</td>\n",
       "      <td>1</td>\n",
       "      <td>Yes</td>\n",
       "      <td>No</td>\n",
       "      <td>No internet service</td>\n",
       "      <td>No internet service</td>\n",
       "      <td>No internet service</td>\n",
       "      <td>...</td>\n",
       "      <td>0</td>\n",
       "      <td>1</td>\n",
       "      <td>0</td>\n",
       "      <td>0</td>\n",
       "      <td>0</td>\n",
       "      <td>0</td>\n",
       "      <td>1</td>\n",
       "      <td>0</td>\n",
       "      <td>0</td>\n",
       "      <td>1</td>\n",
       "    </tr>\n",
       "    <tr>\n",
       "      <th>6279</th>\n",
       "      <td>Male</td>\n",
       "      <td>1</td>\n",
       "      <td>No</td>\n",
       "      <td>No</td>\n",
       "      <td>20</td>\n",
       "      <td>Yes</td>\n",
       "      <td>No</td>\n",
       "      <td>Yes</td>\n",
       "      <td>No</td>\n",
       "      <td>No</td>\n",
       "      <td>...</td>\n",
       "      <td>0</td>\n",
       "      <td>0</td>\n",
       "      <td>0</td>\n",
       "      <td>1</td>\n",
       "      <td>0</td>\n",
       "      <td>0</td>\n",
       "      <td>0</td>\n",
       "      <td>0</td>\n",
       "      <td>0</td>\n",
       "      <td>1</td>\n",
       "    </tr>\n",
       "  </tbody>\n",
       "</table>\n",
       "<p>5 rows × 53 columns</p>\n",
       "</div>"
      ],
      "text/plain": [
       "      gender  senior_citizen partner dependents  tenure phone_service  \\\n",
       "5919  Female               0      No         No      58           Yes   \n",
       "1915    Male               0      No        Yes      71           Yes   \n",
       "5054  Female               0     Yes        Yes      35           Yes   \n",
       "2355    Male               0     Yes        Yes       1           Yes   \n",
       "6279    Male               1      No         No      20           Yes   \n",
       "\n",
       "     multiple_lines      online_security        online_backup  \\\n",
       "5919            Yes                  Yes                  Yes   \n",
       "1915            Yes                  Yes                  Yes   \n",
       "5054            Yes  No internet service  No internet service   \n",
       "2355             No  No internet service  No internet service   \n",
       "6279             No                  Yes                   No   \n",
       "\n",
       "        device_protection  ... streaming_tv_Yes  \\\n",
       "5919                  Yes  ...                0   \n",
       "1915                   No  ...                0   \n",
       "5054  No internet service  ...                0   \n",
       "2355  No internet service  ...                0   \n",
       "6279                   No  ...                0   \n",
       "\n",
       "     streaming_movies_No internet service streaming_movies_Yes  \\\n",
       "5919                                    0                    0   \n",
       "1915                                    0                    0   \n",
       "5054                                    1                    0   \n",
       "2355                                    1                    0   \n",
       "6279                                    0                    0   \n",
       "\n",
       "     contract_type_One year  contract_type_Two year  \\\n",
       "5919                      1                       0   \n",
       "1915                      1                       0   \n",
       "5054                      0                       0   \n",
       "2355                      0                       0   \n",
       "6279                      1                       0   \n",
       "\n",
       "      internet_service_type_Fiber optic internet_service_type_None  \\\n",
       "5919                                  0                          0   \n",
       "1915                                  1                          0   \n",
       "5054                                  0                          1   \n",
       "2355                                  0                          1   \n",
       "6279                                  0                          0   \n",
       "\n",
       "     payment_type_Credit card (automatic) payment_type_Electronic check  \\\n",
       "5919                                    1                             0   \n",
       "1915                                    1                             0   \n",
       "5054                                    0                             1   \n",
       "2355                                    0                             0   \n",
       "6279                                    0                             0   \n",
       "\n",
       "     payment_type_Mailed check  \n",
       "5919                         0  \n",
       "1915                         0  \n",
       "5054                         0  \n",
       "2355                         1  \n",
       "6279                         1  \n",
       "\n",
       "[5 rows x 53 columns]"
      ]
     },
     "execution_count": 4,
     "metadata": {},
     "output_type": "execute_result"
    }
   ],
   "source": [
    "train.head()"
   ]
  },
  {
   "cell_type": "markdown",
   "id": "d44e9b61",
   "metadata": {},
   "source": [
    "# Exploration Phase"
   ]
  },
  {
   "cell_type": "markdown",
   "id": "ee5d03b7",
   "metadata": {},
   "source": [
    "### <font color=\"blue\">I quickly check for missing values (None or NaN ) and the integrity of the data</font>"
   ]
  },
  {
   "cell_type": "code",
   "execution_count": 5,
   "id": "c49b104b",
   "metadata": {
    "collapsed": true
   },
   "outputs": [
    {
     "data": {
      "text/plain": [
       "gender                                   0\n",
       "senior_citizen                           0\n",
       "partner                                  0\n",
       "dependents                               0\n",
       "tenure                                   0\n",
       "phone_service                            0\n",
       "multiple_lines                           0\n",
       "online_security                          0\n",
       "online_backup                            0\n",
       "device_protection                        0\n",
       "tech_support                             0\n",
       "streaming_tv                             0\n",
       "streaming_movies                         0\n",
       "paperless_billing                        0\n",
       "monthly_charges                          0\n",
       "total_charges                            0\n",
       "churn                                    0\n",
       "contract_type                            0\n",
       "internet_service_type                    0\n",
       "payment_type                             0\n",
       "binned_tenure                            0\n",
       "gender_encoded                           0\n",
       "partner_encoded                          0\n",
       "dependents_encoded                       0\n",
       "phone_service_encoded                    0\n",
       "paperless_billing_encoded                0\n",
       "churn_encoded                            0\n",
       "multiple_lines_No phone service          0\n",
       "multiple_lines_Yes                       0\n",
       "online_security_No internet service      0\n",
       "online_security_Yes                      0\n",
       "online_backup_No internet service        0\n",
       "online_backup_Yes                        0\n",
       "binned_tenure_2years                     0\n",
       "binned_tenure_3years                     0\n",
       "binned_tenure_4years                     0\n",
       "binned_tenure_5years                     0\n",
       "binned_tenure_6years                     0\n",
       "device_protection_No internet service    0\n",
       "device_protection_Yes                    0\n",
       "tech_support_No internet service         0\n",
       "tech_support_Yes                         0\n",
       "streaming_tv_No internet service         0\n",
       "streaming_tv_Yes                         0\n",
       "streaming_movies_No internet service     0\n",
       "streaming_movies_Yes                     0\n",
       "contract_type_One year                   0\n",
       "contract_type_Two year                   0\n",
       "internet_service_type_Fiber optic        0\n",
       "internet_service_type_None               0\n",
       "payment_type_Credit card (automatic)     0\n",
       "payment_type_Electronic check            0\n",
       "payment_type_Mailed check                0\n",
       "dtype: int64"
      ]
     },
     "execution_count": 5,
     "metadata": {},
     "output_type": "execute_result"
    }
   ],
   "source": [
    "# Isna will confirm that I do not have \n",
    "\n",
    "train.isna().sum()"
   ]
  },
  {
   "cell_type": "code",
   "execution_count": 6,
   "id": "4f6f0718",
   "metadata": {},
   "outputs": [
    {
     "data": {
      "text/html": [
       "<div>\n",
       "<style scoped>\n",
       "    .dataframe tbody tr th:only-of-type {\n",
       "        vertical-align: middle;\n",
       "    }\n",
       "\n",
       "    .dataframe tbody tr th {\n",
       "        vertical-align: top;\n",
       "    }\n",
       "\n",
       "    .dataframe thead th {\n",
       "        text-align: right;\n",
       "    }\n",
       "</style>\n",
       "<table border=\"1\" class=\"dataframe\">\n",
       "  <thead>\n",
       "    <tr style=\"text-align: right;\">\n",
       "      <th></th>\n",
       "      <th>gender</th>\n",
       "      <th>senior_citizen</th>\n",
       "      <th>partner</th>\n",
       "      <th>dependents</th>\n",
       "      <th>tenure</th>\n",
       "      <th>phone_service</th>\n",
       "      <th>multiple_lines</th>\n",
       "      <th>online_security</th>\n",
       "      <th>online_backup</th>\n",
       "      <th>device_protection</th>\n",
       "      <th>...</th>\n",
       "      <th>streaming_tv_Yes</th>\n",
       "      <th>streaming_movies_No internet service</th>\n",
       "      <th>streaming_movies_Yes</th>\n",
       "      <th>contract_type_One year</th>\n",
       "      <th>contract_type_Two year</th>\n",
       "      <th>internet_service_type_Fiber optic</th>\n",
       "      <th>internet_service_type_None</th>\n",
       "      <th>payment_type_Credit card (automatic)</th>\n",
       "      <th>payment_type_Electronic check</th>\n",
       "      <th>payment_type_Mailed check</th>\n",
       "    </tr>\n",
       "  </thead>\n",
       "  <tbody>\n",
       "    <tr>\n",
       "      <th>816</th>\n",
       "      <td>Female</td>\n",
       "      <td>0</td>\n",
       "      <td>Yes</td>\n",
       "      <td>No</td>\n",
       "      <td>27</td>\n",
       "      <td>Yes</td>\n",
       "      <td>Yes</td>\n",
       "      <td>No</td>\n",
       "      <td>No</td>\n",
       "      <td>No</td>\n",
       "      <td>...</td>\n",
       "      <td>1</td>\n",
       "      <td>0</td>\n",
       "      <td>1</td>\n",
       "      <td>0</td>\n",
       "      <td>0</td>\n",
       "      <td>1</td>\n",
       "      <td>0</td>\n",
       "      <td>1</td>\n",
       "      <td>0</td>\n",
       "      <td>0</td>\n",
       "    </tr>\n",
       "    <tr>\n",
       "      <th>1488</th>\n",
       "      <td>Female</td>\n",
       "      <td>0</td>\n",
       "      <td>Yes</td>\n",
       "      <td>No</td>\n",
       "      <td>71</td>\n",
       "      <td>Yes</td>\n",
       "      <td>Yes</td>\n",
       "      <td>Yes</td>\n",
       "      <td>Yes</td>\n",
       "      <td>Yes</td>\n",
       "      <td>...</td>\n",
       "      <td>1</td>\n",
       "      <td>0</td>\n",
       "      <td>1</td>\n",
       "      <td>0</td>\n",
       "      <td>1</td>\n",
       "      <td>0</td>\n",
       "      <td>0</td>\n",
       "      <td>1</td>\n",
       "      <td>0</td>\n",
       "      <td>0</td>\n",
       "    </tr>\n",
       "    <tr>\n",
       "      <th>4796</th>\n",
       "      <td>Male</td>\n",
       "      <td>0</td>\n",
       "      <td>No</td>\n",
       "      <td>No</td>\n",
       "      <td>44</td>\n",
       "      <td>No</td>\n",
       "      <td>No phone service</td>\n",
       "      <td>Yes</td>\n",
       "      <td>No</td>\n",
       "      <td>Yes</td>\n",
       "      <td>...</td>\n",
       "      <td>1</td>\n",
       "      <td>0</td>\n",
       "      <td>1</td>\n",
       "      <td>1</td>\n",
       "      <td>0</td>\n",
       "      <td>0</td>\n",
       "      <td>0</td>\n",
       "      <td>0</td>\n",
       "      <td>1</td>\n",
       "      <td>0</td>\n",
       "    </tr>\n",
       "    <tr>\n",
       "      <th>3213</th>\n",
       "      <td>Female</td>\n",
       "      <td>0</td>\n",
       "      <td>Yes</td>\n",
       "      <td>Yes</td>\n",
       "      <td>27</td>\n",
       "      <td>Yes</td>\n",
       "      <td>No</td>\n",
       "      <td>No internet service</td>\n",
       "      <td>No internet service</td>\n",
       "      <td>No internet service</td>\n",
       "      <td>...</td>\n",
       "      <td>0</td>\n",
       "      <td>1</td>\n",
       "      <td>0</td>\n",
       "      <td>0</td>\n",
       "      <td>1</td>\n",
       "      <td>0</td>\n",
       "      <td>1</td>\n",
       "      <td>0</td>\n",
       "      <td>0</td>\n",
       "      <td>1</td>\n",
       "    </tr>\n",
       "    <tr>\n",
       "      <th>5026</th>\n",
       "      <td>Male</td>\n",
       "      <td>0</td>\n",
       "      <td>Yes</td>\n",
       "      <td>Yes</td>\n",
       "      <td>62</td>\n",
       "      <td>Yes</td>\n",
       "      <td>No</td>\n",
       "      <td>No internet service</td>\n",
       "      <td>No internet service</td>\n",
       "      <td>No internet service</td>\n",
       "      <td>...</td>\n",
       "      <td>0</td>\n",
       "      <td>1</td>\n",
       "      <td>0</td>\n",
       "      <td>0</td>\n",
       "      <td>1</td>\n",
       "      <td>0</td>\n",
       "      <td>1</td>\n",
       "      <td>1</td>\n",
       "      <td>0</td>\n",
       "      <td>0</td>\n",
       "    </tr>\n",
       "  </tbody>\n",
       "</table>\n",
       "<p>5 rows × 53 columns</p>\n",
       "</div>"
      ],
      "text/plain": [
       "      gender  senior_citizen partner dependents  tenure phone_service  \\\n",
       "816   Female               0     Yes         No      27           Yes   \n",
       "1488  Female               0     Yes         No      71           Yes   \n",
       "4796    Male               0      No         No      44            No   \n",
       "3213  Female               0     Yes        Yes      27           Yes   \n",
       "5026    Male               0     Yes        Yes      62           Yes   \n",
       "\n",
       "        multiple_lines      online_security        online_backup  \\\n",
       "816                Yes                   No                   No   \n",
       "1488               Yes                  Yes                  Yes   \n",
       "4796  No phone service                  Yes                   No   \n",
       "3213                No  No internet service  No internet service   \n",
       "5026                No  No internet service  No internet service   \n",
       "\n",
       "        device_protection  ... streaming_tv_Yes  \\\n",
       "816                    No  ...                1   \n",
       "1488                  Yes  ...                1   \n",
       "4796                  Yes  ...                1   \n",
       "3213  No internet service  ...                0   \n",
       "5026  No internet service  ...                0   \n",
       "\n",
       "     streaming_movies_No internet service streaming_movies_Yes  \\\n",
       "816                                     0                    1   \n",
       "1488                                    0                    1   \n",
       "4796                                    0                    1   \n",
       "3213                                    1                    0   \n",
       "5026                                    1                    0   \n",
       "\n",
       "     contract_type_One year  contract_type_Two year  \\\n",
       "816                       0                       0   \n",
       "1488                      0                       1   \n",
       "4796                      1                       0   \n",
       "3213                      0                       1   \n",
       "5026                      0                       1   \n",
       "\n",
       "      internet_service_type_Fiber optic internet_service_type_None  \\\n",
       "816                                   1                          0   \n",
       "1488                                  0                          0   \n",
       "4796                                  0                          0   \n",
       "3213                                  0                          1   \n",
       "5026                                  0                          1   \n",
       "\n",
       "     payment_type_Credit card (automatic) payment_type_Electronic check  \\\n",
       "816                                     1                             0   \n",
       "1488                                    1                             0   \n",
       "4796                                    0                             1   \n",
       "3213                                    0                             0   \n",
       "5026                                    1                             0   \n",
       "\n",
       "     payment_type_Mailed check  \n",
       "816                          0  \n",
       "1488                         0  \n",
       "4796                         0  \n",
       "3213                         1  \n",
       "5026                         0  \n",
       "\n",
       "[5 rows x 53 columns]"
      ]
     },
     "execution_count": 6,
     "metadata": {},
     "output_type": "execute_result"
    }
   ],
   "source": [
    "validate.head()"
   ]
  },
  {
   "cell_type": "code",
   "execution_count": 7,
   "id": "b30d0c57",
   "metadata": {
    "collapsed": true
   },
   "outputs": [
    {
     "data": {
      "text/plain": [
       "gender                                   0\n",
       "senior_citizen                           0\n",
       "partner                                  0\n",
       "dependents                               0\n",
       "tenure                                   0\n",
       "phone_service                            0\n",
       "multiple_lines                           0\n",
       "online_security                          0\n",
       "online_backup                            0\n",
       "device_protection                        0\n",
       "tech_support                             0\n",
       "streaming_tv                             0\n",
       "streaming_movies                         0\n",
       "paperless_billing                        0\n",
       "monthly_charges                          0\n",
       "total_charges                            0\n",
       "churn                                    0\n",
       "contract_type                            0\n",
       "internet_service_type                    0\n",
       "payment_type                             0\n",
       "binned_tenure                            0\n",
       "gender_encoded                           0\n",
       "partner_encoded                          0\n",
       "dependents_encoded                       0\n",
       "phone_service_encoded                    0\n",
       "paperless_billing_encoded                0\n",
       "churn_encoded                            0\n",
       "multiple_lines_No phone service          0\n",
       "multiple_lines_Yes                       0\n",
       "online_security_No internet service      0\n",
       "online_security_Yes                      0\n",
       "online_backup_No internet service        0\n",
       "online_backup_Yes                        0\n",
       "binned_tenure_2years                     0\n",
       "binned_tenure_3years                     0\n",
       "binned_tenure_4years                     0\n",
       "binned_tenure_5years                     0\n",
       "binned_tenure_6years                     0\n",
       "device_protection_No internet service    0\n",
       "device_protection_Yes                    0\n",
       "tech_support_No internet service         0\n",
       "tech_support_Yes                         0\n",
       "streaming_tv_No internet service         0\n",
       "streaming_tv_Yes                         0\n",
       "streaming_movies_No internet service     0\n",
       "streaming_movies_Yes                     0\n",
       "contract_type_One year                   0\n",
       "contract_type_Two year                   0\n",
       "internet_service_type_Fiber optic        0\n",
       "internet_service_type_None               0\n",
       "payment_type_Credit card (automatic)     0\n",
       "payment_type_Electronic check            0\n",
       "payment_type_Mailed check                0\n",
       "dtype: int64"
      ]
     },
     "execution_count": 7,
     "metadata": {},
     "output_type": "execute_result"
    }
   ],
   "source": [
    "# Isna will confirm that I do not have \n",
    "\n",
    "validate.isna().sum()"
   ]
  },
  {
   "cell_type": "code",
   "execution_count": 8,
   "id": "d5b0af18",
   "metadata": {},
   "outputs": [
    {
     "data": {
      "text/html": [
       "<div>\n",
       "<style scoped>\n",
       "    .dataframe tbody tr th:only-of-type {\n",
       "        vertical-align: middle;\n",
       "    }\n",
       "\n",
       "    .dataframe tbody tr th {\n",
       "        vertical-align: top;\n",
       "    }\n",
       "\n",
       "    .dataframe thead th {\n",
       "        text-align: right;\n",
       "    }\n",
       "</style>\n",
       "<table border=\"1\" class=\"dataframe\">\n",
       "  <thead>\n",
       "    <tr style=\"text-align: right;\">\n",
       "      <th></th>\n",
       "      <th>gender</th>\n",
       "      <th>senior_citizen</th>\n",
       "      <th>partner</th>\n",
       "      <th>dependents</th>\n",
       "      <th>tenure</th>\n",
       "      <th>phone_service</th>\n",
       "      <th>multiple_lines</th>\n",
       "      <th>online_security</th>\n",
       "      <th>online_backup</th>\n",
       "      <th>device_protection</th>\n",
       "      <th>...</th>\n",
       "      <th>streaming_tv_Yes</th>\n",
       "      <th>streaming_movies_No internet service</th>\n",
       "      <th>streaming_movies_Yes</th>\n",
       "      <th>contract_type_One year</th>\n",
       "      <th>contract_type_Two year</th>\n",
       "      <th>internet_service_type_Fiber optic</th>\n",
       "      <th>internet_service_type_None</th>\n",
       "      <th>payment_type_Credit card (automatic)</th>\n",
       "      <th>payment_type_Electronic check</th>\n",
       "      <th>payment_type_Mailed check</th>\n",
       "    </tr>\n",
       "  </thead>\n",
       "  <tbody>\n",
       "    <tr>\n",
       "      <th>3311</th>\n",
       "      <td>Female</td>\n",
       "      <td>0</td>\n",
       "      <td>No</td>\n",
       "      <td>No</td>\n",
       "      <td>29</td>\n",
       "      <td>Yes</td>\n",
       "      <td>No</td>\n",
       "      <td>No internet service</td>\n",
       "      <td>No internet service</td>\n",
       "      <td>No internet service</td>\n",
       "      <td>...</td>\n",
       "      <td>0</td>\n",
       "      <td>1</td>\n",
       "      <td>0</td>\n",
       "      <td>1</td>\n",
       "      <td>0</td>\n",
       "      <td>0</td>\n",
       "      <td>1</td>\n",
       "      <td>0</td>\n",
       "      <td>0</td>\n",
       "      <td>1</td>\n",
       "    </tr>\n",
       "    <tr>\n",
       "      <th>6330</th>\n",
       "      <td>Male</td>\n",
       "      <td>0</td>\n",
       "      <td>Yes</td>\n",
       "      <td>Yes</td>\n",
       "      <td>36</td>\n",
       "      <td>Yes</td>\n",
       "      <td>Yes</td>\n",
       "      <td>No internet service</td>\n",
       "      <td>No internet service</td>\n",
       "      <td>No internet service</td>\n",
       "      <td>...</td>\n",
       "      <td>0</td>\n",
       "      <td>1</td>\n",
       "      <td>0</td>\n",
       "      <td>0</td>\n",
       "      <td>1</td>\n",
       "      <td>0</td>\n",
       "      <td>1</td>\n",
       "      <td>1</td>\n",
       "      <td>0</td>\n",
       "      <td>0</td>\n",
       "    </tr>\n",
       "    <tr>\n",
       "      <th>6156</th>\n",
       "      <td>Male</td>\n",
       "      <td>1</td>\n",
       "      <td>No</td>\n",
       "      <td>No</td>\n",
       "      <td>1</td>\n",
       "      <td>Yes</td>\n",
       "      <td>No</td>\n",
       "      <td>No</td>\n",
       "      <td>No</td>\n",
       "      <td>No</td>\n",
       "      <td>...</td>\n",
       "      <td>0</td>\n",
       "      <td>0</td>\n",
       "      <td>0</td>\n",
       "      <td>0</td>\n",
       "      <td>0</td>\n",
       "      <td>0</td>\n",
       "      <td>0</td>\n",
       "      <td>0</td>\n",
       "      <td>1</td>\n",
       "      <td>0</td>\n",
       "    </tr>\n",
       "    <tr>\n",
       "      <th>5313</th>\n",
       "      <td>Male</td>\n",
       "      <td>0</td>\n",
       "      <td>No</td>\n",
       "      <td>No</td>\n",
       "      <td>25</td>\n",
       "      <td>Yes</td>\n",
       "      <td>No</td>\n",
       "      <td>No</td>\n",
       "      <td>No</td>\n",
       "      <td>No</td>\n",
       "      <td>...</td>\n",
       "      <td>0</td>\n",
       "      <td>0</td>\n",
       "      <td>0</td>\n",
       "      <td>0</td>\n",
       "      <td>0</td>\n",
       "      <td>1</td>\n",
       "      <td>0</td>\n",
       "      <td>0</td>\n",
       "      <td>1</td>\n",
       "      <td>0</td>\n",
       "    </tr>\n",
       "    <tr>\n",
       "      <th>1176</th>\n",
       "      <td>Female</td>\n",
       "      <td>0</td>\n",
       "      <td>Yes</td>\n",
       "      <td>No</td>\n",
       "      <td>34</td>\n",
       "      <td>Yes</td>\n",
       "      <td>No</td>\n",
       "      <td>No</td>\n",
       "      <td>No</td>\n",
       "      <td>No</td>\n",
       "      <td>...</td>\n",
       "      <td>0</td>\n",
       "      <td>0</td>\n",
       "      <td>0</td>\n",
       "      <td>0</td>\n",
       "      <td>0</td>\n",
       "      <td>0</td>\n",
       "      <td>0</td>\n",
       "      <td>0</td>\n",
       "      <td>0</td>\n",
       "      <td>0</td>\n",
       "    </tr>\n",
       "  </tbody>\n",
       "</table>\n",
       "<p>5 rows × 53 columns</p>\n",
       "</div>"
      ],
      "text/plain": [
       "      gender  senior_citizen partner dependents  tenure phone_service  \\\n",
       "3311  Female               0      No         No      29           Yes   \n",
       "6330    Male               0     Yes        Yes      36           Yes   \n",
       "6156    Male               1      No         No       1           Yes   \n",
       "5313    Male               0      No         No      25           Yes   \n",
       "1176  Female               0     Yes         No      34           Yes   \n",
       "\n",
       "     multiple_lines      online_security        online_backup  \\\n",
       "3311             No  No internet service  No internet service   \n",
       "6330            Yes  No internet service  No internet service   \n",
       "6156             No                   No                   No   \n",
       "5313             No                   No                   No   \n",
       "1176             No                   No                   No   \n",
       "\n",
       "        device_protection  ... streaming_tv_Yes  \\\n",
       "3311  No internet service  ...                0   \n",
       "6330  No internet service  ...                0   \n",
       "6156                   No  ...                0   \n",
       "5313                   No  ...                0   \n",
       "1176                   No  ...                0   \n",
       "\n",
       "     streaming_movies_No internet service streaming_movies_Yes  \\\n",
       "3311                                    1                    0   \n",
       "6330                                    1                    0   \n",
       "6156                                    0                    0   \n",
       "5313                                    0                    0   \n",
       "1176                                    0                    0   \n",
       "\n",
       "     contract_type_One year  contract_type_Two year  \\\n",
       "3311                      1                       0   \n",
       "6330                      0                       1   \n",
       "6156                      0                       0   \n",
       "5313                      0                       0   \n",
       "1176                      0                       0   \n",
       "\n",
       "      internet_service_type_Fiber optic internet_service_type_None  \\\n",
       "3311                                  0                          1   \n",
       "6330                                  0                          1   \n",
       "6156                                  0                          0   \n",
       "5313                                  1                          0   \n",
       "1176                                  0                          0   \n",
       "\n",
       "     payment_type_Credit card (automatic) payment_type_Electronic check  \\\n",
       "3311                                    0                             0   \n",
       "6330                                    1                             0   \n",
       "6156                                    0                             1   \n",
       "5313                                    0                             1   \n",
       "1176                                    0                             0   \n",
       "\n",
       "     payment_type_Mailed check  \n",
       "3311                         1  \n",
       "6330                         0  \n",
       "6156                         0  \n",
       "5313                         0  \n",
       "1176                         0  \n",
       "\n",
       "[5 rows x 53 columns]"
      ]
     },
     "execution_count": 8,
     "metadata": {},
     "output_type": "execute_result"
    }
   ],
   "source": [
    "test.head()"
   ]
  },
  {
   "cell_type": "code",
   "execution_count": 9,
   "id": "a2c2f612",
   "metadata": {
    "collapsed": true
   },
   "outputs": [
    {
     "data": {
      "text/plain": [
       "gender                                   0\n",
       "senior_citizen                           0\n",
       "partner                                  0\n",
       "dependents                               0\n",
       "tenure                                   0\n",
       "phone_service                            0\n",
       "multiple_lines                           0\n",
       "online_security                          0\n",
       "online_backup                            0\n",
       "device_protection                        0\n",
       "tech_support                             0\n",
       "streaming_tv                             0\n",
       "streaming_movies                         0\n",
       "paperless_billing                        0\n",
       "monthly_charges                          0\n",
       "total_charges                            0\n",
       "churn                                    0\n",
       "contract_type                            0\n",
       "internet_service_type                    0\n",
       "payment_type                             0\n",
       "binned_tenure                            0\n",
       "gender_encoded                           0\n",
       "partner_encoded                          0\n",
       "dependents_encoded                       0\n",
       "phone_service_encoded                    0\n",
       "paperless_billing_encoded                0\n",
       "churn_encoded                            0\n",
       "multiple_lines_No phone service          0\n",
       "multiple_lines_Yes                       0\n",
       "online_security_No internet service      0\n",
       "online_security_Yes                      0\n",
       "online_backup_No internet service        0\n",
       "online_backup_Yes                        0\n",
       "binned_tenure_2years                     0\n",
       "binned_tenure_3years                     0\n",
       "binned_tenure_4years                     0\n",
       "binned_tenure_5years                     0\n",
       "binned_tenure_6years                     0\n",
       "device_protection_No internet service    0\n",
       "device_protection_Yes                    0\n",
       "tech_support_No internet service         0\n",
       "tech_support_Yes                         0\n",
       "streaming_tv_No internet service         0\n",
       "streaming_tv_Yes                         0\n",
       "streaming_movies_No internet service     0\n",
       "streaming_movies_Yes                     0\n",
       "contract_type_One year                   0\n",
       "contract_type_Two year                   0\n",
       "internet_service_type_Fiber optic        0\n",
       "internet_service_type_None               0\n",
       "payment_type_Credit card (automatic)     0\n",
       "payment_type_Electronic check            0\n",
       "payment_type_Mailed check                0\n",
       "dtype: int64"
      ]
     },
     "execution_count": 9,
     "metadata": {},
     "output_type": "execute_result"
    }
   ],
   "source": [
    "# Isna will confirm that Ido not have \n",
    "\n",
    "test.isna().sum()"
   ]
  },
  {
   "cell_type": "markdown",
   "id": "59849699",
   "metadata": {},
   "source": [
    "There are no nulls in my train, validate, and test datasets"
   ]
  },
  {
   "cell_type": "code",
   "execution_count": 10,
   "id": "dee28fd9",
   "metadata": {
    "collapsed": true
   },
   "outputs": [
    {
     "data": {
      "text/plain": [
       "['gender',\n",
       " 'senior_citizen',\n",
       " 'partner',\n",
       " 'dependents',\n",
       " 'tenure',\n",
       " 'phone_service',\n",
       " 'multiple_lines',\n",
       " 'online_security',\n",
       " 'online_backup',\n",
       " 'device_protection',\n",
       " 'tech_support',\n",
       " 'streaming_tv',\n",
       " 'streaming_movies',\n",
       " 'paperless_billing',\n",
       " 'monthly_charges',\n",
       " 'total_charges',\n",
       " 'churn',\n",
       " 'contract_type',\n",
       " 'internet_service_type',\n",
       " 'payment_type',\n",
       " 'binned_tenure',\n",
       " 'gender_encoded',\n",
       " 'partner_encoded',\n",
       " 'dependents_encoded',\n",
       " 'phone_service_encoded',\n",
       " 'paperless_billing_encoded',\n",
       " 'churn_encoded',\n",
       " 'multiple_lines_No phone service',\n",
       " 'multiple_lines_Yes',\n",
       " 'online_security_No internet service',\n",
       " 'online_security_Yes',\n",
       " 'online_backup_No internet service',\n",
       " 'online_backup_Yes',\n",
       " 'binned_tenure_2years',\n",
       " 'binned_tenure_3years',\n",
       " 'binned_tenure_4years',\n",
       " 'binned_tenure_5years',\n",
       " 'binned_tenure_6years',\n",
       " 'device_protection_No internet service',\n",
       " 'device_protection_Yes',\n",
       " 'tech_support_No internet service',\n",
       " 'tech_support_Yes',\n",
       " 'streaming_tv_No internet service',\n",
       " 'streaming_tv_Yes',\n",
       " 'streaming_movies_No internet service',\n",
       " 'streaming_movies_Yes',\n",
       " 'contract_type_One year',\n",
       " 'contract_type_Two year',\n",
       " 'internet_service_type_Fiber optic',\n",
       " 'internet_service_type_None',\n",
       " 'payment_type_Credit card (automatic)',\n",
       " 'payment_type_Electronic check',\n",
       " 'payment_type_Mailed check']"
      ]
     },
     "execution_count": 10,
     "metadata": {},
     "output_type": "execute_result"
    }
   ],
   "source": [
    "# I put the columns into a list to have the magnitude of the task because the columns are the features\n",
    "\n",
    "train.columns.to_list()"
   ]
  },
  {
   "cell_type": "markdown",
   "id": "4db52374",
   "metadata": {},
   "source": [
    "### <font color=\"brown\">A. Univariate visualizations (visualizing one variable at the time)</font>"
   ]
  },
  {
   "cell_type": "markdown",
   "id": "0159b04f",
   "metadata": {},
   "source": [
    "### <font color=\"blue\">I check the percentage of churned customers which is the target variable</font>"
   ]
  },
  {
   "cell_type": "code",
   "execution_count": 11,
   "id": "48c86d81",
   "metadata": {
    "scrolled": false
   },
   "outputs": [
    {
     "data": {
      "image/png": "[encoded data removed]",
      "text/plain": [
       "<Figure size 432x288 with 1 Axes>"
      ]
     },
     "metadata": {
      "needs_background": "light"
     },
     "output_type": "display_data"
    }
   ],
   "source": [
    "# Plotting a histogram of churn\n",
    "\n",
    "plt.title('How many churned')\n",
    "train.churn.hist()\n",
    "plt.show()"
   ]
  },
  {
   "cell_type": "code",
   "execution_count": 12,
   "id": "4168a1e2",
   "metadata": {},
   "outputs": [
    {
     "data": {
      "text/plain": [
       "0.27"
      ]
     },
     "execution_count": 12,
     "metadata": {},
     "output_type": "execute_result"
    }
   ],
   "source": [
    "# To get the churn percentage\n",
    "round(train.churn_encoded.mean(), 2)"
   ]
  },
  {
   "cell_type": "markdown",
   "id": "93574c6b",
   "metadata": {},
   "source": [
    "### <font color=\"blue\">And also check the general distribution of all the columns through graph but sometimes statistical measures especially when they are very close or really far apart </font>"
   ]
  },
  {
   "cell_type": "markdown",
   "id": "ab4c7f87",
   "metadata": {},
   "source": [
    "<font color=\"blue\">The</font>"
   ]
  },
  {
   "cell_type": "markdown",
   "id": "88156cab",
   "metadata": {},
   "source": [
    "- **<font color=\"brown\"> Categorical data</font>**"
   ]
  },
  {
   "cell_type": "code",
   "execution_count": 13,
   "id": "2913a95c",
   "metadata": {},
   "outputs": [
    {
     "data": {
      "image/png": "[encoded data removed]",
      "text/plain": [
       "<Figure size 432x288 with 1 Axes>"
      ]
     },
     "metadata": {
      "needs_background": "light"
     },
     "output_type": "display_data"
    }
   ],
   "source": [
    "plt.hist(train['gender'], color='orange')\n",
    "plt.show()"
   ]
  },
  {
   "cell_type": "code",
   "execution_count": 14,
   "id": "4202ec62",
   "metadata": {},
   "outputs": [
    {
     "data": {
      "text/plain": [
       "Male      50.47565\n",
       "Female    49.52435\n",
       "Name: gender, dtype: float64"
      ]
     },
     "execution_count": 14,
     "metadata": {},
     "output_type": "execute_result"
    }
   ],
   "source": [
    "telco.gender.value_counts(normalize=True)*100"
   ]
  },
  {
   "cell_type": "code",
   "execution_count": 15,
   "id": "af6222de",
   "metadata": {
    "scrolled": true
   },
   "outputs": [
    {
     "data": {
      "image/png": "[encoded data removed]",
      "text/plain": [
       "<Figure size 432x288 with 1 Axes>"
      ]
     },
     "metadata": {
      "needs_background": "light"
     },
     "output_type": "display_data"
    }
   ],
   "source": [
    "plt.hist(train['senior_citizen'], color='beige')\n",
    "plt.show()"
   ]
  },
  {
   "cell_type": "code",
   "execution_count": 16,
   "id": "4826c7c1",
   "metadata": {},
   "outputs": [
    {
     "data": {
      "text/plain": [
       "0    83.785319\n",
       "1    16.214681\n",
       "Name: senior_citizen, dtype: float64"
      ]
     },
     "execution_count": 16,
     "metadata": {},
     "output_type": "execute_result"
    }
   ],
   "source": [
    "telco.senior_citizen.value_counts(normalize=True)*100"
   ]
  },
  {
   "cell_type": "code",
   "execution_count": 17,
   "id": "f431430b",
   "metadata": {
    "scrolled": true
   },
   "outputs": [
    {
     "data": {
      "image/png": "[encoded data removed]",
      "text/plain": [
       "<Figure size 432x288 with 1 Axes>"
      ]
     },
     "metadata": {
      "needs_background": "light"
     },
     "output_type": "display_data"
    }
   ],
   "source": [
    "plt.hist(train['partner'], color='teal')\n",
    "plt.show()"
   ]
  },
  {
   "cell_type": "code",
   "execution_count": 18,
   "id": "2883e29c",
   "metadata": {},
   "outputs": [
    {
     "data": {
      "image/png": "[encoded data removed]",
      "text/plain": [
       "<Figure size 432x288 with 1 Axes>"
      ]
     },
     "metadata": {
      "needs_background": "light"
     },
     "output_type": "display_data"
    }
   ],
   "source": [
    "plt.hist(train['dependents'], color='purple')\n",
    "plt.show()"
   ]
  },
  {
   "cell_type": "code",
   "execution_count": 19,
   "id": "8d739886",
   "metadata": {
    "scrolled": true
   },
   "outputs": [
    {
     "data": {
      "image/png": "[encoded data removed]",
      "text/plain": [
       "<Figure size 432x288 with 1 Axes>"
      ]
     },
     "metadata": {
      "needs_background": "light"
     },
     "output_type": "display_data"
    }
   ],
   "source": [
    "plt.hist(train['phone_service'], color='red')\n",
    "plt.show()"
   ]
  },
  {
   "cell_type": "code",
   "execution_count": 20,
   "id": "69a2269e",
   "metadata": {},
   "outputs": [
    {
     "data": {
      "text/plain": [
       "Yes    90.316626\n",
       "No      9.683374\n",
       "Name: phone_service, dtype: float64"
      ]
     },
     "execution_count": 20,
     "metadata": {},
     "output_type": "execute_result"
    }
   ],
   "source": [
    "telco.phone_service.value_counts(normalize=True)*100"
   ]
  },
  {
   "cell_type": "code",
   "execution_count": 21,
   "id": "c92dec12",
   "metadata": {},
   "outputs": [
    {
     "data": {
      "image/png": "[encoded data removed]",
      "text/plain": [
       "<Figure size 432x288 with 1 Axes>"
      ]
     },
     "metadata": {
      "needs_background": "light"
     },
     "output_type": "display_data"
    }
   ],
   "source": [
    "plt.hist(train['multiple_lines'], color='blue')\n",
    "plt.show()"
   ]
  },
  {
   "cell_type": "code",
   "execution_count": 22,
   "id": "dd83a4ca",
   "metadata": {},
   "outputs": [
    {
     "data": {
      "image/png": "[encoded data removed]",
      "text/plain": [
       "<Figure size 432x288 with 1 Axes>"
      ]
     },
     "metadata": {
      "needs_background": "light"
     },
     "output_type": "display_data"
    }
   ],
   "source": [
    "plt.hist(train['online_security'], color='green')\n",
    "plt.show()"
   ]
  },
  {
   "cell_type": "code",
   "execution_count": 23,
   "id": "1d630d58",
   "metadata": {},
   "outputs": [
    {
     "data": {
      "image/png": "[encoded data removed]",
      "text/plain": [
       "<Figure size 432x288 with 1 Axes>"
      ]
     },
     "metadata": {
      "needs_background": "light"
     },
     "output_type": "display_data"
    }
   ],
   "source": [
    "plt.hist(train['online_backup'], color='beige')\n",
    "plt.show()"
   ]
  },
  {
   "cell_type": "code",
   "execution_count": 24,
   "id": "d44d665e",
   "metadata": {},
   "outputs": [
    {
     "data": {
      "image/png": "[encoded data removed]",
      "text/plain": [
       "<Figure size 432x288 with 1 Axes>"
      ]
     },
     "metadata": {
      "needs_background": "light"
     },
     "output_type": "display_data"
    }
   ],
   "source": [
    "plt.hist(train['device_protection'], color='orange')\n",
    "plt.show()"
   ]
  },
  {
   "cell_type": "code",
   "execution_count": 25,
   "id": "5498e6e7",
   "metadata": {},
   "outputs": [
    {
     "data": {
      "image/png": "[encoded data removed]",
      "text/plain": [
       "<Figure size 432x288 with 1 Axes>"
      ]
     },
     "metadata": {
      "needs_background": "light"
     },
     "output_type": "display_data"
    }
   ],
   "source": [
    "plt.hist(train['tech_support'], color='tan')\n",
    "plt.show()"
   ]
  },
  {
   "cell_type": "code",
   "execution_count": 26,
   "id": "132f755f",
   "metadata": {
    "scrolled": true
   },
   "outputs": [
    {
     "data": {
      "image/png": "[encoded data removed]",
      "text/plain": [
       "<Figure size 432x288 with 1 Axes>"
      ]
     },
     "metadata": {
      "needs_background": "light"
     },
     "output_type": "display_data"
    }
   ],
   "source": [
    "plt.hist(train['streaming_tv'], color='purple')\n",
    "plt.show()"
   ]
  },
  {
   "cell_type": "code",
   "execution_count": 29,
   "id": "deb718ab",
   "metadata": {},
   "outputs": [
    {
     "data": {
      "text/plain": [
       "No                     39.897771\n",
       "Yes                    38.435326\n",
       "No internet service    21.666903\n",
       "Name: streaming_tv, dtype: float64"
      ]
     },
     "execution_count": 29,
     "metadata": {},
     "output_type": "execute_result"
    }
   ],
   "source": [
    "telco.streaming_tv.value_counts(normalize=True)*100"
   ]
  },
  {
   "cell_type": "code",
   "execution_count": 31,
   "id": "392258a2",
   "metadata": {
    "scrolled": true
   },
   "outputs": [
    {
     "data": {
      "image/png": "[encoded data removed]",
      "text/plain": [
       "<Figure size 432x288 with 1 Axes>"
      ]
     },
     "metadata": {
      "needs_background": "light"
     },
     "output_type": "display_data"
    }
   ],
   "source": [
    "plt.hist(train['streaming_movies'], color='red')\n",
    "plt.show()"
   ]
  },
  {
   "cell_type": "code",
   "execution_count": 30,
   "id": "a90be62f",
   "metadata": {},
   "outputs": [
    {
     "data": {
      "text/plain": [
       "No                     39.542808\n",
       "Yes                    38.790288\n",
       "No internet service    21.666903\n",
       "Name: streaming_movies, dtype: float64"
      ]
     },
     "execution_count": 30,
     "metadata": {},
     "output_type": "execute_result"
    }
   ],
   "source": [
    "telco.streaming_movies.value_counts(normalize=True)*100"
   ]
  },
  {
   "cell_type": "code",
   "execution_count": 32,
   "id": "a5edf4cb",
   "metadata": {},
   "outputs": [
    {
     "data": {
      "image/png": "[encoded data removed]",
      "text/plain": [
       "<Figure size 432x288 with 1 Axes>"
      ]
     },
     "metadata": {
      "needs_background": "light"
     },
     "output_type": "display_data"
    }
   ],
   "source": [
    "plt.hist(train['paperless_billing'], color='blue')\n",
    "plt.show()"
   ]
  },
  {
   "cell_type": "code",
   "execution_count": 33,
   "id": "09aeb4c6",
   "metadata": {},
   "outputs": [
    {
     "data": {
      "image/png": "[encoded data removed]",
      "text/plain": [
       "<Figure size 432x288 with 1 Axes>"
      ]
     },
     "metadata": {
      "needs_background": "light"
     },
     "output_type": "display_data"
    }
   ],
   "source": [
    "plt.hist(train['contract_type'], color='lightblue')\n",
    "plt.show()"
   ]
  },
  {
   "cell_type": "code",
   "execution_count": 34,
   "id": "e78110ed",
   "metadata": {},
   "outputs": [
    {
     "data": {
      "image/png": "[encoded data removed]",
      "text/plain": [
       "<Figure size 432x288 with 1 Axes>"
      ]
     },
     "metadata": {
      "needs_background": "light"
     },
     "output_type": "display_data"
    }
   ],
   "source": [
    "plt.hist(train['payment_type'], color='grey', )\n",
    "plt.xticks([0, 1, 2, 3], ['Mailed\\ncheck', 'Electronic\\ncheck ', 'Credit card\\n(automatic)', 'Bank transfer\\n(automatic)'])\n",
    "plt.show()"
   ]
  },
  {
   "cell_type": "code",
   "execution_count": 35,
   "id": "110d299a",
   "metadata": {},
   "outputs": [
    {
     "data": {
      "text/plain": [
       "Electronic check             32.740665\n",
       "Credit card (automatic)      22.733045\n",
       "Mailed check                 22.631445\n",
       "Bank transfer (automatic)    21.894844\n",
       "Name: payment_type, dtype: float64"
      ]
     },
     "execution_count": 35,
     "metadata": {},
     "output_type": "execute_result"
    }
   ],
   "source": [
    "train.payment_type.value_counts(normalize=True)*100"
   ]
  },
  {
   "cell_type": "code",
   "execution_count": 36,
   "id": "c5e39651",
   "metadata": {},
   "outputs": [
    {
     "data": {
      "image/png": "[encoded data removed]",
      "text/plain": [
       "<Figure size 432x288 with 1 Axes>"
      ]
     },
     "metadata": {
      "needs_background": "light"
     },
     "output_type": "display_data"
    }
   ],
   "source": [
    "plt.hist(train['internet_service_type'], color='green')\n",
    "plt.show()"
   ]
  },
  {
   "cell_type": "markdown",
   "id": "d84f4859",
   "metadata": {},
   "source": [
    "- **<font color=\"brown\"> Numerical data</font>**"
   ]
  },
  {
   "cell_type": "code",
   "execution_count": 37,
   "id": "c72f6fb5",
   "metadata": {},
   "outputs": [
    {
     "data": {
      "image/png": "[encoded data removed]",
      "text/plain": [
       "<Figure size 432x288 with 1 Axes>"
      ]
     },
     "metadata": {
      "needs_background": "light"
     },
     "output_type": "display_data"
    }
   ],
   "source": [
    "plt.hist(train['monthly_charges'], color='turquoise')\n",
    "plt.show()"
   ]
  },
  {
   "cell_type": "code",
   "execution_count": 38,
   "id": "a27f6b0d",
   "metadata": {},
   "outputs": [
    {
     "data": {
      "image/png": "[encoded data removed]",
      "text/plain": [
       "<Figure size 432x288 with 1 Axes>"
      ]
     },
     "metadata": {
      "needs_background": "light"
     },
     "output_type": "display_data"
    }
   ],
   "source": [
    "plt.hist(train['total_charges'], color='tan')\n",
    "plt.show()"
   ]
  },
  {
   "cell_type": "code",
   "execution_count": 39,
   "id": "d9cb42bf",
   "metadata": {},
   "outputs": [
    {
     "data": {
      "image/png": "[encoded data removed]",
      "text/plain": [
       "<Figure size 432x288 with 1 Axes>"
      ]
     },
     "metadata": {
      "needs_background": "light"
     },
     "output_type": "display_data"
    }
   ],
   "source": [
    "plt.hist(train['tenure'], color='brown')\n",
    "plt.show()"
   ]
  },
  {
   "cell_type": "markdown",
   "id": "f3c941d7",
   "metadata": {},
   "source": [
    "# <font color=\"darkblue\">Takeaways from Univariate exploration</font>\n",
    "\n",
    "- Except for gender and partner, the rest of the columns don't have symetric of their values.\n",
    "The most important uneven ones are:\n",
    "    * phone service\n",
    "    * dependent\n",
    "    * Tenure\n",
    "    * Monthly charges\n",
    "    * Paperless billing\n",
    "    * Contract type\n",
    "- Tenure and monthly charges have approximately the same distribution\n",
    "- Streaming TV and Streaming movies are approximately the same\n",
    "\n",
    "<font color=\"fuchsia\"> - The churn rate is at 27% which is above industry level and warrants a further examination</font>"
   ]
  },
  {
   "cell_type": "markdown",
   "id": "df3b2044",
   "metadata": {},
   "source": [
    "### B. Bivariate exploration"
   ]
  },
  {
   "cell_type": "code",
   "execution_count": 51,
   "id": "0d69a62f",
   "metadata": {},
   "outputs": [
    {
     "data": {
      "text/plain": [
       "'churn'"
      ]
     },
     "execution_count": 51,
     "metadata": {},
     "output_type": "execute_result"
    }
   ],
   "source": [
    "train.columns[16]"
   ]
  },
  {
   "cell_type": "markdown",
   "id": "9d1442d7",
   "metadata": {},
   "source": [
    "### <font color=\"blue\">The big question now would be: who is churning?</font>"
   ]
  },
  {
   "cell_type": "code",
   "execution_count": 67,
   "id": "dc1403ad",
   "metadata": {},
   "outputs": [],
   "source": [
    "def frequency(ds, vars):\n",
    "    if len(vars) > 1:\n",
    "        c1 = ds[vars[0]]\n",
    "        c2 = []\n",
    "        for i in range(1,len(vars)):\n",
    "            c2.append(ds[vars[i]])\n",
    "        dfs = []\n",
    "        dfs.append(pd.crosstab(c1,c2).unstack().reset_index().rename(columns={0:'Count'}))\n",
    "        dfs.append(pd.crosstab(c1,c2, normalize='all').unstack().reset_index().rename(columns={0:'Percent'}))\n",
    "        dfs = [df.set_index(vars) for df in dfs]\n",
    "        df = dfs[0].join(dfs[1:]).reset_index()\n",
    "        return df"
   ]
  },
  {
   "cell_type": "code",
   "execution_count": 64,
   "id": "1c70439e",
   "metadata": {
    "scrolled": false
   },
   "outputs": [],
   "source": [
    "frequency(train, ['gender',\n",
    "                  'senior_citizen', \n",
    "                  'partner',\n",
    "                  'dependents',\n",
    "                  'tenure',\n",
    "                  'phone_service',\n",
    "                  'multiple_lines',\n",
    "                  'online_security',\n",
    "                  'online_backup',\n",
    "                  'device_protection',\n",
    "                  'tech_support',\n",
    "                  'streaming_tv',\n",
    "                  'streaming_movies',\n",
    "                  'paperless_billing',\n",
    "                  'monthly_charges',\n",
    "                  'total_charges',\n",
    "                  'churn',\n",
    "                  'contract_type',\n",
    "                  'internet_service_type',\n",
    "                  'payment_type',\n",
    "                  'binned_tenure'])"
   ]
  },
  {
   "cell_type": "code",
   "execution_count": 69,
   "id": "bfded138",
   "metadata": {},
   "outputs": [
    {
     "data": {
      "text/html": [
       "<div>\n",
       "<style scoped>\n",
       "    .dataframe tbody tr th:only-of-type {\n",
       "        vertical-align: middle;\n",
       "    }\n",
       "\n",
       "    .dataframe tbody tr th {\n",
       "        vertical-align: top;\n",
       "    }\n",
       "\n",
       "    .dataframe thead th {\n",
       "        text-align: right;\n",
       "    }\n",
       "</style>\n",
       "<table border=\"1\" class=\"dataframe\">\n",
       "  <thead>\n",
       "    <tr style=\"text-align: right;\">\n",
       "      <th></th>\n",
       "      <th>churn</th>\n",
       "      <th>binned_tenure</th>\n",
       "      <th>Count</th>\n",
       "      <th>Percent</th>\n",
       "    </tr>\n",
       "  </thead>\n",
       "  <tbody>\n",
       "    <tr>\n",
       "      <th>0</th>\n",
       "      <td>No</td>\n",
       "      <td>1year</td>\n",
       "      <td>639</td>\n",
       "      <td>0.162306</td>\n",
       "    </tr>\n",
       "    <tr>\n",
       "      <th>1</th>\n",
       "      <td>Yes</td>\n",
       "      <td>1year</td>\n",
       "      <td>581</td>\n",
       "      <td>0.147574</td>\n",
       "    </tr>\n",
       "    <tr>\n",
       "      <th>2</th>\n",
       "      <td>No</td>\n",
       "      <td>2years</td>\n",
       "      <td>386</td>\n",
       "      <td>0.098044</td>\n",
       "    </tr>\n",
       "    <tr>\n",
       "      <th>3</th>\n",
       "      <td>Yes</td>\n",
       "      <td>2years</td>\n",
       "      <td>146</td>\n",
       "      <td>0.037084</td>\n",
       "    </tr>\n",
       "    <tr>\n",
       "      <th>4</th>\n",
       "      <td>No</td>\n",
       "      <td>3years</td>\n",
       "      <td>367</td>\n",
       "      <td>0.093218</td>\n",
       "    </tr>\n",
       "    <tr>\n",
       "      <th>5</th>\n",
       "      <td>Yes</td>\n",
       "      <td>3years</td>\n",
       "      <td>102</td>\n",
       "      <td>0.025908</td>\n",
       "    </tr>\n",
       "    <tr>\n",
       "      <th>6</th>\n",
       "      <td>No</td>\n",
       "      <td>4years</td>\n",
       "      <td>347</td>\n",
       "      <td>0.088138</td>\n",
       "    </tr>\n",
       "    <tr>\n",
       "      <th>7</th>\n",
       "      <td>Yes</td>\n",
       "      <td>4years</td>\n",
       "      <td>92</td>\n",
       "      <td>0.023368</td>\n",
       "    </tr>\n",
       "    <tr>\n",
       "      <th>8</th>\n",
       "      <td>No</td>\n",
       "      <td>5years</td>\n",
       "      <td>391</td>\n",
       "      <td>0.099314</td>\n",
       "    </tr>\n",
       "    <tr>\n",
       "      <th>9</th>\n",
       "      <td>Yes</td>\n",
       "      <td>5years</td>\n",
       "      <td>68</td>\n",
       "      <td>0.017272</td>\n",
       "    </tr>\n",
       "    <tr>\n",
       "      <th>10</th>\n",
       "      <td>No</td>\n",
       "      <td>6years</td>\n",
       "      <td>761</td>\n",
       "      <td>0.193294</td>\n",
       "    </tr>\n",
       "    <tr>\n",
       "      <th>11</th>\n",
       "      <td>Yes</td>\n",
       "      <td>6years</td>\n",
       "      <td>57</td>\n",
       "      <td>0.014478</td>\n",
       "    </tr>\n",
       "  </tbody>\n",
       "</table>\n",
       "</div>"
      ],
      "text/plain": [
       "   churn binned_tenure  Count   Percent\n",
       "0     No         1year    639  0.162306\n",
       "1    Yes         1year    581  0.147574\n",
       "2     No        2years    386  0.098044\n",
       "3    Yes        2years    146  0.037084\n",
       "4     No        3years    367  0.093218\n",
       "5    Yes        3years    102  0.025908\n",
       "6     No        4years    347  0.088138\n",
       "7    Yes        4years     92  0.023368\n",
       "8     No        5years    391  0.099314\n",
       "9    Yes        5years     68  0.017272\n",
       "10    No        6years    761  0.193294\n",
       "11   Yes        6years     57  0.014478"
      ]
     },
     "execution_count": 69,
     "metadata": {},
     "output_type": "execute_result"
    }
   ],
   "source": [
    "frequency(train, ['churn',\n",
    "                  'binned_tenure'])"
   ]
  },
  {
   "cell_type": "code",
   "execution_count": null,
   "id": "1f163c3e",
   "metadata": {},
   "outputs": [],
   "source": [
    "churn_gender_ctab = pd.crosstab(index=train.churn, columns=train.gender, normalize=\"index\")\n",
    "churn_gender_ctab"
   ]
  },
  {
   "cell_type": "code",
   "execution_count": 40,
   "id": "96c954cd",
   "metadata": {
    "scrolled": true
   },
   "outputs": [
    {
     "data": {
      "text/html": [
       "<div>\n",
       "<style scoped>\n",
       "    .dataframe tbody tr th:only-of-type {\n",
       "        vertical-align: middle;\n",
       "    }\n",
       "\n",
       "    .dataframe tbody tr th {\n",
       "        vertical-align: top;\n",
       "    }\n",
       "\n",
       "    .dataframe thead th {\n",
       "        text-align: right;\n",
       "    }\n",
       "</style>\n",
       "<table border=\"1\" class=\"dataframe\">\n",
       "  <thead>\n",
       "    <tr style=\"text-align: right;\">\n",
       "      <th>gender</th>\n",
       "      <th>Female</th>\n",
       "      <th>Male</th>\n",
       "    </tr>\n",
       "    <tr>\n",
       "      <th>churn</th>\n",
       "      <th></th>\n",
       "      <th></th>\n",
       "    </tr>\n",
       "  </thead>\n",
       "  <tbody>\n",
       "    <tr>\n",
       "      <th>No</th>\n",
       "      <td>0.498098</td>\n",
       "      <td>0.501902</td>\n",
       "    </tr>\n",
       "    <tr>\n",
       "      <th>Yes</th>\n",
       "      <td>0.498088</td>\n",
       "      <td>0.501912</td>\n",
       "    </tr>\n",
       "  </tbody>\n",
       "</table>\n",
       "</div>"
      ],
      "text/plain": [
       "gender    Female      Male\n",
       "churn                     \n",
       "No      0.498098  0.501902\n",
       "Yes     0.498088  0.501912"
      ]
     },
     "execution_count": 40,
     "metadata": {},
     "output_type": "execute_result"
    }
   ],
   "source": [
    "churn_gender_ctab = pd.crosstab(index=train.churn, columns=train.gender, normalize=\"index\")\n",
    "churn_gender_ctab"
   ]
  },
  {
   "cell_type": "code",
   "execution_count": 41,
   "id": "cc499af0",
   "metadata": {
    "scrolled": false
   },
   "outputs": [
    {
     "data": {
      "image/png": "[encoded data removed]",
      "text/plain": [
       "<Figure size 720x432 with 1 Axes>"
      ]
     },
     "metadata": {
      "needs_background": "light"
     },
     "output_type": "display_data"
    }
   ],
   "source": [
    "churn_gender_ctab.plot(kind='bar', \n",
    "                    stacked=True, \n",
    "                    colormap='tab10', \n",
    "                    figsize=(10, 6))\n",
    "\n",
    "plt.legend(loc=\"upper left\", ncol=2)\n",
    "plt.xlabel(\"Churn\")\n",
    "plt.ylabel(\"Percent of Female vs Male\")\n",
    "plt.show()"
   ]
  },
  {
   "cell_type": "code",
   "execution_count": 43,
   "id": "08701eb1",
   "metadata": {},
   "outputs": [
    {
     "data": {
      "text/html": [
       "<div>\n",
       "<style scoped>\n",
       "    .dataframe tbody tr th:only-of-type {\n",
       "        vertical-align: middle;\n",
       "    }\n",
       "\n",
       "    .dataframe tbody tr th {\n",
       "        vertical-align: top;\n",
       "    }\n",
       "\n",
       "    .dataframe thead th {\n",
       "        text-align: right;\n",
       "    }\n",
       "</style>\n",
       "<table border=\"1\" class=\"dataframe\">\n",
       "  <thead>\n",
       "    <tr style=\"text-align: right;\">\n",
       "      <th>senior_citizen</th>\n",
       "      <th>0</th>\n",
       "      <th>1</th>\n",
       "    </tr>\n",
       "    <tr>\n",
       "      <th>churn</th>\n",
       "      <th></th>\n",
       "      <th></th>\n",
       "    </tr>\n",
       "  </thead>\n",
       "  <tbody>\n",
       "    <tr>\n",
       "      <th>No</th>\n",
       "      <td>0.874092</td>\n",
       "      <td>0.125908</td>\n",
       "    </tr>\n",
       "    <tr>\n",
       "      <th>Yes</th>\n",
       "      <td>0.740918</td>\n",
       "      <td>0.259082</td>\n",
       "    </tr>\n",
       "  </tbody>\n",
       "</table>\n",
       "</div>"
      ],
      "text/plain": [
       "senior_citizen         0         1\n",
       "churn                             \n",
       "No              0.874092  0.125908\n",
       "Yes             0.740918  0.259082"
      ]
     },
     "execution_count": 43,
     "metadata": {},
     "output_type": "execute_result"
    }
   ],
   "source": [
    "churn_senior_ctab = pd.crosstab(index=train.churn, columns=train.senior_citizen, normalize=\"index\")\n",
    "churn_senior_ctab"
   ]
  },
  {
   "cell_type": "code",
   "execution_count": 47,
   "id": "c0d54c9a",
   "metadata": {
    "scrolled": false
   },
   "outputs": [
    {
     "data": {
      "image/png": "[encoded data removed]",
      "text/plain": [
       "<Figure size 720x432 with 1 Axes>"
      ]
     },
     "metadata": {
      "needs_background": "light"
     },
     "output_type": "display_data"
    }
   ],
   "source": [
    "churn_senior_ctab.plot(kind='bar', \n",
    "                    stacked=True, \n",
    "                    colormap='Accent', \n",
    "                    figsize=(10, 6))\n",
    "\n",
    "plt.legend(loc=\"upper left\", ncol=2)\n",
    "plt.xlabel(\"Churn\")\n",
    "plt.ylabel(\"Percent of Non-senior (0) vs Senior (1)\")\n",
    "plt.show()"
   ]
  },
  {
   "cell_type": "code",
   "execution_count": null,
   "id": "97d0c5af",
   "metadata": {},
   "outputs": [],
   "source": [
    "churn_gender_ctab = pd.crosstab(index=train.churn, columns=train.gender, normalize=\"index\")\n",
    "churn_gender_ctab"
   ]
  },
  {
   "cell_type": "code",
   "execution_count": 41,
   "id": "4c8b6728",
   "metadata": {
    "scrolled": false
   },
   "outputs": [
    {
     "data": {
      "image/png": "[encoded data removed]",
      "text/plain": [
       "<Figure size 720x432 with 1 Axes>"
      ]
     },
     "metadata": {
      "needs_background": "light"
     },
     "output_type": "display_data"
    }
   ],
   "source": [
    "churn_gender_ctab.plot(kind='bar', \n",
    "                    stacked=True, \n",
    "                    colormap='tab10', \n",
    "                    figsize=(10, 6))\n",
    "\n",
    "plt.legend(loc=\"upper left\", ncol=2)\n",
    "plt.xlabel(\"Churn\")\n",
    "plt.ylabel(\"Percent of Female vs Male\")\n",
    "plt.show()"
   ]
  },
  {
   "cell_type": "code",
   "execution_count": null,
   "id": "558a59f3",
   "metadata": {},
   "outputs": [],
   "source": [
    "churn_gender_ctab = pd.crosstab(index=train.churn, columns=train.gender, normalize=\"index\")\n",
    "churn_gender_ctab"
   ]
  },
  {
   "cell_type": "code",
   "execution_count": 41,
   "id": "fa0df258",
   "metadata": {
    "scrolled": false
   },
   "outputs": [
    {
     "data": {
      "image/png": "[encoded data removed]",
      "text/plain": [
       "<Figure size 720x432 with 1 Axes>"
      ]
     },
     "metadata": {
      "needs_background": "light"
     },
     "output_type": "display_data"
    }
   ],
   "source": [
    "churn_gender_ctab.plot(kind='bar', \n",
    "                    stacked=True, \n",
    "                    colormap='tab10', \n",
    "                    figsize=(10, 6))\n",
    "\n",
    "plt.legend(loc=\"upper left\", ncol=2)\n",
    "plt.xlabel(\"Churn\")\n",
    "plt.ylabel(\"Percent of Female vs Male\")\n",
    "plt.show()"
   ]
  },
  {
   "cell_type": "code",
   "execution_count": null,
   "id": "4f6e31b0",
   "metadata": {},
   "outputs": [],
   "source": [
    "churn_gender_ctab = pd.crosstab(index=train.churn, columns=train.gender, normalize=\"index\")\n",
    "churn_gender_ctab"
   ]
  },
  {
   "cell_type": "code",
   "execution_count": 41,
   "id": "564c28df",
   "metadata": {
    "scrolled": false
   },
   "outputs": [
    {
     "data": {
      "image/png": "[encoded data removed]",
      "text/plain": [
       "<Figure size 720x432 with 1 Axes>"
      ]
     },
     "metadata": {
      "needs_background": "light"
     },
     "output_type": "display_data"
    }
   ],
   "source": [
    "churn_gender_ctab.plot(kind='bar', \n",
    "                    stacked=True, \n",
    "                    colormap='tab10', \n",
    "                    figsize=(10, 6))\n",
    "\n",
    "plt.legend(loc=\"upper left\", ncol=2)\n",
    "plt.xlabel(\"Churn\")\n",
    "plt.ylabel(\"Percent of Female vs Male\")\n",
    "plt.show()"
   ]
  },
  {
   "cell_type": "code",
   "execution_count": null,
   "id": "d64d2f59",
   "metadata": {},
   "outputs": [],
   "source": [
    "churn_gender_ctab = pd.crosstab(index=train.churn, columns=train.gender, normalize=\"index\")\n",
    "churn_gender_ctab"
   ]
  },
  {
   "cell_type": "code",
   "execution_count": 41,
   "id": "c139c34c",
   "metadata": {
    "scrolled": false
   },
   "outputs": [
    {
     "data": {
      "image/png": "[encoded data removed]",
      "text/plain": [
       "<Figure size 720x432 with 1 Axes>"
      ]
     },
     "metadata": {
      "needs_background": "light"
     },
     "output_type": "display_data"
    }
   ],
   "source": [
    "churn_gender_ctab.plot(kind='bar', \n",
    "                    stacked=True, \n",
    "                    colormap='tab10', \n",
    "                    figsize=(10, 6))\n",
    "\n",
    "plt.legend(loc=\"upper left\", ncol=2)\n",
    "plt.xlabel(\"Churn\")\n",
    "plt.ylabel(\"Percent of Female vs Male\")\n",
    "plt.show()"
   ]
  },
  {
   "cell_type": "code",
   "execution_count": null,
   "id": "1308a341",
   "metadata": {},
   "outputs": [],
   "source": [
    "churn_gender_ctab = pd.crosstab(index=train.churn, columns=train.gender, normalize=\"index\")\n",
    "churn_gender_ctab"
   ]
  },
  {
   "cell_type": "code",
   "execution_count": 41,
   "id": "1d0adb58",
   "metadata": {
    "scrolled": false
   },
   "outputs": [
    {
     "data": {
      "image/png": "[encoded data removed]",
      "text/plain": [
       "<Figure size 720x432 with 1 Axes>"
      ]
     },
     "metadata": {
      "needs_background": "light"
     },
     "output_type": "display_data"
    }
   ],
   "source": [
    "churn_gender_ctab.plot(kind='bar', \n",
    "                    stacked=True, \n",
    "                    colormap='tab10', \n",
    "                    figsize=(10, 6))\n",
    "\n",
    "plt.legend(loc=\"upper left\", ncol=2)\n",
    "plt.xlabel(\"Churn\")\n",
    "plt.ylabel(\"Percent of Female vs Male\")\n",
    "plt.show()"
   ]
  },
  {
   "cell_type": "code",
   "execution_count": null,
   "id": "04e42ccb",
   "metadata": {},
   "outputs": [],
   "source": [
    "churn_gender_ctab = pd.crosstab(index=train.churn, columns=train.gender, normalize=\"index\")\n",
    "churn_gender_ctab"
   ]
  },
  {
   "cell_type": "code",
   "execution_count": 41,
   "id": "5646f89b",
   "metadata": {
    "scrolled": false
   },
   "outputs": [
    {
     "data": {
      "image/png": "[encoded data removed]",
      "text/plain": [
       "<Figure size 720x432 with 1 Axes>"
      ]
     },
     "metadata": {
      "needs_background": "light"
     },
     "output_type": "display_data"
    }
   ],
   "source": [
    "churn_gender_ctab.plot(kind='bar', \n",
    "                    stacked=True, \n",
    "                    colormap='tab10', \n",
    "                    figsize=(10, 6))\n",
    "\n",
    "plt.legend(loc=\"upper left\", ncol=2)\n",
    "plt.xlabel(\"Churn\")\n",
    "plt.ylabel(\"Percent of Female vs Male\")\n",
    "plt.show()"
   ]
  },
  {
   "cell_type": "code",
   "execution_count": null,
   "id": "dfda850a",
   "metadata": {},
   "outputs": [],
   "source": [
    "churn_gender_ctab = pd.crosstab(index=train.churn, columns=train.gender, normalize=\"index\")\n",
    "churn_gender_ctab"
   ]
  },
  {
   "cell_type": "code",
   "execution_count": 41,
   "id": "844ad52a",
   "metadata": {
    "scrolled": false
   },
   "outputs": [
    {
     "data": {
      "image/png": "[encoded data removed]",
      "text/plain": [
       "<Figure size 720x432 with 1 Axes>"
      ]
     },
     "metadata": {
      "needs_background": "light"
     },
     "output_type": "display_data"
    }
   ],
   "source": [
    "churn_gender_ctab.plot(kind='bar', \n",
    "                    stacked=True, \n",
    "                    colormap='tab10', \n",
    "                    figsize=(10, 6))\n",
    "\n",
    "plt.legend(loc=\"upper left\", ncol=2)\n",
    "plt.xlabel(\"Churn\")\n",
    "plt.ylabel(\"Percent of Female vs Male\")\n",
    "plt.show()"
   ]
  },
  {
   "cell_type": "code",
   "execution_count": null,
   "id": "6846308a",
   "metadata": {},
   "outputs": [],
   "source": [
    "churn_gender_ctab = pd.crosstab(index=train.churn, columns=train.gender, normalize=\"index\")\n",
    "churn_gender_ctab"
   ]
  },
  {
   "cell_type": "code",
   "execution_count": 41,
   "id": "3225f64a",
   "metadata": {
    "scrolled": false
   },
   "outputs": [
    {
     "data": {
      "image/png": "[encoded data removed]",
      "text/plain": [
       "<Figure size 720x432 with 1 Axes>"
      ]
     },
     "metadata": {
      "needs_background": "light"
     },
     "output_type": "display_data"
    }
   ],
   "source": [
    "churn_gender_ctab.plot(kind='bar', \n",
    "                    stacked=True, \n",
    "                    colormap='tab10', \n",
    "                    figsize=(10, 6))\n",
    "\n",
    "plt.legend(loc=\"upper left\", ncol=2)\n",
    "plt.xlabel(\"Churn\")\n",
    "plt.ylabel(\"Percent of Female vs Male\")\n",
    "plt.show()"
   ]
  },
  {
   "cell_type": "code",
   "execution_count": null,
   "id": "2001d49e",
   "metadata": {},
   "outputs": [],
   "source": [
    "churn_gender_ctab = pd.crosstab(index=train.churn, columns=train.gender, normalize=\"index\")\n",
    "churn_gender_ctab"
   ]
  },
  {
   "cell_type": "code",
   "execution_count": 41,
   "id": "7c258a62",
   "metadata": {
    "scrolled": false
   },
   "outputs": [
    {
     "data": {
      "image/png": "[encoded data removed]",
      "text/plain": [
       "<Figure size 720x432 with 1 Axes>"
      ]
     },
     "metadata": {
      "needs_background": "light"
     },
     "output_type": "display_data"
    }
   ],
   "source": [
    "churn_gender_ctab.plot(kind='bar', \n",
    "                    stacked=True, \n",
    "                    colormap='tab10', \n",
    "                    figsize=(10, 6))\n",
    "\n",
    "plt.legend(loc=\"upper left\", ncol=2)\n",
    "plt.xlabel(\"Churn\")\n",
    "plt.ylabel(\"Percent of Female vs Male\")\n",
    "plt.show()"
   ]
  },
  {
   "cell_type": "code",
   "execution_count": null,
   "id": "6b3322c5",
   "metadata": {},
   "outputs": [],
   "source": [
    "churn_gender_ctab = pd.crosstab(index=train.churn, columns=train.gender, normalize=\"index\")\n",
    "churn_gender_ctab"
   ]
  },
  {
   "cell_type": "code",
   "execution_count": 41,
   "id": "ebbadaf7",
   "metadata": {
    "scrolled": false
   },
   "outputs": [
    {
     "data": {
      "image/png": "[encoded data removed]",
      "text/plain": [
       "<Figure size 720x432 with 1 Axes>"
      ]
     },
     "metadata": {
      "needs_background": "light"
     },
     "output_type": "display_data"
    }
   ],
   "source": [
    "churn_gender_ctab.plot(kind='bar', \n",
    "                    stacked=True, \n",
    "                    colormap='tab10', \n",
    "                    figsize=(10, 6))\n",
    "\n",
    "plt.legend(loc=\"upper left\", ncol=2)\n",
    "plt.xlabel(\"Churn\")\n",
    "plt.ylabel(\"Percent of Female vs Male\")\n",
    "plt.show()"
   ]
  },
  {
   "cell_type": "code",
   "execution_count": null,
   "id": "3084f36a",
   "metadata": {},
   "outputs": [],
   "source": [
    "churn_gender_ctab = pd.crosstab(index=train.churn, columns=train.gender, normalize=\"index\")\n",
    "churn_gender_ctab"
   ]
  },
  {
   "cell_type": "code",
   "execution_count": 41,
   "id": "d88497d1",
   "metadata": {
    "scrolled": false
   },
   "outputs": [
    {
     "data": {
      "image/png": "[encoded data removed]",
      "text/plain": [
       "<Figure size 720x432 with 1 Axes>"
      ]
     },
     "metadata": {
      "needs_background": "light"
     },
     "output_type": "display_data"
    }
   ],
   "source": [
    "churn_gender_ctab.plot(kind='bar', \n",
    "                    stacked=True, \n",
    "                    colormap='tab10', \n",
    "                    figsize=(10, 6))\n",
    "\n",
    "plt.legend(loc=\"upper left\", ncol=2)\n",
    "plt.xlabel(\"Churn\")\n",
    "plt.ylabel(\"Percent of Female vs Male\")\n",
    "plt.show()"
   ]
  },
  {
   "cell_type": "code",
   "execution_count": null,
   "id": "94cfac03",
   "metadata": {},
   "outputs": [],
   "source": [
    "churn_gender_ctab = pd.crosstab(index=train.churn, columns=train.gender, normalize=\"index\")\n",
    "churn_gender_ctab"
   ]
  },
  {
   "cell_type": "code",
   "execution_count": 41,
   "id": "469dcaf9",
   "metadata": {
    "scrolled": false
   },
   "outputs": [
    {
     "data": {
      "image/png": "[encoded data removed]",
      "text/plain": [
       "<Figure size 720x432 with 1 Axes>"
      ]
     },
     "metadata": {
      "needs_background": "light"
     },
     "output_type": "display_data"
    }
   ],
   "source": [
    "churn_gender_ctab.plot(kind='bar', \n",
    "                    stacked=True, \n",
    "                    colormap='tab10', \n",
    "                    figsize=(10, 6))\n",
    "\n",
    "plt.legend(loc=\"upper left\", ncol=2)\n",
    "plt.xlabel(\"Churn\")\n",
    "plt.ylabel(\"Percent of Female vs Male\")\n",
    "plt.show()"
   ]
  },
  {
   "cell_type": "code",
   "execution_count": null,
   "id": "172feb86",
   "metadata": {},
   "outputs": [],
   "source": [
    "churn_gender_ctab = pd.crosstab(index=train.churn, columns=train.gender, normalize=\"index\")\n",
    "churn_gender_ctab"
   ]
  },
  {
   "cell_type": "code",
   "execution_count": 41,
   "id": "8d2a1614",
   "metadata": {
    "scrolled": false
   },
   "outputs": [
    {
     "data": {
      "image/png": "[encoded data removed]",
      "text/plain": [
       "<Figure size 720x432 with 1 Axes>"
      ]
     },
     "metadata": {
      "needs_background": "light"
     },
     "output_type": "display_data"
    }
   ],
   "source": [
    "churn_gender_ctab.plot(kind='bar', \n",
    "                    stacked=True, \n",
    "                    colormap='tab10', \n",
    "                    figsize=(10, 6))\n",
    "\n",
    "plt.legend(loc=\"upper left\", ncol=2)\n",
    "plt.xlabel(\"Churn\")\n",
    "plt.ylabel(\"Percent of Female vs Male\")\n",
    "plt.show()"
   ]
  },
  {
   "cell_type": "code",
   "execution_count": null,
   "id": "6ed50bb2",
   "metadata": {},
   "outputs": [],
   "source": [
    "churn_gender_ctab = pd.crosstab(index=train.churn, columns=train.gender, normalize=\"index\")\n",
    "churn_gender_ctab"
   ]
  },
  {
   "cell_type": "code",
   "execution_count": 41,
   "id": "0f290512",
   "metadata": {
    "scrolled": false
   },
   "outputs": [
    {
     "data": {
      "image/png": "[encoded data removed]",
      "text/plain": [
       "<Figure size 720x432 with 1 Axes>"
      ]
     },
     "metadata": {
      "needs_background": "light"
     },
     "output_type": "display_data"
    }
   ],
   "source": [
    "churn_gender_ctab.plot(kind='bar', \n",
    "                    stacked=True, \n",
    "                    colormap='tab10', \n",
    "                    figsize=(10, 6))\n",
    "\n",
    "plt.legend(loc=\"upper left\", ncol=2)\n",
    "plt.xlabel(\"Churn\")\n",
    "plt.ylabel(\"Percent of Female vs Male\")\n",
    "plt.show()"
   ]
  },
  {
   "cell_type": "code",
   "execution_count": 63,
   "id": "8d33a6af",
   "metadata": {
    "scrolled": false
   },
   "outputs": [
    {
     "data": {
      "image/png": "[encoded data removed]",
      "text/plain": [
       "<Figure size 1080x504 with 3 Axes>"
      ]
     },
     "metadata": {
      "needs_background": "light"
     },
     "output_type": "display_data"
    }
   ],
   "source": [
    "features = ['gender',\n",
    "            'senior_citizen',\n",
    "            'partner']\n",
    "\n",
    "_,ax = plt.subplots(nrows=1, ncols=3, figsize=(15, 7), sharey=True)\n",
    "\n",
    "churn = []\n",
    "for i, feature in enumerate(features):\n",
    "    '''\n",
    "    Enumerate() function allows me to iterate inside the 'feature'\n",
    "    variable containing a set of features from the DataFrame.\n",
    "    I am plotting barplots using ax to plot several at the time.\n",
    "    '''\n",
    "    sns.barplot(feature, 'churn_encoded', data=train, ax=ax[i])\n",
    "    customers_churn_rate = train.churn_encoded.mean()\n",
    "    ax[i].set_xlabel('')\n",
    "    ax[i].set_ylabel('Customers churn rate')\n",
    "    ax[i].set_title(feature)\n",
    "    ax[i].axhline(customers_churn_rate, ls='--', color='fuchsia')"
   ]
  },
  {
   "cell_type": "markdown",
   "id": "7bc37dab",
   "metadata": {},
   "source": [
    "### Takeaways\n",
    "- Gender does not seem to have any impact on churn\n",
    "- Senior citizens churn at a higher rate\n",
    "- Those who have a partner churn at a higher rate"
   ]
  },
  {
   "cell_type": "code",
   "execution_count": 64,
   "id": "acb7b9f2",
   "metadata": {
    "scrolled": false
   },
   "outputs": [
    {
     "data": {
      "image/png": "[encoded data removed]",
      "text/plain": [
       "<Figure size 1080x504 with 3 Axes>"
      ]
     },
     "metadata": {
      "needs_background": "light"
     },
     "output_type": "display_data"
    }
   ],
   "source": [
    "features = ['dependents',\n",
    "            'phone_service',\n",
    "            'paperless_billing']\n",
    "\n",
    "_,ax = plt.subplots(nrows=1, ncols=3, figsize=(15, 7), sharey=True)\n",
    "\n",
    "for i, feature in enumerate(features):\n",
    "    '''\n",
    "    Enumerate() function allows me to iterate inside the 'feature'\n",
    "    variable containing a set of features from the DataFrame.\n",
    "    I am plotting barplots using ax to plot several at the time.\n",
    "    '''\n",
    "    sns.barplot(feature, 'churn_encoded', data=train, ax=ax[i])\n",
    "    customers_churn_rate = train.churn_encoded.mean()\n",
    "    ax[i].set_xlabel('')\n",
    "    ax[i].set_ylabel('Customers churn rate')\n",
    "    ax[i].set_title(feature)\n",
    "    ax[i].axhline(customers_churn_rate, ls='--', color='fuchsia')"
   ]
  },
  {
   "cell_type": "markdown",
   "id": "d157e2bc",
   "metadata": {},
   "source": [
    "### Takeaways\n",
    "- Those who have dependents churn at a higher rate than those who don't\n",
    "- Not having a phone service makes a customer slighly more encline to churn\n",
    "- Those using paperless stay more than those who aren't"
   ]
  },
  {
   "cell_type": "code",
   "execution_count": 67,
   "id": "b7262ba7",
   "metadata": {},
   "outputs": [
    {
     "data": {
      "image/png": "[encoded data removed]",
      "text/plain": [
       "<Figure size 1080x504 with 3 Axes>"
      ]
     },
     "metadata": {
      "needs_background": "light"
     },
     "output_type": "display_data"
    }
   ],
   "source": [
    "features = ['multiple_lines',\n",
    "            'online_security',\n",
    "            'online_backup']\n",
    "\n",
    "_,ax = plt.subplots(nrows=1, ncols=3, figsize=(15, 7), sharey=True)\n",
    "\n",
    "for i, feature in enumerate(features):\n",
    "    '''\n",
    "    Enumerate() function allows me to iterate inside the 'feature'\n",
    "    variable containing a set of features from the DataFrame.\n",
    "    I am plotting barplots using ax to plot several at the time.\n",
    "    '''\n",
    "    sns.barplot(feature, 'churn_encoded', data=train, ax=ax[i])\n",
    "    customers_churn_rate = train.churn_encoded.mean()\n",
    "    ax[i].set_xlabel('')\n",
    "    ax[i].set_ylabel('Customers churn rate')\n",
    "    ax[i].set_title(feature)\n",
    "    ax[i].customers_churn_rate = train\n",
    "    ax[i].axhline(customers_churn_rate, ls='--', color='fuchsia')"
   ]
  },
  {
   "cell_type": "markdown",
   "id": "7964dc58",
   "metadata": {},
   "source": [
    "### Takeaways\n",
    "- Having multiple lines make customers less likely to churn than those who have 1 or no phone service\n",
    "- Having online security or no internet service leads customers to churn\n",
    "- Having online backup or no internet service leads customers to churn"
   ]
  },
  {
   "cell_type": "code",
   "execution_count": 68,
   "id": "dde9d9ab",
   "metadata": {},
   "outputs": [
    {
     "data": {
      "image/png": "[encoded data removed]",
      "text/plain": [
       "<Figure size 1080x504 with 3 Axes>"
      ]
     },
     "metadata": {
      "needs_background": "light"
     },
     "output_type": "display_data"
    }
   ],
   "source": [
    "features = ['device_protection', \\\n",
    "            'tech_support', \\\n",
    "            'streaming_tv']\n",
    "\n",
    "_,ax = plt.subplots(nrows=1, ncols=3, figsize=(15, 7), sharey=True)\n",
    "\n",
    "for i, feature in enumerate(features):\n",
    "    '''\n",
    "    Enumerate() function allows me to iterate inside the 'feature'\n",
    "    variable containing a set of features from the DataFrame.\n",
    "    I am plotting barplots using ax to plot several at the time.\n",
    "    '''\n",
    "    sns.barplot(feature, 'churn_encoded', data=train, ax=ax[i])\n",
    "    customers_churn_rate = train.churn_encoded.mean()\n",
    "    ax[i].set_xlabel('')\n",
    "    ax[i].set_ylabel('Customers churn rate')\n",
    "    ax[i].set_title(feature)\n",
    "    ax[i].axhline(customers_churn_rate, ls='--', color='fuchsia')"
   ]
  },
  {
   "cell_type": "markdown",
   "id": "88435a8e",
   "metadata": {},
   "source": [
    "### Takeaways\n",
    "- Having device protection and tech support also leads customers to churn\n",
    "- Not having internet service makes a customer more encline to churn"
   ]
  },
  {
   "cell_type": "code",
   "execution_count": 72,
   "id": "e5485a3f",
   "metadata": {
    "scrolled": false
   },
   "outputs": [
    {
     "data": {
      "image/png": "[encoded data removed]",
      "text/plain": [
       "<Figure size 1080x504 with 3 Axes>"
      ]
     },
     "metadata": {
      "needs_background": "light"
     },
     "output_type": "display_data"
    }
   ],
   "source": [
    "features = ['streaming_movies', \\\n",
    "            'contract_type', \\\n",
    "            'internet_service_type']\n",
    "\n",
    "_,ax = plt.subplots(nrows=1, ncols=3, figsize=(15, 7), sharey=True)\n",
    "\n",
    "for i, feature in enumerate(features):\n",
    "    '''\n",
    "    Enumerate() function allows me to iterate inside the 'feature'\n",
    "    variable containing a set of features from the DataFrame.\n",
    "    I am plotting barplots using ax to plot several at the time.\n",
    "    '''\n",
    "    sns.barplot(feature, 'churn_encoded', data=train, ax=ax[i])\n",
    "    customers_churn_rate = train.churn_encoded.mean()\n",
    "    ax[i].set_xlabel('')\n",
    "    ax[i].set_ylabel('Customers churn rate')\n",
    "    ax[i].set_title(feature)\n",
    "    ax[i].axhline(customers_churn_rate, ls='--', color='fuchsia')"
   ]
  },
  {
   "cell_type": "markdown",
   "id": "97a5d667",
   "metadata": {},
   "source": [
    "### Takeaways\n",
    "- there are great disparities between different contract types and this is worth investigating\n",
    "- Not having internet service makes a customer more encline to churn"
   ]
  },
  {
   "cell_type": "code",
   "execution_count": 108,
   "id": "8f9fbab6",
   "metadata": {
    "scrolled": false
   },
   "outputs": [
    {
     "data": {
      "image/png": "[encoded data removed]",
      "text/plain": [
       "<Figure size 432x288 with 1 Axes>"
      ]
     },
     "metadata": {
      "needs_background": "light"
     },
     "output_type": "display_data"
    }
   ],
   "source": [
    "plt.title('Payment types and churn rate')\n",
    "sns.barplot(x='payment_type', y='churn_encoded', data=train)\n",
    "customers_churn_rate = train.churn_encoded.mean()\n",
    "plt.axhline(customers_churn_rate, label= 'Customers churn rate')\n",
    "plt.xticks([0, 1, 2, 3], ['Credit card\\n(automatic)', 'Electronic\\ncheck ',\n",
    "                          'Mailed\\ncheck', 'Bank transfer\\n(automatic)'])\n",
    "plt.legend()\n",
    "plt.show()"
   ]
  },
  {
   "cell_type": "code",
   "execution_count": 76,
   "id": "cb83ddc7",
   "metadata": {},
   "outputs": [
    {
     "data": {
      "text/plain": [
       "Electronic check             1289\n",
       "Credit card (automatic)       895\n",
       "Mailed check                  891\n",
       "Bank transfer (automatic)     862\n",
       "Name: payment_type, dtype: int64"
      ]
     },
     "execution_count": 76,
     "metadata": {},
     "output_type": "execute_result"
    }
   ],
   "source": [
    "train.payment_type.value_counts()"
   ]
  },
  {
   "cell_type": "markdown",
   "id": "c8fe369d",
   "metadata": {},
   "source": [
    "## Takeaways\n",
    "- Electronic check users are less likely to churn (who are they? investigate if I have time)\n",
    "- The users of other types of payment churn at a similar rate"
   ]
  },
  {
   "cell_type": "code",
   "execution_count": 79,
   "id": "d3d2afa6",
   "metadata": {
    "scrolled": false
   },
   "outputs": [
    {
     "data": {
      "image/png": "[encoded data removed]",
      "text/plain": [
       "<Figure size 1440x1080 with 1 Axes>"
      ]
     },
     "metadata": {
      "needs_background": "light"
     },
     "output_type": "display_data"
    }
   ],
   "source": [
    "\n",
    "\n",
    "plt.figure(figsize=(20, 15))\n",
    "plt.title('Tenure and churn rate')\n",
    "sns.barplot(x='tenure', y='churn_encoded', data=train)\n",
    "customers_churn_rate = train.churn_encoded.mean()\n",
    "plt.axhline(customers_churn_rate, label= 'Customers churn rate', ls='-.', color='red')\n",
    "plt.legend()\n",
    "plt.show()"
   ]
  },
  {
   "cell_type": "code",
   "execution_count": 101,
   "id": "7783e681",
   "metadata": {
    "scrolled": true
   },
   "outputs": [
    {
     "data": {
      "image/png": "[encoded data removed]",
      "text/plain": [
       "<Figure size 432x288 with 1 Axes>"
      ]
     },
     "metadata": {
      "needs_background": "light"
     },
     "output_type": "display_data"
    }
   ],
   "source": [
    "plt.title('Binned tenure and churn rate')\n",
    "sns.barplot(x='binned_tenure', y='churn_encoded', data=train)\n",
    "customers_churn_rate = train.churn_encoded.mean()\n",
    "plt.axhline(customers_churn_rate, label= 'Customers churn rate', )\n",
    "plt.legend()\n",
    "plt.show()"
   ]
  },
  {
   "cell_type": "markdown",
   "id": "994ae9fa",
   "metadata": {},
   "source": [
    "## Takeaways\n",
    "- The non-binned version of tenure has the same behavior as the binned one\n",
    "- Higher tenure tend to churn more it seems"
   ]
  },
  {
   "cell_type": "code",
   "execution_count": 198,
   "id": "397fa389",
   "metadata": {
    "scrolled": false
   },
   "outputs": [
    {
     "data": {
      "image/png": "[encoded data removed]",
      "text/plain": [
       "<Figure size 1080x720 with 1 Axes>"
      ]
     },
     "metadata": {
      "needs_background": "light"
     },
     "output_type": "display_data"
    }
   ],
   "source": [
    "plt.figure(figsize=(15, 10))\n",
    "plt.title('Customers with tenure 1years churn at a higher rate: almost the same number of churned (orange) and not churned(blue)')\n",
    "sns.boxplot(x='binned_tenure', y='monthly_charges', data=train, hue='churn_encoded')\n",
    "customer_churn_rate = train.churn_encoded.mean()\n",
    "plt.show()"
   ]
  },
  {
   "cell_type": "code",
   "execution_count": 197,
   "id": "cd7e736a",
   "metadata": {
    "scrolled": false
   },
   "outputs": [
    {
     "data": {
      "image/png": "[encoded data removed]",
      "text/plain": [
       "<Figure size 1080x720 with 1 Axes>"
      ]
     },
     "metadata": {
      "needs_background": "light"
     },
     "output_type": "display_data"
    }
   ],
   "source": [
    "plt.figure(figsize=(15, 10))\n",
    "plt.title('Customers with tenure 1years churn at a higher rate proportionally to other')\n",
    "sns.boxplot(x='binned_tenure', y='total_charges', data=train, hue='churn_encoded')\n",
    "customer_churn_rate = train.churn_encoded.mean()\n",
    "plt.show()"
   ]
  },
  {
   "cell_type": "code",
   "execution_count": 73,
   "id": "270c0c63",
   "metadata": {
    "scrolled": false
   },
   "outputs": [
    {
     "data": {
      "text/plain": [
       "1year     1220\n",
       "6years     818\n",
       "2years     532\n",
       "3years     469\n",
       "5years     459\n",
       "4years     439\n",
       "Name: binned_tenure, dtype: int64"
      ]
     },
     "execution_count": 73,
     "metadata": {},
     "output_type": "execute_result"
    }
   ],
   "source": [
    "train.binned_tenure.value_counts()"
   ]
  },
  {
   "cell_type": "markdown",
   "id": "992954eb",
   "metadata": {},
   "source": [
    "## Takeaways\n",
    "- For Monthly charges, it seems that Customers with tenure 1years churn at a higher rate: almost the same number of churned (orange) and not churned(blue)\n",
    "- For Total charges it seems like Customers with tenure 1years churn at a higher rate proportionally to their numbers: almost the same number of churned (orange) and not churned(blue). Meanwhile more 4, 5, & 6years tenure customers churned."
   ]
  },
  {
   "cell_type": "markdown",
   "id": "adb25708",
   "metadata": {},
   "source": [
    "## C. Statistical Analysis of Features"
   ]
  },
  {
   "cell_type": "markdown",
   "id": "c4ebc420",
   "metadata": {},
   "source": [
    "$χ^2$"
   ]
  },
  {
   "cell_type": "markdown",
   "id": "08addf22",
   "metadata": {},
   "source": [
    "I do not have a normal distribution for tenure nor the other numeric values (monthly charges and total charges)\n",
    "So I will use a t-test to understand the relationship between these features"
   ]
  },
  {
   "cell_type": "markdown",
   "id": "987ae6f7",
   "metadata": {},
   "source": [
    "**Assumptions**\n",
    "The churn sample is far larger than 30 data pointsand thus meets the assumptions of normal distributions."
   ]
  },
  {
   "cell_type": "markdown",
   "id": "46340e8b",
   "metadata": {},
   "source": [
    "**Of all the features examined, a few stand out because of their level of churn on the graph. I am going to examine these features statistically**"
   ]
  },
  {
   "cell_type": "markdown",
   "id": "8ee8844e",
   "metadata": {},
   "source": [
    "**Selected features**\n",
    "\n",
    "- Electronic check: electronic_check_encoded\n",
    "- Tenure: binned_tenure\n",
    "- Fiber optic: internet_service_type_Fiber optic\n",
    "- Monthly charges: monthly_charges\n",
    "- Contract type (Month-to-month): (train['contract_type'] == 'Month-to-month')\n",
    "- No Internet Category: internet_service_type_None"
   ]
  },
  {
   "cell_type": "code",
   "execution_count": 130,
   "id": "c766f1a1",
   "metadata": {},
   "outputs": [],
   "source": [
    "# I set alpha for all calculations\n",
    "\n",
    "α = .05"
   ]
  },
  {
   "cell_type": "markdown",
   "id": "a735f927",
   "metadata": {},
   "source": [
    "**Hypothesis setting**\n",
    "\n",
    "- Null hypothesis = $H_{0}$\n",
    "- Alternative hypothesis = $H_{A}$"
   ]
  },
  {
   "cell_type": "markdown",
   "id": "b48bdfc0",
   "metadata": {},
   "source": [
    "## Electronic check"
   ]
  },
  {
   "cell_type": "markdown",
   "id": "06811aa9",
   "metadata": {},
   "source": [
    "$H_{0}$: Electronic payment and churn are independent.\n",
    "\n",
    "$H_{A}$: There is a dependency between Electronic payment and churn."
   ]
  },
  {
   "cell_type": "code",
   "execution_count": 122,
   "id": "8bc6180e",
   "metadata": {},
   "outputs": [
    {
     "data": {
      "text/html": [
       "<div>\n",
       "<style scoped>\n",
       "    .dataframe tbody tr th:only-of-type {\n",
       "        vertical-align: middle;\n",
       "    }\n",
       "\n",
       "    .dataframe tbody tr th {\n",
       "        vertical-align: top;\n",
       "    }\n",
       "\n",
       "    .dataframe thead th {\n",
       "        text-align: right;\n",
       "    }\n",
       "</style>\n",
       "<table border=\"1\" class=\"dataframe\">\n",
       "  <thead>\n",
       "    <tr style=\"text-align: right;\">\n",
       "      <th>churn</th>\n",
       "      <th>No</th>\n",
       "      <th>Yes</th>\n",
       "    </tr>\n",
       "    <tr>\n",
       "      <th>payment_type_Electronic check</th>\n",
       "      <th></th>\n",
       "      <th></th>\n",
       "    </tr>\n",
       "  </thead>\n",
       "  <tbody>\n",
       "    <tr>\n",
       "      <th>0</th>\n",
       "      <td>2183</td>\n",
       "      <td>465</td>\n",
       "    </tr>\n",
       "    <tr>\n",
       "      <th>1</th>\n",
       "      <td>708</td>\n",
       "      <td>581</td>\n",
       "    </tr>\n",
       "  </tbody>\n",
       "</table>\n",
       "</div>"
      ],
      "text/plain": [
       "churn                            No  Yes\n",
       "payment_type_Electronic check           \n",
       "0                              2183  465\n",
       "1                               708  581"
      ]
     },
     "execution_count": 122,
     "metadata": {},
     "output_type": "execute_result"
    }
   ],
   "source": [
    "e_check_ctab = pd.crosstab(train['payment_type_Electronic check'] , train.churn)\n",
    "e_check_ctab"
   ]
  },
  {
   "cell_type": "code",
   "execution_count": 129,
   "id": "f7e17d9e",
   "metadata": {
    "scrolled": false
   },
   "outputs": [
    {
     "name": "stdout",
     "output_type": "stream",
     "text": [
      "[[1944.46736093  703.53263907]\n",
      " [ 946.53263907  342.46736093]]\n",
      "p-val: 7.910587922260644e-75\n"
     ]
    }
   ],
   "source": [
    "χ2, p_e_check, degf, expected_e_check = stats.chi2_contingency(e_check_ctab)\n",
    "\n",
    "\n",
    "print(expected_e_check)\n",
    "print(f\"p-val: {p_e_check}\")"
   ]
  },
  {
   "cell_type": "code",
   "execution_count": 135,
   "id": "87f24327",
   "metadata": {},
   "outputs": [
    {
     "name": "stdout",
     "output_type": "stream",
     "text": [
      "I reject the null hypothesis: There is a dependency between Electronic payment and churn\n"
     ]
    }
   ],
   "source": [
    "null_hypothesis = 'Electronic payment and churn are independent'\n",
    "alternative_hypothesis = 'There is a dependency between Electronic payment and churn'\n",
    "\n",
    "\n",
    "if p_e_check < α:\n",
    "    print('I reject the null hypothesis:', alternative_hypothesis)\n",
    "else:\n",
    "    print('I fail to reject the null hypothesis:', null_hypothesis)"
   ]
  },
  {
   "cell_type": "markdown",
   "id": "eeec2dd5",
   "metadata": {},
   "source": [
    "## Tenure"
   ]
  },
  {
   "cell_type": "markdown",
   "id": "1478fa15",
   "metadata": {},
   "source": [
    "$H_{0}$: Tenure and churn are independent\n",
    "\n",
    "$H_{A}$: There is a dependency between the Tenure and churn"
   ]
  },
  {
   "cell_type": "code",
   "execution_count": 138,
   "id": "77c6249a",
   "metadata": {},
   "outputs": [
    {
     "data": {
      "text/html": [
       "<div>\n",
       "<style scoped>\n",
       "    .dataframe tbody tr th:only-of-type {\n",
       "        vertical-align: middle;\n",
       "    }\n",
       "\n",
       "    .dataframe tbody tr th {\n",
       "        vertical-align: top;\n",
       "    }\n",
       "\n",
       "    .dataframe thead th {\n",
       "        text-align: right;\n",
       "    }\n",
       "</style>\n",
       "<table border=\"1\" class=\"dataframe\">\n",
       "  <thead>\n",
       "    <tr style=\"text-align: right;\">\n",
       "      <th>churn</th>\n",
       "      <th>No</th>\n",
       "      <th>Yes</th>\n",
       "    </tr>\n",
       "    <tr>\n",
       "      <th>binned_tenure</th>\n",
       "      <th></th>\n",
       "      <th></th>\n",
       "    </tr>\n",
       "  </thead>\n",
       "  <tbody>\n",
       "    <tr>\n",
       "      <th>1year</th>\n",
       "      <td>639</td>\n",
       "      <td>581</td>\n",
       "    </tr>\n",
       "    <tr>\n",
       "      <th>2years</th>\n",
       "      <td>386</td>\n",
       "      <td>146</td>\n",
       "    </tr>\n",
       "    <tr>\n",
       "      <th>3years</th>\n",
       "      <td>367</td>\n",
       "      <td>102</td>\n",
       "    </tr>\n",
       "    <tr>\n",
       "      <th>4years</th>\n",
       "      <td>347</td>\n",
       "      <td>92</td>\n",
       "    </tr>\n",
       "    <tr>\n",
       "      <th>5years</th>\n",
       "      <td>391</td>\n",
       "      <td>68</td>\n",
       "    </tr>\n",
       "    <tr>\n",
       "      <th>6years</th>\n",
       "      <td>761</td>\n",
       "      <td>57</td>\n",
       "    </tr>\n",
       "  </tbody>\n",
       "</table>\n",
       "</div>"
      ],
      "text/plain": [
       "churn           No  Yes\n",
       "binned_tenure          \n",
       "1year          639  581\n",
       "2years         386  146\n",
       "3years         367  102\n",
       "4years         347   92\n",
       "5years         391   68\n",
       "6years         761   57"
      ]
     },
     "execution_count": 138,
     "metadata": {},
     "output_type": "execute_result"
    }
   ],
   "source": [
    "b_tenure_ctab = pd.crosstab(train['binned_tenure'] , train.churn)\n",
    "b_tenure_ctab"
   ]
  },
  {
   "cell_type": "code",
   "execution_count": 139,
   "id": "d071e612",
   "metadata": {},
   "outputs": [
    {
     "name": "stdout",
     "output_type": "stream",
     "text": [
      "[[895.86487173 324.13512827]\n",
      " [390.65582931 141.34417069]\n",
      " [344.39395479 124.60604521]\n",
      " [322.36449073 116.63550927]\n",
      " [337.0508001  121.9491999 ]\n",
      " [600.67005334 217.32994666]]\n",
      "p-val: 2.6829703056467787e-102\n"
     ]
    }
   ],
   "source": [
    "χ2, p_bt_check, degf, expected_b_tenure = stats.chi2_contingency(b_tenure_ctab)\n",
    "print(expected_b_tenure)\n",
    "print(f\"p-val: {p_bt_check}\")"
   ]
  },
  {
   "cell_type": "code",
   "execution_count": 146,
   "id": "2fe9a784",
   "metadata": {},
   "outputs": [
    {
     "name": "stdout",
     "output_type": "stream",
     "text": [
      "I reject the null hypothesis: There is a dependency between the Tenure and churn\n"
     ]
    }
   ],
   "source": [
    "null_hypothesis = 'Tenure and churn are independent'\n",
    "alternative_hypothesis = 'There is a dependency between the Tenure and churn'\n",
    "\n",
    "if p_e_check < α:\n",
    "    print('I reject the null hypothesis:', alternative_hypothesis)\n",
    "else:\n",
    "    print('I fail to reject the null hypothesis:', null_hypothesis)"
   ]
  },
  {
   "cell_type": "markdown",
   "id": "c51f9bbe",
   "metadata": {},
   "source": [
    "## Fiber optic"
   ]
  },
  {
   "cell_type": "markdown",
   "id": "f116990d",
   "metadata": {},
   "source": [
    "$H_{0}$: Fiber optic and churn are independent\n",
    "\n",
    "$H_{A}$: There is a dependency between Fiber optic and churn"
   ]
  },
  {
   "cell_type": "code",
   "execution_count": 141,
   "id": "878e7153",
   "metadata": {},
   "outputs": [
    {
     "data": {
      "text/html": [
       "<div>\n",
       "<style scoped>\n",
       "    .dataframe tbody tr th:only-of-type {\n",
       "        vertical-align: middle;\n",
       "    }\n",
       "\n",
       "    .dataframe tbody tr th {\n",
       "        vertical-align: top;\n",
       "    }\n",
       "\n",
       "    .dataframe thead th {\n",
       "        text-align: right;\n",
       "    }\n",
       "</style>\n",
       "<table border=\"1\" class=\"dataframe\">\n",
       "  <thead>\n",
       "    <tr style=\"text-align: right;\">\n",
       "      <th>churn</th>\n",
       "      <th>No</th>\n",
       "      <th>Yes</th>\n",
       "    </tr>\n",
       "    <tr>\n",
       "      <th>internet_service_type_Fiber optic</th>\n",
       "      <th></th>\n",
       "      <th></th>\n",
       "    </tr>\n",
       "  </thead>\n",
       "  <tbody>\n",
       "    <tr>\n",
       "      <th>0</th>\n",
       "      <td>1904</td>\n",
       "      <td>311</td>\n",
       "    </tr>\n",
       "    <tr>\n",
       "      <th>1</th>\n",
       "      <td>987</td>\n",
       "      <td>735</td>\n",
       "    </tr>\n",
       "  </tbody>\n",
       "</table>\n",
       "</div>"
      ],
      "text/plain": [
       "churn                                No  Yes\n",
       "internet_service_type_Fiber optic           \n",
       "0                                  1904  311\n",
       "1                                   987  735"
      ]
     },
     "execution_count": 141,
     "metadata": {},
     "output_type": "execute_result"
    }
   ],
   "source": [
    "f_optic_ctab = pd.crosstab(train['internet_service_type_Fiber optic'] , train.churn)\n",
    "f_optic_ctab"
   ]
  },
  {
   "cell_type": "code",
   "execution_count": 142,
   "id": "d598088a",
   "metadata": {},
   "outputs": [
    {
     "name": "stdout",
     "output_type": "stream",
     "text": [
      "[[1626.50876302  588.49123698]\n",
      " [1264.49123698  457.50876302]]\n",
      "p-val: 2.831419548361709e-90\n"
     ]
    }
   ],
   "source": [
    "χ2, p_f_optic, degf, expected_f_optic = stats.chi2_contingency(f_optic_ctab)\n",
    "\n",
    "\n",
    "print(expected_f_optic)\n",
    "print(f\"p-val: {p_f_optic}\")"
   ]
  },
  {
   "cell_type": "code",
   "execution_count": 143,
   "id": "8ffd9f35",
   "metadata": {},
   "outputs": [
    {
     "name": "stdout",
     "output_type": "stream",
     "text": [
      "I reject the null hypothesis: There is a dependency between Fiber optic and churn\n"
     ]
    }
   ],
   "source": [
    "null_hypothesis = 'Fiber optic and churn are independent'\n",
    "alternative_hypothesis = 'There is a dependency between Fiber optic and churn'\n",
    "\n",
    "\n",
    "if p_e_check < α:\n",
    "    print('I reject the null hypothesis:', alternative_hypothesis)\n",
    "else:\n",
    "    print('I fail to reject the null hypothesis:', null_hypothesis)"
   ]
  },
  {
   "cell_type": "markdown",
   "id": "11b6376b",
   "metadata": {},
   "source": [
    "## Monthly charges"
   ]
  },
  {
   "cell_type": "markdown",
   "id": "466d99c1",
   "metadata": {},
   "source": [
    "$H_{0}$: There is no linear correlation between the monthly charges and the rate of churn\n",
    "\n",
    "$H_{A}$: There is a linear correlation between the monthly charges and the rate of churn"
   ]
  },
  {
   "cell_type": "code",
   "execution_count": 144,
   "id": "0b021c62",
   "metadata": {},
   "outputs": [
    {
     "name": "stdout",
     "output_type": "stream",
     "text": [
      "I reject the null hypothesis\n",
      "I have sufficient evidence to say that Mean of monthly charges of churned customers > Mean of monthly charges of all customers\n"
     ]
    }
   ],
   "source": [
    "null_hypothesis = 'There is no linear correlation between the monthly charges and the rate of churn'\n",
    "alternative_hypothesis ='There is a linear correlation between the monthly charges and the rate of churn'\n",
    "\n",
    "#Using a crosstab of churn to binned tenure\n",
    "observed = pd.crosstab(train.churn, train.monthly_charges)\n",
    "\n",
    "chi2, p, degf, expected = stats.chi2_contingency(observed)\n",
    "\n",
    "if p < α:\n",
    "    print('I reject the null hypothesis')\n",
    "    print('I have sufficient evidence to say that', alternative_hypothesis)\n",
    "else:\n",
    "    print('Fail to reject null hypothesis')\n",
    "    print('I do not have sufficient evidence to reject the null hypothesis')"
   ]
  },
  {
   "cell_type": "markdown",
   "id": "d815eea4",
   "metadata": {},
   "source": [
    "## Contract type: Month-to-month"
   ]
  },
  {
   "cell_type": "markdown",
   "id": "d821806b",
   "metadata": {},
   "source": [
    "$H_{0}$: there is no relationship between contract type and churn\n",
    "\n",
    "$H_{A}$: there is a relationship between contract type and churn"
   ]
  },
  {
   "cell_type": "code",
   "execution_count": 158,
   "id": "58f2a635",
   "metadata": {},
   "outputs": [
    {
     "name": "stdout",
     "output_type": "stream",
     "text": [
      "I reject the null hypthesis: There is a linear correlation between the Month-to-month Contracts and Churn\n"
     ]
    }
   ],
   "source": [
    "null_hypothesis = 'There is no linear correlation between the Month-to-month Contracts and Churn'\n",
    "alternative_hypothesis = 'There is a linear correlation between the Month-to-month Contracts and Churn'\n",
    "\n",
    "observed = pd.crosstab((train['contract_type'] == 'Month-to-month'), train.churn)\n",
    "chi2, p, degf, expected = stats.chi2_contingency(observed)\n",
    "\n",
    "chi2, p, degf, expected = stats.chi2_contingency(observed)\n",
    "if p < α:\n",
    "    print('I reject the null hypthesis:', alternative_hypothesis)\n",
    "else:\n",
    "    print('I fail to reject the null:', null_hypothesis)"
   ]
  },
  {
   "cell_type": "markdown",
   "id": "a5018344",
   "metadata": {},
   "source": [
    "## No Internet"
   ]
  },
  {
   "cell_type": "markdown",
   "id": "e7fcc572",
   "metadata": {},
   "source": [
    "$H_{0}$: there is no relationship between contract type and churn\n",
    "\n",
    "$H_{A}$: there is a relationship between contract type and churn"
   ]
  },
  {
   "cell_type": "code",
   "execution_count": 160,
   "id": "30f7ef99",
   "metadata": {},
   "outputs": [
    {
     "name": "stdout",
     "output_type": "stream",
     "text": [
      "I reject the null hypthesis: There is a linear correlation between the No Internet Category and Churn\n"
     ]
    }
   ],
   "source": [
    "null_hypothesis = 'There is no linear correlation between the No Internet Category and Churn'\n",
    "alternative_hypothesis = 'There is a linear correlation between the No Internet Category and Churn'\n",
    "\n",
    "observed = pd.crosstab(train['internet_service_type_None'], train.churn)\n",
    "chi2, p, degf, expected = stats.chi2_contingency(observed)\n",
    "\n",
    "chi2, p, degf, expected = stats.chi2_contingency(observed)\n",
    "if p < α:\n",
    "    print('I reject the null hypthesis:', alternative_hypothesis)\n",
    "else:\n",
    "    print('I fail to reject the null:', null_hypothesis)"
   ]
  },
  {
   "cell_type": "markdown",
   "id": "0b795896",
   "metadata": {},
   "source": [
    "## Summary Takeaways\n",
    "\n",
    "- Who are not getting internet services?\n",
    "- Customers who do not have internet services churn the most\n",
    "- In general those who have services like online back up, online security churn more\n",
    "- Those who have services such as streaming tv and movie churn less\n",
    "- Those who have a DSL connection churn more\n",
    "- Those who hahve a 1year and 2year contract are more likely to churn\n",
    "- Customers with tenure 1years churn at a higher rate: almost the same number of churned and not churned"
   ]
  },
  {
   "cell_type": "markdown",
   "id": "ffe9eaa0",
   "metadata": {},
   "source": [
    "# Modeling"
   ]
  },
  {
   "cell_type": "markdown",
   "id": "439bc3b7",
   "metadata": {},
   "source": [
    "In this section, I am trying to predict the customers that will churn.\n",
    "\n",
    "So, after examining the features through the lens of graphs and running statistical tests on those that appeared to be significant, I will use them to in my train model to predict which customer is likely to churn in the future. \n",
    "\n",
    "- Electronic check: electronic_check_encoded\n",
    "- Tenure: binned_tenure\n",
    "- Fiber optic: internet_service_type_Fiber optic\n",
    "- Monthly charges: monthly_charges\n",
    "- Contract type (Month-to-month): (train['contract_type'] == 'Month-to-month')\n",
    "- No Internet Category: internet_service_type_None\n",
    "\n",
    "\n",
    "- Month-to-month contract status: This has the smallest p-value\n",
    "- Monthly tenure: This is similar to yearly tenure both in the size of the coefficient as well as the p-value, so we will use monthly tenure instead of yearly tenure.\n",
    "- Fiber optic use: Customers with fiber optic plans appear to be churning at a very high rate, so we will include this feature.\n",
    "- Electronic check payment type: Customers who pay by this method are churning at a much higher rate\n",
    "- Has Internet: Although fiber optics use covers this partially, there is still enough additional information provided by this feature to include it.\n",
    "- Monthly charges: This is similar to total charges, but I suspect that the model will perform better with this feature instead of total charges, as total charges is likely dependent on tenure.\n",
    "\n",
    "Churn is the target variable and I will focus on churned customers (feature characteristic 1)\n",
    "\n",
    "To evaluate the model I will use a confusion matrix with the following characteristics:\n",
    "\n",
    "- TP\n",
    "    * Prediction = customer will churn\n",
    "    * Actual = customer churns\n",
    "- TN\n",
    "    * Predict = customer will not churn\n",
    "    * Actual = customer does not churn\n",
    "- FP\n",
    "    * Predict = customer will churn\n",
    "    * Actual = customer does NOT churn\n",
    "- FN\n",
    "    * Predict = customer will not churn\n",
    "    * Actual = customer churns\n",
    "\n",
    "\n",
    "- Objective: Identify customers that will churn\n",
    "- Corresponding indicator: I want an indicator that tells me precisely who will churn but I don't want to say someone will not churn but they do churn. So I want to be able to predict well who will churn and who will not churn and ACCURACY is the best indicator for that."
   ]
  },
  {
   "cell_type": "markdown",
   "id": "60238870",
   "metadata": {},
   "source": [
    "## Decision trees"
   ]
  },
  {
   "cell_type": "code",
   "execution_count": 161,
   "id": "4c1074d8",
   "metadata": {
    "scrolled": true
   },
   "outputs": [
    {
     "data": {
      "text/html": [
       "<div>\n",
       "<style scoped>\n",
       "    .dataframe tbody tr th:only-of-type {\n",
       "        vertical-align: middle;\n",
       "    }\n",
       "\n",
       "    .dataframe tbody tr th {\n",
       "        vertical-align: top;\n",
       "    }\n",
       "\n",
       "    .dataframe thead th {\n",
       "        text-align: right;\n",
       "    }\n",
       "</style>\n",
       "<table border=\"1\" class=\"dataframe\">\n",
       "  <thead>\n",
       "    <tr style=\"text-align: right;\">\n",
       "      <th></th>\n",
       "      <th>gender_encoded</th>\n",
       "      <th>partner_encoded</th>\n",
       "      <th>dependents_encoded</th>\n",
       "      <th>phone_service_encoded</th>\n",
       "      <th>paperless_billing_encoded</th>\n",
       "      <th>churn_encoded</th>\n",
       "      <th>multiple_lines_No phone service</th>\n",
       "      <th>multiple_lines_Yes</th>\n",
       "      <th>online_security_No internet service</th>\n",
       "      <th>online_security_Yes</th>\n",
       "      <th>...</th>\n",
       "      <th>streaming_tv_Yes</th>\n",
       "      <th>streaming_movies_No internet service</th>\n",
       "      <th>streaming_movies_Yes</th>\n",
       "      <th>contract_type_One year</th>\n",
       "      <th>contract_type_Two year</th>\n",
       "      <th>internet_service_type_Fiber optic</th>\n",
       "      <th>internet_service_type_None</th>\n",
       "      <th>payment_type_Credit card (automatic)</th>\n",
       "      <th>payment_type_Electronic check</th>\n",
       "      <th>payment_type_Mailed check</th>\n",
       "    </tr>\n",
       "  </thead>\n",
       "  <tbody>\n",
       "    <tr>\n",
       "      <th>3311</th>\n",
       "      <td>1</td>\n",
       "      <td>0</td>\n",
       "      <td>0</td>\n",
       "      <td>1</td>\n",
       "      <td>0</td>\n",
       "      <td>0</td>\n",
       "      <td>0</td>\n",
       "      <td>0</td>\n",
       "      <td>1</td>\n",
       "      <td>0</td>\n",
       "      <td>...</td>\n",
       "      <td>0</td>\n",
       "      <td>1</td>\n",
       "      <td>0</td>\n",
       "      <td>1</td>\n",
       "      <td>0</td>\n",
       "      <td>0</td>\n",
       "      <td>1</td>\n",
       "      <td>0</td>\n",
       "      <td>0</td>\n",
       "      <td>1</td>\n",
       "    </tr>\n",
       "    <tr>\n",
       "      <th>6330</th>\n",
       "      <td>0</td>\n",
       "      <td>1</td>\n",
       "      <td>1</td>\n",
       "      <td>1</td>\n",
       "      <td>0</td>\n",
       "      <td>0</td>\n",
       "      <td>0</td>\n",
       "      <td>1</td>\n",
       "      <td>1</td>\n",
       "      <td>0</td>\n",
       "      <td>...</td>\n",
       "      <td>0</td>\n",
       "      <td>1</td>\n",
       "      <td>0</td>\n",
       "      <td>0</td>\n",
       "      <td>1</td>\n",
       "      <td>0</td>\n",
       "      <td>1</td>\n",
       "      <td>1</td>\n",
       "      <td>0</td>\n",
       "      <td>0</td>\n",
       "    </tr>\n",
       "    <tr>\n",
       "      <th>6156</th>\n",
       "      <td>0</td>\n",
       "      <td>0</td>\n",
       "      <td>0</td>\n",
       "      <td>1</td>\n",
       "      <td>0</td>\n",
       "      <td>0</td>\n",
       "      <td>0</td>\n",
       "      <td>0</td>\n",
       "      <td>0</td>\n",
       "      <td>0</td>\n",
       "      <td>...</td>\n",
       "      <td>0</td>\n",
       "      <td>0</td>\n",
       "      <td>0</td>\n",
       "      <td>0</td>\n",
       "      <td>0</td>\n",
       "      <td>0</td>\n",
       "      <td>0</td>\n",
       "      <td>0</td>\n",
       "      <td>1</td>\n",
       "      <td>0</td>\n",
       "    </tr>\n",
       "    <tr>\n",
       "      <th>5313</th>\n",
       "      <td>0</td>\n",
       "      <td>0</td>\n",
       "      <td>0</td>\n",
       "      <td>1</td>\n",
       "      <td>0</td>\n",
       "      <td>0</td>\n",
       "      <td>0</td>\n",
       "      <td>0</td>\n",
       "      <td>0</td>\n",
       "      <td>0</td>\n",
       "      <td>...</td>\n",
       "      <td>0</td>\n",
       "      <td>0</td>\n",
       "      <td>0</td>\n",
       "      <td>0</td>\n",
       "      <td>0</td>\n",
       "      <td>1</td>\n",
       "      <td>0</td>\n",
       "      <td>0</td>\n",
       "      <td>1</td>\n",
       "      <td>0</td>\n",
       "    </tr>\n",
       "    <tr>\n",
       "      <th>1176</th>\n",
       "      <td>1</td>\n",
       "      <td>1</td>\n",
       "      <td>0</td>\n",
       "      <td>1</td>\n",
       "      <td>0</td>\n",
       "      <td>0</td>\n",
       "      <td>0</td>\n",
       "      <td>0</td>\n",
       "      <td>0</td>\n",
       "      <td>0</td>\n",
       "      <td>...</td>\n",
       "      <td>0</td>\n",
       "      <td>0</td>\n",
       "      <td>0</td>\n",
       "      <td>0</td>\n",
       "      <td>0</td>\n",
       "      <td>0</td>\n",
       "      <td>0</td>\n",
       "      <td>0</td>\n",
       "      <td>0</td>\n",
       "      <td>0</td>\n",
       "    </tr>\n",
       "  </tbody>\n",
       "</table>\n",
       "<p>5 rows × 32 columns</p>\n",
       "</div>"
      ],
      "text/plain": [
       "      gender_encoded  partner_encoded  dependents_encoded  \\\n",
       "3311               1                0                   0   \n",
       "6330               0                1                   1   \n",
       "6156               0                0                   0   \n",
       "5313               0                0                   0   \n",
       "1176               1                1                   0   \n",
       "\n",
       "      phone_service_encoded  paperless_billing_encoded  churn_encoded  \\\n",
       "3311                      1                          0              0   \n",
       "6330                      1                          0              0   \n",
       "6156                      1                          0              0   \n",
       "5313                      1                          0              0   \n",
       "1176                      1                          0              0   \n",
       "\n",
       "      multiple_lines_No phone service  multiple_lines_Yes  \\\n",
       "3311                                0                   0   \n",
       "6330                                0                   1   \n",
       "6156                                0                   0   \n",
       "5313                                0                   0   \n",
       "1176                                0                   0   \n",
       "\n",
       "      online_security_No internet service  online_security_Yes  ...  \\\n",
       "3311                                    1                    0  ...   \n",
       "6330                                    1                    0  ...   \n",
       "6156                                    0                    0  ...   \n",
       "5313                                    0                    0  ...   \n",
       "1176                                    0                    0  ...   \n",
       "\n",
       "      streaming_tv_Yes  streaming_movies_No internet service  \\\n",
       "3311                 0                                     1   \n",
       "6330                 0                                     1   \n",
       "6156                 0                                     0   \n",
       "5313                 0                                     0   \n",
       "1176                 0                                     0   \n",
       "\n",
       "      streaming_movies_Yes  contract_type_One year  contract_type_Two year  \\\n",
       "3311                     0                       1                       0   \n",
       "6330                     0                       0                       1   \n",
       "6156                     0                       0                       0   \n",
       "5313                     0                       0                       0   \n",
       "1176                     0                       0                       0   \n",
       "\n",
       "      internet_service_type_Fiber optic  internet_service_type_None  \\\n",
       "3311                                  0                           1   \n",
       "6330                                  0                           1   \n",
       "6156                                  0                           0   \n",
       "5313                                  1                           0   \n",
       "1176                                  0                           0   \n",
       "\n",
       "      payment_type_Credit card (automatic)  payment_type_Electronic check  \\\n",
       "3311                                     0                              0   \n",
       "6330                                     1                              0   \n",
       "6156                                     0                              1   \n",
       "5313                                     0                              1   \n",
       "1176                                     0                              0   \n",
       "\n",
       "      payment_type_Mailed check  \n",
       "3311                          1  \n",
       "6330                          0  \n",
       "6156                          0  \n",
       "5313                          0  \n",
       "1176                          0  \n",
       "\n",
       "[5 rows x 32 columns]"
      ]
     },
     "execution_count": 161,
     "metadata": {},
     "output_type": "execute_result"
    }
   ],
   "source": [
    "# I am going to first drop all the non numeric columns\n",
    "\n",
    "non_num = ['gender',\n",
    " 'senior_citizen',\n",
    " 'partner',\n",
    " 'dependents',\n",
    " 'tenure',\n",
    " 'phone_service',\n",
    " 'multiple_lines',\n",
    " 'online_security',\n",
    " 'online_backup',\n",
    " 'device_protection',\n",
    " 'tech_support',\n",
    " 'streaming_tv',\n",
    " 'streaming_movies',\n",
    " 'paperless_billing',\n",
    " 'monthly_charges',\n",
    " 'total_charges',\n",
    " 'churn',\n",
    " 'contract_type',\n",
    " 'internet_service_type',\n",
    " 'payment_type',\n",
    " 'binned_tenure']\n",
    "\n",
    "train = train.drop(columns=non_num)\n",
    "train.head()\n",
    "validate = validate.drop(columns=non_num)\n",
    "validate.head()\n",
    "test = test.drop(columns=non_num)\n",
    "test.head()"
   ]
  },
  {
   "cell_type": "code",
   "execution_count": 164,
   "id": "5200fb79",
   "metadata": {},
   "outputs": [],
   "source": [
    "# create X & y version of train, where y is a series with just the target variable\n",
    "# and X are all the features that I have selected. \n",
    "\n",
    "cols_to_drop = ['partner_encoded',\n",
    "                'dependents_encoded',\n",
    "                'phone_service_encoded',\n",
    "                'paperless_billing_encoded',\n",
    "                'multiple_lines_No phone service',\n",
    "                'multiple_lines_Yes',\n",
    "                'online_security_No internet service',\n",
    "                'online_security_Yes',\n",
    "                'online_backup_No internet service',\n",
    "                'online_backup_Yes',\n",
    "                'device_protection_No internet service',\n",
    "                'device_protection_Yes',\n",
    "                'tech_support_No internet service',\n",
    "                'tech_support_Yes',\n",
    "                'streaming_tv_No internet service',\n",
    "                'streaming_tv_Yes',\n",
    "                'streaming_movies_No internet service',\n",
    "                'streaming_movies_Yes',\n",
    "                'internet_service_type_Fiber optic',\n",
    "                'payment_type_Credit card (automatic)',\n",
    "                'payment_type_Electronic check',\n",
    "                'payment_type_Mailed check']\n",
    "\n",
    "\n",
    "train = train.drop(columns=cols_to_drop)\n",
    "validate = validate.drop(columns=cols_to_drop)\n",
    "test = test.drop(columns=cols_to_drop)"
   ]
  },
  {
   "cell_type": "code",
   "execution_count": 167,
   "id": "8032d155",
   "metadata": {},
   "outputs": [
    {
     "data": {
      "text/html": [
       "<div>\n",
       "<style scoped>\n",
       "    .dataframe tbody tr th:only-of-type {\n",
       "        vertical-align: middle;\n",
       "    }\n",
       "\n",
       "    .dataframe tbody tr th {\n",
       "        vertical-align: top;\n",
       "    }\n",
       "\n",
       "    .dataframe thead th {\n",
       "        text-align: right;\n",
       "    }\n",
       "</style>\n",
       "<table border=\"1\" class=\"dataframe\">\n",
       "  <thead>\n",
       "    <tr style=\"text-align: right;\">\n",
       "      <th></th>\n",
       "      <th>gender_encoded</th>\n",
       "      <th>churn_encoded</th>\n",
       "      <th>binned_tenure_2years</th>\n",
       "      <th>binned_tenure_3years</th>\n",
       "      <th>binned_tenure_4years</th>\n",
       "      <th>binned_tenure_5years</th>\n",
       "      <th>binned_tenure_6years</th>\n",
       "      <th>contract_type_One year</th>\n",
       "      <th>contract_type_Two year</th>\n",
       "      <th>internet_service_type_None</th>\n",
       "    </tr>\n",
       "  </thead>\n",
       "  <tbody>\n",
       "    <tr>\n",
       "      <th>5919</th>\n",
       "      <td>1</td>\n",
       "      <td>0</td>\n",
       "      <td>0</td>\n",
       "      <td>0</td>\n",
       "      <td>0</td>\n",
       "      <td>1</td>\n",
       "      <td>0</td>\n",
       "      <td>1</td>\n",
       "      <td>0</td>\n",
       "      <td>0</td>\n",
       "    </tr>\n",
       "    <tr>\n",
       "      <th>1915</th>\n",
       "      <td>0</td>\n",
       "      <td>0</td>\n",
       "      <td>0</td>\n",
       "      <td>0</td>\n",
       "      <td>0</td>\n",
       "      <td>0</td>\n",
       "      <td>1</td>\n",
       "      <td>1</td>\n",
       "      <td>0</td>\n",
       "      <td>0</td>\n",
       "    </tr>\n",
       "    <tr>\n",
       "      <th>5054</th>\n",
       "      <td>1</td>\n",
       "      <td>0</td>\n",
       "      <td>0</td>\n",
       "      <td>1</td>\n",
       "      <td>0</td>\n",
       "      <td>0</td>\n",
       "      <td>0</td>\n",
       "      <td>0</td>\n",
       "      <td>0</td>\n",
       "      <td>1</td>\n",
       "    </tr>\n",
       "    <tr>\n",
       "      <th>2355</th>\n",
       "      <td>0</td>\n",
       "      <td>0</td>\n",
       "      <td>0</td>\n",
       "      <td>0</td>\n",
       "      <td>0</td>\n",
       "      <td>0</td>\n",
       "      <td>0</td>\n",
       "      <td>0</td>\n",
       "      <td>0</td>\n",
       "      <td>1</td>\n",
       "    </tr>\n",
       "    <tr>\n",
       "      <th>6279</th>\n",
       "      <td>0</td>\n",
       "      <td>0</td>\n",
       "      <td>1</td>\n",
       "      <td>0</td>\n",
       "      <td>0</td>\n",
       "      <td>0</td>\n",
       "      <td>0</td>\n",
       "      <td>1</td>\n",
       "      <td>0</td>\n",
       "      <td>0</td>\n",
       "    </tr>\n",
       "  </tbody>\n",
       "</table>\n",
       "</div>"
      ],
      "text/plain": [
       "      gender_encoded  churn_encoded  binned_tenure_2years  \\\n",
       "5919               1              0                     0   \n",
       "1915               0              0                     0   \n",
       "5054               1              0                     0   \n",
       "2355               0              0                     0   \n",
       "6279               0              0                     1   \n",
       "\n",
       "      binned_tenure_3years  binned_tenure_4years  binned_tenure_5years  \\\n",
       "5919                     0                     0                     1   \n",
       "1915                     0                     0                     0   \n",
       "5054                     1                     0                     0   \n",
       "2355                     0                     0                     0   \n",
       "6279                     0                     0                     0   \n",
       "\n",
       "      binned_tenure_6years  contract_type_One year  contract_type_Two year  \\\n",
       "5919                     0                       1                       0   \n",
       "1915                     1                       1                       0   \n",
       "5054                     0                       0                       0   \n",
       "2355                     0                       0                       0   \n",
       "6279                     0                       1                       0   \n",
       "\n",
       "      internet_service_type_None  \n",
       "5919                           0  \n",
       "1915                           0  \n",
       "5054                           1  \n",
       "2355                           1  \n",
       "6279                           0  "
      ]
     },
     "execution_count": 167,
     "metadata": {},
     "output_type": "execute_result"
    }
   ],
   "source": [
    "train.head()"
   ]
  },
  {
   "cell_type": "code",
   "execution_count": 168,
   "id": "56e0bff3",
   "metadata": {},
   "outputs": [
    {
     "data": {
      "text/html": [
       "<div>\n",
       "<style scoped>\n",
       "    .dataframe tbody tr th:only-of-type {\n",
       "        vertical-align: middle;\n",
       "    }\n",
       "\n",
       "    .dataframe tbody tr th {\n",
       "        vertical-align: top;\n",
       "    }\n",
       "\n",
       "    .dataframe thead th {\n",
       "        text-align: right;\n",
       "    }\n",
       "</style>\n",
       "<table border=\"1\" class=\"dataframe\">\n",
       "  <thead>\n",
       "    <tr style=\"text-align: right;\">\n",
       "      <th></th>\n",
       "      <th>gender_encoded</th>\n",
       "      <th>churn_encoded</th>\n",
       "      <th>binned_tenure_2years</th>\n",
       "      <th>binned_tenure_3years</th>\n",
       "      <th>binned_tenure_4years</th>\n",
       "      <th>binned_tenure_5years</th>\n",
       "      <th>binned_tenure_6years</th>\n",
       "      <th>contract_type_One year</th>\n",
       "      <th>contract_type_Two year</th>\n",
       "      <th>internet_service_type_None</th>\n",
       "    </tr>\n",
       "  </thead>\n",
       "  <tbody>\n",
       "    <tr>\n",
       "      <th>816</th>\n",
       "      <td>1</td>\n",
       "      <td>0</td>\n",
       "      <td>0</td>\n",
       "      <td>1</td>\n",
       "      <td>0</td>\n",
       "      <td>0</td>\n",
       "      <td>0</td>\n",
       "      <td>0</td>\n",
       "      <td>0</td>\n",
       "      <td>0</td>\n",
       "    </tr>\n",
       "    <tr>\n",
       "      <th>1488</th>\n",
       "      <td>1</td>\n",
       "      <td>0</td>\n",
       "      <td>0</td>\n",
       "      <td>0</td>\n",
       "      <td>0</td>\n",
       "      <td>0</td>\n",
       "      <td>1</td>\n",
       "      <td>0</td>\n",
       "      <td>1</td>\n",
       "      <td>0</td>\n",
       "    </tr>\n",
       "    <tr>\n",
       "      <th>4796</th>\n",
       "      <td>0</td>\n",
       "      <td>0</td>\n",
       "      <td>0</td>\n",
       "      <td>0</td>\n",
       "      <td>1</td>\n",
       "      <td>0</td>\n",
       "      <td>0</td>\n",
       "      <td>1</td>\n",
       "      <td>0</td>\n",
       "      <td>0</td>\n",
       "    </tr>\n",
       "    <tr>\n",
       "      <th>3213</th>\n",
       "      <td>1</td>\n",
       "      <td>0</td>\n",
       "      <td>0</td>\n",
       "      <td>1</td>\n",
       "      <td>0</td>\n",
       "      <td>0</td>\n",
       "      <td>0</td>\n",
       "      <td>0</td>\n",
       "      <td>1</td>\n",
       "      <td>1</td>\n",
       "    </tr>\n",
       "    <tr>\n",
       "      <th>5026</th>\n",
       "      <td>0</td>\n",
       "      <td>0</td>\n",
       "      <td>0</td>\n",
       "      <td>0</td>\n",
       "      <td>0</td>\n",
       "      <td>0</td>\n",
       "      <td>1</td>\n",
       "      <td>0</td>\n",
       "      <td>1</td>\n",
       "      <td>1</td>\n",
       "    </tr>\n",
       "  </tbody>\n",
       "</table>\n",
       "</div>"
      ],
      "text/plain": [
       "      gender_encoded  churn_encoded  binned_tenure_2years  \\\n",
       "816                1              0                     0   \n",
       "1488               1              0                     0   \n",
       "4796               0              0                     0   \n",
       "3213               1              0                     0   \n",
       "5026               0              0                     0   \n",
       "\n",
       "      binned_tenure_3years  binned_tenure_4years  binned_tenure_5years  \\\n",
       "816                      1                     0                     0   \n",
       "1488                     0                     0                     0   \n",
       "4796                     0                     1                     0   \n",
       "3213                     1                     0                     0   \n",
       "5026                     0                     0                     0   \n",
       "\n",
       "      binned_tenure_6years  contract_type_One year  contract_type_Two year  \\\n",
       "816                      0                       0                       0   \n",
       "1488                     1                       0                       1   \n",
       "4796                     0                       1                       0   \n",
       "3213                     0                       0                       1   \n",
       "5026                     1                       0                       1   \n",
       "\n",
       "      internet_service_type_None  \n",
       "816                            0  \n",
       "1488                           0  \n",
       "4796                           0  \n",
       "3213                           1  \n",
       "5026                           1  "
      ]
     },
     "execution_count": 168,
     "metadata": {},
     "output_type": "execute_result"
    }
   ],
   "source": [
    "validate.head()"
   ]
  },
  {
   "cell_type": "code",
   "execution_count": 169,
   "id": "db998591",
   "metadata": {
    "scrolled": true
   },
   "outputs": [
    {
     "data": {
      "text/html": [
       "<div>\n",
       "<style scoped>\n",
       "    .dataframe tbody tr th:only-of-type {\n",
       "        vertical-align: middle;\n",
       "    }\n",
       "\n",
       "    .dataframe tbody tr th {\n",
       "        vertical-align: top;\n",
       "    }\n",
       "\n",
       "    .dataframe thead th {\n",
       "        text-align: right;\n",
       "    }\n",
       "</style>\n",
       "<table border=\"1\" class=\"dataframe\">\n",
       "  <thead>\n",
       "    <tr style=\"text-align: right;\">\n",
       "      <th></th>\n",
       "      <th>gender_encoded</th>\n",
       "      <th>churn_encoded</th>\n",
       "      <th>binned_tenure_2years</th>\n",
       "      <th>binned_tenure_3years</th>\n",
       "      <th>binned_tenure_4years</th>\n",
       "      <th>binned_tenure_5years</th>\n",
       "      <th>binned_tenure_6years</th>\n",
       "      <th>contract_type_One year</th>\n",
       "      <th>contract_type_Two year</th>\n",
       "      <th>internet_service_type_None</th>\n",
       "    </tr>\n",
       "  </thead>\n",
       "  <tbody>\n",
       "    <tr>\n",
       "      <th>3311</th>\n",
       "      <td>1</td>\n",
       "      <td>0</td>\n",
       "      <td>0</td>\n",
       "      <td>1</td>\n",
       "      <td>0</td>\n",
       "      <td>0</td>\n",
       "      <td>0</td>\n",
       "      <td>1</td>\n",
       "      <td>0</td>\n",
       "      <td>1</td>\n",
       "    </tr>\n",
       "    <tr>\n",
       "      <th>6330</th>\n",
       "      <td>0</td>\n",
       "      <td>0</td>\n",
       "      <td>0</td>\n",
       "      <td>1</td>\n",
       "      <td>0</td>\n",
       "      <td>0</td>\n",
       "      <td>0</td>\n",
       "      <td>0</td>\n",
       "      <td>1</td>\n",
       "      <td>1</td>\n",
       "    </tr>\n",
       "    <tr>\n",
       "      <th>6156</th>\n",
       "      <td>0</td>\n",
       "      <td>0</td>\n",
       "      <td>0</td>\n",
       "      <td>0</td>\n",
       "      <td>0</td>\n",
       "      <td>0</td>\n",
       "      <td>0</td>\n",
       "      <td>0</td>\n",
       "      <td>0</td>\n",
       "      <td>0</td>\n",
       "    </tr>\n",
       "    <tr>\n",
       "      <th>5313</th>\n",
       "      <td>0</td>\n",
       "      <td>0</td>\n",
       "      <td>0</td>\n",
       "      <td>1</td>\n",
       "      <td>0</td>\n",
       "      <td>0</td>\n",
       "      <td>0</td>\n",
       "      <td>0</td>\n",
       "      <td>0</td>\n",
       "      <td>0</td>\n",
       "    </tr>\n",
       "    <tr>\n",
       "      <th>1176</th>\n",
       "      <td>1</td>\n",
       "      <td>0</td>\n",
       "      <td>0</td>\n",
       "      <td>1</td>\n",
       "      <td>0</td>\n",
       "      <td>0</td>\n",
       "      <td>0</td>\n",
       "      <td>0</td>\n",
       "      <td>0</td>\n",
       "      <td>0</td>\n",
       "    </tr>\n",
       "  </tbody>\n",
       "</table>\n",
       "</div>"
      ],
      "text/plain": [
       "      gender_encoded  churn_encoded  binned_tenure_2years  \\\n",
       "3311               1              0                     0   \n",
       "6330               0              0                     0   \n",
       "6156               0              0                     0   \n",
       "5313               0              0                     0   \n",
       "1176               1              0                     0   \n",
       "\n",
       "      binned_tenure_3years  binned_tenure_4years  binned_tenure_5years  \\\n",
       "3311                     1                     0                     0   \n",
       "6330                     1                     0                     0   \n",
       "6156                     0                     0                     0   \n",
       "5313                     1                     0                     0   \n",
       "1176                     1                     0                     0   \n",
       "\n",
       "      binned_tenure_6years  contract_type_One year  contract_type_Two year  \\\n",
       "3311                     0                       1                       0   \n",
       "6330                     0                       0                       1   \n",
       "6156                     0                       0                       0   \n",
       "5313                     0                       0                       0   \n",
       "1176                     0                       0                       0   \n",
       "\n",
       "      internet_service_type_None  \n",
       "3311                           1  \n",
       "6330                           1  \n",
       "6156                           0  \n",
       "5313                           0  \n",
       "1176                           0  "
      ]
     },
     "execution_count": 169,
     "metadata": {},
     "output_type": "execute_result"
    }
   ],
   "source": [
    "test.head()"
   ]
  },
  {
   "cell_type": "code",
   "execution_count": 170,
   "id": "463b85a6",
   "metadata": {},
   "outputs": [],
   "source": [
    "cols_to_drop = ['gender_encoded']\n",
    "\n",
    "train = train.drop(columns=cols_to_drop)\n",
    "validate = validate.drop(columns=cols_to_drop)\n",
    "test = test.drop(columns=cols_to_drop)"
   ]
  },
  {
   "cell_type": "code",
   "execution_count": 171,
   "id": "327e44d3",
   "metadata": {},
   "outputs": [
    {
     "data": {
      "text/html": [
       "<div>\n",
       "<style scoped>\n",
       "    .dataframe tbody tr th:only-of-type {\n",
       "        vertical-align: middle;\n",
       "    }\n",
       "\n",
       "    .dataframe tbody tr th {\n",
       "        vertical-align: top;\n",
       "    }\n",
       "\n",
       "    .dataframe thead th {\n",
       "        text-align: right;\n",
       "    }\n",
       "</style>\n",
       "<table border=\"1\" class=\"dataframe\">\n",
       "  <thead>\n",
       "    <tr style=\"text-align: right;\">\n",
       "      <th></th>\n",
       "      <th>churn_encoded</th>\n",
       "      <th>binned_tenure_2years</th>\n",
       "      <th>binned_tenure_3years</th>\n",
       "      <th>binned_tenure_4years</th>\n",
       "      <th>binned_tenure_5years</th>\n",
       "      <th>binned_tenure_6years</th>\n",
       "      <th>contract_type_One year</th>\n",
       "      <th>contract_type_Two year</th>\n",
       "      <th>internet_service_type_None</th>\n",
       "    </tr>\n",
       "  </thead>\n",
       "  <tbody>\n",
       "    <tr>\n",
       "      <th>5919</th>\n",
       "      <td>0</td>\n",
       "      <td>0</td>\n",
       "      <td>0</td>\n",
       "      <td>0</td>\n",
       "      <td>1</td>\n",
       "      <td>0</td>\n",
       "      <td>1</td>\n",
       "      <td>0</td>\n",
       "      <td>0</td>\n",
       "    </tr>\n",
       "    <tr>\n",
       "      <th>1915</th>\n",
       "      <td>0</td>\n",
       "      <td>0</td>\n",
       "      <td>0</td>\n",
       "      <td>0</td>\n",
       "      <td>0</td>\n",
       "      <td>1</td>\n",
       "      <td>1</td>\n",
       "      <td>0</td>\n",
       "      <td>0</td>\n",
       "    </tr>\n",
       "    <tr>\n",
       "      <th>5054</th>\n",
       "      <td>0</td>\n",
       "      <td>0</td>\n",
       "      <td>1</td>\n",
       "      <td>0</td>\n",
       "      <td>0</td>\n",
       "      <td>0</td>\n",
       "      <td>0</td>\n",
       "      <td>0</td>\n",
       "      <td>1</td>\n",
       "    </tr>\n",
       "    <tr>\n",
       "      <th>2355</th>\n",
       "      <td>0</td>\n",
       "      <td>0</td>\n",
       "      <td>0</td>\n",
       "      <td>0</td>\n",
       "      <td>0</td>\n",
       "      <td>0</td>\n",
       "      <td>0</td>\n",
       "      <td>0</td>\n",
       "      <td>1</td>\n",
       "    </tr>\n",
       "    <tr>\n",
       "      <th>6279</th>\n",
       "      <td>0</td>\n",
       "      <td>1</td>\n",
       "      <td>0</td>\n",
       "      <td>0</td>\n",
       "      <td>0</td>\n",
       "      <td>0</td>\n",
       "      <td>1</td>\n",
       "      <td>0</td>\n",
       "      <td>0</td>\n",
       "    </tr>\n",
       "  </tbody>\n",
       "</table>\n",
       "</div>"
      ],
      "text/plain": [
       "      churn_encoded  binned_tenure_2years  binned_tenure_3years  \\\n",
       "5919              0                     0                     0   \n",
       "1915              0                     0                     0   \n",
       "5054              0                     0                     1   \n",
       "2355              0                     0                     0   \n",
       "6279              0                     1                     0   \n",
       "\n",
       "      binned_tenure_4years  binned_tenure_5years  binned_tenure_6years  \\\n",
       "5919                     0                     1                     0   \n",
       "1915                     0                     0                     1   \n",
       "5054                     0                     0                     0   \n",
       "2355                     0                     0                     0   \n",
       "6279                     0                     0                     0   \n",
       "\n",
       "      contract_type_One year  contract_type_Two year  \\\n",
       "5919                       1                       0   \n",
       "1915                       1                       0   \n",
       "5054                       0                       0   \n",
       "2355                       0                       0   \n",
       "6279                       1                       0   \n",
       "\n",
       "      internet_service_type_None  \n",
       "5919                           0  \n",
       "1915                           0  \n",
       "5054                           1  \n",
       "2355                           1  \n",
       "6279                           0  "
      ]
     },
     "execution_count": 171,
     "metadata": {},
     "output_type": "execute_result"
    }
   ],
   "source": [
    "train.head()"
   ]
  },
  {
   "cell_type": "code",
   "execution_count": 172,
   "id": "59d0d5bd",
   "metadata": {},
   "outputs": [
    {
     "data": {
      "text/html": [
       "<div>\n",
       "<style scoped>\n",
       "    .dataframe tbody tr th:only-of-type {\n",
       "        vertical-align: middle;\n",
       "    }\n",
       "\n",
       "    .dataframe tbody tr th {\n",
       "        vertical-align: top;\n",
       "    }\n",
       "\n",
       "    .dataframe thead th {\n",
       "        text-align: right;\n",
       "    }\n",
       "</style>\n",
       "<table border=\"1\" class=\"dataframe\">\n",
       "  <thead>\n",
       "    <tr style=\"text-align: right;\">\n",
       "      <th></th>\n",
       "      <th>churn_encoded</th>\n",
       "      <th>binned_tenure_2years</th>\n",
       "      <th>binned_tenure_3years</th>\n",
       "      <th>binned_tenure_4years</th>\n",
       "      <th>binned_tenure_5years</th>\n",
       "      <th>binned_tenure_6years</th>\n",
       "      <th>contract_type_One year</th>\n",
       "      <th>contract_type_Two year</th>\n",
       "      <th>internet_service_type_None</th>\n",
       "    </tr>\n",
       "  </thead>\n",
       "  <tbody>\n",
       "    <tr>\n",
       "      <th>816</th>\n",
       "      <td>0</td>\n",
       "      <td>0</td>\n",
       "      <td>1</td>\n",
       "      <td>0</td>\n",
       "      <td>0</td>\n",
       "      <td>0</td>\n",
       "      <td>0</td>\n",
       "      <td>0</td>\n",
       "      <td>0</td>\n",
       "    </tr>\n",
       "    <tr>\n",
       "      <th>1488</th>\n",
       "      <td>0</td>\n",
       "      <td>0</td>\n",
       "      <td>0</td>\n",
       "      <td>0</td>\n",
       "      <td>0</td>\n",
       "      <td>1</td>\n",
       "      <td>0</td>\n",
       "      <td>1</td>\n",
       "      <td>0</td>\n",
       "    </tr>\n",
       "    <tr>\n",
       "      <th>4796</th>\n",
       "      <td>0</td>\n",
       "      <td>0</td>\n",
       "      <td>0</td>\n",
       "      <td>1</td>\n",
       "      <td>0</td>\n",
       "      <td>0</td>\n",
       "      <td>1</td>\n",
       "      <td>0</td>\n",
       "      <td>0</td>\n",
       "    </tr>\n",
       "    <tr>\n",
       "      <th>3213</th>\n",
       "      <td>0</td>\n",
       "      <td>0</td>\n",
       "      <td>1</td>\n",
       "      <td>0</td>\n",
       "      <td>0</td>\n",
       "      <td>0</td>\n",
       "      <td>0</td>\n",
       "      <td>1</td>\n",
       "      <td>1</td>\n",
       "    </tr>\n",
       "    <tr>\n",
       "      <th>5026</th>\n",
       "      <td>0</td>\n",
       "      <td>0</td>\n",
       "      <td>0</td>\n",
       "      <td>0</td>\n",
       "      <td>0</td>\n",
       "      <td>1</td>\n",
       "      <td>0</td>\n",
       "      <td>1</td>\n",
       "      <td>1</td>\n",
       "    </tr>\n",
       "  </tbody>\n",
       "</table>\n",
       "</div>"
      ],
      "text/plain": [
       "      churn_encoded  binned_tenure_2years  binned_tenure_3years  \\\n",
       "816               0                     0                     1   \n",
       "1488              0                     0                     0   \n",
       "4796              0                     0                     0   \n",
       "3213              0                     0                     1   \n",
       "5026              0                     0                     0   \n",
       "\n",
       "      binned_tenure_4years  binned_tenure_5years  binned_tenure_6years  \\\n",
       "816                      0                     0                     0   \n",
       "1488                     0                     0                     1   \n",
       "4796                     1                     0                     0   \n",
       "3213                     0                     0                     0   \n",
       "5026                     0                     0                     1   \n",
       "\n",
       "      contract_type_One year  contract_type_Two year  \\\n",
       "816                        0                       0   \n",
       "1488                       0                       1   \n",
       "4796                       1                       0   \n",
       "3213                       0                       1   \n",
       "5026                       0                       1   \n",
       "\n",
       "      internet_service_type_None  \n",
       "816                            0  \n",
       "1488                           0  \n",
       "4796                           0  \n",
       "3213                           1  \n",
       "5026                           1  "
      ]
     },
     "execution_count": 172,
     "metadata": {},
     "output_type": "execute_result"
    }
   ],
   "source": [
    "validate.head()"
   ]
  },
  {
   "cell_type": "code",
   "execution_count": 173,
   "id": "25680dee",
   "metadata": {},
   "outputs": [
    {
     "data": {
      "text/html": [
       "<div>\n",
       "<style scoped>\n",
       "    .dataframe tbody tr th:only-of-type {\n",
       "        vertical-align: middle;\n",
       "    }\n",
       "\n",
       "    .dataframe tbody tr th {\n",
       "        vertical-align: top;\n",
       "    }\n",
       "\n",
       "    .dataframe thead th {\n",
       "        text-align: right;\n",
       "    }\n",
       "</style>\n",
       "<table border=\"1\" class=\"dataframe\">\n",
       "  <thead>\n",
       "    <tr style=\"text-align: right;\">\n",
       "      <th></th>\n",
       "      <th>churn_encoded</th>\n",
       "      <th>binned_tenure_2years</th>\n",
       "      <th>binned_tenure_3years</th>\n",
       "      <th>binned_tenure_4years</th>\n",
       "      <th>binned_tenure_5years</th>\n",
       "      <th>binned_tenure_6years</th>\n",
       "      <th>contract_type_One year</th>\n",
       "      <th>contract_type_Two year</th>\n",
       "      <th>internet_service_type_None</th>\n",
       "    </tr>\n",
       "  </thead>\n",
       "  <tbody>\n",
       "    <tr>\n",
       "      <th>3311</th>\n",
       "      <td>0</td>\n",
       "      <td>0</td>\n",
       "      <td>1</td>\n",
       "      <td>0</td>\n",
       "      <td>0</td>\n",
       "      <td>0</td>\n",
       "      <td>1</td>\n",
       "      <td>0</td>\n",
       "      <td>1</td>\n",
       "    </tr>\n",
       "    <tr>\n",
       "      <th>6330</th>\n",
       "      <td>0</td>\n",
       "      <td>0</td>\n",
       "      <td>1</td>\n",
       "      <td>0</td>\n",
       "      <td>0</td>\n",
       "      <td>0</td>\n",
       "      <td>0</td>\n",
       "      <td>1</td>\n",
       "      <td>1</td>\n",
       "    </tr>\n",
       "    <tr>\n",
       "      <th>6156</th>\n",
       "      <td>0</td>\n",
       "      <td>0</td>\n",
       "      <td>0</td>\n",
       "      <td>0</td>\n",
       "      <td>0</td>\n",
       "      <td>0</td>\n",
       "      <td>0</td>\n",
       "      <td>0</td>\n",
       "      <td>0</td>\n",
       "    </tr>\n",
       "    <tr>\n",
       "      <th>5313</th>\n",
       "      <td>0</td>\n",
       "      <td>0</td>\n",
       "      <td>1</td>\n",
       "      <td>0</td>\n",
       "      <td>0</td>\n",
       "      <td>0</td>\n",
       "      <td>0</td>\n",
       "      <td>0</td>\n",
       "      <td>0</td>\n",
       "    </tr>\n",
       "    <tr>\n",
       "      <th>1176</th>\n",
       "      <td>0</td>\n",
       "      <td>0</td>\n",
       "      <td>1</td>\n",
       "      <td>0</td>\n",
       "      <td>0</td>\n",
       "      <td>0</td>\n",
       "      <td>0</td>\n",
       "      <td>0</td>\n",
       "      <td>0</td>\n",
       "    </tr>\n",
       "  </tbody>\n",
       "</table>\n",
       "</div>"
      ],
      "text/plain": [
       "      churn_encoded  binned_tenure_2years  binned_tenure_3years  \\\n",
       "3311              0                     0                     1   \n",
       "6330              0                     0                     1   \n",
       "6156              0                     0                     0   \n",
       "5313              0                     0                     1   \n",
       "1176              0                     0                     1   \n",
       "\n",
       "      binned_tenure_4years  binned_tenure_5years  binned_tenure_6years  \\\n",
       "3311                     0                     0                     0   \n",
       "6330                     0                     0                     0   \n",
       "6156                     0                     0                     0   \n",
       "5313                     0                     0                     0   \n",
       "1176                     0                     0                     0   \n",
       "\n",
       "      contract_type_One year  contract_type_Two year  \\\n",
       "3311                       1                       0   \n",
       "6330                       0                       1   \n",
       "6156                       0                       0   \n",
       "5313                       0                       0   \n",
       "1176                       0                       0   \n",
       "\n",
       "      internet_service_type_None  \n",
       "3311                           1  \n",
       "6330                           1  \n",
       "6156                           0  \n",
       "5313                           0  \n",
       "1176                           0  "
      ]
     },
     "execution_count": 173,
     "metadata": {},
     "output_type": "execute_result"
    }
   ],
   "source": [
    "test.head()"
   ]
  },
  {
   "cell_type": "code",
   "execution_count": 183,
   "id": "0434501a",
   "metadata": {},
   "outputs": [],
   "source": [
    "X_train = train.drop(columns=['churn_encoded'])\n",
    "y_train = train.churn_encoded\n",
    "\n",
    "X_validate = validate.drop(columns=['churn_encoded'])\n",
    "y_validate = validate.churn_encoded\n",
    "\n",
    "X_test = test.drop(columns=['churn_encoded'])\n",
    "y_test = test.churn_encoded"
   ]
  },
  {
   "cell_type": "code",
   "execution_count": 190,
   "id": "94756450",
   "metadata": {},
   "outputs": [
    {
     "data": {
      "text/plain": [
       "5919    0\n",
       "1915    0\n",
       "5054    0\n",
       "2355    0\n",
       "6279    0\n",
       "       ..\n",
       "394     0\n",
       "3763    1\n",
       "3444    0\n",
       "1002    0\n",
       "4192    0\n",
       "Name: churn_encoded, Length: 3937, dtype: int64"
      ]
     },
     "execution_count": 190,
     "metadata": {},
     "output_type": "execute_result"
    }
   ],
   "source": [
    "y_train"
   ]
  },
  {
   "cell_type": "markdown",
   "id": "3bf3982d",
   "metadata": {},
   "source": [
    "## Baseline"
   ]
  },
  {
   "cell_type": "code",
   "execution_count": 191,
   "id": "967a00d3",
   "metadata": {},
   "outputs": [
    {
     "data": {
      "text/html": [
       "<div>\n",
       "<style scoped>\n",
       "    .dataframe tbody tr th:only-of-type {\n",
       "        vertical-align: middle;\n",
       "    }\n",
       "\n",
       "    .dataframe tbody tr th {\n",
       "        vertical-align: top;\n",
       "    }\n",
       "\n",
       "    .dataframe thead th {\n",
       "        text-align: right;\n",
       "    }\n",
       "</style>\n",
       "<table border=\"1\" class=\"dataframe\">\n",
       "  <thead>\n",
       "    <tr style=\"text-align: right;\">\n",
       "      <th>baseline</th>\n",
       "      <th>0</th>\n",
       "    </tr>\n",
       "    <tr>\n",
       "      <th>actual</th>\n",
       "      <th></th>\n",
       "    </tr>\n",
       "  </thead>\n",
       "  <tbody>\n",
       "    <tr>\n",
       "      <th>0</th>\n",
       "      <td>2891</td>\n",
       "    </tr>\n",
       "    <tr>\n",
       "      <th>1</th>\n",
       "      <td>1046</td>\n",
       "    </tr>\n",
       "  </tbody>\n",
       "</table>\n",
       "</div>"
      ],
      "text/plain": [
       "baseline     0\n",
       "actual        \n",
       "0         2891\n",
       "1         1046"
      ]
     },
     "execution_count": 191,
     "metadata": {},
     "output_type": "execute_result"
    }
   ],
   "source": [
    "baseline_model = pd.DataFrame({'actual': y_train})\n",
    "baseline_model['baseline'] = 0\n",
    "baseline_confusion_matrix = pd.crosstab(baseline_model.actual, baseline_model.baseline)\n",
    "baseline_confusion_matrix"
   ]
  },
  {
   "cell_type": "code",
   "execution_count": 199,
   "id": "4540f36a",
   "metadata": {},
   "outputs": [
    {
     "name": "stdout",
     "output_type": "stream",
     "text": [
      "Baseline Accuracy: 73.431547%\n"
     ]
    }
   ],
   "source": [
    "baseline_accuracy = (baseline_model.baseline == baseline_model.actual).mean()\n",
    "\n",
    "print(f'Baseline Accuracy: {baseline_accuracy:10%}')"
   ]
  },
  {
   "cell_type": "code",
   "execution_count": 211,
   "id": "c0a198a1",
   "metadata": {},
   "outputs": [
    {
     "name": "stdout",
     "output_type": "stream",
     "text": [
      "DecisionTree depth 19\n",
      "\n",
      "                     0            1  accuracy    macro avg  weighted avg\n",
      "precision     0.828956     0.589226  0.774702     0.709091      0.765263\n",
      "recall        0.873400     0.501912  0.774702     0.687656      0.774702\n",
      "f1-score      0.850598     0.542075  0.774702     0.696337      0.768628\n",
      "support    2891.000000  1046.000000  0.774702  3937.000000   3937.000000\n",
      "\n",
      "=======================\n",
      "\n",
      "The Top Depth is 7\n",
      "Accuracy = 77.470155%\n"
     ]
    }
   ],
   "source": [
    "# Running several other model to see which one has the \n",
    "\n",
    "best_result = []\n",
    "for i in range(2, 20):\n",
    "    best_depth = DecisionTreeClassifier(max_depth=i, random_state=175)\n",
    "    best_depth = best_depth.fit(X_train, y_train)\n",
    "    y_pred = best_depth.predict(X_train)\n",
    "    report_i = classification_report(y_train, y_pred, output_dict=True)\n",
    "\n",
    "    best_result.append(best_depth.score(X_train, y_train))\n",
    "    best_result_accuracy = max(best_result)\n",
    "    best_result_num = best_result.index(best_result_accuracy)\n",
    "    top_train_depth = best_result_num + 1\n",
    "\n",
    "print(f'DecisionTree depth {i}\\n')\n",
    "print(pd.DataFrame(report_i))\n",
    "print('\\n=======================\\n')\n",
    "print(f'The Top Depth is {top_train_depth}')\n",
    "print(f'Accuracy = {best_result_accuracy:10%}')\n"
   ]
  },
  {
   "cell_type": "code",
   "execution_count": 213,
   "id": "88df45d9",
   "metadata": {},
   "outputs": [],
   "source": [
    "# Evaluating the in-sample result with a prediction and Calculating its probability\n",
    "\n",
    "top_depth = DecisionTreeClassifier(random_state = 1, max_depth = top_train_depth)\n",
    "top_depth.fit(X_train, y_train)\n",
    "y_pred = top_depth.predict(X_train)\n",
    "y_pred_proba = top_depth.predict_proba(X_train)"
   ]
  },
  {
   "cell_type": "code",
   "execution_count": null,
   "id": "24aeca38",
   "metadata": {},
   "outputs": [],
   "source": [
    "tp, fn, fp, tn = print_return_cm_details(y_pred2)"
   ]
  },
  {
   "cell_type": "code",
   "execution_count": 214,
   "id": "26e604fb",
   "metadata": {},
   "outputs": [
    {
     "data": {
      "text/html": [
       "<div>\n",
       "<style scoped>\n",
       "    .dataframe tbody tr th:only-of-type {\n",
       "        vertical-align: middle;\n",
       "    }\n",
       "\n",
       "    .dataframe tbody tr th {\n",
       "        vertical-align: top;\n",
       "    }\n",
       "\n",
       "    .dataframe thead th {\n",
       "        text-align: right;\n",
       "    }\n",
       "</style>\n",
       "<table border=\"1\" class=\"dataframe\">\n",
       "  <thead>\n",
       "    <tr style=\"text-align: right;\">\n",
       "      <th></th>\n",
       "      <th>0</th>\n",
       "      <th>1</th>\n",
       "    </tr>\n",
       "  </thead>\n",
       "  <tbody>\n",
       "    <tr>\n",
       "      <th>0</th>\n",
       "      <td>2424</td>\n",
       "      <td>467</td>\n",
       "    </tr>\n",
       "    <tr>\n",
       "      <th>1</th>\n",
       "      <td>452</td>\n",
       "      <td>594</td>\n",
       "    </tr>\n",
       "  </tbody>\n",
       "</table>\n",
       "</div>"
      ],
      "text/plain": [
       "      0    1\n",
       "0  2424  467\n",
       "1   452  594"
      ]
     },
     "execution_count": 214,
     "metadata": {},
     "output_type": "execute_result"
    }
   ],
   "source": [
    "# Running a classification report matrix to find out more\n",
    "\n",
    "pd.DataFrame(confusion_matrix(y_train, y_pred))"
   ]
  },
  {
   "cell_type": "code",
   "execution_count": 215,
   "id": "6c3698ed",
   "metadata": {},
   "outputs": [
    {
     "name": "stdout",
     "output_type": "stream",
     "text": [
      "              precision    recall  f1-score   support\n",
      "\n",
      "           0       0.84      0.84      0.84      2891\n",
      "           1       0.56      0.57      0.56      1046\n",
      "\n",
      "    accuracy                           0.77      3937\n",
      "   macro avg       0.70      0.70      0.70      3937\n",
      "weighted avg       0.77      0.77      0.77      3937\n",
      "\n"
     ]
    }
   ],
   "source": [
    "print(classification_report(y_train, y_pred))"
   ]
  },
  {
   "cell_type": "markdown",
   "id": "47401c29",
   "metadata": {},
   "source": [
    "# Crosscheck with validate"
   ]
  },
  {
   "cell_type": "code",
   "execution_count": 217,
   "id": "6dde0db8",
   "metadata": {
    "scrolled": true
   },
   "outputs": [
    {
     "name": "stdout",
     "output_type": "stream",
     "text": [
      "Model 2: Decision Tree\n",
      "Accuracy: 0.74\n",
      "[[1011  228]\n",
      " [ 212  237]]\n",
      "              precision    recall  f1-score   support\n",
      "\n",
      "           0       0.83      0.82      0.82      1239\n",
      "           1       0.51      0.53      0.52       449\n",
      "\n",
      "    accuracy                           0.74      1688\n",
      "   macro avg       0.67      0.67      0.67      1688\n",
      "weighted avg       0.74      0.74      0.74      1688\n",
      "\n"
     ]
    }
   ],
   "source": [
    "y_pred = top_depth.predict(X_validate)\n",
    "\n",
    "print(confusion_matrix(y_validate, y_pred))\n",
    "\n",
    "print(classification_report(y_validate, y_pred))"
   ]
  },
  {
   "cell_type": "markdown",
   "id": "74c17431",
   "metadata": {},
   "source": [
    "### Model 2: Decision Tree\n",
    "### Accuracy: 0.74"
   ]
  },
  {
   "cell_type": "markdown",
   "id": "52d81958",
   "metadata": {},
   "source": [
    "# Crosscheck with test"
   ]
  },
  {
   "cell_type": "code",
   "execution_count": 219,
   "id": "87192ed5",
   "metadata": {},
   "outputs": [
    {
     "name": "stdout",
     "output_type": "stream",
     "text": [
      "[[1011  228]\n",
      " [ 212  237]]\n",
      "              precision    recall  f1-score   support\n",
      "\n",
      "           0       0.83      0.82      0.82      1239\n",
      "           1       0.51      0.53      0.52       449\n",
      "\n",
      "    accuracy                           0.74      1688\n",
      "   macro avg       0.67      0.67      0.67      1688\n",
      "weighted avg       0.74      0.74      0.74      1688\n",
      "\n"
     ]
    }
   ],
   "source": [
    "y_pred = top_depth.predict(X_validate)\n",
    "\n",
    "print(confusion_matrix(y_validate, y_pred))\n",
    "\n",
    "print(classification_report(y_validate, y_pred))"
   ]
  },
  {
   "cell_type": "markdown",
   "id": "fc6f36ac",
   "metadata": {},
   "source": [
    "## Model 7 fo the Decision Tree\n",
    "## Accuracy: 0.74"
   ]
  },
  {
   "cell_type": "markdown",
   "id": "c5771349",
   "metadata": {},
   "source": [
    "## CSV FILE"
   ]
  },
  {
   "cell_type": "code",
   "execution_count": null,
   "id": "61d3c7ae",
   "metadata": {},
   "outputs": [],
   "source": [
    "y_predictions = model.predict(X_test)\n",
    "y_proba = model.predict_proba(X_test)\n",
    "\n",
    "predictions = pd.DataFrame({\n",
    "    \"customer_id\": test.customer_id, # since the customer_id is dropped from X_test, we'll use test here since the indexes line up\n",
    "    \"prediction\": y_predictions,\n",
    "    \"probability_of_churn\", y_proba\n",
    "})\n",
    "\n",
    "predictions.to_csv(\"predictions.csv\")"
   ]
  },
  {
   "cell_type": "markdown",
   "id": "062bd134",
   "metadata": {},
   "source": [
    "# Conclusions"
   ]
  },
  {
   "cell_type": "markdown",
   "id": "da07fb00",
   "metadata": {},
   "source": [
    "My model performed better than the baseline and could be used to prerdict whether a customer will churn with an accuracy of 74% and a recall (capacity to predict a customer will churn without )\n",
    "\n",
    "Churn is driven by so many variables\n",
    "With additional time, I could:\n",
    "    - Dig deeper with a K-Nearest Neighbor, a Random Forest, and a Logistic Regression model\n",
    "    - Investigate deeper statistically other features to see for example if the assumption I made about their relative impact is true or false\n",
    "    - Investigate whether Streaming TV and Streaming Movies help keep customers from churning and if it could be a good way to keep them\n",
    "    "
   ]
  }
 ],
 "metadata": {
  "kernelspec": {
   "display_name": "Python 3 (ipykernel)",
   "language": "python",
   "name": "python3"
  },
  "language_info": {
   "codemirror_mode": {
    "name": "ipython",
    "version": 3
   },
   "file_extension": ".py",
   "mimetype": "text/x-python",
   "name": "python",
   "nbconvert_exporter": "python",
   "pygments_lexer": "ipython3",
   "version": "3.9.7"
  }
 },
 "nbformat": 4,
 "nbformat_minor": 5
}
